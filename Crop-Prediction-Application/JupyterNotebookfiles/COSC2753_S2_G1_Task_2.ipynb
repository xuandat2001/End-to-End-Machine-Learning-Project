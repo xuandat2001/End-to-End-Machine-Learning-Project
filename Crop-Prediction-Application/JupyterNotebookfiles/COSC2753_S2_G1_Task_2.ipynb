{
  "cells": [
    {
      "cell_type": "markdown",
      "source": [
        "## Packages installations and imports\n",
        "(Run this section to ensure smooth operation for the Notebook)"
      ],
      "metadata": {
        "id": "ptJGXmngjFqK"
      },
      "id": "ptJGXmngjFqK"
    },
    {
      "cell_type": "code",
      "source": [
        "pip install keras-tuner --upgrade"
      ],
      "metadata": {
        "id": "86htLXDZatBa",
        "colab": {
          "base_uri": "https://localhost:8080/"
        },
        "outputId": "0d669176-6063-4193-bd32-473546ad2655"
      },
      "id": "86htLXDZatBa",
      "execution_count": null,
      "outputs": [
        {
          "output_type": "stream",
          "name": "stdout",
          "text": [
            "Collecting keras-tuner\n",
            "  Downloading keras_tuner-1.4.7-py3-none-any.whl.metadata (5.4 kB)\n",
            "Requirement already satisfied: keras in /usr/local/lib/python3.11/dist-packages (from keras-tuner) (3.8.0)\n",
            "Requirement already satisfied: packaging in /usr/local/lib/python3.11/dist-packages (from keras-tuner) (24.2)\n",
            "Requirement already satisfied: requests in /usr/local/lib/python3.11/dist-packages (from keras-tuner) (2.32.3)\n",
            "Collecting kt-legacy (from keras-tuner)\n",
            "  Downloading kt_legacy-1.0.5-py3-none-any.whl.metadata (221 bytes)\n",
            "Requirement already satisfied: absl-py in /usr/local/lib/python3.11/dist-packages (from keras->keras-tuner) (1.4.0)\n",
            "Requirement already satisfied: numpy in /usr/local/lib/python3.11/dist-packages (from keras->keras-tuner) (2.0.2)\n",
            "Requirement already satisfied: rich in /usr/local/lib/python3.11/dist-packages (from keras->keras-tuner) (13.9.4)\n",
            "Requirement already satisfied: namex in /usr/local/lib/python3.11/dist-packages (from keras->keras-tuner) (0.0.9)\n",
            "Requirement already satisfied: h5py in /usr/local/lib/python3.11/dist-packages (from keras->keras-tuner) (3.13.0)\n",
            "Requirement already satisfied: optree in /usr/local/lib/python3.11/dist-packages (from keras->keras-tuner) (0.15.0)\n",
            "Requirement already satisfied: ml-dtypes in /usr/local/lib/python3.11/dist-packages (from keras->keras-tuner) (0.4.1)\n",
            "Requirement already satisfied: charset-normalizer<4,>=2 in /usr/local/lib/python3.11/dist-packages (from requests->keras-tuner) (3.4.2)\n",
            "Requirement already satisfied: idna<4,>=2.5 in /usr/local/lib/python3.11/dist-packages (from requests->keras-tuner) (3.10)\n",
            "Requirement already satisfied: urllib3<3,>=1.21.1 in /usr/local/lib/python3.11/dist-packages (from requests->keras-tuner) (2.4.0)\n",
            "Requirement already satisfied: certifi>=2017.4.17 in /usr/local/lib/python3.11/dist-packages (from requests->keras-tuner) (2025.4.26)\n",
            "Requirement already satisfied: typing-extensions>=4.5.0 in /usr/local/lib/python3.11/dist-packages (from optree->keras->keras-tuner) (4.13.2)\n",
            "Requirement already satisfied: markdown-it-py>=2.2.0 in /usr/local/lib/python3.11/dist-packages (from rich->keras->keras-tuner) (3.0.0)\n",
            "Requirement already satisfied: pygments<3.0.0,>=2.13.0 in /usr/local/lib/python3.11/dist-packages (from rich->keras->keras-tuner) (2.19.1)\n",
            "Requirement already satisfied: mdurl~=0.1 in /usr/local/lib/python3.11/dist-packages (from markdown-it-py>=2.2.0->rich->keras->keras-tuner) (0.1.2)\n",
            "Downloading keras_tuner-1.4.7-py3-none-any.whl (129 kB)\n",
            "\u001b[2K   \u001b[90m━━━━━━━━━━━━━━━━━━━━━━━━━━━━━━━━━━━━━━━━\u001b[0m \u001b[32m129.1/129.1 kB\u001b[0m \u001b[31m11.9 MB/s\u001b[0m eta \u001b[36m0:00:00\u001b[0m\n",
            "\u001b[?25hDownloading kt_legacy-1.0.5-py3-none-any.whl (9.6 kB)\n",
            "Installing collected packages: kt-legacy, keras-tuner\n",
            "Successfully installed keras-tuner-1.4.7 kt-legacy-1.0.5\n"
          ]
        }
      ]
    },
    {
      "cell_type": "code",
      "source": [
        "import matplotlib.pyplot as plt\n",
        "import pandas as pd\n",
        "import numpy as np\n",
        "import tensorflow as tf\n",
        "import keras_tuner as kt\n",
        "import os"
      ],
      "metadata": {
        "id": "SSJiM3kKKvNv"
      },
      "id": "SSJiM3kKKvNv",
      "execution_count": null,
      "outputs": []
    },
    {
      "cell_type": "markdown",
      "id": "11c9cb09",
      "metadata": {
        "id": "11c9cb09"
      },
      "source": [
        "## Overview Dataset"
      ]
    },
    {
      "cell_type": "markdown",
      "id": "4bb2de10",
      "metadata": {
        "id": "4bb2de10"
      },
      "source": [
        "1. Data Structure and Import"
      ]
    },
    {
      "cell_type": "code",
      "execution_count": null,
      "id": "1adac6a6",
      "metadata": {
        "id": "1adac6a6",
        "colab": {
          "base_uri": "https://localhost:8080/"
        },
        "outputId": "d37777ac-9a4b-4c65-a3e8-7f59aa9a2d19"
      },
      "outputs": [
        {
          "output_type": "stream",
          "name": "stderr",
          "text": [
            "Retrieving folder contents\n"
          ]
        },
        {
          "output_type": "stream",
          "name": "stdout",
          "text": [
            "Processing file 1tswGuA4JAO_fX8yQKlUTZoaXvHpeYnp8 meta_train.csv\n",
            "Processing file 1Cz6q_m9fpAFePRZV6Ca2vMya4XvZDamX test_images.zip\n",
            "Processing file 1tp1F1Xora43V5Ks3IjRaw40V3iAC6Wm2 train_images.zip\n"
          ]
        },
        {
          "output_type": "stream",
          "name": "stderr",
          "text": [
            "Retrieving folder contents completed\n",
            "Building directory structure\n",
            "Building directory structure completed\n",
            "Downloading...\n",
            "From: https://drive.google.com/uc?id=1tswGuA4JAO_fX8yQKlUTZoaXvHpeYnp8\n",
            "To: /content/data/meta_train.csv\n",
            "100%|██████████| 335k/335k [00:00<00:00, 95.0MB/s]\n",
            "Downloading...\n",
            "From (original): https://drive.google.com/uc?id=1Cz6q_m9fpAFePRZV6Ca2vMya4XvZDamX\n",
            "From (redirected): https://drive.google.com/uc?id=1Cz6q_m9fpAFePRZV6Ca2vMya4XvZDamX&confirm=t&uuid=d21eafdb-704c-42f1-bf5d-b5bd7043e3c3\n",
            "To: /content/data/test_images.zip\n",
            "100%|██████████| 274M/274M [00:05<00:00, 50.3MB/s]\n",
            "Downloading...\n",
            "From (original): https://drive.google.com/uc?id=1tp1F1Xora43V5Ks3IjRaw40V3iAC6Wm2\n",
            "From (redirected): https://drive.google.com/uc?id=1tp1F1Xora43V5Ks3IjRaw40V3iAC6Wm2&confirm=t&uuid=0645e9f7-a06d-4f62-bd3a-53501360c07a\n",
            "To: /content/data/train_images.zip\n",
            "100%|██████████| 820M/820M [00:14<00:00, 56.5MB/s]\n",
            "Download completed\n"
          ]
        },
        {
          "output_type": "execute_result",
          "data": {
            "text/plain": [
              "['/content/data/meta_train.csv',\n",
              " '/content/data/test_images.zip',\n",
              " '/content/data/train_images.zip']"
            ]
          },
          "metadata": {},
          "execution_count": 4
        }
      ],
      "source": [
        "import gdown\n",
        "\n",
        "gdown.download_folder(\"https://drive.google.com/drive/folders/19DLS6ZrfsxVq4IrRycPKrtt1TQanV9Em?usp=sharing\", quiet=False, use_cookies=False)"
      ]
    },
    {
      "cell_type": "code",
      "execution_count": null,
      "id": "1KOXVZNFKXVP",
      "metadata": {
        "id": "1KOXVZNFKXVP"
      },
      "outputs": [],
      "source": [
        "import zipfile\n",
        "with zipfile.ZipFile('data/train_images.zip', 'r') as zip_ref:\n",
        "    zip_ref.extractall('./data')"
      ]
    },
    {
      "cell_type": "code",
      "source": [
        "with zipfile.ZipFile('data/test_images.zip', 'r') as zip_ref:\n",
        "    zip_ref.extractall('./data')"
      ],
      "metadata": {
        "id": "m5-NDjjnDTZQ"
      },
      "id": "m5-NDjjnDTZQ",
      "execution_count": null,
      "outputs": []
    },
    {
      "cell_type": "code",
      "execution_count": null,
      "id": "e3f94815",
      "metadata": {
        "id": "e3f94815",
        "colab": {
          "base_uri": "https://localhost:8080/"
        },
        "outputId": "9f62a86f-2628-4f98-87ad-aac178340ee8"
      },
      "outputs": [
        {
          "output_type": "stream",
          "name": "stdout",
          "text": [
            "<class 'pandas.core.frame.DataFrame'>\n",
            "RangeIndex: 10407 entries, 0 to 10406\n",
            "Data columns (total 4 columns):\n",
            " #   Column    Non-Null Count  Dtype \n",
            "---  ------    --------------  ----- \n",
            " 0   image_id  10407 non-null  object\n",
            " 1   label     10407 non-null  object\n",
            " 2   variety   10407 non-null  object\n",
            " 3   age       10407 non-null  int64 \n",
            "dtypes: int64(1), object(3)\n",
            "memory usage: 325.3+ KB\n"
          ]
        }
      ],
      "source": [
        "data = pd.read_csv('data/meta_train.csv')\n",
        "\n",
        "data.head()\n",
        "\n",
        "data.info()"
      ]
    },
    {
      "cell_type": "code",
      "execution_count": null,
      "id": "b00b3d28",
      "metadata": {
        "id": "b00b3d28",
        "colab": {
          "base_uri": "https://localhost:8080/",
          "height": 175
        },
        "outputId": "3c6add5e-2769-4ecd-b3b6-aaff9ebfbbf3"
      },
      "outputs": [
        {
          "output_type": "execute_result",
          "data": {
            "text/plain": [
              "          image_id   label variety    age\n",
              "count        10407   10407   10407  10407\n",
              "unique       10407      10      10     18\n",
              "top     110381.jpg  normal   ADT45     70\n",
              "freq             1    1764    6992   3077"
            ],
            "text/html": [
              "<div>\n",
              "<style scoped>\n",
              "    .dataframe tbody tr th:only-of-type {\n",
              "        vertical-align: middle;\n",
              "    }\n",
              "\n",
              "    .dataframe tbody tr th {\n",
              "        vertical-align: top;\n",
              "    }\n",
              "\n",
              "    .dataframe thead th {\n",
              "        text-align: right;\n",
              "    }\n",
              "</style>\n",
              "<table border=\"1\" class=\"dataframe\">\n",
              "  <thead>\n",
              "    <tr style=\"text-align: right;\">\n",
              "      <th></th>\n",
              "      <th>image_id</th>\n",
              "      <th>label</th>\n",
              "      <th>variety</th>\n",
              "      <th>age</th>\n",
              "    </tr>\n",
              "  </thead>\n",
              "  <tbody>\n",
              "    <tr>\n",
              "      <th>count</th>\n",
              "      <td>10407</td>\n",
              "      <td>10407</td>\n",
              "      <td>10407</td>\n",
              "      <td>10407</td>\n",
              "    </tr>\n",
              "    <tr>\n",
              "      <th>unique</th>\n",
              "      <td>10407</td>\n",
              "      <td>10</td>\n",
              "      <td>10</td>\n",
              "      <td>18</td>\n",
              "    </tr>\n",
              "    <tr>\n",
              "      <th>top</th>\n",
              "      <td>110381.jpg</td>\n",
              "      <td>normal</td>\n",
              "      <td>ADT45</td>\n",
              "      <td>70</td>\n",
              "    </tr>\n",
              "    <tr>\n",
              "      <th>freq</th>\n",
              "      <td>1</td>\n",
              "      <td>1764</td>\n",
              "      <td>6992</td>\n",
              "      <td>3077</td>\n",
              "    </tr>\n",
              "  </tbody>\n",
              "</table>\n",
              "</div>"
            ]
          },
          "metadata": {},
          "execution_count": 35
        }
      ],
      "source": [
        "data['age'] = data['age'].astype('object')\n",
        "data.describe(include='object')"
      ]
    },
    {
      "cell_type": "markdown",
      "id": "63d3fafc",
      "metadata": {
        "id": "63d3fafc"
      },
      "source": [
        "2. Check for Duplicated Data"
      ]
    },
    {
      "cell_type": "code",
      "execution_count": null,
      "id": "bebb0f26",
      "metadata": {
        "id": "bebb0f26",
        "colab": {
          "base_uri": "https://localhost:8080/"
        },
        "outputId": "546db6ce-39a0-453f-f4cb-e1b55ca1bdd6"
      },
      "outputs": [
        {
          "output_type": "stream",
          "name": "stdout",
          "text": [
            "image_id    0\n",
            "label       0\n",
            "variety     0\n",
            "age         0\n",
            "dtype: int64\n",
            "0\n"
          ]
        }
      ],
      "source": [
        "print(data.isnull().sum())\n",
        "print(data.duplicated().sum())"
      ]
    },
    {
      "cell_type": "markdown",
      "id": "95e9b730",
      "metadata": {
        "id": "95e9b730"
      },
      "source": [
        "3. Checking the distribution of the classification targets"
      ]
    },
    {
      "cell_type": "code",
      "execution_count": null,
      "id": "d65d6516",
      "metadata": {
        "id": "d65d6516",
        "colab": {
          "base_uri": "https://localhost:8080/",
          "height": 747
        },
        "outputId": "0e4b215c-7446-4c41-8b35-ade7562f7e20"
      },
      "outputs": [
        {
          "output_type": "execute_result",
          "data": {
            "text/plain": [
              "([0, 1, 2, 3, 4, 5, 6, 7, 8, 9],\n",
              " [Text(0, 0, 'ADT45'),\n",
              "  Text(1, 0, 'IR20'),\n",
              "  Text(2, 0, 'KarnatakaPonni'),\n",
              "  Text(3, 0, 'Onthanel'),\n",
              "  Text(4, 0, 'Ponni'),\n",
              "  Text(5, 0, 'Surya'),\n",
              "  Text(6, 0, 'Zonal'),\n",
              "  Text(7, 0, 'AndraPonni'),\n",
              "  Text(8, 0, 'AtchayaPonni'),\n",
              "  Text(9, 0, 'RR')])"
            ]
          },
          "metadata": {},
          "execution_count": 33
        },
        {
          "output_type": "display_data",
          "data": {
            "text/plain": [
              "<Figure size 640x480 with 1 Axes>"
            ],
            "image/png": "[encoded data removed]"
          },
          "metadata": {}
        }
      ],
      "source": [
        "# Variety feature distribution graph\n",
        "import seaborn as sns\n",
        "sns.countplot(data=data, x='variety')\n",
        "plt.title(\"Class Distribution\")\n",
        "plt.xticks(rotation=45)"
      ]
    },
    {
      "cell_type": "code",
      "execution_count": null,
      "id": "FLllhvEXgGJy",
      "metadata": {
        "id": "FLllhvEXgGJy",
        "colab": {
          "base_uri": "https://localhost:8080/"
        },
        "outputId": "02e5f73a-3e2c-42a6-9052-36ee2c54b9d2"
      },
      "outputs": [
        {
          "output_type": "execute_result",
          "data": {
            "text/plain": [
              "variety\n",
              "ADT45             6992\n",
              "KarnatakaPonni     988\n",
              "Ponni              657\n",
              "AtchayaPonni       461\n",
              "Zonal              399\n",
              "AndraPonni         377\n",
              "Onthanel           351\n",
              "IR20               114\n",
              "RR                  36\n",
              "Surya               32\n",
              "Name: count, dtype: int64"
            ]
          },
          "metadata": {},
          "execution_count": 36
        }
      ],
      "source": [
        "# Count for each variety class\n",
        "data[\"variety\"].value_counts()"
      ]
    },
    {
      "cell_type": "code",
      "source": [
        "# Check for image resolution of given dataset as well as all images' format\n",
        "from PIL import Image\n",
        "from collections import Counter\n",
        "from pathlib import Path\n",
        "\n",
        "train_dir = \"data/train_images\"\n",
        "\n",
        "# Traverse all subdirectories (classes)\n",
        "image_sizes = []\n",
        "image_formats = []\n",
        "\n",
        "# Loop to go through all disease classes within the train_images folder\n",
        "# and its images to collect image resolution and format\n",
        "for class_folder in os.listdir(train_dir):\n",
        "    class_path = os.path.join(train_dir, class_folder)\n",
        "    if os.path.isdir(class_path):\n",
        "        for image_file in os.listdir(class_path):\n",
        "            image_path = os.path.join(class_path, image_file)\n",
        "            try:\n",
        "                with Image.open(image_path) as img:\n",
        "                    image_sizes.append(img.size)\n",
        "                    image_formats.append(img.format)  # Add format into image_formats array\n",
        "            except Exception as e:\n",
        "                print(f\"Error reading {image_path}: {e}\")\n",
        "\n",
        "# Image sizes summary\n",
        "size_counts = Counter(image_sizes)\n",
        "print(\"Most common image sizes:\")\n",
        "for size, count in size_counts.most_common():\n",
        "    print(f\"{size}: {count} images\")\n",
        "\n",
        "# Image formats summary\n",
        "format_counts = Counter(image_formats)\n",
        "print(\"\\nMost common image formats:\")\n",
        "for fmt, count in format_counts.most_common():\n",
        "    print(f\"{fmt}: {count} images\")"
      ],
      "metadata": {
        "id": "myrhz-3xVwVq",
        "colab": {
          "base_uri": "https://localhost:8080/"
        },
        "outputId": "31f341f5-c005-4bd1-f966-233e14422405"
      },
      "id": "myrhz-3xVwVq",
      "execution_count": null,
      "outputs": [
        {
          "output_type": "stream",
          "name": "stdout",
          "text": [
            "Most common image sizes:\n",
            "(480, 640): 10403 images\n",
            "(640, 480): 4 images\n",
            "\n",
            "Most common image formats:\n",
            "JPEG: 10407 images\n"
          ]
        }
      ]
    },
    {
      "cell_type": "code",
      "execution_count": null,
      "id": "RvQ9zNut5VPu",
      "metadata": {
        "id": "RvQ9zNut5VPu"
      },
      "outputs": [],
      "source": [
        "# Data_augmentation\n",
        "import random\n",
        "from tensorflow.keras import layers\n",
        "data_augmentation = tf.keras.Sequential([\n",
        "    layers.RandomFlip('horizontal'),\n",
        "    layers.RandomRotation(0.1),\n",
        "    layers.RandomTranslation(height_factor=0.1, width_factor=0.1),\n",
        "    layers.RandomBrightness(0.2),\n",
        "    layers.RandomZoom(height_factor=0.2, width_factor=0.2),\n",
        "])"
      ]
    },
    {
      "cell_type": "code",
      "execution_count": null,
      "id": "un3tzgcAputx",
      "metadata": {
        "id": "un3tzgcAputx"
      },
      "outputs": [],
      "source": [
        "# Normalization layer\n",
        "normalization_layer = tf.keras.layers.Rescaling(1./255)"
      ]
    },
    {
      "cell_type": "markdown",
      "id": "5zrX8As1pOxj",
      "metadata": {
        "id": "5zrX8As1pOxj"
      },
      "source": [
        "## Preparing Data"
      ]
    },
    {
      "cell_type": "markdown",
      "id": "ZS_65Q95pVmu",
      "metadata": {
        "id": "ZS_65Q95pVmu"
      },
      "source": [
        "1. Load image with label for Task 2"
      ]
    },
    {
      "cell_type": "code",
      "execution_count": null,
      "id": "OjJAmWjpu2G9",
      "metadata": {
        "id": "OjJAmWjpu2G9",
        "colab": {
          "base_uri": "https://localhost:8080/"
        },
        "outputId": "d27fa72f-e4ab-41b4-d2e9-40eefcca1d44"
      },
      "outputs": [
        {
          "output_type": "stream",
          "name": "stdout",
          "text": [
            "Copying complete. Files organized in data/train_data_task_2/\n"
          ]
        }
      ],
      "source": [
        "import shutil\n",
        "original_base = \"data/train_images\"\n",
        "\n",
        "# Copy files to new structure based on label\n",
        "for _, row in data.iterrows():\n",
        "    image_id = row['image_id']\n",
        "    label = row['label']\n",
        "    variety = row['variety']\n",
        "\n",
        "    # Source path (e.g., train/bacterial_leaf_blight/100.jpg)\n",
        "    src_path = os.path.join(original_base, label, image_id)\n",
        "\n",
        "    # Destination path (e.g., train_data_task_2/bacterial_rice/100.jpg)\n",
        "    target_dir = os.path.join(\"data/train_images_task_2\", variety)\n",
        "    dst_path = os.path.join(target_dir, image_id)\n",
        "\n",
        "    # Create target folder if needed\n",
        "    os.makedirs(target_dir, exist_ok=True)\n",
        "\n",
        "    # Copy file\n",
        "    if os.path.exists(src_path):\n",
        "        shutil.copy2(src_path, dst_path)\n",
        "    else:\n",
        "        print(f\"WARNING: Missing file: {src_path}\")\n",
        "\n",
        "print(\"Copying complete. Files organized in data/train_data_task_2/\")"
      ]
    },
    {
      "cell_type": "code",
      "source": [
        "# Set your source and destination directories\n",
        "source_dir = 'external_data'\n",
        "destination_dir = 'unlabeled_data'\n",
        "\n",
        "# Make sure the destination exists\n",
        "os.makedirs(destination_dir, exist_ok=True)\n",
        "\n",
        "# Walk through all subdirectories\n",
        "for dirpath, dirnames, filenames in os.walk(source_dir):\n",
        "    for file in filenames:\n",
        "        src = os.path.join(dirpath, file)\n",
        "        dst = os.path.join(destination_dir, file)\n",
        "\n",
        "        # Avoid overwriting: rename if file already exists\n",
        "        base, ext = os.path.splitext(file)\n",
        "        counter = 1\n",
        "        while os.path.exists(dst):\n",
        "            dst = os.path.join(destination_dir, f\"{base}_{counter}{ext}\")\n",
        "            counter += 1\n",
        "\n",
        "        shutil.copy2(src, dst)"
      ],
      "metadata": {
        "id": "rurXgTLAGxg7"
      },
      "id": "rurXgTLAGxg7",
      "execution_count": null,
      "outputs": []
    },
    {
      "cell_type": "code",
      "execution_count": null,
      "id": "3NcMbKgazTvl",
      "metadata": {
        "id": "3NcMbKgazTvl",
        "colab": {
          "base_uri": "https://localhost:8080/"
        },
        "outputId": "82edb8e4-cce6-40a3-f121-3930bb9c4678"
      },
      "outputs": [
        {
          "output_type": "stream",
          "name": "stdout",
          "text": [
            "Found 10407 files belonging to 10 classes.\n",
            "(32, 224, 224, 3)\n",
            "(32, 10)\n"
          ]
        },
        {
          "output_type": "stream",
          "name": "stderr",
          "text": [
            "2025-05-16 12:08:46.414636: W tensorflow/core/kernels/data/cache_dataset_ops.cc:916] The calling iterator did not fully read the dataset being cached. In order to avoid unexpected truncation of the dataset, the partially cached contents of the dataset  will be discarded. This can happen if you have an input pipeline similar to `dataset.cache().take(k).repeat()`. You should use `dataset.take(k).cache().repeat()` instead.\n",
            "2025-05-16 12:08:46.416143: I tensorflow/core/framework/local_rendezvous.cc:407] Local rendezvous is aborting with status: OUT_OF_RANGE: End of sequence\n"
          ]
        },
        {
          "output_type": "stream",
          "name": "stdout",
          "text": [
            "(32, 224, 224, 3)\n",
            "(32, 10)\n",
            "['ADT45', 'AndraPonni', 'AtchayaPonni', 'IR20', 'KarnatakaPonni', 'Onthanel', 'Ponni', 'RR', 'Surya', 'Zonal']\n"
          ]
        },
        {
          "output_type": "stream",
          "name": "stderr",
          "text": [
            "2025-05-16 12:08:47.147691: W tensorflow/core/kernels/data/cache_dataset_ops.cc:916] The calling iterator did not fully read the dataset being cached. In order to avoid unexpected truncation of the dataset, the partially cached contents of the dataset  will be discarded. This can happen if you have an input pipeline similar to `dataset.cache().take(k).repeat()`. You should use `dataset.take(k).cache().repeat()` instead.\n",
            "2025-05-16 12:08:47.149521: I tensorflow/core/framework/local_rendezvous.cc:407] Local rendezvous is aborting with status: OUT_OF_RANGE: End of sequence\n"
          ]
        }
      ],
      "source": [
        "full_dataset_task2 = tf.keras.preprocessing.image_dataset_from_directory(\n",
        "    './data/train_images_task_2',\n",
        "    image_size=(224, 224),  # size of image\n",
        "    label_mode='categorical',\n",
        "    shuffle=True,\n",
        ")\n",
        "\n",
        "train_dataset_task2 = full_dataset_task2.take(int(0.8 * len(full_dataset_task2))).prefetch(tf.data.AUTOTUNE).cache()\n",
        "val_dataset_task2 = full_dataset_task2.skip(int(0.8 * len(full_dataset_task2))).prefetch(tf.data.AUTOTUNE).cache()\n",
        "\n",
        "# Preview the dataset\n",
        "for images, labels in train_dataset_task2.take(1):\n",
        "    print(images.shape)\n",
        "    print(labels.shape)\n",
        "\n",
        "for images, labels in val_dataset_task2.take(1):\n",
        "    print(images.shape)\n",
        "    print(labels.shape)\n",
        "\n",
        "print(full_dataset_task2.class_names)\n"
      ]
    },
    {
      "cell_type": "markdown",
      "source": [
        "2. Load test dataset for evaluation purposes"
      ],
      "metadata": {
        "id": "a7VZKKF0juiu"
      },
      "id": "a7VZKKF0juiu"
    },
    {
      "cell_type": "code",
      "execution_count": null,
      "id": "spCRL8Y7XIjU",
      "metadata": {
        "id": "spCRL8Y7XIjU",
        "colab": {
          "base_uri": "https://localhost:8080/"
        },
        "outputId": "47696dd7-4eac-4802-905d-8af04237846c"
      },
      "outputs": [
        {
          "output_type": "stream",
          "name": "stdout",
          "text": [
            "Found 3469 files.\n"
          ]
        }
      ],
      "source": [
        "test_dataset = tf.keras.utils.image_dataset_from_directory(\n",
        "    'data/test_images',\n",
        "    labels=None,                  # No labels needed for prediction\n",
        "    image_size=(224, 224),\n",
        "    batch_size=32,\n",
        "    shuffle=False\n",
        ")"
      ]
    },
    {
      "cell_type": "markdown",
      "id": "XNX1sRvs1pUM",
      "metadata": {
        "id": "XNX1sRvs1pUM"
      },
      "source": [
        "## Training Models"
      ]
    },
    {
      "cell_type": "markdown",
      "source": [
        "- Build base models and function to build all models"
      ],
      "metadata": {
        "id": "WLQEr5GZpotn"
      },
      "id": "WLQEr5GZpotn"
    },
    {
      "cell_type": "code",
      "execution_count": null,
      "id": "eD711Da9lZa5",
      "metadata": {
        "id": "eD711Da9lZa5"
      },
      "outputs": [],
      "source": [
        "# Build base models\n",
        "from tensorflow.keras.applications import EfficientNetB0, MobileNet, Xception\n",
        "from tensorflow.keras import models, optimizers\n",
        "from tensorflow.keras import regularizers\n",
        "import keras_tuner as kt\n",
        "from tensorflow.keras.callbacks import EarlyStopping, ReduceLROnPlateau\n",
        "\n",
        "base_EfficientNetB0_model_task_2 = EfficientNetB0(\n",
        "    input_shape=(224, 224, 3),\n",
        "    include_top=False,          # Exclude the final classification layer\n",
        "    weights=None                # No pretrained weights\n",
        ")\n",
        "\n",
        "base_MobileNet_model_task_2 = MobileNet(\n",
        "    input_shape=(224, 224, 3),\n",
        "    include_top=False,          # Exclude the final classification layer\n",
        "    weights=None                # No pretrained weights\n",
        ")\n",
        "\n",
        "base_Xception_model_task_2 = Xception(\n",
        "    input_shape=(224, 224, 3),\n",
        "    include_top=False,          # Exclude the final classification layer\n",
        "    weights=None                # No pretrained weights\n",
        ")"
      ]
    },
    {
      "cell_type": "code",
      "execution_count": null,
      "id": "OhYCv-ygq2DU",
      "metadata": {
        "id": "OhYCv-ygq2DU"
      },
      "outputs": [],
      "source": [
        "# Function to build all models\n",
        "def build_EfficientNetB0_model_task_2(hp):\n",
        "    model = tf.keras.Sequential([\n",
        "          data_augmentation,\n",
        "          normalization_layer,\n",
        "          base_EfficientNetB0_model_task_2,\n",
        "          tf.keras.layers.GlobalAveragePooling2D(),\n",
        "          tf.keras.layers.Dense(hp.Int('dense_units', 64, 256, step=64), activation='relu'),\n",
        "          tf.keras.layers.Dropout(hp.Float('dropout_rate', 0.3, 0.6, step=0.1)),\n",
        "          tf.keras.layers.Dense(10, activation='softmax')\n",
        "    ])\n",
        "\n",
        "    learning_rate = hp.Float('learning_rate', 1e-4, 1e-2, sampling='log')\n",
        "\n",
        "    model.compile(\n",
        "        optimizer='adam',\n",
        "        loss='categorical_crossentropy',\n",
        "        metrics=['accuracy']\n",
        "    )\n",
        "\n",
        "    return model\n",
        "\n",
        "def build_MobileNet_model_task_2(hp):\n",
        "    model = tf.keras.Sequential([\n",
        "          data_augmentation,\n",
        "          normalization_layer,\n",
        "          base_MobileNet_model_task_2,\n",
        "          tf.keras.layers.GlobalAveragePooling2D(),\n",
        "          tf.keras.layers.Dense(hp.Int('dense_units', 64, 256, step=64), activation='relu'),\n",
        "          tf.keras.layers.Dropout(hp.Float('dropout_rate', 0.3, 0.6, step=0.1)),\n",
        "          tf.keras.layers.Dense(10, activation='softmax')\n",
        "    ])\n",
        "\n",
        "    learning_rate = hp.Float('learning_rate', 1e-4, 1e-2, sampling='log')\n",
        "\n",
        "    model.compile(\n",
        "        optimizer='adam',\n",
        "        loss='categorical_crossentropy',\n",
        "        metrics=['accuracy']\n",
        "    )\n",
        "\n",
        "    return model\n",
        "\n",
        "def build_Xception_model_task_2(hp):\n",
        "    model = tf.keras.Sequential([\n",
        "          data_augmentation,\n",
        "          normalization_layer,\n",
        "          base_Xception_model_task_2,\n",
        "          tf.keras.layers.GlobalAveragePooling2D(),\n",
        "          tf.keras.layers.Dense(hp.Int('dense_units', 64, 256, step=64), activation='relu'),\n",
        "          tf.keras.layers.Dropout(hp.Float('dropout_rate', 0.3, 0.6, step=0.1)),\n",
        "          tf.keras.layers.Dense(10, activation='softmax')\n",
        "    ])\n",
        "\n",
        "    learning_rate = hp.Float('learning_rate', 1e-4, 1e-2, sampling='log')\n",
        "\n",
        "    model.compile(\n",
        "        optimizer='adam',\n",
        "        loss='categorical_crossentropy',\n",
        "        metrics=['accuracy']\n",
        "    )\n",
        "\n",
        "    return model\n"
      ]
    },
    {
      "cell_type": "markdown",
      "source": [
        "- Setting up tuner for all models"
      ],
      "metadata": {
        "id": "P0Krk6hLp8Tc"
      },
      "id": "P0Krk6hLp8Tc"
    },
    {
      "cell_type": "code",
      "execution_count": null,
      "id": "bBbJAj7JryE6",
      "metadata": {
        "id": "bBbJAj7JryE6",
        "colab": {
          "base_uri": "https://localhost:8080/"
        },
        "outputId": "ef758e0f-4861-495a-a473-5e217764e8e6"
      },
      "outputs": [
        {
          "output_type": "stream",
          "name": "stdout",
          "text": [
            "Reloading Tuner from data/tuning/EfficientNetB0/EfficientNetB0_tuning/tuner0.json\n",
            "Reloading Tuner from data/tuning/MobileNet/MobileNet_tuning/tuner0.json\n",
            "Reloading Tuner from data/tuning/Xception/Xception_tuning/tuner0.json\n"
          ]
        }
      ],
      "source": [
        "# Setup all tuners for all models\n",
        "EfficientNetB0_task_2_tuner = kt.RandomSearch(\n",
        "    build_EfficientNetB0_model_task_2,\n",
        "    objective='val_accuracy',  # Or 'val_loss' depending on the goal\n",
        "    max_trials=10,  # Number of hyperparameter combinations to try\n",
        "    directory='data/tuning/EfficientNetB0',  # Directory to store the results\n",
        "    project_name='EfficientNetB0_tuning'  # Name of the project\n",
        ")\n",
        "\n",
        "MobileNet_task_2_tuner = kt.RandomSearch(\n",
        "    build_MobileNet_model_task_2,\n",
        "    objective='val_accuracy',  # Or 'val_loss' depending on the goal\n",
        "    max_trials=10,  # Number of hyperparameter combinations to try\n",
        "    directory='data/tuning/MobileNet',  # Directory to store the results\n",
        "    project_name='MobileNet_tuning'  # Name of the project\n",
        ")\n",
        "\n",
        "Xception_task_2_tuner = kt.RandomSearch(\n",
        "    build_Xception_model_task_2,\n",
        "    objective='val_accuracy',  # Or 'val_loss' depending on the goal\n",
        "    max_trials=10,  # Number of hyperparameter combinations to try\n",
        "    directory='data/tuning/Xception',  # Directory to store the results\n",
        "    project_name='Xception_tuning'  # Name of the project\n",
        ")\n"
      ]
    },
    {
      "cell_type": "markdown",
      "source": [
        "- EarlyStop and ReduceLROnPlateau function"
      ],
      "metadata": {
        "id": "sfJPexqMp6MR"
      },
      "id": "sfJPexqMp6MR"
    },
    {
      "cell_type": "code",
      "source": [
        "early_stop_model_task_2 = EarlyStopping(\n",
        "    monitor='val_loss',\n",
        "    patience=6,\n",
        "    restore_best_weights=True)\n",
        "\n",
        "reduce_lr_model_task_2 = ReduceLROnPlateau(\n",
        "    monitor='val_loss',\n",
        "    factor=0.5,\n",
        "    patience=4,\n",
        "    verbose=1\n",
        ")"
      ],
      "metadata": {
        "id": "Lxsp2eFlbTM0"
      },
      "id": "Lxsp2eFlbTM0",
      "execution_count": null,
      "outputs": []
    },
    {
      "cell_type": "code",
      "execution_count": null,
      "id": "ZBKsJOdMsw8s",
      "metadata": {
        "id": "ZBKsJOdMsw8s",
        "colab": {
          "base_uri": "https://localhost:8080/"
        },
        "outputId": "f1f3e6df-370d-4282-a6be-59a9d4caa169"
      },
      "outputs": [
        {
          "output_type": "stream",
          "name": "stdout",
          "text": [
            "Trial 10 Complete [00h 27m 43s]\n",
            "val_accuracy: 0.9880210757255554\n",
            "\n",
            "Best val_accuracy So Far: 0.9880210757255554\n",
            "Total elapsed time: 03h 10m 20s\n"
          ]
        }
      ],
      "source": [
        "EfficientNetB0_task_2_tuner.search(train_dataset_task2, validation_data=val_dataset_task2, epochs=50, callbacks=[early_stop_model_task_2, reduce_lr_model_task_2])"
      ]
    },
    {
      "cell_type": "code",
      "execution_count": null,
      "id": "yzMUHjMGtmu_",
      "metadata": {
        "id": "yzMUHjMGtmu_",
        "colab": {
          "base_uri": "https://localhost:8080/",
          "height": 443
        },
        "outputId": "09cc35cf-222f-41a8-df2d-9d24c9b09cef"
      },
      "outputs": [
        {
          "output_type": "stream",
          "name": "stderr",
          "text": [
            "/home/herom/lintf/lib/python3.12/site-packages/keras/src/saving/saving_lib.py:757: UserWarning: Skipping variable loading for optimizer 'adam', because it has 2 variables whereas the saved optimizer has 432 variables. \n",
            "  saveable.load_own_variables(weights_store.get(inner_path))\n"
          ]
        },
        {
          "output_type": "display_data",
          "data": {
            "text/plain": [
              "\u001b[1mModel: \"sequential\"\u001b[0m\n"
            ],
            "text/html": [
              "<pre style=\"white-space:pre;overflow-x:auto;line-height:normal;font-family:Menlo,'DejaVu Sans Mono',consolas,'Courier New',monospace\"><span style=\"font-weight: bold\">Model: \"sequential\"</span>\n",
              "</pre>\n"
            ]
          },
          "metadata": {}
        },
        {
          "output_type": "display_data",
          "data": {
            "text/plain": [
              "┏━━━━━━━━━━━━━━━━━━━━━━━━━━━━━━━━━┳━━━━━━━━━━━━━━━━━━━━━━━━┳━━━━━━━━━━━━━━━┓\n",
              "┃\u001b[1m \u001b[0m\u001b[1mLayer (type)                   \u001b[0m\u001b[1m \u001b[0m┃\u001b[1m \u001b[0m\u001b[1mOutput Shape          \u001b[0m\u001b[1m \u001b[0m┃\u001b[1m \u001b[0m\u001b[1m      Param #\u001b[0m\u001b[1m \u001b[0m┃\n",
              "┡━━━━━━━━━━━━━━━━━━━━━━━━━━━━━━━━━╇━━━━━━━━━━━━━━━━━━━━━━━━╇━━━━━━━━━━━━━━━┩\n",
              "│ sequential (\u001b[38;5;33mSequential\u001b[0m)         │ (\u001b[38;5;45mNone\u001b[0m, \u001b[38;5;34m224\u001b[0m, \u001b[38;5;34m224\u001b[0m, \u001b[38;5;34m3\u001b[0m)    │             \u001b[38;5;34m0\u001b[0m │\n",
              "├─────────────────────────────────┼────────────────────────┼───────────────┤\n",
              "│ rescaling (\u001b[38;5;33mRescaling\u001b[0m)           │ (\u001b[38;5;45mNone\u001b[0m, \u001b[38;5;34m224\u001b[0m, \u001b[38;5;34m224\u001b[0m, \u001b[38;5;34m3\u001b[0m)    │             \u001b[38;5;34m0\u001b[0m │\n",
              "├─────────────────────────────────┼────────────────────────┼───────────────┤\n",
              "│ efficientnetb0 (\u001b[38;5;33mFunctional\u001b[0m)     │ (\u001b[38;5;45mNone\u001b[0m, \u001b[38;5;34m7\u001b[0m, \u001b[38;5;34m7\u001b[0m, \u001b[38;5;34m1280\u001b[0m)     │     \u001b[38;5;34m4,049,571\u001b[0m │\n",
              "├─────────────────────────────────┼────────────────────────┼───────────────┤\n",
              "│ global_average_pooling2d        │ (\u001b[38;5;45mNone\u001b[0m, \u001b[38;5;34m1280\u001b[0m)           │             \u001b[38;5;34m0\u001b[0m │\n",
              "│ (\u001b[38;5;33mGlobalAveragePooling2D\u001b[0m)        │                        │               │\n",
              "├─────────────────────────────────┼────────────────────────┼───────────────┤\n",
              "│ dense (\u001b[38;5;33mDense\u001b[0m)                   │ (\u001b[38;5;45mNone\u001b[0m, \u001b[38;5;34m128\u001b[0m)            │       \u001b[38;5;34m163,968\u001b[0m │\n",
              "├─────────────────────────────────┼────────────────────────┼───────────────┤\n",
              "│ dropout (\u001b[38;5;33mDropout\u001b[0m)               │ (\u001b[38;5;45mNone\u001b[0m, \u001b[38;5;34m128\u001b[0m)            │             \u001b[38;5;34m0\u001b[0m │\n",
              "├─────────────────────────────────┼────────────────────────┼───────────────┤\n",
              "│ dense_1 (\u001b[38;5;33mDense\u001b[0m)                 │ (\u001b[38;5;45mNone\u001b[0m, \u001b[38;5;34m10\u001b[0m)             │         \u001b[38;5;34m1,290\u001b[0m │\n",
              "└─────────────────────────────────┴────────────────────────┴───────────────┘\n"
            ],
            "text/html": [
              "<pre style=\"white-space:pre;overflow-x:auto;line-height:normal;font-family:Menlo,'DejaVu Sans Mono',consolas,'Courier New',monospace\">┏━━━━━━━━━━━━━━━━━━━━━━━━━━━━━━━━━┳━━━━━━━━━━━━━━━━━━━━━━━━┳━━━━━━━━━━━━━━━┓\n",
              "┃<span style=\"font-weight: bold\"> Layer (type)                    </span>┃<span style=\"font-weight: bold\"> Output Shape           </span>┃<span style=\"font-weight: bold\">       Param # </span>┃\n",
              "┡━━━━━━━━━━━━━━━━━━━━━━━━━━━━━━━━━╇━━━━━━━━━━━━━━━━━━━━━━━━╇━━━━━━━━━━━━━━━┩\n",
              "│ sequential (<span style=\"color: #0087ff; text-decoration-color: #0087ff\">Sequential</span>)         │ (<span style=\"color: #00d7ff; text-decoration-color: #00d7ff\">None</span>, <span style=\"color: #00af00; text-decoration-color: #00af00\">224</span>, <span style=\"color: #00af00; text-decoration-color: #00af00\">224</span>, <span style=\"color: #00af00; text-decoration-color: #00af00\">3</span>)    │             <span style=\"color: #00af00; text-decoration-color: #00af00\">0</span> │\n",
              "├─────────────────────────────────┼────────────────────────┼───────────────┤\n",
              "│ rescaling (<span style=\"color: #0087ff; text-decoration-color: #0087ff\">Rescaling</span>)           │ (<span style=\"color: #00d7ff; text-decoration-color: #00d7ff\">None</span>, <span style=\"color: #00af00; text-decoration-color: #00af00\">224</span>, <span style=\"color: #00af00; text-decoration-color: #00af00\">224</span>, <span style=\"color: #00af00; text-decoration-color: #00af00\">3</span>)    │             <span style=\"color: #00af00; text-decoration-color: #00af00\">0</span> │\n",
              "├─────────────────────────────────┼────────────────────────┼───────────────┤\n",
              "│ efficientnetb0 (<span style=\"color: #0087ff; text-decoration-color: #0087ff\">Functional</span>)     │ (<span style=\"color: #00d7ff; text-decoration-color: #00d7ff\">None</span>, <span style=\"color: #00af00; text-decoration-color: #00af00\">7</span>, <span style=\"color: #00af00; text-decoration-color: #00af00\">7</span>, <span style=\"color: #00af00; text-decoration-color: #00af00\">1280</span>)     │     <span style=\"color: #00af00; text-decoration-color: #00af00\">4,049,571</span> │\n",
              "├─────────────────────────────────┼────────────────────────┼───────────────┤\n",
              "│ global_average_pooling2d        │ (<span style=\"color: #00d7ff; text-decoration-color: #00d7ff\">None</span>, <span style=\"color: #00af00; text-decoration-color: #00af00\">1280</span>)           │             <span style=\"color: #00af00; text-decoration-color: #00af00\">0</span> │\n",
              "│ (<span style=\"color: #0087ff; text-decoration-color: #0087ff\">GlobalAveragePooling2D</span>)        │                        │               │\n",
              "├─────────────────────────────────┼────────────────────────┼───────────────┤\n",
              "│ dense (<span style=\"color: #0087ff; text-decoration-color: #0087ff\">Dense</span>)                   │ (<span style=\"color: #00d7ff; text-decoration-color: #00d7ff\">None</span>, <span style=\"color: #00af00; text-decoration-color: #00af00\">128</span>)            │       <span style=\"color: #00af00; text-decoration-color: #00af00\">163,968</span> │\n",
              "├─────────────────────────────────┼────────────────────────┼───────────────┤\n",
              "│ dropout (<span style=\"color: #0087ff; text-decoration-color: #0087ff\">Dropout</span>)               │ (<span style=\"color: #00d7ff; text-decoration-color: #00d7ff\">None</span>, <span style=\"color: #00af00; text-decoration-color: #00af00\">128</span>)            │             <span style=\"color: #00af00; text-decoration-color: #00af00\">0</span> │\n",
              "├─────────────────────────────────┼────────────────────────┼───────────────┤\n",
              "│ dense_1 (<span style=\"color: #0087ff; text-decoration-color: #0087ff\">Dense</span>)                 │ (<span style=\"color: #00d7ff; text-decoration-color: #00d7ff\">None</span>, <span style=\"color: #00af00; text-decoration-color: #00af00\">10</span>)             │         <span style=\"color: #00af00; text-decoration-color: #00af00\">1,290</span> │\n",
              "└─────────────────────────────────┴────────────────────────┴───────────────┘\n",
              "</pre>\n"
            ]
          },
          "metadata": {}
        },
        {
          "output_type": "display_data",
          "data": {
            "text/plain": [
              "\u001b[1m Total params: \u001b[0m\u001b[38;5;34m4,214,829\u001b[0m (16.08 MB)\n"
            ],
            "text/html": [
              "<pre style=\"white-space:pre;overflow-x:auto;line-height:normal;font-family:Menlo,'DejaVu Sans Mono',consolas,'Courier New',monospace\"><span style=\"font-weight: bold\"> Total params: </span><span style=\"color: #00af00; text-decoration-color: #00af00\">4,214,829</span> (16.08 MB)\n",
              "</pre>\n"
            ]
          },
          "metadata": {}
        },
        {
          "output_type": "display_data",
          "data": {
            "text/plain": [
              "\u001b[1m Trainable params: \u001b[0m\u001b[38;5;34m4,172,806\u001b[0m (15.92 MB)\n"
            ],
            "text/html": [
              "<pre style=\"white-space:pre;overflow-x:auto;line-height:normal;font-family:Menlo,'DejaVu Sans Mono',consolas,'Courier New',monospace\"><span style=\"font-weight: bold\"> Trainable params: </span><span style=\"color: #00af00; text-decoration-color: #00af00\">4,172,806</span> (15.92 MB)\n",
              "</pre>\n"
            ]
          },
          "metadata": {}
        },
        {
          "output_type": "display_data",
          "data": {
            "text/plain": [
              "\u001b[1m Non-trainable params: \u001b[0m\u001b[38;5;34m42,023\u001b[0m (164.16 KB)\n"
            ],
            "text/html": [
              "<pre style=\"white-space:pre;overflow-x:auto;line-height:normal;font-family:Menlo,'DejaVu Sans Mono',consolas,'Courier New',monospace\"><span style=\"font-weight: bold\"> Non-trainable params: </span><span style=\"color: #00af00; text-decoration-color: #00af00\">42,023</span> (164.16 KB)\n",
              "</pre>\n"
            ]
          },
          "metadata": {}
        },
        {
          "output_type": "stream",
          "name": "stdout",
          "text": [
            "{'dense_units': 128, 'dropout_rate': 0.4, 'learning_rate': 0.002674245296397919}\n"
          ]
        }
      ],
      "source": [
        "# Track the best model:\n",
        "best_EfficientNetB0_model_task_2 = EfficientNetB0_task_2_tuner.get_best_models(1)[0]\n",
        "best_EfficientNetB0_model_task_2.summary()\n",
        "best_EfficientNetB0_model_task_2.save('best_EfficientNetB0_model_task_2.keras')\n",
        "\n",
        "# Print best hyperparameters:\n",
        "best_EfficientNetB0_task_2_hp = EfficientNetB0_task_2_tuner.get_best_hyperparameters(1)[0]\n",
        "print(best_EfficientNetB0_task_2_hp.values)"
      ]
    },
    {
      "cell_type": "code",
      "source": [
        "EfficientNetB0_task_2_tuner.results_summary()"
      ],
      "metadata": {
        "colab": {
          "base_uri": "https://localhost:8080/"
        },
        "id": "S17XBggrpWDU",
        "outputId": "23e37021-8b05-4b2e-fedd-4bcbdf706ccd"
      },
      "id": "S17XBggrpWDU",
      "execution_count": null,
      "outputs": [
        {
          "output_type": "stream",
          "name": "stdout",
          "text": [
            "Results summary\n",
            "Results in data/tuning/EfficientNetB0/EfficientNetB0_tuning\n",
            "Showing 10 best trials\n",
            "Objective(name=\"val_accuracy\", direction=\"max\")\n",
            "\n",
            "Trial 09 summary\n",
            "Hyperparameters:\n",
            "dense_units: 128\n",
            "dropout_rate: 0.4\n",
            "learning_rate: 0.002674245296397919\n",
            "Score: 0.9880210757255554\n",
            "\n",
            "Trial 06 summary\n",
            "Hyperparameters:\n",
            "dense_units: 192\n",
            "dropout_rate: 0.3\n",
            "learning_rate: 0.0003271739205768162\n",
            "Score: 0.9856253266334534\n",
            "\n",
            "Trial 07 summary\n",
            "Hyperparameters:\n",
            "dense_units: 192\n",
            "dropout_rate: 0.3\n",
            "learning_rate: 0.005231079312062187\n",
            "Score: 0.985146164894104\n",
            "\n",
            "Trial 08 summary\n",
            "Hyperparameters:\n",
            "dense_units: 64\n",
            "dropout_rate: 0.3\n",
            "learning_rate: 0.0011188068573940516\n",
            "Score: 0.9846670031547546\n",
            "\n",
            "Trial 04 summary\n",
            "Hyperparameters:\n",
            "dense_units: 192\n",
            "dropout_rate: 0.5\n",
            "learning_rate: 0.007216386468332445\n",
            "Score: 0.9817920327186584\n",
            "\n",
            "Trial 05 summary\n",
            "Hyperparameters:\n",
            "dense_units: 64\n",
            "dropout_rate: 0.5\n",
            "learning_rate: 0.003207075122396239\n",
            "Score: 0.9774796366691589\n",
            "\n",
            "Trial 03 summary\n",
            "Hyperparameters:\n",
            "dense_units: 64\n",
            "dropout_rate: 0.3\n",
            "learning_rate: 0.0012382866121473705\n",
            "Score: 0.9736464023590088\n",
            "\n",
            "Trial 02 summary\n",
            "Hyperparameters:\n",
            "dense_units: 128\n",
            "dropout_rate: 0.4\n",
            "learning_rate: 0.005256055651516419\n",
            "Score: 0.9683756828308105\n",
            "\n",
            "Trial 01 summary\n",
            "Hyperparameters:\n",
            "dense_units: 256\n",
            "dropout_rate: 0.5\n",
            "learning_rate: 0.0006201573966974905\n",
            "Score: 0.8850023746490479\n",
            "\n",
            "Trial 00 summary\n",
            "Hyperparameters:\n",
            "dense_units: 256\n",
            "dropout_rate: 0.4\n",
            "learning_rate: 0.00010697372837453348\n",
            "Score: 0.7786296010017395\n"
          ]
        }
      ]
    },
    {
      "cell_type": "code",
      "source": [
        "MobileNet_task_2_tuner.search(train_dataset_task2, validation_data=val_dataset_task2, epochs=50, callbacks=[early_stop_model_task_2, reduce_lr_model_task_2])"
      ],
      "metadata": {
        "id": "_PqBUPWdXzzu",
        "colab": {
          "base_uri": "https://localhost:8080/"
        },
        "outputId": "735c3bc3-2dd3-4369-8ed5-21d13c3a071c"
      },
      "id": "_PqBUPWdXzzu",
      "execution_count": null,
      "outputs": [
        {
          "output_type": "stream",
          "name": "stdout",
          "text": [
            "Trial 10 Complete [00h 08m 08s]\n",
            "val_accuracy: 0.978917121887207\n",
            "\n",
            "Best val_accuracy So Far: 0.9813128709793091\n",
            "Total elapsed time: 01h 52m 08s\n"
          ]
        }
      ]
    },
    {
      "cell_type": "code",
      "source": [
        "# Track the best model:\n",
        "best_MobileNet_model_task_2 = MobileNet_task_2_tuner.get_best_models(1)[0]\n",
        "best_MobileNet_model_task_2.summary()\n",
        "best_MobileNet_model_task_2.save('best_MobileNet_model_task_2.keras')\n",
        "\n",
        "# Print best hyperparameters:\n",
        "best_MobileNet_task_2_hp = MobileNet_task_2_tuner.get_best_hyperparameters(1)[0]\n",
        "print(best_MobileNet_task_2_hp.values)"
      ],
      "metadata": {
        "id": "13T403ndaol3",
        "colab": {
          "base_uri": "https://localhost:8080/",
          "height": 443
        },
        "outputId": "3eafa0cf-34f6-4161-9a14-7de8dea7d592"
      },
      "id": "13T403ndaol3",
      "execution_count": null,
      "outputs": [
        {
          "output_type": "stream",
          "name": "stderr",
          "text": [
            "/home/herom/lintf/lib/python3.12/site-packages/keras/src/saving/saving_lib.py:757: UserWarning: Skipping variable loading for optimizer 'adam', because it has 2 variables whereas the saved optimizer has 172 variables. \n",
            "  saveable.load_own_variables(weights_store.get(inner_path))\n"
          ]
        },
        {
          "output_type": "display_data",
          "data": {
            "text/plain": [
              "\u001b[1mModel: \"sequential\"\u001b[0m\n"
            ],
            "text/html": [
              "<pre style=\"white-space:pre;overflow-x:auto;line-height:normal;font-family:Menlo,'DejaVu Sans Mono',consolas,'Courier New',monospace\"><span style=\"font-weight: bold\">Model: \"sequential\"</span>\n",
              "</pre>\n"
            ]
          },
          "metadata": {}
        },
        {
          "output_type": "display_data",
          "data": {
            "text/plain": [
              "┏━━━━━━━━━━━━━━━━━━━━━━━━━━━━━━━━━┳━━━━━━━━━━━━━━━━━━━━━━━━┳━━━━━━━━━━━━━━━┓\n",
              "┃\u001b[1m \u001b[0m\u001b[1mLayer (type)                   \u001b[0m\u001b[1m \u001b[0m┃\u001b[1m \u001b[0m\u001b[1mOutput Shape          \u001b[0m\u001b[1m \u001b[0m┃\u001b[1m \u001b[0m\u001b[1m      Param #\u001b[0m\u001b[1m \u001b[0m┃\n",
              "┡━━━━━━━━━━━━━━━━━━━━━━━━━━━━━━━━━╇━━━━━━━━━━━━━━━━━━━━━━━━╇━━━━━━━━━━━━━━━┩\n",
              "│ sequential (\u001b[38;5;33mSequential\u001b[0m)         │ (\u001b[38;5;45mNone\u001b[0m, \u001b[38;5;34m224\u001b[0m, \u001b[38;5;34m224\u001b[0m, \u001b[38;5;34m3\u001b[0m)    │             \u001b[38;5;34m0\u001b[0m │\n",
              "├─────────────────────────────────┼────────────────────────┼───────────────┤\n",
              "│ rescaling (\u001b[38;5;33mRescaling\u001b[0m)           │ (\u001b[38;5;45mNone\u001b[0m, \u001b[38;5;34m224\u001b[0m, \u001b[38;5;34m224\u001b[0m, \u001b[38;5;34m3\u001b[0m)    │             \u001b[38;5;34m0\u001b[0m │\n",
              "├─────────────────────────────────┼────────────────────────┼───────────────┤\n",
              "│ mobilenet_1.00_224 (\u001b[38;5;33mFunctional\u001b[0m) │ (\u001b[38;5;45mNone\u001b[0m, \u001b[38;5;34m7\u001b[0m, \u001b[38;5;34m7\u001b[0m, \u001b[38;5;34m1024\u001b[0m)     │     \u001b[38;5;34m3,228,864\u001b[0m │\n",
              "├─────────────────────────────────┼────────────────────────┼───────────────┤\n",
              "│ global_average_pooling2d        │ (\u001b[38;5;45mNone\u001b[0m, \u001b[38;5;34m1024\u001b[0m)           │             \u001b[38;5;34m0\u001b[0m │\n",
              "│ (\u001b[38;5;33mGlobalAveragePooling2D\u001b[0m)        │                        │               │\n",
              "├─────────────────────────────────┼────────────────────────┼───────────────┤\n",
              "│ dense (\u001b[38;5;33mDense\u001b[0m)                   │ (\u001b[38;5;45mNone\u001b[0m, \u001b[38;5;34m128\u001b[0m)            │       \u001b[38;5;34m131,200\u001b[0m │\n",
              "├─────────────────────────────────┼────────────────────────┼───────────────┤\n",
              "│ dropout (\u001b[38;5;33mDropout\u001b[0m)               │ (\u001b[38;5;45mNone\u001b[0m, \u001b[38;5;34m128\u001b[0m)            │             \u001b[38;5;34m0\u001b[0m │\n",
              "├─────────────────────────────────┼────────────────────────┼───────────────┤\n",
              "│ dense_1 (\u001b[38;5;33mDense\u001b[0m)                 │ (\u001b[38;5;45mNone\u001b[0m, \u001b[38;5;34m10\u001b[0m)             │         \u001b[38;5;34m1,290\u001b[0m │\n",
              "└─────────────────────────────────┴────────────────────────┴───────────────┘\n"
            ],
            "text/html": [
              "<pre style=\"white-space:pre;overflow-x:auto;line-height:normal;font-family:Menlo,'DejaVu Sans Mono',consolas,'Courier New',monospace\">┏━━━━━━━━━━━━━━━━━━━━━━━━━━━━━━━━━┳━━━━━━━━━━━━━━━━━━━━━━━━┳━━━━━━━━━━━━━━━┓\n",
              "┃<span style=\"font-weight: bold\"> Layer (type)                    </span>┃<span style=\"font-weight: bold\"> Output Shape           </span>┃<span style=\"font-weight: bold\">       Param # </span>┃\n",
              "┡━━━━━━━━━━━━━━━━━━━━━━━━━━━━━━━━━╇━━━━━━━━━━━━━━━━━━━━━━━━╇━━━━━━━━━━━━━━━┩\n",
              "│ sequential (<span style=\"color: #0087ff; text-decoration-color: #0087ff\">Sequential</span>)         │ (<span style=\"color: #00d7ff; text-decoration-color: #00d7ff\">None</span>, <span style=\"color: #00af00; text-decoration-color: #00af00\">224</span>, <span style=\"color: #00af00; text-decoration-color: #00af00\">224</span>, <span style=\"color: #00af00; text-decoration-color: #00af00\">3</span>)    │             <span style=\"color: #00af00; text-decoration-color: #00af00\">0</span> │\n",
              "├─────────────────────────────────┼────────────────────────┼───────────────┤\n",
              "│ rescaling (<span style=\"color: #0087ff; text-decoration-color: #0087ff\">Rescaling</span>)           │ (<span style=\"color: #00d7ff; text-decoration-color: #00d7ff\">None</span>, <span style=\"color: #00af00; text-decoration-color: #00af00\">224</span>, <span style=\"color: #00af00; text-decoration-color: #00af00\">224</span>, <span style=\"color: #00af00; text-decoration-color: #00af00\">3</span>)    │             <span style=\"color: #00af00; text-decoration-color: #00af00\">0</span> │\n",
              "├─────────────────────────────────┼────────────────────────┼───────────────┤\n",
              "│ mobilenet_1.00_224 (<span style=\"color: #0087ff; text-decoration-color: #0087ff\">Functional</span>) │ (<span style=\"color: #00d7ff; text-decoration-color: #00d7ff\">None</span>, <span style=\"color: #00af00; text-decoration-color: #00af00\">7</span>, <span style=\"color: #00af00; text-decoration-color: #00af00\">7</span>, <span style=\"color: #00af00; text-decoration-color: #00af00\">1024</span>)     │     <span style=\"color: #00af00; text-decoration-color: #00af00\">3,228,864</span> │\n",
              "├─────────────────────────────────┼────────────────────────┼───────────────┤\n",
              "│ global_average_pooling2d        │ (<span style=\"color: #00d7ff; text-decoration-color: #00d7ff\">None</span>, <span style=\"color: #00af00; text-decoration-color: #00af00\">1024</span>)           │             <span style=\"color: #00af00; text-decoration-color: #00af00\">0</span> │\n",
              "│ (<span style=\"color: #0087ff; text-decoration-color: #0087ff\">GlobalAveragePooling2D</span>)        │                        │               │\n",
              "├─────────────────────────────────┼────────────────────────┼───────────────┤\n",
              "│ dense (<span style=\"color: #0087ff; text-decoration-color: #0087ff\">Dense</span>)                   │ (<span style=\"color: #00d7ff; text-decoration-color: #00d7ff\">None</span>, <span style=\"color: #00af00; text-decoration-color: #00af00\">128</span>)            │       <span style=\"color: #00af00; text-decoration-color: #00af00\">131,200</span> │\n",
              "├─────────────────────────────────┼────────────────────────┼───────────────┤\n",
              "│ dropout (<span style=\"color: #0087ff; text-decoration-color: #0087ff\">Dropout</span>)               │ (<span style=\"color: #00d7ff; text-decoration-color: #00d7ff\">None</span>, <span style=\"color: #00af00; text-decoration-color: #00af00\">128</span>)            │             <span style=\"color: #00af00; text-decoration-color: #00af00\">0</span> │\n",
              "├─────────────────────────────────┼────────────────────────┼───────────────┤\n",
              "│ dense_1 (<span style=\"color: #0087ff; text-decoration-color: #0087ff\">Dense</span>)                 │ (<span style=\"color: #00d7ff; text-decoration-color: #00d7ff\">None</span>, <span style=\"color: #00af00; text-decoration-color: #00af00\">10</span>)             │         <span style=\"color: #00af00; text-decoration-color: #00af00\">1,290</span> │\n",
              "└─────────────────────────────────┴────────────────────────┴───────────────┘\n",
              "</pre>\n"
            ]
          },
          "metadata": {}
        },
        {
          "output_type": "display_data",
          "data": {
            "text/plain": [
              "\u001b[1m Total params: \u001b[0m\u001b[38;5;34m3,361,354\u001b[0m (12.82 MB)\n"
            ],
            "text/html": [
              "<pre style=\"white-space:pre;overflow-x:auto;line-height:normal;font-family:Menlo,'DejaVu Sans Mono',consolas,'Courier New',monospace\"><span style=\"font-weight: bold\"> Total params: </span><span style=\"color: #00af00; text-decoration-color: #00af00\">3,361,354</span> (12.82 MB)\n",
              "</pre>\n"
            ]
          },
          "metadata": {}
        },
        {
          "output_type": "display_data",
          "data": {
            "text/plain": [
              "\u001b[1m Trainable params: \u001b[0m\u001b[38;5;34m3,339,466\u001b[0m (12.74 MB)\n"
            ],
            "text/html": [
              "<pre style=\"white-space:pre;overflow-x:auto;line-height:normal;font-family:Menlo,'DejaVu Sans Mono',consolas,'Courier New',monospace\"><span style=\"font-weight: bold\"> Trainable params: </span><span style=\"color: #00af00; text-decoration-color: #00af00\">3,339,466</span> (12.74 MB)\n",
              "</pre>\n"
            ]
          },
          "metadata": {}
        },
        {
          "output_type": "display_data",
          "data": {
            "text/plain": [
              "\u001b[1m Non-trainable params: \u001b[0m\u001b[38;5;34m21,888\u001b[0m (85.50 KB)\n"
            ],
            "text/html": [
              "<pre style=\"white-space:pre;overflow-x:auto;line-height:normal;font-family:Menlo,'DejaVu Sans Mono',consolas,'Courier New',monospace\"><span style=\"font-weight: bold\"> Non-trainable params: </span><span style=\"color: #00af00; text-decoration-color: #00af00\">21,888</span> (85.50 KB)\n",
              "</pre>\n"
            ]
          },
          "metadata": {}
        },
        {
          "output_type": "stream",
          "name": "stdout",
          "text": [
            "{'dense_units': 128, 'dropout_rate': 0.4, 'learning_rate': 0.0061589692802230585}\n"
          ]
        }
      ]
    },
    {
      "cell_type": "code",
      "source": [
        "MobileNet_task_2_tuner.results_summary()"
      ],
      "metadata": {
        "colab": {
          "base_uri": "https://localhost:8080/"
        },
        "id": "vcczW4z4y34-",
        "outputId": "509ef149-3c93-4741-a16e-8065dc3dc669"
      },
      "id": "vcczW4z4y34-",
      "execution_count": null,
      "outputs": [
        {
          "output_type": "stream",
          "name": "stdout",
          "text": [
            "Results summary\n",
            "Results in data/tuning/MobileNet/MobileNet_tuning\n",
            "Showing 10 best trials\n",
            "Objective(name=\"val_accuracy\", direction=\"max\")\n",
            "\n",
            "Trial 08 summary\n",
            "Hyperparameters:\n",
            "dense_units: 128\n",
            "dropout_rate: 0.4\n",
            "learning_rate: 0.0061589692802230585\n",
            "Score: 0.9813128709793091\n",
            "\n",
            "Trial 09 summary\n",
            "Hyperparameters:\n",
            "dense_units: 64\n",
            "dropout_rate: 0.4\n",
            "learning_rate: 0.0002470371231253561\n",
            "Score: 0.978917121887207\n",
            "\n",
            "Trial 07 summary\n",
            "Hyperparameters:\n",
            "dense_units: 128\n",
            "dropout_rate: 0.5\n",
            "learning_rate: 0.0007158523446965609\n",
            "Score: 0.9774796366691589\n",
            "\n",
            "Trial 03 summary\n",
            "Hyperparameters:\n",
            "dense_units: 256\n",
            "dropout_rate: 0.4\n",
            "learning_rate: 0.00016002789506967393\n",
            "Score: 0.9765213131904602\n",
            "\n",
            "Trial 05 summary\n",
            "Hyperparameters:\n",
            "dense_units: 192\n",
            "dropout_rate: 0.5\n",
            "learning_rate: 0.00023747115131631685\n",
            "Score: 0.9755629897117615\n",
            "\n",
            "Trial 04 summary\n",
            "Hyperparameters:\n",
            "dense_units: 256\n",
            "dropout_rate: 0.3\n",
            "learning_rate: 0.004824642245001809\n",
            "Score: 0.9755629897117615\n",
            "\n",
            "Trial 06 summary\n",
            "Hyperparameters:\n",
            "dense_units: 256\n",
            "dropout_rate: 0.3\n",
            "learning_rate: 0.003613390279775994\n",
            "Score: 0.9736464023590088\n",
            "\n",
            "Trial 02 summary\n",
            "Hyperparameters:\n",
            "dense_units: 192\n",
            "dropout_rate: 0.4\n",
            "learning_rate: 0.000642241753319735\n",
            "Score: 0.9688548445701599\n",
            "\n",
            "Trial 00 summary\n",
            "Hyperparameters:\n",
            "dense_units: 192\n",
            "dropout_rate: 0.4\n",
            "learning_rate: 0.0005788602293070543\n",
            "Score: 0.9022520184516907\n",
            "\n",
            "Trial 01 summary\n",
            "Hyperparameters:\n",
            "dense_units: 64\n",
            "dropout_rate: 0.5\n",
            "learning_rate: 0.00022898349409130705\n",
            "Score: 0.8461906909942627\n"
          ]
        }
      ]
    },
    {
      "cell_type": "code",
      "source": [
        "Xception_task_2_tuner.search(train_dataset_task2, validation_data=val_dataset_task2, epochs=50, callbacks=[early_stop_model_task_2, reduce_lr_model_task_2])"
      ],
      "metadata": {
        "id": "QpE2Y6HVX3tf",
        "colab": {
          "base_uri": "https://localhost:8080/",
          "height": 1000
        },
        "outputId": "182ecb39-853e-4e1f-908a-05497e2372df"
      },
      "id": "QpE2Y6HVX3tf",
      "execution_count": null,
      "outputs": [
        {
          "output_type": "stream",
          "name": "stdout",
          "text": [
            "Trial 9 Complete [00h 44m 50s]\n",
            "val_accuracy: 0.987541913986206\n",
            "\n",
            "Best val_accuracy So Far: 0.9880210757255554\n",
            "Total elapsed time: 05h 36m 25s\n",
            "\n",
            "Search: Running Trial #10\n",
            "\n",
            "Value             |Best Value So Far |Hyperparameter\n",
            "64                |128               |dense_units\n",
            "0.3               |0.3               |dropout_rate\n",
            "0.00014326        |0.00037297        |learning_rate\n",
            "\n",
            "Epoch 1/50\n",
            "\u001b[1m260/260\u001b[0m \u001b[32m━━━━━━━━━━━━━━━━━━━━\u001b[0m\u001b[37m\u001b[0m \u001b[1m90s\u001b[0m 299ms/step - accuracy: 0.8911 - loss: 0.3717 - val_accuracy: 0.9593 - val_loss: 0.1374 - learning_rate: 0.0010\n",
            "Epoch 2/50\n",
            "\u001b[1m260/260\u001b[0m \u001b[32m━━━━━━━━━━━━━━━━━━━━\u001b[0m\u001b[37m\u001b[0m \u001b[1m77s\u001b[0m 294ms/step - accuracy: 0.9757 - loss: 0.0792 - val_accuracy: 0.8903 - val_loss: 0.3904 - learning_rate: 0.0010\n",
            "Epoch 3/50\n",
            "\u001b[1m260/260\u001b[0m \u001b[32m━━━━━━━━━━━━━━━━━━━━\u001b[0m\u001b[37m\u001b[0m \u001b[1m76s\u001b[0m 293ms/step - accuracy: 0.9776 - loss: 0.0764 - val_accuracy: 0.9593 - val_loss: 0.2045 - learning_rate: 0.0010\n",
            "Epoch 4/50\n",
            "\u001b[1m260/260\u001b[0m \u001b[32m━━━━━━━━━━━━━━━━━━━━\u001b[0m\u001b[37m\u001b[0m \u001b[1m77s\u001b[0m 295ms/step - accuracy: 0.9831 - loss: 0.0593 - val_accuracy: 0.9569 - val_loss: 0.2063 - learning_rate: 0.0010\n",
            "Epoch 5/50\n",
            "\u001b[1m260/260\u001b[0m \u001b[32m━━━━━━━━━━━━━━━━━━━━\u001b[0m\u001b[37m\u001b[0m \u001b[1m0s\u001b[0m 292ms/step - accuracy: 0.9748 - loss: 0.0723\n",
            "Epoch 5: ReduceLROnPlateau reducing learning rate to 0.0005000000237487257.\n",
            "\u001b[1m260/260\u001b[0m \u001b[32m━━━━━━━━━━━━━━━━━━━━\u001b[0m\u001b[37m\u001b[0m \u001b[1m82s\u001b[0m 307ms/step - accuracy: 0.9748 - loss: 0.0723 - val_accuracy: 0.9665 - val_loss: 0.1660 - learning_rate: 0.0010\n",
            "Epoch 6/50\n",
            "\u001b[1m260/260\u001b[0m \u001b[32m━━━━━━━━━━━━━━━━━━━━\u001b[0m\u001b[37m\u001b[0m \u001b[1m78s\u001b[0m 301ms/step - accuracy: 0.9917 - loss: 0.0287 - val_accuracy: 0.9621 - val_loss: 0.1480 - learning_rate: 5.0000e-04\n",
            "Epoch 7/50\n",
            "\u001b[1m260/260\u001b[0m \u001b[32m━━━━━━━━━━━━━━━━━━━━\u001b[0m\u001b[37m\u001b[0m \u001b[1m77s\u001b[0m 295ms/step - accuracy: 0.9922 - loss: 0.0248 - val_accuracy: 0.9765 - val_loss: 0.0964 - learning_rate: 5.0000e-04\n",
            "Epoch 8/50\n",
            "\u001b[1m260/260\u001b[0m \u001b[32m━━━━━━━━━━━━━━━━━━━━\u001b[0m\u001b[37m\u001b[0m \u001b[1m79s\u001b[0m 303ms/step - accuracy: 0.9933 - loss: 0.0229 - val_accuracy: 0.9871 - val_loss: 0.0717 - learning_rate: 5.0000e-04\n",
            "Epoch 9/50\n",
            "\u001b[1m 34/260\u001b[0m \u001b[32m━━\u001b[0m\u001b[37m━━━━━━━━━━━━━━━━━━\u001b[0m \u001b[1m1:02\u001b[0m 275ms/step - accuracy: 0.9958 - loss: 0.0213"
          ]
        },
        {
          "output_type": "error",
          "ename": "KeyboardInterrupt",
          "evalue": "",
          "traceback": [
            "\u001b[31m---------------------------------------------------------------------------\u001b[39m",
            "\u001b[31mKeyboardInterrupt\u001b[39m                         Traceback (most recent call last)",
            "\u001b[36mCell\u001b[39m\u001b[36m \u001b[39m\u001b[32mIn[18]\u001b[39m\u001b[32m, line 1\u001b[39m\n\u001b[32m----> \u001b[39m\u001b[32m1\u001b[39m \u001b[43mXception_task_2_tuner\u001b[49m\u001b[43m.\u001b[49m\u001b[43msearch\u001b[49m\u001b[43m(\u001b[49m\u001b[43mtrain_dataset_task2\u001b[49m\u001b[43m,\u001b[49m\u001b[43m \u001b[49m\u001b[43mvalidation_data\u001b[49m\u001b[43m=\u001b[49m\u001b[43mval_dataset_task2\u001b[49m\u001b[43m,\u001b[49m\u001b[43m \u001b[49m\u001b[43mepochs\u001b[49m\u001b[43m=\u001b[49m\u001b[32;43m50\u001b[39;49m\u001b[43m,\u001b[49m\u001b[43m \u001b[49m\u001b[43mcallbacks\u001b[49m\u001b[43m=\u001b[49m\u001b[43m[\u001b[49m\u001b[43mearly_stop_model_task_2\u001b[49m\u001b[43m,\u001b[49m\u001b[43m \u001b[49m\u001b[43mreduce_lr_model_task_2\u001b[49m\u001b[43m]\u001b[49m\u001b[43m)\u001b[49m\n",
            "\u001b[36mFile \u001b[39m\u001b[32m~/lintf/lib/python3.12/site-packages/keras_tuner/src/engine/base_tuner.py:234\u001b[39m, in \u001b[36mBaseTuner.search\u001b[39m\u001b[34m(self, *fit_args, **fit_kwargs)\u001b[39m\n\u001b[32m    231\u001b[39m         \u001b[38;5;28;01mcontinue\u001b[39;00m\n\u001b[32m    233\u001b[39m     \u001b[38;5;28mself\u001b[39m.on_trial_begin(trial)\n\u001b[32m--> \u001b[39m\u001b[32m234\u001b[39m     \u001b[38;5;28;43mself\u001b[39;49m\u001b[43m.\u001b[49m\u001b[43m_try_run_and_update_trial\u001b[49m\u001b[43m(\u001b[49m\u001b[43mtrial\u001b[49m\u001b[43m,\u001b[49m\u001b[43m \u001b[49m\u001b[43m*\u001b[49m\u001b[43mfit_args\u001b[49m\u001b[43m,\u001b[49m\u001b[43m \u001b[49m\u001b[43m*\u001b[49m\u001b[43m*\u001b[49m\u001b[43mfit_kwargs\u001b[49m\u001b[43m)\u001b[49m\n\u001b[32m    235\u001b[39m     \u001b[38;5;28mself\u001b[39m.on_trial_end(trial)\n\u001b[32m    236\u001b[39m \u001b[38;5;28mself\u001b[39m.on_search_end()\n",
            "\u001b[36mFile \u001b[39m\u001b[32m~/lintf/lib/python3.12/site-packages/keras_tuner/src/engine/base_tuner.py:274\u001b[39m, in \u001b[36mBaseTuner._try_run_and_update_trial\u001b[39m\u001b[34m(self, trial, *fit_args, **fit_kwargs)\u001b[39m\n\u001b[32m    272\u001b[39m \u001b[38;5;28;01mdef\u001b[39;00m\u001b[38;5;250m \u001b[39m\u001b[34m_try_run_and_update_trial\u001b[39m(\u001b[38;5;28mself\u001b[39m, trial, *fit_args, **fit_kwargs):\n\u001b[32m    273\u001b[39m     \u001b[38;5;28;01mtry\u001b[39;00m:\n\u001b[32m--> \u001b[39m\u001b[32m274\u001b[39m         \u001b[38;5;28;43mself\u001b[39;49m\u001b[43m.\u001b[49m\u001b[43m_run_and_update_trial\u001b[49m\u001b[43m(\u001b[49m\u001b[43mtrial\u001b[49m\u001b[43m,\u001b[49m\u001b[43m \u001b[49m\u001b[43m*\u001b[49m\u001b[43mfit_args\u001b[49m\u001b[43m,\u001b[49m\u001b[43m \u001b[49m\u001b[43m*\u001b[49m\u001b[43m*\u001b[49m\u001b[43mfit_kwargs\u001b[49m\u001b[43m)\u001b[49m\n\u001b[32m    275\u001b[39m         trial.status = trial_module.TrialStatus.COMPLETED\n\u001b[32m    276\u001b[39m         \u001b[38;5;28;01mreturn\u001b[39;00m\n",
            "\u001b[36mFile \u001b[39m\u001b[32m~/lintf/lib/python3.12/site-packages/keras_tuner/src/engine/base_tuner.py:239\u001b[39m, in \u001b[36mBaseTuner._run_and_update_trial\u001b[39m\u001b[34m(self, trial, *fit_args, **fit_kwargs)\u001b[39m\n\u001b[32m    238\u001b[39m \u001b[38;5;28;01mdef\u001b[39;00m\u001b[38;5;250m \u001b[39m\u001b[34m_run_and_update_trial\u001b[39m(\u001b[38;5;28mself\u001b[39m, trial, *fit_args, **fit_kwargs):\n\u001b[32m--> \u001b[39m\u001b[32m239\u001b[39m     results = \u001b[38;5;28;43mself\u001b[39;49m\u001b[43m.\u001b[49m\u001b[43mrun_trial\u001b[49m\u001b[43m(\u001b[49m\u001b[43mtrial\u001b[49m\u001b[43m,\u001b[49m\u001b[43m \u001b[49m\u001b[43m*\u001b[49m\u001b[43mfit_args\u001b[49m\u001b[43m,\u001b[49m\u001b[43m \u001b[49m\u001b[43m*\u001b[49m\u001b[43m*\u001b[49m\u001b[43mfit_kwargs\u001b[49m\u001b[43m)\u001b[49m\n\u001b[32m    240\u001b[39m     \u001b[38;5;28;01mif\u001b[39;00m \u001b[38;5;28mself\u001b[39m.oracle.get_trial(trial.trial_id).metrics.exists(\n\u001b[32m    241\u001b[39m         \u001b[38;5;28mself\u001b[39m.oracle.objective.name\n\u001b[32m    242\u001b[39m     ):\n\u001b[32m    243\u001b[39m         \u001b[38;5;66;03m# The oracle is updated by calling `self.oracle.update_trial()` in\u001b[39;00m\n\u001b[32m    244\u001b[39m         \u001b[38;5;66;03m# `Tuner.run_trial()`. For backward compatibility, we support this\u001b[39;00m\n\u001b[32m    245\u001b[39m         \u001b[38;5;66;03m# use case. No further action needed in this case.\u001b[39;00m\n\u001b[32m    246\u001b[39m         warnings.warn(\n\u001b[32m    247\u001b[39m             \u001b[33m\"\u001b[39m\u001b[33mThe use case of calling \u001b[39m\u001b[33m\"\u001b[39m\n\u001b[32m    248\u001b[39m             \u001b[33m\"\u001b[39m\u001b[33m`self.oracle.update_trial(trial_id, metrics)` \u001b[39m\u001b[33m\"\u001b[39m\n\u001b[32m   (...)\u001b[39m\u001b[32m    254\u001b[39m             stacklevel=\u001b[32m2\u001b[39m,\n\u001b[32m    255\u001b[39m         )\n",
            "\u001b[36mFile \u001b[39m\u001b[32m~/lintf/lib/python3.12/site-packages/keras_tuner/src/engine/tuner.py:314\u001b[39m, in \u001b[36mTuner.run_trial\u001b[39m\u001b[34m(self, trial, *args, **kwargs)\u001b[39m\n\u001b[32m    312\u001b[39m     callbacks.append(model_checkpoint)\n\u001b[32m    313\u001b[39m     copied_kwargs[\u001b[33m\"\u001b[39m\u001b[33mcallbacks\u001b[39m\u001b[33m\"\u001b[39m] = callbacks\n\u001b[32m--> \u001b[39m\u001b[32m314\u001b[39m     obj_value = \u001b[38;5;28;43mself\u001b[39;49m\u001b[43m.\u001b[49m\u001b[43m_build_and_fit_model\u001b[49m\u001b[43m(\u001b[49m\u001b[43mtrial\u001b[49m\u001b[43m,\u001b[49m\u001b[43m \u001b[49m\u001b[43m*\u001b[49m\u001b[43margs\u001b[49m\u001b[43m,\u001b[49m\u001b[43m \u001b[49m\u001b[43m*\u001b[49m\u001b[43m*\u001b[49m\u001b[43mcopied_kwargs\u001b[49m\u001b[43m)\u001b[49m\n\u001b[32m    316\u001b[39m     histories.append(obj_value)\n\u001b[32m    317\u001b[39m \u001b[38;5;28;01mreturn\u001b[39;00m histories\n",
            "\u001b[36mFile \u001b[39m\u001b[32m~/lintf/lib/python3.12/site-packages/keras_tuner/src/engine/tuner.py:233\u001b[39m, in \u001b[36mTuner._build_and_fit_model\u001b[39m\u001b[34m(self, trial, *args, **kwargs)\u001b[39m\n\u001b[32m    231\u001b[39m hp = trial.hyperparameters\n\u001b[32m    232\u001b[39m model = \u001b[38;5;28mself\u001b[39m._try_build(hp)\n\u001b[32m--> \u001b[39m\u001b[32m233\u001b[39m results = \u001b[38;5;28;43mself\u001b[39;49m\u001b[43m.\u001b[49m\u001b[43mhypermodel\u001b[49m\u001b[43m.\u001b[49m\u001b[43mfit\u001b[49m\u001b[43m(\u001b[49m\u001b[43mhp\u001b[49m\u001b[43m,\u001b[49m\u001b[43m \u001b[49m\u001b[43mmodel\u001b[49m\u001b[43m,\u001b[49m\u001b[43m \u001b[49m\u001b[43m*\u001b[49m\u001b[43margs\u001b[49m\u001b[43m,\u001b[49m\u001b[43m \u001b[49m\u001b[43m*\u001b[49m\u001b[43m*\u001b[49m\u001b[43mkwargs\u001b[49m\u001b[43m)\u001b[49m\n\u001b[32m    235\u001b[39m \u001b[38;5;66;03m# Save the build config for model loading later.\u001b[39;00m\n\u001b[32m    236\u001b[39m \u001b[38;5;28;01mif\u001b[39;00m backend.config.multi_backend():\n",
            "\u001b[36mFile \u001b[39m\u001b[32m~/lintf/lib/python3.12/site-packages/keras_tuner/src/engine/hypermodel.py:149\u001b[39m, in \u001b[36mHyperModel.fit\u001b[39m\u001b[34m(self, hp, model, *args, **kwargs)\u001b[39m\n\u001b[32m    125\u001b[39m \u001b[38;5;28;01mdef\u001b[39;00m\u001b[38;5;250m \u001b[39m\u001b[34mfit\u001b[39m(\u001b[38;5;28mself\u001b[39m, hp, model, *args, **kwargs):\n\u001b[32m    126\u001b[39m \u001b[38;5;250m    \u001b[39m\u001b[33;03m\"\"\"Train the model.\u001b[39;00m\n\u001b[32m    127\u001b[39m \n\u001b[32m    128\u001b[39m \u001b[33;03m    Args:\u001b[39;00m\n\u001b[32m   (...)\u001b[39m\u001b[32m    147\u001b[39m \u001b[33;03m        If return a float, it should be the `objective` value.\u001b[39;00m\n\u001b[32m    148\u001b[39m \u001b[33;03m    \"\"\"\u001b[39;00m\n\u001b[32m--> \u001b[39m\u001b[32m149\u001b[39m     \u001b[38;5;28;01mreturn\u001b[39;00m \u001b[43mmodel\u001b[49m\u001b[43m.\u001b[49m\u001b[43mfit\u001b[49m\u001b[43m(\u001b[49m\u001b[43m*\u001b[49m\u001b[43margs\u001b[49m\u001b[43m,\u001b[49m\u001b[43m \u001b[49m\u001b[43m*\u001b[49m\u001b[43m*\u001b[49m\u001b[43mkwargs\u001b[49m\u001b[43m)\u001b[49m\n",
            "\u001b[36mFile \u001b[39m\u001b[32m~/lintf/lib/python3.12/site-packages/keras/src/utils/traceback_utils.py:117\u001b[39m, in \u001b[36mfilter_traceback.<locals>.error_handler\u001b[39m\u001b[34m(*args, **kwargs)\u001b[39m\n\u001b[32m    115\u001b[39m filtered_tb = \u001b[38;5;28;01mNone\u001b[39;00m\n\u001b[32m    116\u001b[39m \u001b[38;5;28;01mtry\u001b[39;00m:\n\u001b[32m--> \u001b[39m\u001b[32m117\u001b[39m     \u001b[38;5;28;01mreturn\u001b[39;00m \u001b[43mfn\u001b[49m\u001b[43m(\u001b[49m\u001b[43m*\u001b[49m\u001b[43margs\u001b[49m\u001b[43m,\u001b[49m\u001b[43m \u001b[49m\u001b[43m*\u001b[49m\u001b[43m*\u001b[49m\u001b[43mkwargs\u001b[49m\u001b[43m)\u001b[49m\n\u001b[32m    118\u001b[39m \u001b[38;5;28;01mexcept\u001b[39;00m \u001b[38;5;167;01mException\u001b[39;00m \u001b[38;5;28;01mas\u001b[39;00m e:\n\u001b[32m    119\u001b[39m     filtered_tb = _process_traceback_frames(e.__traceback__)\n",
            "\u001b[36mFile \u001b[39m\u001b[32m~/lintf/lib/python3.12/site-packages/keras/src/backend/tensorflow/trainer.py:371\u001b[39m, in \u001b[36mTensorFlowTrainer.fit\u001b[39m\u001b[34m(self, x, y, batch_size, epochs, verbose, callbacks, validation_split, validation_data, shuffle, class_weight, sample_weight, initial_epoch, steps_per_epoch, validation_steps, validation_batch_size, validation_freq)\u001b[39m\n\u001b[32m    369\u001b[39m \u001b[38;5;28;01mfor\u001b[39;00m step, iterator \u001b[38;5;129;01min\u001b[39;00m epoch_iterator:\n\u001b[32m    370\u001b[39m     callbacks.on_train_batch_begin(step)\n\u001b[32m--> \u001b[39m\u001b[32m371\u001b[39m     logs = \u001b[38;5;28;43mself\u001b[39;49m\u001b[43m.\u001b[49m\u001b[43mtrain_function\u001b[49m\u001b[43m(\u001b[49m\u001b[43miterator\u001b[49m\u001b[43m)\u001b[49m\n\u001b[32m    372\u001b[39m     callbacks.on_train_batch_end(step, logs)\n\u001b[32m    373\u001b[39m     \u001b[38;5;28;01mif\u001b[39;00m \u001b[38;5;28mself\u001b[39m.stop_training:\n",
            "\u001b[36mFile \u001b[39m\u001b[32m~/lintf/lib/python3.12/site-packages/keras/src/backend/tensorflow/trainer.py:219\u001b[39m, in \u001b[36mTensorFlowTrainer._make_function.<locals>.function\u001b[39m\u001b[34m(iterator)\u001b[39m\n\u001b[32m    215\u001b[39m \u001b[38;5;28;01mdef\u001b[39;00m\u001b[38;5;250m \u001b[39m\u001b[34mfunction\u001b[39m(iterator):\n\u001b[32m    216\u001b[39m     \u001b[38;5;28;01mif\u001b[39;00m \u001b[38;5;28misinstance\u001b[39m(\n\u001b[32m    217\u001b[39m         iterator, (tf.data.Iterator, tf.distribute.DistributedIterator)\n\u001b[32m    218\u001b[39m     ):\n\u001b[32m--> \u001b[39m\u001b[32m219\u001b[39m         opt_outputs = \u001b[43mmulti_step_on_iterator\u001b[49m\u001b[43m(\u001b[49m\u001b[43miterator\u001b[49m\u001b[43m)\u001b[49m\n\u001b[32m    220\u001b[39m         \u001b[38;5;28;01mif\u001b[39;00m \u001b[38;5;129;01mnot\u001b[39;00m opt_outputs.has_value():\n\u001b[32m    221\u001b[39m             \u001b[38;5;28;01mraise\u001b[39;00m \u001b[38;5;167;01mStopIteration\u001b[39;00m\n",
            "\u001b[36mFile \u001b[39m\u001b[32m~/lintf/lib/python3.12/site-packages/tensorflow/python/util/traceback_utils.py:150\u001b[39m, in \u001b[36mfilter_traceback.<locals>.error_handler\u001b[39m\u001b[34m(*args, **kwargs)\u001b[39m\n\u001b[32m    148\u001b[39m filtered_tb = \u001b[38;5;28;01mNone\u001b[39;00m\n\u001b[32m    149\u001b[39m \u001b[38;5;28;01mtry\u001b[39;00m:\n\u001b[32m--> \u001b[39m\u001b[32m150\u001b[39m   \u001b[38;5;28;01mreturn\u001b[39;00m \u001b[43mfn\u001b[49m\u001b[43m(\u001b[49m\u001b[43m*\u001b[49m\u001b[43margs\u001b[49m\u001b[43m,\u001b[49m\u001b[43m \u001b[49m\u001b[43m*\u001b[49m\u001b[43m*\u001b[49m\u001b[43mkwargs\u001b[49m\u001b[43m)\u001b[49m\n\u001b[32m    151\u001b[39m \u001b[38;5;28;01mexcept\u001b[39;00m \u001b[38;5;167;01mException\u001b[39;00m \u001b[38;5;28;01mas\u001b[39;00m e:\n\u001b[32m    152\u001b[39m   filtered_tb = _process_traceback_frames(e.__traceback__)\n",
            "\u001b[36mFile \u001b[39m\u001b[32m~/lintf/lib/python3.12/site-packages/tensorflow/python/eager/polymorphic_function/polymorphic_function.py:833\u001b[39m, in \u001b[36mFunction.__call__\u001b[39m\u001b[34m(self, *args, **kwds)\u001b[39m\n\u001b[32m    830\u001b[39m compiler = \u001b[33m\"\u001b[39m\u001b[33mxla\u001b[39m\u001b[33m\"\u001b[39m \u001b[38;5;28;01mif\u001b[39;00m \u001b[38;5;28mself\u001b[39m._jit_compile \u001b[38;5;28;01melse\u001b[39;00m \u001b[33m\"\u001b[39m\u001b[33mnonXla\u001b[39m\u001b[33m\"\u001b[39m\n\u001b[32m    832\u001b[39m \u001b[38;5;28;01mwith\u001b[39;00m OptionalXlaContext(\u001b[38;5;28mself\u001b[39m._jit_compile):\n\u001b[32m--> \u001b[39m\u001b[32m833\u001b[39m   result = \u001b[38;5;28;43mself\u001b[39;49m\u001b[43m.\u001b[49m\u001b[43m_call\u001b[49m\u001b[43m(\u001b[49m\u001b[43m*\u001b[49m\u001b[43margs\u001b[49m\u001b[43m,\u001b[49m\u001b[43m \u001b[49m\u001b[43m*\u001b[49m\u001b[43m*\u001b[49m\u001b[43mkwds\u001b[49m\u001b[43m)\u001b[49m\n\u001b[32m    835\u001b[39m new_tracing_count = \u001b[38;5;28mself\u001b[39m.experimental_get_tracing_count()\n\u001b[32m    836\u001b[39m without_tracing = (tracing_count == new_tracing_count)\n",
            "\u001b[36mFile \u001b[39m\u001b[32m~/lintf/lib/python3.12/site-packages/tensorflow/python/eager/polymorphic_function/polymorphic_function.py:878\u001b[39m, in \u001b[36mFunction._call\u001b[39m\u001b[34m(self, *args, **kwds)\u001b[39m\n\u001b[32m    875\u001b[39m \u001b[38;5;28mself\u001b[39m._lock.release()\n\u001b[32m    876\u001b[39m \u001b[38;5;66;03m# In this case we have not created variables on the first call. So we can\u001b[39;00m\n\u001b[32m    877\u001b[39m \u001b[38;5;66;03m# run the first trace but we should fail if variables are created.\u001b[39;00m\n\u001b[32m--> \u001b[39m\u001b[32m878\u001b[39m results = \u001b[43mtracing_compilation\u001b[49m\u001b[43m.\u001b[49m\u001b[43mcall_function\u001b[49m\u001b[43m(\u001b[49m\n\u001b[32m    879\u001b[39m \u001b[43m    \u001b[49m\u001b[43margs\u001b[49m\u001b[43m,\u001b[49m\u001b[43m \u001b[49m\u001b[43mkwds\u001b[49m\u001b[43m,\u001b[49m\u001b[43m \u001b[49m\u001b[38;5;28;43mself\u001b[39;49m\u001b[43m.\u001b[49m\u001b[43m_variable_creation_config\u001b[49m\n\u001b[32m    880\u001b[39m \u001b[43m\u001b[49m\u001b[43m)\u001b[49m\n\u001b[32m    881\u001b[39m \u001b[38;5;28;01mif\u001b[39;00m \u001b[38;5;28mself\u001b[39m._created_variables:\n\u001b[32m    882\u001b[39m   \u001b[38;5;28;01mraise\u001b[39;00m \u001b[38;5;167;01mValueError\u001b[39;00m(\u001b[33m\"\u001b[39m\u001b[33mCreating variables on a non-first call to a function\u001b[39m\u001b[33m\"\u001b[39m\n\u001b[32m    883\u001b[39m                    \u001b[33m\"\u001b[39m\u001b[33m decorated with tf.function.\u001b[39m\u001b[33m\"\u001b[39m)\n",
            "\u001b[36mFile \u001b[39m\u001b[32m~/lintf/lib/python3.12/site-packages/tensorflow/python/eager/polymorphic_function/tracing_compilation.py:139\u001b[39m, in \u001b[36mcall_function\u001b[39m\u001b[34m(args, kwargs, tracing_options)\u001b[39m\n\u001b[32m    137\u001b[39m bound_args = function.function_type.bind(*args, **kwargs)\n\u001b[32m    138\u001b[39m flat_inputs = function.function_type.unpack_inputs(bound_args)\n\u001b[32m--> \u001b[39m\u001b[32m139\u001b[39m \u001b[38;5;28;01mreturn\u001b[39;00m \u001b[43mfunction\u001b[49m\u001b[43m.\u001b[49m\u001b[43m_call_flat\u001b[49m\u001b[43m(\u001b[49m\u001b[43m  \u001b[49m\u001b[38;5;66;43;03m# pylint: disable=protected-access\u001b[39;49;00m\n\u001b[32m    140\u001b[39m \u001b[43m    \u001b[49m\u001b[43mflat_inputs\u001b[49m\u001b[43m,\u001b[49m\u001b[43m \u001b[49m\u001b[43mcaptured_inputs\u001b[49m\u001b[43m=\u001b[49m\u001b[43mfunction\u001b[49m\u001b[43m.\u001b[49m\u001b[43mcaptured_inputs\u001b[49m\n\u001b[32m    141\u001b[39m \u001b[43m\u001b[49m\u001b[43m)\u001b[49m\n",
            "\u001b[36mFile \u001b[39m\u001b[32m~/lintf/lib/python3.12/site-packages/tensorflow/python/eager/polymorphic_function/concrete_function.py:1322\u001b[39m, in \u001b[36mConcreteFunction._call_flat\u001b[39m\u001b[34m(self, tensor_inputs, captured_inputs)\u001b[39m\n\u001b[32m   1318\u001b[39m possible_gradient_type = gradients_util.PossibleTapeGradientTypes(args)\n\u001b[32m   1319\u001b[39m \u001b[38;5;28;01mif\u001b[39;00m (possible_gradient_type == gradients_util.POSSIBLE_GRADIENT_TYPES_NONE\n\u001b[32m   1320\u001b[39m     \u001b[38;5;129;01mand\u001b[39;00m executing_eagerly):\n\u001b[32m   1321\u001b[39m   \u001b[38;5;66;03m# No tape is watching; skip to running the function.\u001b[39;00m\n\u001b[32m-> \u001b[39m\u001b[32m1322\u001b[39m   \u001b[38;5;28;01mreturn\u001b[39;00m \u001b[38;5;28;43mself\u001b[39;49m\u001b[43m.\u001b[49m\u001b[43m_inference_function\u001b[49m\u001b[43m.\u001b[49m\u001b[43mcall_preflattened\u001b[49m\u001b[43m(\u001b[49m\u001b[43margs\u001b[49m\u001b[43m)\u001b[49m\n\u001b[32m   1323\u001b[39m forward_backward = \u001b[38;5;28mself\u001b[39m._select_forward_and_backward_functions(\n\u001b[32m   1324\u001b[39m     args,\n\u001b[32m   1325\u001b[39m     possible_gradient_type,\n\u001b[32m   1326\u001b[39m     executing_eagerly)\n\u001b[32m   1327\u001b[39m forward_function, args_with_tangents = forward_backward.forward()\n",
            "\u001b[36mFile \u001b[39m\u001b[32m~/lintf/lib/python3.12/site-packages/tensorflow/python/eager/polymorphic_function/atomic_function.py:216\u001b[39m, in \u001b[36mAtomicFunction.call_preflattened\u001b[39m\u001b[34m(self, args)\u001b[39m\n\u001b[32m    214\u001b[39m \u001b[38;5;28;01mdef\u001b[39;00m\u001b[38;5;250m \u001b[39m\u001b[34mcall_preflattened\u001b[39m(\u001b[38;5;28mself\u001b[39m, args: Sequence[core.Tensor]) -> Any:\n\u001b[32m    215\u001b[39m \u001b[38;5;250m  \u001b[39m\u001b[33;03m\"\"\"Calls with flattened tensor inputs and returns the structured output.\"\"\"\u001b[39;00m\n\u001b[32m--> \u001b[39m\u001b[32m216\u001b[39m   flat_outputs = \u001b[38;5;28;43mself\u001b[39;49m\u001b[43m.\u001b[49m\u001b[43mcall_flat\u001b[49m\u001b[43m(\u001b[49m\u001b[43m*\u001b[49m\u001b[43margs\u001b[49m\u001b[43m)\u001b[49m\n\u001b[32m    217\u001b[39m   \u001b[38;5;28;01mreturn\u001b[39;00m \u001b[38;5;28mself\u001b[39m.function_type.pack_output(flat_outputs)\n",
            "\u001b[36mFile \u001b[39m\u001b[32m~/lintf/lib/python3.12/site-packages/tensorflow/python/eager/polymorphic_function/atomic_function.py:251\u001b[39m, in \u001b[36mAtomicFunction.call_flat\u001b[39m\u001b[34m(self, *args)\u001b[39m\n\u001b[32m    249\u001b[39m \u001b[38;5;28;01mwith\u001b[39;00m record.stop_recording():\n\u001b[32m    250\u001b[39m   \u001b[38;5;28;01mif\u001b[39;00m \u001b[38;5;28mself\u001b[39m._bound_context.executing_eagerly():\n\u001b[32m--> \u001b[39m\u001b[32m251\u001b[39m     outputs = \u001b[38;5;28;43mself\u001b[39;49m\u001b[43m.\u001b[49m\u001b[43m_bound_context\u001b[49m\u001b[43m.\u001b[49m\u001b[43mcall_function\u001b[49m\u001b[43m(\u001b[49m\n\u001b[32m    252\u001b[39m \u001b[43m        \u001b[49m\u001b[38;5;28;43mself\u001b[39;49m\u001b[43m.\u001b[49m\u001b[43mname\u001b[49m\u001b[43m,\u001b[49m\n\u001b[32m    253\u001b[39m \u001b[43m        \u001b[49m\u001b[38;5;28;43mlist\u001b[39;49m\u001b[43m(\u001b[49m\u001b[43margs\u001b[49m\u001b[43m)\u001b[49m\u001b[43m,\u001b[49m\n\u001b[32m    254\u001b[39m \u001b[43m        \u001b[49m\u001b[38;5;28;43mlen\u001b[39;49m\u001b[43m(\u001b[49m\u001b[38;5;28;43mself\u001b[39;49m\u001b[43m.\u001b[49m\u001b[43mfunction_type\u001b[49m\u001b[43m.\u001b[49m\u001b[43mflat_outputs\u001b[49m\u001b[43m)\u001b[49m\u001b[43m,\u001b[49m\n\u001b[32m    255\u001b[39m \u001b[43m    \u001b[49m\u001b[43m)\u001b[49m\n\u001b[32m    256\u001b[39m   \u001b[38;5;28;01melse\u001b[39;00m:\n\u001b[32m    257\u001b[39m     outputs = make_call_op_in_graph(\n\u001b[32m    258\u001b[39m         \u001b[38;5;28mself\u001b[39m,\n\u001b[32m    259\u001b[39m         \u001b[38;5;28mlist\u001b[39m(args),\n\u001b[32m    260\u001b[39m         \u001b[38;5;28mself\u001b[39m._bound_context.function_call_options.as_attrs(),\n\u001b[32m    261\u001b[39m     )\n",
            "\u001b[36mFile \u001b[39m\u001b[32m~/lintf/lib/python3.12/site-packages/tensorflow/python/eager/context.py:1688\u001b[39m, in \u001b[36mContext.call_function\u001b[39m\u001b[34m(self, name, tensor_inputs, num_outputs)\u001b[39m\n\u001b[32m   1686\u001b[39m cancellation_context = cancellation.context()\n\u001b[32m   1687\u001b[39m \u001b[38;5;28;01mif\u001b[39;00m cancellation_context \u001b[38;5;129;01mis\u001b[39;00m \u001b[38;5;28;01mNone\u001b[39;00m:\n\u001b[32m-> \u001b[39m\u001b[32m1688\u001b[39m   outputs = \u001b[43mexecute\u001b[49m\u001b[43m.\u001b[49m\u001b[43mexecute\u001b[49m\u001b[43m(\u001b[49m\n\u001b[32m   1689\u001b[39m \u001b[43m      \u001b[49m\u001b[43mname\u001b[49m\u001b[43m.\u001b[49m\u001b[43mdecode\u001b[49m\u001b[43m(\u001b[49m\u001b[33;43m\"\u001b[39;49m\u001b[33;43mutf-8\u001b[39;49m\u001b[33;43m\"\u001b[39;49m\u001b[43m)\u001b[49m\u001b[43m,\u001b[49m\n\u001b[32m   1690\u001b[39m \u001b[43m      \u001b[49m\u001b[43mnum_outputs\u001b[49m\u001b[43m=\u001b[49m\u001b[43mnum_outputs\u001b[49m\u001b[43m,\u001b[49m\n\u001b[32m   1691\u001b[39m \u001b[43m      \u001b[49m\u001b[43minputs\u001b[49m\u001b[43m=\u001b[49m\u001b[43mtensor_inputs\u001b[49m\u001b[43m,\u001b[49m\n\u001b[32m   1692\u001b[39m \u001b[43m      \u001b[49m\u001b[43mattrs\u001b[49m\u001b[43m=\u001b[49m\u001b[43mattrs\u001b[49m\u001b[43m,\u001b[49m\n\u001b[32m   1693\u001b[39m \u001b[43m      \u001b[49m\u001b[43mctx\u001b[49m\u001b[43m=\u001b[49m\u001b[38;5;28;43mself\u001b[39;49m\u001b[43m,\u001b[49m\n\u001b[32m   1694\u001b[39m \u001b[43m  \u001b[49m\u001b[43m)\u001b[49m\n\u001b[32m   1695\u001b[39m \u001b[38;5;28;01melse\u001b[39;00m:\n\u001b[32m   1696\u001b[39m   outputs = execute.execute_with_cancellation(\n\u001b[32m   1697\u001b[39m       name.decode(\u001b[33m\"\u001b[39m\u001b[33mutf-8\u001b[39m\u001b[33m\"\u001b[39m),\n\u001b[32m   1698\u001b[39m       num_outputs=num_outputs,\n\u001b[32m   (...)\u001b[39m\u001b[32m   1702\u001b[39m       cancellation_manager=cancellation_context,\n\u001b[32m   1703\u001b[39m   )\n",
            "\u001b[36mFile \u001b[39m\u001b[32m~/lintf/lib/python3.12/site-packages/tensorflow/python/eager/execute.py:53\u001b[39m, in \u001b[36mquick_execute\u001b[39m\u001b[34m(op_name, num_outputs, inputs, attrs, ctx, name)\u001b[39m\n\u001b[32m     51\u001b[39m \u001b[38;5;28;01mtry\u001b[39;00m:\n\u001b[32m     52\u001b[39m   ctx.ensure_initialized()\n\u001b[32m---> \u001b[39m\u001b[32m53\u001b[39m   tensors = \u001b[43mpywrap_tfe\u001b[49m\u001b[43m.\u001b[49m\u001b[43mTFE_Py_Execute\u001b[49m\u001b[43m(\u001b[49m\u001b[43mctx\u001b[49m\u001b[43m.\u001b[49m\u001b[43m_handle\u001b[49m\u001b[43m,\u001b[49m\u001b[43m \u001b[49m\u001b[43mdevice_name\u001b[49m\u001b[43m,\u001b[49m\u001b[43m \u001b[49m\u001b[43mop_name\u001b[49m\u001b[43m,\u001b[49m\n\u001b[32m     54\u001b[39m \u001b[43m                                      \u001b[49m\u001b[43minputs\u001b[49m\u001b[43m,\u001b[49m\u001b[43m \u001b[49m\u001b[43mattrs\u001b[49m\u001b[43m,\u001b[49m\u001b[43m \u001b[49m\u001b[43mnum_outputs\u001b[49m\u001b[43m)\u001b[49m\n\u001b[32m     55\u001b[39m \u001b[38;5;28;01mexcept\u001b[39;00m core._NotOkStatusException \u001b[38;5;28;01mas\u001b[39;00m e:\n\u001b[32m     56\u001b[39m   \u001b[38;5;28;01mif\u001b[39;00m name \u001b[38;5;129;01mis\u001b[39;00m \u001b[38;5;129;01mnot\u001b[39;00m \u001b[38;5;28;01mNone\u001b[39;00m:\n",
            "\u001b[31mKeyboardInterrupt\u001b[39m: "
          ]
        }
      ]
    },
    {
      "cell_type": "code",
      "source": [
        "# Track the best model:\n",
        "best_Xception_model_task_2 = Xception_task_2_tuner.get_best_models(1)[0]\n",
        "best_Xception_model_task_2.summary()\n",
        "best_Xception_model_task_2.save('best_Xception_model_task_2.keras')\n",
        "\n",
        "# Print best hyperparameters:\n",
        "best_Xception_task_2_hp = Xception_task_2_tuner.get_best_hyperparameters(1)[0]\n",
        "print(best_Xception_task_2_hp.values)"
      ],
      "metadata": {
        "id": "GmC3mrKfao8M",
        "colab": {
          "base_uri": "https://localhost:8080/",
          "height": 443
        },
        "outputId": "604b92ca-842c-4eca-f816-aedc7354a24e"
      },
      "id": "GmC3mrKfao8M",
      "execution_count": null,
      "outputs": [
        {
          "output_type": "stream",
          "name": "stderr",
          "text": [
            "/home/herom/lintf/lib/python3.12/site-packages/keras/src/saving/saving_lib.py:757: UserWarning: Skipping variable loading for optimizer 'adam', because it has 2 variables whereas the saved optimizer has 318 variables. \n",
            "  saveable.load_own_variables(weights_store.get(inner_path))\n"
          ]
        },
        {
          "output_type": "display_data",
          "data": {
            "text/plain": [
              "\u001b[1mModel: \"sequential\"\u001b[0m\n"
            ],
            "text/html": [
              "<pre style=\"white-space:pre;overflow-x:auto;line-height:normal;font-family:Menlo,'DejaVu Sans Mono',consolas,'Courier New',monospace\"><span style=\"font-weight: bold\">Model: \"sequential\"</span>\n",
              "</pre>\n"
            ]
          },
          "metadata": {}
        },
        {
          "output_type": "display_data",
          "data": {
            "text/plain": [
              "┏━━━━━━━━━━━━━━━━━━━━━━━━━━━━━━━━━┳━━━━━━━━━━━━━━━━━━━━━━━━┳━━━━━━━━━━━━━━━┓\n",
              "┃\u001b[1m \u001b[0m\u001b[1mLayer (type)                   \u001b[0m\u001b[1m \u001b[0m┃\u001b[1m \u001b[0m\u001b[1mOutput Shape          \u001b[0m\u001b[1m \u001b[0m┃\u001b[1m \u001b[0m\u001b[1m      Param #\u001b[0m\u001b[1m \u001b[0m┃\n",
              "┡━━━━━━━━━━━━━━━━━━━━━━━━━━━━━━━━━╇━━━━━━━━━━━━━━━━━━━━━━━━╇━━━━━━━━━━━━━━━┩\n",
              "│ sequential (\u001b[38;5;33mSequential\u001b[0m)         │ (\u001b[38;5;45mNone\u001b[0m, \u001b[38;5;34m224\u001b[0m, \u001b[38;5;34m224\u001b[0m, \u001b[38;5;34m3\u001b[0m)    │             \u001b[38;5;34m0\u001b[0m │\n",
              "├─────────────────────────────────┼────────────────────────┼───────────────┤\n",
              "│ rescaling (\u001b[38;5;33mRescaling\u001b[0m)           │ (\u001b[38;5;45mNone\u001b[0m, \u001b[38;5;34m224\u001b[0m, \u001b[38;5;34m224\u001b[0m, \u001b[38;5;34m3\u001b[0m)    │             \u001b[38;5;34m0\u001b[0m │\n",
              "├─────────────────────────────────┼────────────────────────┼───────────────┤\n",
              "│ xception (\u001b[38;5;33mFunctional\u001b[0m)           │ (\u001b[38;5;45mNone\u001b[0m, \u001b[38;5;34m7\u001b[0m, \u001b[38;5;34m7\u001b[0m, \u001b[38;5;34m2048\u001b[0m)     │    \u001b[38;5;34m20,861,480\u001b[0m │\n",
              "├─────────────────────────────────┼────────────────────────┼───────────────┤\n",
              "│ global_average_pooling2d        │ (\u001b[38;5;45mNone\u001b[0m, \u001b[38;5;34m2048\u001b[0m)           │             \u001b[38;5;34m0\u001b[0m │\n",
              "│ (\u001b[38;5;33mGlobalAveragePooling2D\u001b[0m)        │                        │               │\n",
              "├─────────────────────────────────┼────────────────────────┼───────────────┤\n",
              "│ dense (\u001b[38;5;33mDense\u001b[0m)                   │ (\u001b[38;5;45mNone\u001b[0m, \u001b[38;5;34m128\u001b[0m)            │       \u001b[38;5;34m262,272\u001b[0m │\n",
              "├─────────────────────────────────┼────────────────────────┼───────────────┤\n",
              "│ dropout (\u001b[38;5;33mDropout\u001b[0m)               │ (\u001b[38;5;45mNone\u001b[0m, \u001b[38;5;34m128\u001b[0m)            │             \u001b[38;5;34m0\u001b[0m │\n",
              "├─────────────────────────────────┼────────────────────────┼───────────────┤\n",
              "│ dense_1 (\u001b[38;5;33mDense\u001b[0m)                 │ (\u001b[38;5;45mNone\u001b[0m, \u001b[38;5;34m10\u001b[0m)             │         \u001b[38;5;34m1,290\u001b[0m │\n",
              "└─────────────────────────────────┴────────────────────────┴───────────────┘\n"
            ],
            "text/html": [
              "<pre style=\"white-space:pre;overflow-x:auto;line-height:normal;font-family:Menlo,'DejaVu Sans Mono',consolas,'Courier New',monospace\">┏━━━━━━━━━━━━━━━━━━━━━━━━━━━━━━━━━┳━━━━━━━━━━━━━━━━━━━━━━━━┳━━━━━━━━━━━━━━━┓\n",
              "┃<span style=\"font-weight: bold\"> Layer (type)                    </span>┃<span style=\"font-weight: bold\"> Output Shape           </span>┃<span style=\"font-weight: bold\">       Param # </span>┃\n",
              "┡━━━━━━━━━━━━━━━━━━━━━━━━━━━━━━━━━╇━━━━━━━━━━━━━━━━━━━━━━━━╇━━━━━━━━━━━━━━━┩\n",
              "│ sequential (<span style=\"color: #0087ff; text-decoration-color: #0087ff\">Sequential</span>)         │ (<span style=\"color: #00d7ff; text-decoration-color: #00d7ff\">None</span>, <span style=\"color: #00af00; text-decoration-color: #00af00\">224</span>, <span style=\"color: #00af00; text-decoration-color: #00af00\">224</span>, <span style=\"color: #00af00; text-decoration-color: #00af00\">3</span>)    │             <span style=\"color: #00af00; text-decoration-color: #00af00\">0</span> │\n",
              "├─────────────────────────────────┼────────────────────────┼───────────────┤\n",
              "│ rescaling (<span style=\"color: #0087ff; text-decoration-color: #0087ff\">Rescaling</span>)           │ (<span style=\"color: #00d7ff; text-decoration-color: #00d7ff\">None</span>, <span style=\"color: #00af00; text-decoration-color: #00af00\">224</span>, <span style=\"color: #00af00; text-decoration-color: #00af00\">224</span>, <span style=\"color: #00af00; text-decoration-color: #00af00\">3</span>)    │             <span style=\"color: #00af00; text-decoration-color: #00af00\">0</span> │\n",
              "├─────────────────────────────────┼────────────────────────┼───────────────┤\n",
              "│ xception (<span style=\"color: #0087ff; text-decoration-color: #0087ff\">Functional</span>)           │ (<span style=\"color: #00d7ff; text-decoration-color: #00d7ff\">None</span>, <span style=\"color: #00af00; text-decoration-color: #00af00\">7</span>, <span style=\"color: #00af00; text-decoration-color: #00af00\">7</span>, <span style=\"color: #00af00; text-decoration-color: #00af00\">2048</span>)     │    <span style=\"color: #00af00; text-decoration-color: #00af00\">20,861,480</span> │\n",
              "├─────────────────────────────────┼────────────────────────┼───────────────┤\n",
              "│ global_average_pooling2d        │ (<span style=\"color: #00d7ff; text-decoration-color: #00d7ff\">None</span>, <span style=\"color: #00af00; text-decoration-color: #00af00\">2048</span>)           │             <span style=\"color: #00af00; text-decoration-color: #00af00\">0</span> │\n",
              "│ (<span style=\"color: #0087ff; text-decoration-color: #0087ff\">GlobalAveragePooling2D</span>)        │                        │               │\n",
              "├─────────────────────────────────┼────────────────────────┼───────────────┤\n",
              "│ dense (<span style=\"color: #0087ff; text-decoration-color: #0087ff\">Dense</span>)                   │ (<span style=\"color: #00d7ff; text-decoration-color: #00d7ff\">None</span>, <span style=\"color: #00af00; text-decoration-color: #00af00\">128</span>)            │       <span style=\"color: #00af00; text-decoration-color: #00af00\">262,272</span> │\n",
              "├─────────────────────────────────┼────────────────────────┼───────────────┤\n",
              "│ dropout (<span style=\"color: #0087ff; text-decoration-color: #0087ff\">Dropout</span>)               │ (<span style=\"color: #00d7ff; text-decoration-color: #00d7ff\">None</span>, <span style=\"color: #00af00; text-decoration-color: #00af00\">128</span>)            │             <span style=\"color: #00af00; text-decoration-color: #00af00\">0</span> │\n",
              "├─────────────────────────────────┼────────────────────────┼───────────────┤\n",
              "│ dense_1 (<span style=\"color: #0087ff; text-decoration-color: #0087ff\">Dense</span>)                 │ (<span style=\"color: #00d7ff; text-decoration-color: #00d7ff\">None</span>, <span style=\"color: #00af00; text-decoration-color: #00af00\">10</span>)             │         <span style=\"color: #00af00; text-decoration-color: #00af00\">1,290</span> │\n",
              "└─────────────────────────────────┴────────────────────────┴───────────────┘\n",
              "</pre>\n"
            ]
          },
          "metadata": {}
        },
        {
          "output_type": "display_data",
          "data": {
            "text/plain": [
              "\u001b[1m Total params: \u001b[0m\u001b[38;5;34m21,125,042\u001b[0m (80.59 MB)\n"
            ],
            "text/html": [
              "<pre style=\"white-space:pre;overflow-x:auto;line-height:normal;font-family:Menlo,'DejaVu Sans Mono',consolas,'Courier New',monospace\"><span style=\"font-weight: bold\"> Total params: </span><span style=\"color: #00af00; text-decoration-color: #00af00\">21,125,042</span> (80.59 MB)\n",
              "</pre>\n"
            ]
          },
          "metadata": {}
        },
        {
          "output_type": "display_data",
          "data": {
            "text/plain": [
              "\u001b[1m Trainable params: \u001b[0m\u001b[38;5;34m21,070,514\u001b[0m (80.38 MB)\n"
            ],
            "text/html": [
              "<pre style=\"white-space:pre;overflow-x:auto;line-height:normal;font-family:Menlo,'DejaVu Sans Mono',consolas,'Courier New',monospace\"><span style=\"font-weight: bold\"> Trainable params: </span><span style=\"color: #00af00; text-decoration-color: #00af00\">21,070,514</span> (80.38 MB)\n",
              "</pre>\n"
            ]
          },
          "metadata": {}
        },
        {
          "output_type": "display_data",
          "data": {
            "text/plain": [
              "\u001b[1m Non-trainable params: \u001b[0m\u001b[38;5;34m54,528\u001b[0m (213.00 KB)\n"
            ],
            "text/html": [
              "<pre style=\"white-space:pre;overflow-x:auto;line-height:normal;font-family:Menlo,'DejaVu Sans Mono',consolas,'Courier New',monospace\"><span style=\"font-weight: bold\"> Non-trainable params: </span><span style=\"color: #00af00; text-decoration-color: #00af00\">54,528</span> (213.00 KB)\n",
              "</pre>\n"
            ]
          },
          "metadata": {}
        },
        {
          "output_type": "stream",
          "name": "stdout",
          "text": [
            "{'dense_units': 128, 'dropout_rate': 0.3, 'learning_rate': 0.0003729693459063402}\n"
          ]
        }
      ]
    },
    {
      "cell_type": "code",
      "source": [
        "Xception_task_2_tuner.results_summary()"
      ],
      "metadata": {
        "id": "eEbHubHY0MOh",
        "colab": {
          "base_uri": "https://localhost:8080/"
        },
        "outputId": "97606064-e278-4003-a5be-5fe4e393a5ce"
      },
      "id": "eEbHubHY0MOh",
      "execution_count": null,
      "outputs": [
        {
          "output_type": "stream",
          "name": "stdout",
          "text": [
            "Results summary\n",
            "Results in data/tuning/Xception/Xception_tuning\n",
            "Showing 10 best trials\n",
            "Objective(name=\"val_accuracy\", direction=\"max\")\n",
            "\n",
            "Trial 03 summary\n",
            "Hyperparameters:\n",
            "dense_units: 128\n",
            "dropout_rate: 0.3\n",
            "learning_rate: 0.0003729693459063402\n",
            "Score: 0.9880210757255554\n",
            "\n",
            "Trial 08 summary\n",
            "Hyperparameters:\n",
            "dense_units: 256\n",
            "dropout_rate: 0.4\n",
            "learning_rate: 0.001407297559094673\n",
            "Score: 0.987541913986206\n",
            "\n",
            "Trial 02 summary\n",
            "Hyperparameters:\n",
            "dense_units: 128\n",
            "dropout_rate: 0.3\n",
            "learning_rate: 0.002864353203357012\n",
            "Score: 0.9832295179367065\n",
            "\n",
            "Trial 07 summary\n",
            "Hyperparameters:\n",
            "dense_units: 256\n",
            "dropout_rate: 0.4\n",
            "learning_rate: 0.0003523143529494313\n",
            "Score: 0.9832295179367065\n",
            "\n",
            "Trial 06 summary\n",
            "Hyperparameters:\n",
            "dense_units: 192\n",
            "dropout_rate: 0.4\n",
            "learning_rate: 0.004323277710281546\n",
            "Score: 0.9726880788803101\n",
            "\n",
            "Trial 01 summary\n",
            "Hyperparameters:\n",
            "dense_units: 256\n",
            "dropout_rate: 0.3\n",
            "learning_rate: 0.0003155802451216674\n",
            "Score: 0.9688548445701599\n",
            "\n",
            "Trial 00 summary\n",
            "Hyperparameters:\n",
            "dense_units: 192\n",
            "dropout_rate: 0.5\n",
            "learning_rate: 0.005498981513304376\n",
            "Score: 0.8773359060287476\n",
            "\n",
            "Trial 05 summary\n",
            "Hyperparameters:\n",
            "dense_units: 192\n",
            "dropout_rate: 0.4\n",
            "learning_rate: 0.0021997896716484436\n",
            "Traceback (most recent call last):\n",
            "  File \"/home/herom/lintf/lib/python3.12/site-packages/keras_tuner/src/engine/base_tuner.py\", line 274, in _try_run_and_update_trial\n",
            "    self._run_and_update_trial(trial, *fit_args, **fit_kwargs)\n",
            "  File \"/home/herom/lintf/lib/python3.12/site-packages/keras_tuner/src/engine/base_tuner.py\", line 239, in _run_and_update_trial\n",
            "    results = self.run_trial(trial, *fit_args, **fit_kwargs)\n",
            "              ^^^^^^^^^^^^^^^^^^^^^^^^^^^^^^^^^^^^^^^^^^^^^^\n",
            "  File \"/home/herom/lintf/lib/python3.12/site-packages/keras_tuner/src/engine/tuner.py\", line 314, in run_trial\n",
            "    obj_value = self._build_and_fit_model(trial, *args, **copied_kwargs)\n",
            "                ^^^^^^^^^^^^^^^^^^^^^^^^^^^^^^^^^^^^^^^^^^^^^^^^^^^^^^^^\n",
            "  File \"/home/herom/lintf/lib/python3.12/site-packages/keras_tuner/src/engine/tuner.py\", line 233, in _build_and_fit_model\n",
            "    results = self.hypermodel.fit(hp, model, *args, **kwargs)\n",
            "              ^^^^^^^^^^^^^^^^^^^^^^^^^^^^^^^^^^^^^^^^^^^^^^^\n",
            "  File \"/home/herom/lintf/lib/python3.12/site-packages/keras_tuner/src/engine/hypermodel.py\", line 149, in fit\n",
            "    return model.fit(*args, **kwargs)\n",
            "           ^^^^^^^^^^^^^^^^^^^^^^^^^^\n",
            "  File \"/home/herom/lintf/lib/python3.12/site-packages/keras/src/utils/traceback_utils.py\", line 122, in error_handler\n",
            "    raise e.with_traceback(filtered_tb) from None\n",
            "  File \"/home/herom/lintf/lib/python3.12/site-packages/tensorflow/python/eager/execute.py\", line 59, in quick_execute\n",
            "    except TypeError as e:\n",
            "tensorflow.python.framework.errors_impl.ResourceExhaustedError: Graph execution error:\n",
            "\n",
            "Detected at node sequential_1/xception_1/block13_sepconv2_bn_1/moments/SquaredDifference defined at (most recent call last):\n",
            "  File \"<frozen runpy>\", line 198, in _run_module_as_main\n",
            "\n",
            "  File \"<frozen runpy>\", line 88, in _run_code\n",
            "\n",
            "  File \"/home/herom/lintf/lib/python3.12/site-packages/ipykernel_launcher.py\", line 18, in <module>\n",
            "\n",
            "  File \"/home/herom/lintf/lib/python3.12/site-packages/traitlets/config/application.py\", line 1075, in launch_instance\n",
            "\n",
            "  File \"/home/herom/lintf/lib/python3.12/site-packages/ipykernel/kernelapp.py\", line 739, in start\n",
            "\n",
            "  File \"/home/herom/lintf/lib/python3.12/site-packages/tornado/platform/asyncio.py\", line 205, in start\n",
            "\n",
            "  File \"/usr/lib/python3.12/asyncio/base_events.py\", line 641, in run_forever\n",
            "\n",
            "  File \"/usr/lib/python3.12/asyncio/base_events.py\", line 1987, in _run_once\n",
            "\n",
            "  File \"/usr/lib/python3.12/asyncio/events.py\", line 88, in _run\n",
            "\n",
            "  File \"/home/herom/lintf/lib/python3.12/site-packages/ipykernel/kernelbase.py\", line 545, in dispatch_queue\n",
            "\n",
            "  File \"/home/herom/lintf/lib/python3.12/site-packages/ipykernel/kernelbase.py\", line 534, in process_one\n",
            "\n",
            "  File \"/home/herom/lintf/lib/python3.12/site-packages/ipykernel/kernelbase.py\", line 437, in dispatch_shell\n",
            "\n",
            "  File \"/home/herom/lintf/lib/python3.12/site-packages/ipykernel/ipkernel.py\", line 362, in execute_request\n",
            "\n",
            "  File \"/home/herom/lintf/lib/python3.12/site-packages/ipykernel/kernelbase.py\", line 778, in execute_request\n",
            "\n",
            "  File \"/home/herom/lintf/lib/python3.12/site-packages/ipykernel/ipkernel.py\", line 449, in do_execute\n",
            "\n",
            "  File \"/home/herom/lintf/lib/python3.12/site-packages/ipykernel/zmqshell.py\", line 549, in run_cell\n",
            "\n",
            "  File \"/home/herom/lintf/lib/python3.12/site-packages/IPython/core/interactiveshell.py\", line 3098, in run_cell\n",
            "\n",
            "  File \"/home/herom/lintf/lib/python3.12/site-packages/IPython/core/interactiveshell.py\", line 3153, in _run_cell\n",
            "\n",
            "  File \"/home/herom/lintf/lib/python3.12/site-packages/IPython/core/async_helpers.py\", line 128, in _pseudo_sync_runner\n",
            "\n",
            "  File \"/home/herom/lintf/lib/python3.12/site-packages/IPython/core/interactiveshell.py\", line 3365, in run_cell_async\n",
            "\n",
            "  File \"/home/herom/lintf/lib/python3.12/site-packages/IPython/core/interactiveshell.py\", line 3610, in run_ast_nodes\n",
            "\n",
            "  File \"/home/herom/lintf/lib/python3.12/site-packages/IPython/core/interactiveshell.py\", line 3670, in run_code\n",
            "\n",
            "  File \"/tmp/ipykernel_373/3722004479.py\", line 1, in <module>\n",
            "\n",
            "  File \"/home/herom/lintf/lib/python3.12/site-packages/keras_tuner/src/engine/base_tuner.py\", line 234, in search\n",
            "\n",
            "  File \"/home/herom/lintf/lib/python3.12/site-packages/keras_tuner/src/engine/base_tuner.py\", line 274, in _try_run_and_update_trial\n",
            "\n",
            "  File \"/home/herom/lintf/lib/python3.12/site-packages/keras_tuner/src/engine/base_tuner.py\", line 239, in _run_and_update_trial\n",
            "\n",
            "  File \"/home/herom/lintf/lib/python3.12/site-packages/keras_tuner/src/engine/tuner.py\", line 314, in run_trial\n",
            "\n",
            "  File \"/home/herom/lintf/lib/python3.12/site-packages/keras_tuner/src/engine/tuner.py\", line 233, in _build_and_fit_model\n",
            "\n",
            "  File \"/home/herom/lintf/lib/python3.12/site-packages/keras_tuner/src/engine/hypermodel.py\", line 149, in fit\n",
            "\n",
            "  File \"/home/herom/lintf/lib/python3.12/site-packages/keras/src/utils/traceback_utils.py\", line 117, in error_handler\n",
            "\n",
            "  File \"/home/herom/lintf/lib/python3.12/site-packages/keras/src/backend/tensorflow/trainer.py\", line 371, in fit\n",
            "\n",
            "  File \"/home/herom/lintf/lib/python3.12/site-packages/keras/src/backend/tensorflow/trainer.py\", line 219, in function\n",
            "\n",
            "  File \"/home/herom/lintf/lib/python3.12/site-packages/keras/src/backend/tensorflow/trainer.py\", line 132, in multi_step_on_iterator\n",
            "\n",
            "  File \"/home/herom/lintf/lib/python3.12/site-packages/keras/src/backend/tensorflow/trainer.py\", line 113, in one_step_on_data\n",
            "\n",
            "  File \"/home/herom/lintf/lib/python3.12/site-packages/keras/src/backend/tensorflow/trainer.py\", line 57, in train_step\n",
            "\n",
            "  File \"/home/herom/lintf/lib/python3.12/site-packages/keras/src/utils/traceback_utils.py\", line 117, in error_handler\n",
            "\n",
            "  File \"/home/herom/lintf/lib/python3.12/site-packages/keras/src/layers/layer.py\", line 910, in __call__\n",
            "\n",
            "  File \"/home/herom/lintf/lib/python3.12/site-packages/keras/src/utils/traceback_utils.py\", line 117, in error_handler\n",
            "\n",
            "  File \"/home/herom/lintf/lib/python3.12/site-packages/keras/src/ops/operation.py\", line 58, in __call__\n",
            "\n",
            "  File \"/home/herom/lintf/lib/python3.12/site-packages/keras/src/utils/traceback_utils.py\", line 156, in error_handler\n",
            "\n",
            "  File \"/home/herom/lintf/lib/python3.12/site-packages/keras/src/models/sequential.py\", line 221, in call\n",
            "\n",
            "  File \"/home/herom/lintf/lib/python3.12/site-packages/keras/src/models/functional.py\", line 183, in call\n",
            "\n",
            "  File \"/home/herom/lintf/lib/python3.12/site-packages/keras/src/ops/function.py\", line 171, in _run_through_graph\n",
            "\n",
            "  File \"/home/herom/lintf/lib/python3.12/site-packages/keras/src/models/functional.py\", line 643, in call\n",
            "\n",
            "  File \"/home/herom/lintf/lib/python3.12/site-packages/keras/src/utils/traceback_utils.py\", line 117, in error_handler\n",
            "\n",
            "  File \"/home/herom/lintf/lib/python3.12/site-packages/keras/src/layers/layer.py\", line 910, in __call__\n",
            "\n",
            "  File \"/home/herom/lintf/lib/python3.12/site-packages/keras/src/utils/traceback_utils.py\", line 117, in error_handler\n",
            "\n",
            "  File \"/home/herom/lintf/lib/python3.12/site-packages/keras/src/ops/operation.py\", line 58, in __call__\n",
            "\n",
            "  File \"/home/herom/lintf/lib/python3.12/site-packages/keras/src/utils/traceback_utils.py\", line 156, in error_handler\n",
            "\n",
            "  File \"/home/herom/lintf/lib/python3.12/site-packages/keras/src/models/functional.py\", line 183, in call\n",
            "\n",
            "  File \"/home/herom/lintf/lib/python3.12/site-packages/keras/src/ops/function.py\", line 171, in _run_through_graph\n",
            "\n",
            "  File \"/home/herom/lintf/lib/python3.12/site-packages/keras/src/models/functional.py\", line 643, in call\n",
            "\n",
            "  File \"/home/herom/lintf/lib/python3.12/site-packages/keras/src/utils/traceback_utils.py\", line 117, in error_handler\n",
            "\n",
            "  File \"/home/herom/lintf/lib/python3.12/site-packages/keras/src/layers/layer.py\", line 910, in __call__\n",
            "\n",
            "  File \"/home/herom/lintf/lib/python3.12/site-packages/keras/src/utils/traceback_utils.py\", line 117, in error_handler\n",
            "\n",
            "  File \"/home/herom/lintf/lib/python3.12/site-packages/keras/src/ops/operation.py\", line 58, in __call__\n",
            "\n",
            "  File \"/home/herom/lintf/lib/python3.12/site-packages/keras/src/utils/traceback_utils.py\", line 156, in error_handler\n",
            "\n",
            "  File \"/home/herom/lintf/lib/python3.12/site-packages/keras/src/layers/normalization/batch_normalization.py\", line 255, in call\n",
            "\n",
            "  File \"/home/herom/lintf/lib/python3.12/site-packages/keras/src/layers/normalization/batch_normalization.py\", line 315, in _moments\n",
            "\n",
            "  File \"/home/herom/lintf/lib/python3.12/site-packages/keras/src/ops/nn.py\", line 2123, in moments\n",
            "\n",
            "  File \"/home/herom/lintf/lib/python3.12/site-packages/keras/src/backend/tensorflow/nn.py\", line 811, in moments\n",
            "\n",
            "  File \"/home/herom/lintf/lib/python3.12/site-packages/keras/src/backend/tensorflow/nn.py\", line 854, in _compute_moments\n",
            "\n",
            "failed to allocate memory\n",
            "\t [[{{node sequential_1/xception_1/block13_sepconv2_bn_1/moments/SquaredDifference}}]]\n",
            "Hint: If you want to see a list of allocated tensors when OOM happens, add report_tensor_allocations_upon_oom to RunOptions for current allocation info. This isn't available when running in Eager mode.\n",
            " [Op:__inference_multi_step_on_iterator_798944]\n",
            "\n",
            "\n",
            "Trial 04 summary\n",
            "Hyperparameters:\n",
            "dense_units: 64\n",
            "dropout_rate: 0.4\n",
            "learning_rate: 0.008401740215485797\n",
            "Traceback (most recent call last):\n",
            "  File \"/home/herom/lintf/lib/python3.12/site-packages/keras_tuner/src/engine/base_tuner.py\", line 274, in _try_run_and_update_trial\n",
            "    self._run_and_update_trial(trial, *fit_args, **fit_kwargs)\n",
            "  File \"/home/herom/lintf/lib/python3.12/site-packages/keras_tuner/src/engine/base_tuner.py\", line 239, in _run_and_update_trial\n",
            "    results = self.run_trial(trial, *fit_args, **fit_kwargs)\n",
            "              ^^^^^^^^^^^^^^^^^^^^^^^^^^^^^^^^^^^^^^^^^^^^^^\n",
            "  File \"/home/herom/lintf/lib/python3.12/site-packages/keras_tuner/src/engine/tuner.py\", line 314, in run_trial\n",
            "    obj_value = self._build_and_fit_model(trial, *args, **copied_kwargs)\n",
            "                ^^^^^^^^^^^^^^^^^^^^^^^^^^^^^^^^^^^^^^^^^^^^^^^^^^^^^^^^\n",
            "  File \"/home/herom/lintf/lib/python3.12/site-packages/keras_tuner/src/engine/tuner.py\", line 233, in _build_and_fit_model\n",
            "    results = self.hypermodel.fit(hp, model, *args, **kwargs)\n",
            "              ^^^^^^^^^^^^^^^^^^^^^^^^^^^^^^^^^^^^^^^^^^^^^^^\n",
            "  File \"/home/herom/lintf/lib/python3.12/site-packages/keras_tuner/src/engine/hypermodel.py\", line 149, in fit\n",
            "    return model.fit(*args, **kwargs)\n",
            "           ^^^^^^^^^^^^^^^^^^^^^^^^^^\n",
            "  File \"/home/herom/lintf/lib/python3.12/site-packages/keras/src/utils/traceback_utils.py\", line 122, in error_handler\n",
            "    raise e.with_traceback(filtered_tb) from None\n",
            "  File \"/home/herom/lintf/lib/python3.12/site-packages/tensorflow/python/eager/execute.py\", line 59, in quick_execute\n",
            "    except TypeError as e:\n",
            "tensorflow.python.framework.errors_impl.ResourceExhaustedError: Graph execution error:\n",
            "\n",
            "Detected at node sequential_1/xception_1/block13_sepconv2_1/separable_conv2d defined at (most recent call last):\n",
            "  File \"<frozen runpy>\", line 198, in _run_module_as_main\n",
            "\n",
            "  File \"<frozen runpy>\", line 88, in _run_code\n",
            "\n",
            "  File \"/home/herom/lintf/lib/python3.12/site-packages/ipykernel_launcher.py\", line 18, in <module>\n",
            "\n",
            "  File \"/home/herom/lintf/lib/python3.12/site-packages/traitlets/config/application.py\", line 1075, in launch_instance\n",
            "\n",
            "  File \"/home/herom/lintf/lib/python3.12/site-packages/ipykernel/kernelapp.py\", line 739, in start\n",
            "\n",
            "  File \"/home/herom/lintf/lib/python3.12/site-packages/tornado/platform/asyncio.py\", line 205, in start\n",
            "\n",
            "  File \"/usr/lib/python3.12/asyncio/base_events.py\", line 641, in run_forever\n",
            "\n",
            "  File \"/usr/lib/python3.12/asyncio/base_events.py\", line 1987, in _run_once\n",
            "\n",
            "  File \"/usr/lib/python3.12/asyncio/events.py\", line 88, in _run\n",
            "\n",
            "  File \"/home/herom/lintf/lib/python3.12/site-packages/ipykernel/kernelbase.py\", line 545, in dispatch_queue\n",
            "\n",
            "  File \"/home/herom/lintf/lib/python3.12/site-packages/ipykernel/kernelbase.py\", line 534, in process_one\n",
            "\n",
            "  File \"/home/herom/lintf/lib/python3.12/site-packages/ipykernel/kernelbase.py\", line 437, in dispatch_shell\n",
            "\n",
            "  File \"/home/herom/lintf/lib/python3.12/site-packages/ipykernel/ipkernel.py\", line 362, in execute_request\n",
            "\n",
            "  File \"/home/herom/lintf/lib/python3.12/site-packages/ipykernel/kernelbase.py\", line 778, in execute_request\n",
            "\n",
            "  File \"/home/herom/lintf/lib/python3.12/site-packages/ipykernel/ipkernel.py\", line 449, in do_execute\n",
            "\n",
            "  File \"/home/herom/lintf/lib/python3.12/site-packages/ipykernel/zmqshell.py\", line 549, in run_cell\n",
            "\n",
            "  File \"/home/herom/lintf/lib/python3.12/site-packages/IPython/core/interactiveshell.py\", line 3098, in run_cell\n",
            "\n",
            "  File \"/home/herom/lintf/lib/python3.12/site-packages/IPython/core/interactiveshell.py\", line 3153, in _run_cell\n",
            "\n",
            "  File \"/home/herom/lintf/lib/python3.12/site-packages/IPython/core/async_helpers.py\", line 128, in _pseudo_sync_runner\n",
            "\n",
            "  File \"/home/herom/lintf/lib/python3.12/site-packages/IPython/core/interactiveshell.py\", line 3365, in run_cell_async\n",
            "\n",
            "  File \"/home/herom/lintf/lib/python3.12/site-packages/IPython/core/interactiveshell.py\", line 3610, in run_ast_nodes\n",
            "\n",
            "  File \"/home/herom/lintf/lib/python3.12/site-packages/IPython/core/interactiveshell.py\", line 3670, in run_code\n",
            "\n",
            "  File \"/tmp/ipykernel_373/3722004479.py\", line 1, in <module>\n",
            "\n",
            "  File \"/home/herom/lintf/lib/python3.12/site-packages/keras_tuner/src/engine/base_tuner.py\", line 234, in search\n",
            "\n",
            "  File \"/home/herom/lintf/lib/python3.12/site-packages/keras_tuner/src/engine/base_tuner.py\", line 274, in _try_run_and_update_trial\n",
            "\n",
            "  File \"/home/herom/lintf/lib/python3.12/site-packages/keras_tuner/src/engine/base_tuner.py\", line 239, in _run_and_update_trial\n",
            "\n",
            "  File \"/home/herom/lintf/lib/python3.12/site-packages/keras_tuner/src/engine/tuner.py\", line 314, in run_trial\n",
            "\n",
            "  File \"/home/herom/lintf/lib/python3.12/site-packages/keras_tuner/src/engine/tuner.py\", line 233, in _build_and_fit_model\n",
            "\n",
            "  File \"/home/herom/lintf/lib/python3.12/site-packages/keras_tuner/src/engine/hypermodel.py\", line 149, in fit\n",
            "\n",
            "  File \"/home/herom/lintf/lib/python3.12/site-packages/keras/src/utils/traceback_utils.py\", line 117, in error_handler\n",
            "\n",
            "  File \"/home/herom/lintf/lib/python3.12/site-packages/keras/src/backend/tensorflow/trainer.py\", line 371, in fit\n",
            "\n",
            "  File \"/home/herom/lintf/lib/python3.12/site-packages/keras/src/backend/tensorflow/trainer.py\", line 219, in function\n",
            "\n",
            "  File \"/home/herom/lintf/lib/python3.12/site-packages/keras/src/backend/tensorflow/trainer.py\", line 132, in multi_step_on_iterator\n",
            "\n",
            "  File \"/home/herom/lintf/lib/python3.12/site-packages/keras/src/backend/tensorflow/trainer.py\", line 113, in one_step_on_data\n",
            "\n",
            "  File \"/home/herom/lintf/lib/python3.12/site-packages/keras/src/backend/tensorflow/trainer.py\", line 57, in train_step\n",
            "\n",
            "  File \"/home/herom/lintf/lib/python3.12/site-packages/keras/src/utils/traceback_utils.py\", line 117, in error_handler\n",
            "\n",
            "  File \"/home/herom/lintf/lib/python3.12/site-packages/keras/src/layers/layer.py\", line 910, in __call__\n",
            "\n",
            "  File \"/home/herom/lintf/lib/python3.12/site-packages/keras/src/utils/traceback_utils.py\", line 117, in error_handler\n",
            "\n",
            "  File \"/home/herom/lintf/lib/python3.12/site-packages/keras/src/ops/operation.py\", line 58, in __call__\n",
            "\n",
            "  File \"/home/herom/lintf/lib/python3.12/site-packages/keras/src/utils/traceback_utils.py\", line 156, in error_handler\n",
            "\n",
            "  File \"/home/herom/lintf/lib/python3.12/site-packages/keras/src/models/sequential.py\", line 221, in call\n",
            "\n",
            "  File \"/home/herom/lintf/lib/python3.12/site-packages/keras/src/models/functional.py\", line 183, in call\n",
            "\n",
            "  File \"/home/herom/lintf/lib/python3.12/site-packages/keras/src/ops/function.py\", line 171, in _run_through_graph\n",
            "\n",
            "  File \"/home/herom/lintf/lib/python3.12/site-packages/keras/src/models/functional.py\", line 643, in call\n",
            "\n",
            "  File \"/home/herom/lintf/lib/python3.12/site-packages/keras/src/utils/traceback_utils.py\", line 117, in error_handler\n",
            "\n",
            "  File \"/home/herom/lintf/lib/python3.12/site-packages/keras/src/layers/layer.py\", line 910, in __call__\n",
            "\n",
            "  File \"/home/herom/lintf/lib/python3.12/site-packages/keras/src/utils/traceback_utils.py\", line 117, in error_handler\n",
            "\n",
            "  File \"/home/herom/lintf/lib/python3.12/site-packages/keras/src/ops/operation.py\", line 58, in __call__\n",
            "\n",
            "  File \"/home/herom/lintf/lib/python3.12/site-packages/keras/src/utils/traceback_utils.py\", line 156, in error_handler\n",
            "\n",
            "  File \"/home/herom/lintf/lib/python3.12/site-packages/keras/src/models/functional.py\", line 183, in call\n",
            "\n",
            "  File \"/home/herom/lintf/lib/python3.12/site-packages/keras/src/ops/function.py\", line 171, in _run_through_graph\n",
            "\n",
            "  File \"/home/herom/lintf/lib/python3.12/site-packages/keras/src/models/functional.py\", line 643, in call\n",
            "\n",
            "  File \"/home/herom/lintf/lib/python3.12/site-packages/keras/src/utils/traceback_utils.py\", line 117, in error_handler\n",
            "\n",
            "  File \"/home/herom/lintf/lib/python3.12/site-packages/keras/src/layers/layer.py\", line 910, in __call__\n",
            "\n",
            "  File \"/home/herom/lintf/lib/python3.12/site-packages/keras/src/utils/traceback_utils.py\", line 117, in error_handler\n",
            "\n",
            "  File \"/home/herom/lintf/lib/python3.12/site-packages/keras/src/ops/operation.py\", line 58, in __call__\n",
            "\n",
            "  File \"/home/herom/lintf/lib/python3.12/site-packages/keras/src/utils/traceback_utils.py\", line 156, in error_handler\n",
            "\n",
            "  File \"/home/herom/lintf/lib/python3.12/site-packages/keras/src/layers/convolutional/base_separable_conv.py\", line 219, in call\n",
            "\n",
            "  File \"/home/herom/lintf/lib/python3.12/site-packages/keras/src/ops/nn.py\", line 1521, in separable_conv\n",
            "\n",
            "  File \"/home/herom/lintf/lib/python3.12/site-packages/keras/src/backend/tensorflow/nn.py\", line 448, in separable_conv\n",
            "\n",
            "OOM when allocating tensor with shape[1024,728,1,1] and type float on /job:localhost/replica:0/task:0/device:GPU:0 by allocator GPU_0_bfc\n",
            "\t [[{{node sequential_1/xception_1/block13_sepconv2_1/separable_conv2d}}]]\n",
            "Hint: If you want to see a list of allocated tensors when OOM happens, add report_tensor_allocations_upon_oom to RunOptions for current allocation info. This isn't available when running in Eager mode.\n",
            " [Op:__inference_multi_step_on_iterator_767741]\n",
            "\n",
            "\n",
            "Trial 09 summary\n",
            "Hyperparameters:\n",
            "dense_units: 64\n",
            "dropout_rate: 0.3\n",
            "learning_rate: 0.00014325529176189037\n"
          ]
        }
      ]
    },
    {
      "cell_type": "markdown",
      "source": [
        "## Evaluation and Final Training Session"
      ],
      "metadata": {
        "id": "U9eGlzPAjMyT"
      },
      "id": "U9eGlzPAjMyT"
    },
    {
      "cell_type": "markdown",
      "source": [
        "1. Build all functions to calculate F1 and F1 per class"
      ],
      "metadata": {
        "id": "jZ1M_KJlkdYY"
      },
      "id": "jZ1M_KJlkdYY"
    },
    {
      "cell_type": "code",
      "source": [
        "def extract_labels_and_preds(model, dataset):\n",
        "    y_true = []\n",
        "    y_pred = []\n",
        "\n",
        "    for images, labels in dataset:\n",
        "        preds = model.predict(images, verbose=0)\n",
        "        y_true.append(labels.numpy())\n",
        "        y_pred.append(preds)\n",
        "\n",
        "    y_true = np.concatenate(y_true)\n",
        "    y_pred = np.concatenate(y_pred)\n",
        "\n",
        "    return y_true, y_pred"
      ],
      "metadata": {
        "id": "Id_krC6Pa9rg"
      },
      "execution_count": null,
      "outputs": [],
      "id": "Id_krC6Pa9rg"
    },
    {
      "cell_type": "code",
      "source": [
        "from sklearn.metrics import f1_score\n",
        "\n",
        "def evaluate_f1(model, val_dataset, average='macro'):\n",
        "    y_true, y_pred = extract_labels_and_preds(model, val_dataset)\n",
        "\n",
        "    # Convert one-hot encoded labels to class indices\n",
        "    y_true = np.argmax(y_true, axis=1)\n",
        "    y_pred_classes = np.argmax(y_pred, axis=1)\n",
        "\n",
        "    return f1_score(y_true, y_pred_classes, average=average)"
      ],
      "metadata": {
        "id": "FeKry4voGzPT"
      },
      "id": "FeKry4voGzPT",
      "execution_count": null,
      "outputs": []
    },
    {
      "cell_type": "code",
      "source": [
        "from sklearn.metrics import classification_report\n",
        "\n",
        "def evaluate_f1_per_class(model, val_dataset, target_names=None):\n",
        "    y_true, y_pred = extract_labels_and_preds(model, val_dataset)\n",
        "\n",
        "    # Convert one-hot labels to class indices\n",
        "    y_true = np.argmax(y_true, axis=1)\n",
        "    y_pred_classes = np.argmax(y_pred, axis=1)\n",
        "\n",
        "    report = classification_report(\n",
        "        y_true,\n",
        "        y_pred_classes,\n",
        "        target_names=target_names,\n",
        "        digits=4\n",
        "    )\n",
        "    print(report)\n"
      ],
      "metadata": {
        "id": "ZyAYbHA0n4TG"
      },
      "id": "ZyAYbHA0n4TG",
      "execution_count": null,
      "outputs": []
    },
    {
      "cell_type": "code",
      "source": [
        "# Import different models for evaluation\n",
        "from tensorflow.keras.models import load_model\n",
        "\n",
        "best_EfficientNetB0_model_task_2 = load_model(\"best_EfficientNetB0_model_task_2.keras\")\n",
        "best_MobileNet_model_task_2 = load_model(\"best_MobileNet_model_task_2.keras\")\n",
        "best_Xception_model_task_2 = load_model(\"best_Xception_model_task_2.keras\")\n"
      ],
      "metadata": {
        "colab": {
          "base_uri": "https://localhost:8080/"
        },
        "id": "2PWWN49SjR-k",
        "outputId": "1457bfe8-682c-4b6b-a437-096a179fa371"
      },
      "id": "2PWWN49SjR-k",
      "execution_count": null,
      "outputs": [
        {
          "output_type": "stream",
          "name": "stderr",
          "text": [
            "/home/herom/lintf/lib/python3.12/site-packages/keras/src/saving/saving_lib.py:757: UserWarning: Skipping variable loading for optimizer 'adam', because it has 172 variables whereas the saved optimizer has 2 variables. \n",
            "  saveable.load_own_variables(weights_store.get(inner_path))\n",
            "/home/herom/lintf/lib/python3.12/site-packages/keras/src/saving/saving_lib.py:757: UserWarning: Skipping variable loading for optimizer 'adam', because it has 318 variables whereas the saved optimizer has 2 variables. \n",
            "  saveable.load_own_variables(weights_store.get(inner_path))\n"
          ]
        }
      ]
    },
    {
      "cell_type": "markdown",
      "source": [
        "2. Calculate F1 Score for all models"
      ],
      "metadata": {
        "id": "FU50o7frksU0"
      },
      "id": "FU50o7frksU0"
    },
    {
      "cell_type": "code",
      "source": [
        "print(\"F1 Score of EfficientNetB0 model: \", evaluate_f1(best_EfficientNetB0_model_task_2, val_dataset_task2))"
      ],
      "metadata": {
        "colab": {
          "base_uri": "https://localhost:8080/"
        },
        "id": "R0LBWXK7kPlS",
        "outputId": "a00c048f-c8fd-4626-a8c6-da06651ea1ab"
      },
      "id": "R0LBWXK7kPlS",
      "execution_count": null,
      "outputs": [
        {
          "output_type": "stream",
          "name": "stdout",
          "text": [
            "F1 Score of EfficientNetB0 model:  0.9790484458295902\n"
          ]
        }
      ]
    },
    {
      "cell_type": "code",
      "source": [
        "print(\"F1 Score of MobileNet model: \",evaluate_f1(best_MobileNet_model_task_2, val_dataset_task2))"
      ],
      "metadata": {
        "colab": {
          "base_uri": "https://localhost:8080/"
        },
        "id": "0IT4DwaPku9_",
        "outputId": "cbd3f9a8-6fc0-4b0d-d3c6-8e0cf241f428"
      },
      "id": "0IT4DwaPku9_",
      "execution_count": null,
      "outputs": [
        {
          "output_type": "stream",
          "name": "stdout",
          "text": [
            "F1 Score of MobileNet model:  0.9776366617283478\n"
          ]
        }
      ]
    },
    {
      "cell_type": "code",
      "source": [
        "print(\"F1 Score of Xception model: \",evaluate_f1(best_Xception_model_task_2, val_dataset_task2))"
      ],
      "metadata": {
        "colab": {
          "base_uri": "https://localhost:8080/"
        },
        "id": "lPxv9mpekvMm",
        "outputId": "6e1cd5db-e580-4ea4-9006-ea652c88e357"
      },
      "id": "lPxv9mpekvMm",
      "execution_count": null,
      "outputs": [
        {
          "output_type": "stream",
          "name": "stdout",
          "text": [
            "F1 Score of Xception model:  0.9869619001219713\n"
          ]
        },
        {
          "output_type": "stream",
          "name": "stderr",
          "text": [
            "2025-05-14 23:15:41.273561: I tensorflow/core/framework/local_rendezvous.cc:407] Local rendezvous is aborting with status: OUT_OF_RANGE: End of sequence\n"
          ]
        }
      ]
    },
    {
      "cell_type": "markdown",
      "source": [
        "3. Calculate F1 Score per class for all models"
      ],
      "metadata": {
        "id": "_vs_qH9ck1My"
      },
      "id": "_vs_qH9ck1My"
    },
    {
      "cell_type": "code",
      "source": [
        "evaluate_f1_per_class(best_EfficientNetB0_model_task_2, val_dataset_task2)"
      ],
      "metadata": {
        "colab": {
          "base_uri": "https://localhost:8080/"
        },
        "id": "jMn0vQDWn3Yh",
        "outputId": "da3278d8-1ed2-4b33-a328-76ac716a7cd9"
      },
      "id": "jMn0vQDWn3Yh",
      "execution_count": null,
      "outputs": [
        {
          "output_type": "stream",
          "name": "stdout",
          "text": [
            "              precision    recall  f1-score   support\n",
            "\n",
            "           0     0.9958    0.9965    0.9961      1420\n",
            "           1     1.0000    1.0000    1.0000        72\n",
            "           2     1.0000    0.9884    0.9942        86\n",
            "           3     1.0000    1.0000    1.0000        24\n",
            "           4     0.9948    0.9948    0.9948       194\n",
            "           5     0.9846    0.9552    0.9697        67\n",
            "           6     0.9919    1.0000    0.9959       122\n",
            "           7     0.9167    0.9167    0.9167        12\n",
            "           8     0.8571    1.0000    0.9231         6\n",
            "           9     1.0000    1.0000    1.0000        84\n",
            "\n",
            "    accuracy                         0.9947      2087\n",
            "   macro avg     0.9741    0.9852    0.9790      2087\n",
            "weighted avg     0.9948    0.9947    0.9947      2087\n",
            "\n"
          ]
        }
      ]
    },
    {
      "cell_type": "code",
      "source": [
        "evaluate_f1_per_class(best_MobileNet_model_task_2, val_dataset_task2)"
      ],
      "metadata": {
        "colab": {
          "base_uri": "https://localhost:8080/"
        },
        "id": "mxgVSBMwowfj",
        "outputId": "d9940dc0-b3d7-413b-ef37-a415c374d9b6"
      },
      "id": "mxgVSBMwowfj",
      "execution_count": null,
      "outputs": [
        {
          "output_type": "stream",
          "name": "stdout",
          "text": [
            "              precision    recall  f1-score   support\n",
            "\n",
            "           0     0.9923    0.9986    0.9954      1420\n",
            "           1     1.0000    0.9861    0.9930        72\n",
            "           2     1.0000    1.0000    1.0000        86\n",
            "           3     1.0000    1.0000    1.0000        24\n",
            "           4     0.9948    0.9845    0.9896       194\n",
            "           5     1.0000    0.9403    0.9692        67\n",
            "           6     0.9833    0.9672    0.9752       122\n",
            "           7     1.0000    0.9167    0.9565        12\n",
            "           8     1.0000    0.8333    0.9091         6\n",
            "           9     0.9767    1.0000    0.9882        84\n",
            "\n",
            "    accuracy                         0.9923      2087\n",
            "   macro avg     0.9947    0.9627    0.9776      2087\n",
            "weighted avg     0.9924    0.9923    0.9923      2087\n",
            "\n"
          ]
        }
      ]
    },
    {
      "cell_type": "code",
      "source": [
        "evaluate_f1_per_class(best_Xception_model_task_2, val_dataset_task2)"
      ],
      "metadata": {
        "colab": {
          "base_uri": "https://localhost:8080/"
        },
        "id": "2sfVbMUsow01",
        "outputId": "215f00d1-f7cc-4172-ca23-291fb0636d18"
      },
      "id": "2sfVbMUsow01",
      "execution_count": null,
      "outputs": [
        {
          "output_type": "stream",
          "name": "stdout",
          "text": [
            "              precision    recall  f1-score   support\n",
            "\n",
            "           0     0.9951    1.0000    0.9975      1420\n",
            "           1     1.0000    1.0000    1.0000        72\n",
            "           2     1.0000    0.9884    0.9942        86\n",
            "           3     1.0000    1.0000    1.0000        24\n",
            "           4     1.0000    1.0000    1.0000       194\n",
            "           5     1.0000    0.9552    0.9771        67\n",
            "           6     1.0000    0.9836    0.9917       122\n",
            "           7     1.0000    1.0000    1.0000        12\n",
            "           8     1.0000    0.8333    0.9091         6\n",
            "           9     1.0000    1.0000    1.0000        84\n",
            "\n",
            "    accuracy                         0.9966      2087\n",
            "   macro avg     0.9995    0.9761    0.9870      2087\n",
            "weighted avg     0.9967    0.9966    0.9966      2087\n",
            "\n"
          ]
        }
      ]
    },
    {
      "cell_type": "markdown",
      "source": [
        "4. Calculate Prediction Latency for all models"
      ],
      "metadata": {
        "id": "uwTZzOhIlD-V"
      },
      "id": "uwTZzOhIlD-V"
    },
    {
      "cell_type": "code",
      "execution_count": null,
      "id": "s1bu-tvPcW3Q",
      "metadata": {
        "id": "s1bu-tvPcW3Q"
      },
      "outputs": [],
      "source": [
        "import time\n",
        "def calculate_prediction_time(model, dataset):\n",
        "  # Warm-up Run\n",
        "  for batch in dataset.take(1):\n",
        "      _ = model.predict(batch, verbose=0)\n",
        "\n",
        "  # Measure Prediction Time\n",
        "  start = time.time()\n",
        "  total_images = 0\n",
        "\n",
        "  for batch in dataset:\n",
        "      _ = model.predict(batch, verbose=0)\n",
        "      total_images += batch.shape[0]\n",
        "\n",
        "  end = time.time()\n",
        "\n",
        "  # Results\n",
        "  total_time = end - start\n",
        "  per_image_time = (total_time / total_images) * 1000  # in ms\n",
        "\n",
        "  print(f\"Predicted {total_images} images in {total_time:.2f} seconds\")\n",
        "  print(f\"Average prediction time per image: {per_image_time:.2f} ms\")"
      ]
    },
    {
      "cell_type": "code",
      "source": [
        "calculate_prediction_time(final_Xception_model_task_2,test_dataset)"
      ],
      "metadata": {
        "colab": {
          "base_uri": "https://localhost:8080/"
        },
        "id": "OVEY7lWxOIzx",
        "outputId": "4319803f-5937-4a36-c05a-773857f0fad7"
      },
      "id": "OVEY7lWxOIzx",
      "execution_count": null,
      "outputs": [
        {
          "output_type": "stream",
          "name": "stdout",
          "text": [
            "Predicted 3469 images in 12.08 seconds\n",
            "Average prediction time per image: 3.48 ms\n"
          ]
        },
        {
          "output_type": "stream",
          "name": "stderr",
          "text": [
            "2025-05-15 23:25:35.581938: I tensorflow/core/framework/local_rendezvous.cc:407] Local rendezvous is aborting with status: OUT_OF_RANGE: End of sequence\n"
          ]
        }
      ]
    },
    {
      "cell_type": "code",
      "source": [
        "calculate_prediction_time(best_EfficientNetB0_model_task_2,test_dataset)"
      ],
      "metadata": {
        "colab": {
          "base_uri": "https://localhost:8080/"
        },
        "id": "q0T6MZf7wtYl",
        "outputId": "cc28aebf-1940-4a8e-81b4-20d230abb6fe"
      },
      "id": "q0T6MZf7wtYl",
      "execution_count": null,
      "outputs": [
        {
          "output_type": "stream",
          "name": "stderr",
          "text": [
            "I0000 00:00:1747326296.190529   21429 cuda_dnn.cc:529] Loaded cuDNN version 90300\n"
          ]
        },
        {
          "output_type": "stream",
          "name": "stdout",
          "text": [
            "Predicted 3469 images in 9.13 seconds\n",
            "Average prediction time per image: 2.63 ms\n"
          ]
        },
        {
          "output_type": "stream",
          "name": "stderr",
          "text": [
            "2025-05-15 23:25:05.591099: I tensorflow/core/framework/local_rendezvous.cc:407] Local rendezvous is aborting with status: OUT_OF_RANGE: End of sequence\n"
          ]
        }
      ]
    },
    {
      "cell_type": "code",
      "source": [
        "calculate_prediction_time(best_MobileNet_model_task_2,test_dataset)"
      ],
      "metadata": {
        "colab": {
          "base_uri": "https://localhost:8080/"
        },
        "id": "sHIPE27wwwd_",
        "outputId": "347bc775-8b81-4710-9064-a1b7f947254e"
      },
      "id": "sHIPE27wwwd_",
      "execution_count": null,
      "outputs": [
        {
          "output_type": "stream",
          "name": "stdout",
          "text": [
            "Predicted 3469 images in 6.70 seconds\n",
            "Average prediction time per image: 1.93 ms\n"
          ]
        }
      ]
    },
    {
      "cell_type": "markdown",
      "source": [
        "5. Train final chosen model"
      ],
      "metadata": {
        "id": "1qbGTKD7k41S"
      },
      "id": "1qbGTKD7k41S"
    },
    {
      "cell_type": "code",
      "source": [
        "#  Train the final model chosen\n",
        "final_Xception_model_task_2_history = best_Xception_model_task_2.fit(train_dataset_task2, validation_data=val_dataset_task2, epochs=30, callbacks=[early_stop_model_task_2, reduce_lr_model_task_2])"
      ],
      "metadata": {
        "id": "Bz0B7mlO2EOP",
        "colab": {
          "base_uri": "https://localhost:8080/"
        },
        "outputId": "cc6d9382-624c-480c-bde3-76c777ec30e2"
      },
      "id": "Bz0B7mlO2EOP",
      "execution_count": null,
      "outputs": [
        {
          "output_type": "stream",
          "name": "stdout",
          "text": [
            "Epoch 1/30\n"
          ]
        },
        {
          "output_type": "stream",
          "name": "stderr",
          "text": [
            "I0000 00:00:1747372182.770265   48962 cuda_dnn.cc:529] Loaded cuDNN version 90300\n"
          ]
        },
        {
          "output_type": "stream",
          "name": "stdout",
          "text": [
            "\u001b[1m260/260\u001b[0m \u001b[32m━━━━━━━━━━━━━━━━━━━━\u001b[0m\u001b[37m\u001b[0m \u001b[1m92s\u001b[0m 302ms/step - accuracy: 0.9939 - loss: 0.0180 - val_accuracy: 0.9966 - val_loss: 0.0086 - learning_rate: 6.2500e-05\n",
            "Epoch 2/30\n",
            "\u001b[1m260/260\u001b[0m \u001b[32m━━━━━━━━━━━━━━━━━━━━\u001b[0m\u001b[37m\u001b[0m \u001b[1m74s\u001b[0m 285ms/step - accuracy: 0.9957 - loss: 0.0177 - val_accuracy: 0.9938 - val_loss: 0.0103 - learning_rate: 6.2500e-05\n",
            "Epoch 3/30\n",
            "\u001b[1m260/260\u001b[0m \u001b[32m━━━━━━━━━━━━━━━━━━━━\u001b[0m\u001b[37m\u001b[0m \u001b[1m74s\u001b[0m 285ms/step - accuracy: 0.9933 - loss: 0.0147 - val_accuracy: 0.9947 - val_loss: 0.0102 - learning_rate: 6.2500e-05\n",
            "Epoch 4/30\n",
            "\u001b[1m260/260\u001b[0m \u001b[32m━━━━━━━━━━━━━━━━━━━━\u001b[0m\u001b[37m\u001b[0m \u001b[1m74s\u001b[0m 286ms/step - accuracy: 0.9965 - loss: 0.0085 - val_accuracy: 0.9952 - val_loss: 0.0103 - learning_rate: 6.2500e-05\n",
            "Epoch 5/30\n",
            "\u001b[1m260/260\u001b[0m \u001b[32m━━━━━━━━━━━━━━━━━━━━\u001b[0m\u001b[37m\u001b[0m \u001b[1m0s\u001b[0m 264ms/step - accuracy: 0.9947 - loss: 0.0108\n",
            "Epoch 5: ReduceLROnPlateau reducing learning rate to 3.125000148429535e-05.\n",
            "\u001b[1m260/260\u001b[0m \u001b[32m━━━━━━━━━━━━━━━━━━━━\u001b[0m\u001b[37m\u001b[0m \u001b[1m72s\u001b[0m 276ms/step - accuracy: 0.9947 - loss: 0.0108 - val_accuracy: 0.9952 - val_loss: 0.0116 - learning_rate: 6.2500e-05\n",
            "Epoch 6/30\n",
            "\u001b[1m260/260\u001b[0m \u001b[32m━━━━━━━━━━━━━━━━━━━━\u001b[0m\u001b[37m\u001b[0m \u001b[1m72s\u001b[0m 276ms/step - accuracy: 0.9970 - loss: 0.0110 - val_accuracy: 0.9952 - val_loss: 0.0101 - learning_rate: 3.1250e-05\n",
            "Epoch 7/30\n",
            "\u001b[1m260/260\u001b[0m \u001b[32m━━━━━━━━━━━━━━━━━━━━\u001b[0m\u001b[37m\u001b[0m \u001b[1m72s\u001b[0m 276ms/step - accuracy: 0.9967 - loss: 0.0081 - val_accuracy: 0.9947 - val_loss: 0.0106 - learning_rate: 3.1250e-05\n"
          ]
        }
      ]
    },
    {
      "cell_type": "code",
      "source": [
        "# Save the final model for prediction use\n",
        "best_Xception_model_task_2.save('final_Xception_model_task_2.keras')"
      ],
      "metadata": {
        "id": "DMegdSzkToig"
      },
      "id": "DMegdSzkToig",
      "execution_count": null,
      "outputs": []
    },
    {
      "cell_type": "markdown",
      "source": [
        "6. Plot the final model's training session"
      ],
      "metadata": {
        "id": "q9oKoJD-lLAn"
      },
      "id": "q9oKoJD-lLAn"
    },
    {
      "cell_type": "code",
      "execution_count": null,
      "id": "Z63EOBSg4qEM",
      "metadata": {
        "id": "Z63EOBSg4qEM"
      },
      "outputs": [],
      "source": [
        "def plot_learning_curve(train_loss, val_loss, train_metric, val_metric, metric_name='Accuracy', model_name='None'):\n",
        "    epochs = range(1, len(train_loss) + 1)\n",
        "\n",
        "    plt.figure(figsize=(14, 5))\n",
        "\n",
        "    # Plot Loss\n",
        "    plt.subplot(1, 2, 1)\n",
        "    plt.plot(epochs, train_loss, 'bo-', label='Training Loss')\n",
        "    plt.plot(epochs, val_loss, 'ro-', label='Validation Loss')\n",
        "    plt.title(f'Training and Validation Loss - {model_name}')\n",
        "    plt.xlabel('Epochs')\n",
        "    plt.ylabel('Loss')\n",
        "    plt.legend()\n",
        "\n",
        "    # Plot Accuracy or Other Metric\n",
        "    plt.subplot(1, 2, 2)\n",
        "    plt.plot(epochs, train_metric, 'bo-', label=f'Training {metric_name}')\n",
        "    plt.plot(epochs, val_metric, 'ro-', label=f'Validation {metric_name}')\n",
        "    plt.title(f'Training and Validation {metric_name} - {model_name}')\n",
        "    plt.xlabel('Epochs')\n",
        "    plt.ylabel(metric_name)\n",
        "    plt.legend()\n",
        "\n",
        "    plt.tight_layout()\n",
        "    plt.show()"
      ]
    },
    {
      "cell_type": "code",
      "source": [
        "plot_learning_curve(final_Xception_model_task_2_history.history['loss'], final_Xception_model_task_2_history.history['val_loss'],\n",
        "                    final_Xception_model_task_2_history.history['accuracy'], final_Xception_model_task_2_history.history['val_accuracy'],\n",
        "                    metric_name='Accuracy', model_name=\"Xception\")"
      ],
      "metadata": {
        "id": "-Yvts6rH3hfu",
        "colab": {
          "base_uri": "https://localhost:8080/",
          "height": 507
        },
        "outputId": "ad2a6823-297f-4227-ed82-8ad79298a0a7"
      },
      "id": "-Yvts6rH3hfu",
      "execution_count": null,
      "outputs": [
        {
          "output_type": "display_data",
          "data": {
            "text/plain": [
              "<Figure size 1400x500 with 2 Axes>"
            ],
            "image/png": "[encoded data removed]"
          },
          "metadata": {}
        }
      ]
    }
  ],
  "metadata": {
    "colab": {
      "provenance": [],
      "gpuType": "T4"
    },
    "kernelspec": {
      "display_name": "Python 3",
      "name": "python3"
    },
    "language_info": {
      "codemirror_mode": {
        "name": "ipython",
        "version": 3
      },
      "file_extension": ".py",
      "mimetype": "text/x-python",
      "name": "python",
      "nbconvert_exporter": "python",
      "pygments_lexer": "ipython3",
      "version": "3.12.3"
    },
    "accelerator": "GPU"
  },
  "nbformat": 4,
  "nbformat_minor": 5
}