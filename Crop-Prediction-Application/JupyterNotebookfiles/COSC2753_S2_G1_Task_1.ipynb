{
  "cells": [
    {
      "cell_type": "markdown",
      "id": "VjB9smWUbfiu",
      "metadata": {
        "id": "VjB9smWUbfiu"
      },
      "source": [
        "## Packages installations and imports\n",
        "(Run this section to ensure smooth operation for the Notebook)"
      ]
    },
    {
      "cell_type": "code",
      "execution_count": null,
      "id": "MPFz69Pnsbvt",
      "metadata": {
        "colab": {
          "base_uri": "https://localhost:8080/"
        },
        "id": "MPFz69Pnsbvt",
        "outputId": "2169f693-20bb-4855-d3f3-a1a4d638d550"
      },
      "outputs": [
        {
          "name": "stdout",
          "output_type": "stream",
          "text": [
            "Collecting keras-tuner\n",
            "  Downloading keras_tuner-1.4.7-py3-none-any.whl.metadata (5.4 kB)\n",
            "Requirement already satisfied: keras in /usr/local/lib/python3.11/dist-packages (from keras-tuner) (3.8.0)\n",
            "Requirement already satisfied: packaging in /usr/local/lib/python3.11/dist-packages (from keras-tuner) (24.2)\n",
            "Requirement already satisfied: requests in /usr/local/lib/python3.11/dist-packages (from keras-tuner) (2.32.3)\n",
            "Collecting kt-legacy (from keras-tuner)\n",
            "  Downloading kt_legacy-1.0.5-py3-none-any.whl.metadata (221 bytes)\n",
            "Requirement already satisfied: absl-py in /usr/local/lib/python3.11/dist-packages (from keras->keras-tuner) (1.4.0)\n",
            "Requirement already satisfied: numpy in /usr/local/lib/python3.11/dist-packages (from keras->keras-tuner) (2.0.2)\n",
            "Requirement already satisfied: rich in /usr/local/lib/python3.11/dist-packages (from keras->keras-tuner) (13.9.4)\n",
            "Requirement already satisfied: namex in /usr/local/lib/python3.11/dist-packages (from keras->keras-tuner) (0.0.9)\n",
            "Requirement already satisfied: h5py in /usr/local/lib/python3.11/dist-packages (from keras->keras-tuner) (3.13.0)\n",
            "Requirement already satisfied: optree in /usr/local/lib/python3.11/dist-packages (from keras->keras-tuner) (0.15.0)\n",
            "Requirement already satisfied: ml-dtypes in /usr/local/lib/python3.11/dist-packages (from keras->keras-tuner) (0.4.1)\n",
            "Requirement already satisfied: charset-normalizer<4,>=2 in /usr/local/lib/python3.11/dist-packages (from requests->keras-tuner) (3.4.2)\n",
            "Requirement already satisfied: idna<4,>=2.5 in /usr/local/lib/python3.11/dist-packages (from requests->keras-tuner) (3.10)\n",
            "Requirement already satisfied: urllib3<3,>=1.21.1 in /usr/local/lib/python3.11/dist-packages (from requests->keras-tuner) (2.4.0)\n",
            "Requirement already satisfied: certifi>=2017.4.17 in /usr/local/lib/python3.11/dist-packages (from requests->keras-tuner) (2025.4.26)\n",
            "Requirement already satisfied: typing-extensions>=4.5.0 in /usr/local/lib/python3.11/dist-packages (from optree->keras->keras-tuner) (4.13.2)\n",
            "Requirement already satisfied: markdown-it-py>=2.2.0 in /usr/local/lib/python3.11/dist-packages (from rich->keras->keras-tuner) (3.0.0)\n",
            "Requirement already satisfied: pygments<3.0.0,>=2.13.0 in /usr/local/lib/python3.11/dist-packages (from rich->keras->keras-tuner) (2.19.1)\n",
            "Requirement already satisfied: mdurl~=0.1 in /usr/local/lib/python3.11/dist-packages (from markdown-it-py>=2.2.0->rich->keras->keras-tuner) (0.1.2)\n",
            "Downloading keras_tuner-1.4.7-py3-none-any.whl (129 kB)\n",
            "\u001b[2K   \u001b[90m━━━━━━━━━━━━━━━━━━━━━━━━━━━━━━━━━━━━━━━━\u001b[0m \u001b[32m129.1/129.1 kB\u001b[0m \u001b[31m4.1 MB/s\u001b[0m eta \u001b[36m0:00:00\u001b[0m\n",
            "\u001b[?25hDownloading kt_legacy-1.0.5-py3-none-any.whl (9.6 kB)\n",
            "Installing collected packages: kt-legacy, keras-tuner\n",
            "Successfully installed keras-tuner-1.4.7 kt-legacy-1.0.5\n"
          ]
        }
      ],
      "source": [
        "pip install keras-tuner --upgrade"
      ]
    },
    {
      "cell_type": "code",
      "execution_count": null,
      "id": "DAVqJIvQb4xl",
      "metadata": {
        "id": "DAVqJIvQb4xl"
      },
      "outputs": [],
      "source": [
        "import tensorflow as tf\n",
        "import keras_tuner as kt\n",
        "import numpy as np\n",
        "import matplotlib.pyplot as plt"
      ]
    },
    {
      "cell_type": "markdown",
      "id": "11c9cb09",
      "metadata": {
        "id": "11c9cb09"
      },
      "source": [
        "## Overview Dataset"
      ]
    },
    {
      "cell_type": "markdown",
      "id": "4bb2de10",
      "metadata": {
        "id": "4bb2de10"
      },
      "source": [
        "1. Data Structure"
      ]
    },
    {
      "cell_type": "code",
      "execution_count": null,
      "id": "1adac6a6",
      "metadata": {
        "colab": {
          "base_uri": "https://localhost:8080/"
        },
        "id": "1adac6a6",
        "outputId": "b5990385-46eb-4d00-b30d-f0f3431b5c6b"
      },
      "outputs": [
        {
          "name": "stderr",
          "output_type": "stream",
          "text": [
            "2025-05-16 03:20:59.132691: I tensorflow/core/util/port.cc:153] oneDNN custom operations are on. You may see slightly different numerical results due to floating-point round-off errors from different computation orders. To turn them off, set the environment variable `TF_ENABLE_ONEDNN_OPTS=0`.\n",
            "2025-05-16 03:20:59.258401: E external/local_xla/xla/stream_executor/cuda/cuda_fft.cc:467] Unable to register cuFFT factory: Attempting to register factory for plugin cuFFT when one has already been registered\n",
            "WARNING: All log messages before absl::InitializeLog() is called are written to STDERR\n",
            "E0000 00:00:1747340459.302436     379 cuda_dnn.cc:8579] Unable to register cuDNN factory: Attempting to register factory for plugin cuDNN when one has already been registered\n",
            "E0000 00:00:1747340459.316217     379 cuda_blas.cc:1407] Unable to register cuBLAS factory: Attempting to register factory for plugin cuBLAS when one has already been registered\n",
            "W0000 00:00:1747340459.421384     379 computation_placer.cc:177] computation placer already registered. Please check linkage and avoid linking the same target more than once.\n",
            "W0000 00:00:1747340459.421402     379 computation_placer.cc:177] computation placer already registered. Please check linkage and avoid linking the same target more than once.\n",
            "W0000 00:00:1747340459.421404     379 computation_placer.cc:177] computation placer already registered. Please check linkage and avoid linking the same target more than once.\n",
            "W0000 00:00:1747340459.421404     379 computation_placer.cc:177] computation placer already registered. Please check linkage and avoid linking the same target more than once.\n",
            "2025-05-16 03:20:59.434144: I tensorflow/core/platform/cpu_feature_guard.cc:210] This TensorFlow binary is optimized to use available CPU instructions in performance-critical operations.\n",
            "To enable the following instructions: AVX2 AVX_VNNI FMA, in other operations, rebuild TensorFlow with the appropriate compiler flags.\n",
            "Retrieving folder contents\n"
          ]
        },
        {
          "name": "stdout",
          "output_type": "stream",
          "text": [
            "Processing file 1tswGuA4JAO_fX8yQKlUTZoaXvHpeYnp8 meta_train.csv\n",
            "Processing file 1Cz6q_m9fpAFePRZV6Ca2vMya4XvZDamX test_images.zip\n",
            "Processing file 1tp1F1Xora43V5Ks3IjRaw40V3iAC6Wm2 train_images.zip\n"
          ]
        },
        {
          "name": "stderr",
          "output_type": "stream",
          "text": [
            "Retrieving folder contents completed\n",
            "Building directory structure\n",
            "Building directory structure completed\n",
            "Downloading...\n",
            "From: https://drive.google.com/uc?id=1tswGuA4JAO_fX8yQKlUTZoaXvHpeYnp8\n",
            "To: /home/herom/data/meta_train.csv\n",
            "100%|████████████████████████████████████████████████████████████████████████████████| 335k/335k [00:00<00:00, 1.30MB/s]\n",
            "Downloading...\n",
            "From (original): https://drive.google.com/uc?id=1Cz6q_m9fpAFePRZV6Ca2vMya4XvZDamX\n",
            "From (redirected): https://drive.google.com/uc?id=1Cz6q_m9fpAFePRZV6Ca2vMya4XvZDamX&confirm=t&uuid=6f5fe038-5538-46ab-853c-d2d201bf828f\n",
            "To: /home/herom/data/test_images.zip\n",
            "100%|████████████████████████████████████████████████████████████████████████████████| 274M/274M [00:24<00:00, 11.3MB/s]\n",
            "Downloading...\n",
            "From (original): https://drive.google.com/uc?id=1tp1F1Xora43V5Ks3IjRaw40V3iAC6Wm2\n",
            "From (redirected): https://drive.google.com/uc?id=1tp1F1Xora43V5Ks3IjRaw40V3iAC6Wm2&confirm=t&uuid=1a93226c-a0ae-4676-94d6-801b0f7797af\n",
            "To: /home/herom/data/train_images.zip\n",
            "100%|████████████████████████████████████████████████████████████████████████████████| 820M/820M [01:11<00:00, 11.5MB/s]\n",
            "Download completed\n"
          ]
        },
        {
          "data": {
            "text/plain": [
              "['/home/herom/data/meta_train.csv',\n",
              " '/home/herom/data/test_images.zip',\n",
              " '/home/herom/data/train_images.zip']"
            ]
          },
          "execution_count": 1,
          "metadata": {},
          "output_type": "execute_result"
        }
      ],
      "source": [
        "import gdown\n",
        "\n",
        "gdown.download_folder(\"https://drive.google.com/drive/folders/19DLS6ZrfsxVq4IrRycPKrtt1TQanV9Em?usp=sharing\", quiet=False, use_cookies=False)"
      ]
    },
    {
      "cell_type": "code",
      "execution_count": null,
      "id": "1KOXVZNFKXVP",
      "metadata": {
        "id": "1KOXVZNFKXVP"
      },
      "outputs": [],
      "source": [
        "import zipfile\n",
        "with zipfile.ZipFile('data/train_images.zip', 'r') as zip_ref:\n",
        "    zip_ref.extractall('./data')"
      ]
    },
    {
      "cell_type": "code",
      "execution_count": null,
      "id": "uo-aPP2KZ_1u",
      "metadata": {
        "id": "uo-aPP2KZ_1u"
      },
      "outputs": [],
      "source": [
        "with zipfile.ZipFile('data/test_images.zip', 'r') as zip_ref:\n",
        "    zip_ref.extractall('./data')"
      ]
    },
    {
      "cell_type": "code",
      "execution_count": null,
      "id": "e3f94815",
      "metadata": {
        "colab": {
          "base_uri": "https://localhost:8080/"
        },
        "id": "e3f94815",
        "outputId": "1df5f8f2-cf5e-44b7-f95a-81258016e079"
      },
      "outputs": [
        {
          "name": "stdout",
          "output_type": "stream",
          "text": [
            "<class 'pandas.core.frame.DataFrame'>\n",
            "RangeIndex: 10407 entries, 0 to 10406\n",
            "Data columns (total 4 columns):\n",
            " #   Column    Non-Null Count  Dtype \n",
            "---  ------    --------------  ----- \n",
            " 0   image_id  10407 non-null  object\n",
            " 1   label     10407 non-null  object\n",
            " 2   variety   10407 non-null  object\n",
            " 3   age       10407 non-null  int64 \n",
            "dtypes: int64(1), object(3)\n",
            "memory usage: 325.3+ KB\n"
          ]
        }
      ],
      "source": [
        "import pandas as pd\n",
        "data = pd.read_csv('data/meta_train.csv')\n",
        "\n",
        "data.head()\n",
        "\n",
        "data.info()"
      ]
    },
    {
      "cell_type": "code",
      "execution_count": null,
      "id": "b00b3d28",
      "metadata": {
        "colab": {
          "base_uri": "https://localhost:8080/",
          "height": 175
        },
        "id": "b00b3d28",
        "outputId": "f799b605-6ce5-4736-e79e-b44a1002e2f3"
      },
      "outputs": [
        {
          "data": {
            "text/html": [
              "<div>\n",
              "<style scoped>\n",
              "    .dataframe tbody tr th:only-of-type {\n",
              "        vertical-align: middle;\n",
              "    }\n",
              "\n",
              "    .dataframe tbody tr th {\n",
              "        vertical-align: top;\n",
              "    }\n",
              "\n",
              "    .dataframe thead th {\n",
              "        text-align: right;\n",
              "    }\n",
              "</style>\n",
              "<table border=\"1\" class=\"dataframe\">\n",
              "  <thead>\n",
              "    <tr style=\"text-align: right;\">\n",
              "      <th></th>\n",
              "      <th>image_id</th>\n",
              "      <th>label</th>\n",
              "      <th>variety</th>\n",
              "      <th>age</th>\n",
              "    </tr>\n",
              "  </thead>\n",
              "  <tbody>\n",
              "    <tr>\n",
              "      <th>count</th>\n",
              "      <td>10407</td>\n",
              "      <td>10407</td>\n",
              "      <td>10407</td>\n",
              "      <td>10407</td>\n",
              "    </tr>\n",
              "    <tr>\n",
              "      <th>unique</th>\n",
              "      <td>10407</td>\n",
              "      <td>10</td>\n",
              "      <td>10</td>\n",
              "      <td>18</td>\n",
              "    </tr>\n",
              "    <tr>\n",
              "      <th>top</th>\n",
              "      <td>110381.jpg</td>\n",
              "      <td>normal</td>\n",
              "      <td>ADT45</td>\n",
              "      <td>70</td>\n",
              "    </tr>\n",
              "    <tr>\n",
              "      <th>freq</th>\n",
              "      <td>1</td>\n",
              "      <td>1764</td>\n",
              "      <td>6992</td>\n",
              "      <td>3077</td>\n",
              "    </tr>\n",
              "  </tbody>\n",
              "</table>\n",
              "</div>"
            ],
            "text/plain": [
              "          image_id   label variety    age\n",
              "count        10407   10407   10407  10407\n",
              "unique       10407      10      10     18\n",
              "top     110381.jpg  normal   ADT45     70\n",
              "freq             1    1764    6992   3077"
            ]
          },
          "execution_count": 3,
          "metadata": {},
          "output_type": "execute_result"
        }
      ],
      "source": [
        "data['age'] = data['age'].astype('object')\n",
        "data.describe(include='object')"
      ]
    },
    {
      "cell_type": "markdown",
      "id": "63d3fafc",
      "metadata": {
        "id": "63d3fafc"
      },
      "source": [
        "2. Check for Duplicated data"
      ]
    },
    {
      "cell_type": "code",
      "execution_count": null,
      "id": "bebb0f26",
      "metadata": {
        "colab": {
          "base_uri": "https://localhost:8080/"
        },
        "id": "bebb0f26",
        "outputId": "c5e0d316-bb24-40ad-8a73-6649cc7282ab"
      },
      "outputs": [
        {
          "name": "stdout",
          "output_type": "stream",
          "text": [
            "image_id    0\n",
            "label       0\n",
            "variety     0\n",
            "age         0\n",
            "dtype: int64\n",
            "0\n"
          ]
        }
      ],
      "source": [
        "print(data.isnull().sum())\n",
        "print(data.duplicated().sum())"
      ]
    },
    {
      "cell_type": "code",
      "execution_count": null,
      "id": "65b0bf30",
      "metadata": {
        "colab": {
          "base_uri": "https://localhost:8080/",
          "height": 775
        },
        "id": "65b0bf30",
        "outputId": "c44574b7-c8c2-4d4e-ee83-06cf99d1474c"
      },
      "outputs": [
        {
          "data": {
            "text/plain": [
              "([0, 1, 2, 3, 4, 5, 6, 7, 8, 9],\n",
              " [Text(0, 0, 'bacterial_leaf_blight'),\n",
              "  Text(1, 0, 'bacterial_leaf_streak'),\n",
              "  Text(2, 0, 'bacterial_panicle_blight'),\n",
              "  Text(3, 0, 'blast'),\n",
              "  Text(4, 0, 'brown_spot'),\n",
              "  Text(5, 0, 'dead_heart'),\n",
              "  Text(6, 0, 'downy_mildew'),\n",
              "  Text(7, 0, 'hispa'),\n",
              "  Text(8, 0, 'normal'),\n",
              "  Text(9, 0, 'tungro')])"
            ]
          },
          "execution_count": 8,
          "metadata": {},
          "output_type": "execute_result"
        },
        {
          "data": {
            "image/png": "[encoded data removed]",
            "text/plain": [
              "<Figure size 640x480 with 1 Axes>"
            ]
          },
          "metadata": {},
          "output_type": "display_data"
        }
      ],
      "source": [
        "import seaborn as sns\n",
        "# Label feature distribution graph\n",
        "sns.countplot(data=data, x='label')\n",
        "plt.title(\"Class Distribution\")\n",
        "plt.xticks(rotation=45)"
      ]
    },
    {
      "cell_type": "code",
      "execution_count": null,
      "id": "k_j4N5gWX11n",
      "metadata": {
        "colab": {
          "base_uri": "https://localhost:8080/",
          "height": 429
        },
        "id": "k_j4N5gWX11n",
        "outputId": "48ddde03-f4ea-4059-bb46-1c292920d081"
      },
      "outputs": [
        {
          "data": {
            "text/html": [
              "<div>\n",
              "<style scoped>\n",
              "    .dataframe tbody tr th:only-of-type {\n",
              "        vertical-align: middle;\n",
              "    }\n",
              "\n",
              "    .dataframe tbody tr th {\n",
              "        vertical-align: top;\n",
              "    }\n",
              "\n",
              "    .dataframe thead th {\n",
              "        text-align: right;\n",
              "    }\n",
              "</style>\n",
              "<table border=\"1\" class=\"dataframe\">\n",
              "  <thead>\n",
              "    <tr style=\"text-align: right;\">\n",
              "      <th></th>\n",
              "      <th>count</th>\n",
              "    </tr>\n",
              "    <tr>\n",
              "      <th>label</th>\n",
              "      <th></th>\n",
              "    </tr>\n",
              "  </thead>\n",
              "  <tbody>\n",
              "    <tr>\n",
              "      <th>normal</th>\n",
              "      <td>1764</td>\n",
              "    </tr>\n",
              "    <tr>\n",
              "      <th>blast</th>\n",
              "      <td>1738</td>\n",
              "    </tr>\n",
              "    <tr>\n",
              "      <th>hispa</th>\n",
              "      <td>1594</td>\n",
              "    </tr>\n",
              "    <tr>\n",
              "      <th>dead_heart</th>\n",
              "      <td>1442</td>\n",
              "    </tr>\n",
              "    <tr>\n",
              "      <th>tungro</th>\n",
              "      <td>1088</td>\n",
              "    </tr>\n",
              "    <tr>\n",
              "      <th>brown_spot</th>\n",
              "      <td>965</td>\n",
              "    </tr>\n",
              "    <tr>\n",
              "      <th>downy_mildew</th>\n",
              "      <td>620</td>\n",
              "    </tr>\n",
              "    <tr>\n",
              "      <th>bacterial_leaf_blight</th>\n",
              "      <td>479</td>\n",
              "    </tr>\n",
              "    <tr>\n",
              "      <th>bacterial_leaf_streak</th>\n",
              "      <td>380</td>\n",
              "    </tr>\n",
              "    <tr>\n",
              "      <th>bacterial_panicle_blight</th>\n",
              "      <td>337</td>\n",
              "    </tr>\n",
              "  </tbody>\n",
              "</table>\n",
              "</div><br><label><b>dtype:</b> int64</label>"
            ],
            "text/plain": [
              "label\n",
              "normal                      1764\n",
              "blast                       1738\n",
              "hispa                       1594\n",
              "dead_heart                  1442\n",
              "tungro                      1088\n",
              "brown_spot                   965\n",
              "downy_mildew                 620\n",
              "bacterial_leaf_blight        479\n",
              "bacterial_leaf_streak        380\n",
              "bacterial_panicle_blight     337\n",
              "Name: count, dtype: int64"
            ]
          },
          "execution_count": 9,
          "metadata": {},
          "output_type": "execute_result"
        }
      ],
      "source": [
        "data[\"label\"].value_counts()"
      ]
    },
    {
      "cell_type": "code",
      "execution_count": null,
      "id": "Vhvq0vAbSNrY",
      "metadata": {
        "colab": {
          "base_uri": "https://localhost:8080/"
        },
        "id": "Vhvq0vAbSNrY",
        "outputId": "ae1b83e2-8ab4-468c-dbde-1c69d5f4dcc6"
      },
      "outputs": [
        {
          "name": "stdout",
          "output_type": "stream",
          "text": [
            "Most common image sizes:\n",
            "(480, 640): 10403 images\n",
            "(640, 480): 4 images\n",
            "\n",
            "Most common image formats:\n",
            "JPEG: 10407 images\n"
          ]
        }
      ],
      "source": [
        "# Check for image resolution of given dataset as well as all images' format\n",
        "from PIL import Image\n",
        "import os\n",
        "from collections import Counter\n",
        "from pathlib import Path\n",
        "\n",
        "train_dir = \"data/train_images\"\n",
        "\n",
        "# Traverse all subdirectories (classes)\n",
        "image_sizes = []\n",
        "image_formats = []\n",
        "\n",
        "# Loop to go through all disease classes within the train_images folder\n",
        "# and its images to collect image resolution and format\n",
        "for class_folder in os.listdir(train_dir):\n",
        "    class_path = os.path.join(train_dir, class_folder)\n",
        "    if os.path.isdir(class_path):\n",
        "        for image_file in os.listdir(class_path):\n",
        "            image_path = os.path.join(class_path, image_file)\n",
        "            try:\n",
        "                with Image.open(image_path) as img:\n",
        "                    image_sizes.append(img.size)\n",
        "                    image_formats.append(img.format)  # Add format into image_formats array\n",
        "            except Exception as e:\n",
        "                print(f\"Error reading {image_path}: {e}\")\n",
        "\n",
        "# Image sizes summary\n",
        "size_counts = Counter(image_sizes)\n",
        "print(\"Most common image sizes:\")\n",
        "for size, count in size_counts.most_common():\n",
        "    print(f\"{size}: {count} images\")\n",
        "\n",
        "# Image formats summary\n",
        "format_counts = Counter(image_formats)\n",
        "print(\"\\nMost common image formats:\")\n",
        "for fmt, count in format_counts.most_common():\n",
        "    print(f\"{fmt}: {count} images\")\n"
      ]
    },
    {
      "cell_type": "code",
      "execution_count": null,
      "id": "RvQ9zNut5VPu",
      "metadata": {
        "colab": {
          "base_uri": "https://localhost:8080/"
        },
        "id": "RvQ9zNut5VPu",
        "outputId": "1cd2b5c7-2953-4845-bfb7-72df0d6c4abd"
      },
      "outputs": [
        {
          "name": "stderr",
          "output_type": "stream",
          "text": [
            "I0000 00:00:1747354365.905171     369 gpu_device.cc:2019] Created device /job:localhost/replica:0/task:0/device:GPU:0 with 5558 MB memory:  -> device: 0, name: NVIDIA GeForce RTX 3070 Ti, pci bus id: 0000:01:00.0, compute capability: 8.6\n"
          ]
        }
      ],
      "source": [
        "import random\n",
        "from tensorflow.keras import layers\n",
        "# Apply data augmentation\n",
        "data_augmentation = tf.keras.Sequential([\n",
        "    layers.RandomFlip('horizontal'),\n",
        "    layers.RandomRotation(0.1),\n",
        "    layers.RandomTranslation(height_factor=0.1, width_factor=0.1),\n",
        "    layers.RandomBrightness(0.2),\n",
        "    layers.RandomZoom(height_factor=0.2, width_factor=0.2),\n",
        "])"
      ]
    },
    {
      "cell_type": "code",
      "execution_count": null,
      "id": "un3tzgcAputx",
      "metadata": {
        "id": "un3tzgcAputx"
      },
      "outputs": [],
      "source": [
        "# Normalization layer\n",
        "normalization_layer = tf.keras.layers.Rescaling(1./255)"
      ]
    },
    {
      "cell_type": "markdown",
      "id": "LqBk-UHyQLeS",
      "metadata": {
        "id": "LqBk-UHyQLeS"
      },
      "source": [
        "## Preparing Data"
      ]
    },
    {
      "cell_type": "markdown",
      "id": "vKe6DbVXRTK_",
      "metadata": {
        "id": "vKe6DbVXRTK_"
      },
      "source": [
        "- Loading the Dataset"
      ]
    },
    {
      "cell_type": "code",
      "execution_count": null,
      "id": "fpo1gSh6M369",
      "metadata": {
        "colab": {
          "base_uri": "https://localhost:8080/"
        },
        "id": "fpo1gSh6M369",
        "outputId": "bbfdbaec-7250-45ca-f8c9-f2cdc28ee8b5"
      },
      "outputs": [
        {
          "name": "stdout",
          "output_type": "stream",
          "text": [
            "Found 10407 files belonging to 10 classes.\n",
            "(224, 224, 3)\n",
            "(10,)\n",
            "['bacterial_leaf_blight', 'bacterial_leaf_streak', 'bacterial_panicle_blight', 'blast', 'brown_spot', 'dead_heart', 'downy_mildew', 'hispa', 'normal', 'tungro']\n"
          ]
        },
        {
          "name": "stderr",
          "output_type": "stream",
          "text": [
            "2025-05-16 07:12:50.814560: I tensorflow/core/framework/local_rendezvous.cc:407] Local rendezvous is aborting with status: OUT_OF_RANGE: End of sequence\n"
          ]
        }
      ],
      "source": [
        "# Load the image set\n",
        "full_dataset_task1 = tf.keras.utils.image_dataset_from_directory(\n",
        "    './data/train_images',\n",
        "    image_size=(224, 224),\n",
        "    label_mode='categorical',\n",
        "    shuffle=True,\n",
        "    seed=42,\n",
        "    batch_size=None\n",
        ")\n",
        "\n",
        "# Preview the dataset\n",
        "for images, labels in full_dataset_task1.take(1):\n",
        "    print(images.shape)\n",
        "    print(labels.shape)\n",
        "print(full_dataset_task1.class_names)"
      ]
    },
    {
      "cell_type": "markdown",
      "id": "VwwR8PszRZYL",
      "metadata": {
        "id": "VwwR8PszRZYL"
      },
      "source": [
        "- Splitting the Dataset"
      ]
    },
    {
      "cell_type": "code",
      "execution_count": null,
      "id": "irGR2SKqhTg1",
      "metadata": {
        "colab": {
          "base_uri": "https://localhost:8080/"
        },
        "id": "irGR2SKqhTg1",
        "outputId": "15eae068-b8f0-47c6-91be-7b0c90e7846e"
      },
      "outputs": [
        {
          "name": "stdout",
          "output_type": "stream",
          "text": [
            "Total sample (Task 1): 10407\n",
            "Train batches (Task 1): 261\n",
            "Validation batches (Task 1): 66\n"
          ]
        }
      ],
      "source": [
        "# Calculate total samples\n",
        "total_sample_task1 = full_dataset_task1.cardinality().numpy()\n",
        "print(f\"Total sample (Task 1): {total_sample_task1}\")\n",
        "\n",
        "# Calculate split sizes\n",
        "train_size_task1 = int(0.8 * total_sample_task1)\n",
        "val_size_task1 = total_sample_task1 - train_size_task1\n",
        "\n",
        "# shuffle the full dataset\n",
        "full_dataset_task1 = full_dataset_task1.shuffle(buffer_size=total_sample_task1, seed=42)\n",
        "\n",
        "# Split\n",
        "train_dataset_task1 = full_dataset_task1.take(train_size_task1)\n",
        "val_dataset_task1 = full_dataset_task1.skip(train_size_task1)\n",
        "\n",
        "# shuffle the train dataset\n",
        "train_dataset_task1 = train_dataset_task1.shuffle(buffer_size=train_size_task1,\n",
        "                                                  seed=42,\n",
        "                                                  reshuffle_each_iteration=True)\n",
        "\n",
        "# Divide the data to batch = 32\n",
        "train_dataset_task1 = train_dataset_task1.batch(32)\n",
        "val_dataset_task1 = val_dataset_task1.batch(32)\n",
        "\n",
        "# Print sizes of data set by batchs\n",
        "print(f\"Train batches (Task 1): {train_dataset_task1.cardinality().numpy()}\")\n",
        "print(f\"Validation batches (Task 1): {val_dataset_task1.cardinality().numpy()}\")\n",
        "\n",
        "# # Optimize the pipeline\n",
        "AUTOTUNE = tf.data.AUTOTUNE\n",
        "train_dataset_task1 = train_dataset_task1.cache().prefetch(buffer_size=AUTOTUNE)\n",
        "val_dataset_task1 = val_dataset_task1.cache().prefetch(buffer_size=AUTOTUNE)"
      ]
    },
    {
      "cell_type": "markdown",
      "id": "99VZnn-sltTV",
      "metadata": {
        "id": "99VZnn-sltTV"
      },
      "source": [
        "- Test dataset import for evaluation purposes"
      ]
    },
    {
      "cell_type": "code",
      "execution_count": null,
      "id": "vRLXWY4EvFC-",
      "metadata": {
        "colab": {
          "base_uri": "https://localhost:8080/"
        },
        "id": "vRLXWY4EvFC-",
        "outputId": "9decf4b5-8bc7-4fcf-fc35-4f051093d484"
      },
      "outputs": [
        {
          "name": "stdout",
          "output_type": "stream",
          "text": [
            "Found 3469 files.\n"
          ]
        }
      ],
      "source": [
        "# Getting test set to calculate prediction speed\n",
        "test_dataset = tf.keras.utils.image_dataset_from_directory(\n",
        "    'data/test_images',\n",
        "    labels=None,                  # No labels needed for prediction\n",
        "    image_size=(224, 224),\n",
        "    batch_size=32,\n",
        "    shuffle=False\n",
        ")"
      ]
    },
    {
      "cell_type": "markdown",
      "id": "JsEHKaoFMR7D",
      "metadata": {
        "id": "JsEHKaoFMR7D"
      },
      "source": [
        "## Training Models"
      ]
    },
    {
      "cell_type": "markdown",
      "id": "oDR7I4j3Zy5H",
      "metadata": {
        "id": "oDR7I4j3Zy5H"
      },
      "source": [
        "- Building the models"
      ]
    },
    {
      "cell_type": "code",
      "execution_count": null,
      "id": "WIUHdX0gZ3W4",
      "metadata": {
        "id": "WIUHdX0gZ3W4"
      },
      "outputs": [],
      "source": [
        "from tensorflow.keras.applications import EfficientNetB0, MobileNet, Xception\n",
        "from tensorflow.keras import models, optimizers\n",
        "from tensorflow.keras import regularizers\n",
        "import keras_tuner as kt\n",
        "from tensorflow.keras.callbacks import EarlyStopping, ReduceLROnPlateau\n",
        "\n",
        "\n",
        "EfficientNetB0_model_task1 = EfficientNetB0(\n",
        "    input_shape=(224, 224, 3),\n",
        "    include_top=False,          # Exclude the final classification layer\n",
        "    weights=None                # No pretrained weights\n",
        ")\n",
        "\n",
        "MobileNet_model_task1 = MobileNet(\n",
        "    input_shape=(224, 224, 3),\n",
        "    include_top=False,          # Exclude the final classification layer\n",
        "    weights=None                # No pretrained weights\n",
        ")\n",
        "\n",
        "Xception_model_task1 = Xception(\n",
        "    input_shape=(224, 224, 3),\n",
        "    include_top=False,          # Exclude the final classification layer\n",
        "    weights=None                # No pretrained weights\n",
        ")"
      ]
    },
    {
      "cell_type": "markdown",
      "id": "krRaUOc_2bJO",
      "metadata": {
        "id": "krRaUOc_2bJO"
      },
      "source": [
        "### MobileNet Model"
      ]
    },
    {
      "cell_type": "markdown",
      "id": "p28aZ6RnHVb5",
      "metadata": {
        "id": "p28aZ6RnHVb5"
      },
      "source": [
        "- Hyper-Tuning and Developing Model"
      ]
    },
    {
      "cell_type": "code",
      "execution_count": null,
      "id": "JgTbcOE83gpX",
      "metadata": {
        "colab": {
          "base_uri": "https://localhost:8080/"
        },
        "id": "JgTbcOE83gpX",
        "outputId": "d19c4ed9-de92-44c4-d925-e428a4145d3c"
      },
      "outputs": [
        {
          "name": "stdout",
          "output_type": "stream",
          "text": [
            "Reloading Tuner from data/tuningTask1/MobileNet/MobileNet_tune/tuner0.json\n"
          ]
        }
      ],
      "source": [
        "# Function to build and hyper-tuning MobileNet model\n",
        "def build_MobileNet_model_task1(hp):\n",
        "\n",
        "    model = tf.keras.Sequential([\n",
        "          data_augmentation,\n",
        "          normalization_layer,\n",
        "          MobileNet_model_task1,\n",
        "          layers.GlobalAveragePooling2D(),\n",
        "\n",
        "          # Apply L2 regularization on Dense layers\n",
        "          layers.Dense(hp.Int('dense_units', 64, 256, step=64),\n",
        "                       activation='relu'),\n",
        "\n",
        "          layers.BatchNormalization(),  # Apply BatchNormalization\n",
        "          layers.Dropout(hp.Float('dropout_rate', 0.1, 0.4, step=0.1)),  # Apply Dropout for additional regularization\n",
        "          layers.Dense(10, activation='softmax')  # Output layer\n",
        "    ])\n",
        "\n",
        "    # Apply Learning rate\n",
        "    learning_rate = hp.Float('learning_rate', 5e-4, 5e-3, sampling='log')\n",
        "\n",
        "    # Apply Optimizer Adam\n",
        "    optimizer = tf.keras.optimizers.Adam(learning_rate)\n",
        "\n",
        "    # Apply Label smmoothing\n",
        "    label_smoothing = hp.Float('label_smoothing', min_value=0.0, max_value=0.05, step=0.01)\n",
        "\n",
        "    # Complie the model\n",
        "    model.compile(\n",
        "        optimizer=optimizer,\n",
        "        loss=tf.keras.losses.CategoricalCrossentropy(label_smoothing=label_smoothing),\n",
        "        metrics=['accuracy']\n",
        "    )\n",
        "\n",
        "    return model\n",
        "\n",
        "# Aplly Random Search tuning\n",
        "MobileNet_task1_tuner = kt.RandomSearch(\n",
        "    build_MobileNet_model_task1,\n",
        "    objective='val_accuracy',\n",
        "    max_trials=10,                   # Number of different hyperparameter sets to try\n",
        "    directory='data/tuningTask1/MobileNet',\n",
        "    project_name='MobileNet_tune',\n",
        "    seed=42                         # For reproducibility\n",
        ")\n",
        "\n",
        "# Apply Early Stop\n",
        "early_stop_MobileNet_model_task1 = EarlyStopping(\n",
        "    monitor='val_loss',\n",
        "    patience=6,\n",
        "    restore_best_weights=True)\n",
        "\n",
        "# Aplly Reduce Learning Rate\n",
        "reduce_lr_MobileNet_model_task1 = ReduceLROnPlateau(\n",
        "    monitor='val_loss',\n",
        "    factor=0.5,\n",
        "    patience=4,\n",
        "    verbose=1\n",
        ")"
      ]
    },
    {
      "cell_type": "markdown",
      "id": "BhaJ9J-hHedg",
      "metadata": {
        "id": "BhaJ9J-hHedg"
      },
      "source": [
        "- Training and Searching the best Model"
      ]
    },
    {
      "cell_type": "code",
      "execution_count": null,
      "id": "ZMZy_huHHH6A",
      "metadata": {
        "colab": {
          "base_uri": "https://localhost:8080/"
        },
        "id": "ZMZy_huHHH6A",
        "outputId": "e94fcf19-f662-4416-c635-5ce23e59dd20"
      },
      "outputs": [
        {
          "name": "stdout",
          "output_type": "stream",
          "text": [
            "Trial 10 Complete [00h 10m 05s]\n",
            "val_accuracy: 0.978866457939148\n",
            "\n",
            "Best val_accuracy So Far: 0.9846301674842834\n",
            "Total elapsed time: 04h 33m 22s\n"
          ]
        }
      ],
      "source": [
        "MobileNet_task1_tuner.search(\n",
        "    train_dataset_task1,\n",
        "    validation_data=val_dataset_task1,\n",
        "    epochs=50,\n",
        "    callbacks=[early_stop_MobileNet_model_task1, reduce_lr_MobileNet_model_task1],\n",
        ")"
      ]
    },
    {
      "cell_type": "markdown",
      "id": "vYoc48JCHljF",
      "metadata": {
        "id": "vYoc48JCHljF"
      },
      "source": [
        "- Geting and Saving the best model"
      ]
    },
    {
      "cell_type": "code",
      "execution_count": null,
      "id": "bU4PhBK_3w2Q",
      "metadata": {
        "colab": {
          "base_uri": "https://localhost:8080/",
          "height": 544
        },
        "id": "bU4PhBK_3w2Q",
        "outputId": "48e6dad9-e8a8-47e0-8384-0058e72fcb40"
      },
      "outputs": [
        {
          "name": "stderr",
          "output_type": "stream",
          "text": [
            "/home/herom/lintf/lib/python3.12/site-packages/keras/src/saving/saving_lib.py:757: UserWarning: Skipping variable loading for optimizer 'adam', because it has 2 variables whereas the saved optimizer has 176 variables. \n",
            "  saveable.load_own_variables(weights_store.get(inner_path))\n"
          ]
        },
        {
          "data": {
            "text/html": [
              "<pre style=\"white-space:pre;overflow-x:auto;line-height:normal;font-family:Menlo,'DejaVu Sans Mono',consolas,'Courier New',monospace\"><span style=\"font-weight: bold\">Model: \"sequential\"</span>\n",
              "</pre>\n"
            ],
            "text/plain": [
              "\u001b[1mModel: \"sequential\"\u001b[0m\n"
            ]
          },
          "metadata": {},
          "output_type": "display_data"
        },
        {
          "data": {
            "text/html": [
              "<pre style=\"white-space:pre;overflow-x:auto;line-height:normal;font-family:Menlo,'DejaVu Sans Mono',consolas,'Courier New',monospace\">┏━━━━━━━━━━━━━━━━━━━━━━━━━━━━━━━━━┳━━━━━━━━━━━━━━━━━━━━━━━━┳━━━━━━━━━━━━━━━┓\n",
              "┃<span style=\"font-weight: bold\"> Layer (type)                    </span>┃<span style=\"font-weight: bold\"> Output Shape           </span>┃<span style=\"font-weight: bold\">       Param # </span>┃\n",
              "┡━━━━━━━━━━━━━━━━━━━━━━━━━━━━━━━━━╇━━━━━━━━━━━━━━━━━━━━━━━━╇━━━━━━━━━━━━━━━┩\n",
              "│ sequential (<span style=\"color: #0087ff; text-decoration-color: #0087ff\">Sequential</span>)         │ (<span style=\"color: #00d7ff; text-decoration-color: #00d7ff\">None</span>, <span style=\"color: #00af00; text-decoration-color: #00af00\">224</span>, <span style=\"color: #00af00; text-decoration-color: #00af00\">224</span>, <span style=\"color: #00af00; text-decoration-color: #00af00\">3</span>)    │             <span style=\"color: #00af00; text-decoration-color: #00af00\">0</span> │\n",
              "├─────────────────────────────────┼────────────────────────┼───────────────┤\n",
              "│ rescaling (<span style=\"color: #0087ff; text-decoration-color: #0087ff\">Rescaling</span>)           │ (<span style=\"color: #00d7ff; text-decoration-color: #00d7ff\">None</span>, <span style=\"color: #00af00; text-decoration-color: #00af00\">224</span>, <span style=\"color: #00af00; text-decoration-color: #00af00\">224</span>, <span style=\"color: #00af00; text-decoration-color: #00af00\">3</span>)    │             <span style=\"color: #00af00; text-decoration-color: #00af00\">0</span> │\n",
              "├─────────────────────────────────┼────────────────────────┼───────────────┤\n",
              "│ mobilenet_1.00_224 (<span style=\"color: #0087ff; text-decoration-color: #0087ff\">Functional</span>) │ (<span style=\"color: #00d7ff; text-decoration-color: #00d7ff\">None</span>, <span style=\"color: #00af00; text-decoration-color: #00af00\">7</span>, <span style=\"color: #00af00; text-decoration-color: #00af00\">7</span>, <span style=\"color: #00af00; text-decoration-color: #00af00\">1024</span>)     │     <span style=\"color: #00af00; text-decoration-color: #00af00\">3,228,864</span> │\n",
              "├─────────────────────────────────┼────────────────────────┼───────────────┤\n",
              "│ global_average_pooling2d        │ (<span style=\"color: #00d7ff; text-decoration-color: #00d7ff\">None</span>, <span style=\"color: #00af00; text-decoration-color: #00af00\">1024</span>)           │             <span style=\"color: #00af00; text-decoration-color: #00af00\">0</span> │\n",
              "│ (<span style=\"color: #0087ff; text-decoration-color: #0087ff\">GlobalAveragePooling2D</span>)        │                        │               │\n",
              "├─────────────────────────────────┼────────────────────────┼───────────────┤\n",
              "│ dense (<span style=\"color: #0087ff; text-decoration-color: #0087ff\">Dense</span>)                   │ (<span style=\"color: #00d7ff; text-decoration-color: #00d7ff\">None</span>, <span style=\"color: #00af00; text-decoration-color: #00af00\">192</span>)            │       <span style=\"color: #00af00; text-decoration-color: #00af00\">196,800</span> │\n",
              "├─────────────────────────────────┼────────────────────────┼───────────────┤\n",
              "│ batch_normalization             │ (<span style=\"color: #00d7ff; text-decoration-color: #00d7ff\">None</span>, <span style=\"color: #00af00; text-decoration-color: #00af00\">192</span>)            │           <span style=\"color: #00af00; text-decoration-color: #00af00\">768</span> │\n",
              "│ (<span style=\"color: #0087ff; text-decoration-color: #0087ff\">BatchNormalization</span>)            │                        │               │\n",
              "├─────────────────────────────────┼────────────────────────┼───────────────┤\n",
              "│ dropout (<span style=\"color: #0087ff; text-decoration-color: #0087ff\">Dropout</span>)               │ (<span style=\"color: #00d7ff; text-decoration-color: #00d7ff\">None</span>, <span style=\"color: #00af00; text-decoration-color: #00af00\">192</span>)            │             <span style=\"color: #00af00; text-decoration-color: #00af00\">0</span> │\n",
              "├─────────────────────────────────┼────────────────────────┼───────────────┤\n",
              "│ dense_1 (<span style=\"color: #0087ff; text-decoration-color: #0087ff\">Dense</span>)                 │ (<span style=\"color: #00d7ff; text-decoration-color: #00d7ff\">None</span>, <span style=\"color: #00af00; text-decoration-color: #00af00\">10</span>)             │         <span style=\"color: #00af00; text-decoration-color: #00af00\">1,930</span> │\n",
              "└─────────────────────────────────┴────────────────────────┴───────────────┘\n",
              "</pre>\n"
            ],
            "text/plain": [
              "┏━━━━━━━━━━━━━━━━━━━━━━━━━━━━━━━━━┳━━━━━━━━━━━━━━━━━━━━━━━━┳━━━━━━━━━━━━━━━┓\n",
              "┃\u001b[1m \u001b[0m\u001b[1mLayer (type)                   \u001b[0m\u001b[1m \u001b[0m┃\u001b[1m \u001b[0m\u001b[1mOutput Shape          \u001b[0m\u001b[1m \u001b[0m┃\u001b[1m \u001b[0m\u001b[1m      Param #\u001b[0m\u001b[1m \u001b[0m┃\n",
              "┡━━━━━━━━━━━━━━━━━━━━━━━━━━━━━━━━━╇━━━━━━━━━━━━━━━━━━━━━━━━╇━━━━━━━━━━━━━━━┩\n",
              "│ sequential (\u001b[38;5;33mSequential\u001b[0m)         │ (\u001b[38;5;45mNone\u001b[0m, \u001b[38;5;34m224\u001b[0m, \u001b[38;5;34m224\u001b[0m, \u001b[38;5;34m3\u001b[0m)    │             \u001b[38;5;34m0\u001b[0m │\n",
              "├─────────────────────────────────┼────────────────────────┼───────────────┤\n",
              "│ rescaling (\u001b[38;5;33mRescaling\u001b[0m)           │ (\u001b[38;5;45mNone\u001b[0m, \u001b[38;5;34m224\u001b[0m, \u001b[38;5;34m224\u001b[0m, \u001b[38;5;34m3\u001b[0m)    │             \u001b[38;5;34m0\u001b[0m │\n",
              "├─────────────────────────────────┼────────────────────────┼───────────────┤\n",
              "│ mobilenet_1.00_224 (\u001b[38;5;33mFunctional\u001b[0m) │ (\u001b[38;5;45mNone\u001b[0m, \u001b[38;5;34m7\u001b[0m, \u001b[38;5;34m7\u001b[0m, \u001b[38;5;34m1024\u001b[0m)     │     \u001b[38;5;34m3,228,864\u001b[0m │\n",
              "├─────────────────────────────────┼────────────────────────┼───────────────┤\n",
              "│ global_average_pooling2d        │ (\u001b[38;5;45mNone\u001b[0m, \u001b[38;5;34m1024\u001b[0m)           │             \u001b[38;5;34m0\u001b[0m │\n",
              "│ (\u001b[38;5;33mGlobalAveragePooling2D\u001b[0m)        │                        │               │\n",
              "├─────────────────────────────────┼────────────────────────┼───────────────┤\n",
              "│ dense (\u001b[38;5;33mDense\u001b[0m)                   │ (\u001b[38;5;45mNone\u001b[0m, \u001b[38;5;34m192\u001b[0m)            │       \u001b[38;5;34m196,800\u001b[0m │\n",
              "├─────────────────────────────────┼────────────────────────┼───────────────┤\n",
              "│ batch_normalization             │ (\u001b[38;5;45mNone\u001b[0m, \u001b[38;5;34m192\u001b[0m)            │           \u001b[38;5;34m768\u001b[0m │\n",
              "│ (\u001b[38;5;33mBatchNormalization\u001b[0m)            │                        │               │\n",
              "├─────────────────────────────────┼────────────────────────┼───────────────┤\n",
              "│ dropout (\u001b[38;5;33mDropout\u001b[0m)               │ (\u001b[38;5;45mNone\u001b[0m, \u001b[38;5;34m192\u001b[0m)            │             \u001b[38;5;34m0\u001b[0m │\n",
              "├─────────────────────────────────┼────────────────────────┼───────────────┤\n",
              "│ dense_1 (\u001b[38;5;33mDense\u001b[0m)                 │ (\u001b[38;5;45mNone\u001b[0m, \u001b[38;5;34m10\u001b[0m)             │         \u001b[38;5;34m1,930\u001b[0m │\n",
              "└─────────────────────────────────┴────────────────────────┴───────────────┘\n"
            ]
          },
          "metadata": {},
          "output_type": "display_data"
        },
        {
          "data": {
            "text/html": [
              "<pre style=\"white-space:pre;overflow-x:auto;line-height:normal;font-family:Menlo,'DejaVu Sans Mono',consolas,'Courier New',monospace\"><span style=\"font-weight: bold\"> Total params: </span><span style=\"color: #00af00; text-decoration-color: #00af00\">3,428,362</span> (13.08 MB)\n",
              "</pre>\n"
            ],
            "text/plain": [
              "\u001b[1m Total params: \u001b[0m\u001b[38;5;34m3,428,362\u001b[0m (13.08 MB)\n"
            ]
          },
          "metadata": {},
          "output_type": "display_data"
        },
        {
          "data": {
            "text/html": [
              "<pre style=\"white-space:pre;overflow-x:auto;line-height:normal;font-family:Menlo,'DejaVu Sans Mono',consolas,'Courier New',monospace\"><span style=\"font-weight: bold\"> Trainable params: </span><span style=\"color: #00af00; text-decoration-color: #00af00\">3,406,090</span> (12.99 MB)\n",
              "</pre>\n"
            ],
            "text/plain": [
              "\u001b[1m Trainable params: \u001b[0m\u001b[38;5;34m3,406,090\u001b[0m (12.99 MB)\n"
            ]
          },
          "metadata": {},
          "output_type": "display_data"
        },
        {
          "data": {
            "text/html": [
              "<pre style=\"white-space:pre;overflow-x:auto;line-height:normal;font-family:Menlo,'DejaVu Sans Mono',consolas,'Courier New',monospace\"><span style=\"font-weight: bold\"> Non-trainable params: </span><span style=\"color: #00af00; text-decoration-color: #00af00\">22,272</span> (87.00 KB)\n",
              "</pre>\n"
            ],
            "text/plain": [
              "\u001b[1m Non-trainable params: \u001b[0m\u001b[38;5;34m22,272\u001b[0m (87.00 KB)\n"
            ]
          },
          "metadata": {},
          "output_type": "display_data"
        },
        {
          "name": "stdout",
          "output_type": "stream",
          "text": [
            "Dense Units: 192\n",
            "Learning Rate: 0.0010157264435346853\n",
            "Dropout Rate: 0.1\n",
            "Label Smoothing: 0.02\n"
          ]
        }
      ],
      "source": [
        "# Track the best model:\n",
        "best_MobileNet_model_task1 = MobileNet_task1_tuner.get_best_models(1)[0]\n",
        "best_MobileNet_model_task1.summary()\n",
        "best_MobileNet_model_task1.save(\"best_MobileNet_model_task_1.keras\")\n",
        "\n",
        "# Print best hyperparameters:\n",
        "best_para_MobileNet_model_task1_hp = MobileNet_task1_tuner.get_best_hyperparameters(1)[0]\n",
        "\n",
        "hp_values = best_para_MobileNet_model_task1_hp.values\n",
        "\n",
        "print(\"Dense Units:\", hp_values.get(\"dense_units\"))\n",
        "print(\"Learning Rate:\", hp_values.get(\"learning_rate\"))\n",
        "print(\"Dropout Rate:\", hp_values.get(\"dropout_rate\"))\n",
        "print(\"Label Smoothing:\", hp_values.get(\"label_smoothing\"))"
      ]
    },
    {
      "cell_type": "markdown",
      "id": "LhaiTwytOQFw",
      "metadata": {
        "id": "LhaiTwytOQFw"
      },
      "source": [
        "### EfficientNetB0 Model"
      ]
    },
    {
      "cell_type": "markdown",
      "id": "G3joiMEfOZ2W",
      "metadata": {
        "id": "G3joiMEfOZ2W"
      },
      "source": [
        "- Hyper-Tuning and Developing Model"
      ]
    },
    {
      "cell_type": "code",
      "execution_count": null,
      "id": "zkubdmIhOgqN",
      "metadata": {
        "colab": {
          "base_uri": "https://localhost:8080/"
        },
        "id": "zkubdmIhOgqN",
        "outputId": "57353031-97c8-4887-fda0-f73d17738935"
      },
      "outputs": [
        {
          "name": "stdout",
          "output_type": "stream",
          "text": [
            "Reloading Tuner from data/tuningTask1/EfficientNetB0/EfficientNetB0_tune/tuner0.json\n"
          ]
        }
      ],
      "source": [
        "from tensorflow.keras import regularizers\n",
        "from tensorflow.keras import layers, models, optimizers\n",
        "from tensorflow.keras.applications import EfficientNetB0\n",
        "import keras_tuner as kt\n",
        "from tensorflow.keras.callbacks import EarlyStopping, ReduceLROnPlateau\n",
        "\n",
        "# Function to build and hyper-tuning the EfficientNetB0 model\n",
        "def build_EfficientNetB0_model_task1(hp):\n",
        "\n",
        "    model = tf.keras.Sequential([\n",
        "          data_augmentation,\n",
        "          normalization_layer,\n",
        "          EfficientNetB0_model_task1,\n",
        "          layers.GlobalAveragePooling2D(),\n",
        "\n",
        "          layers.Dense(hp.Int('dense_units', 64, 256, step=64),\n",
        "                       activation='relu'),\n",
        "\n",
        "          layers.BatchNormalization(),  # Aplly BatchNormalization\n",
        "          layers.Dropout(hp.Float('dropout_rate', 0.1, 0.4, step=0.1)),  # Dropout for additional regularization\n",
        "          layers.Dense(10, activation='softmax')  # Output layer\n",
        "    ])\n",
        "\n",
        "    # Apply Learning Rate\n",
        "    learning_rate = hp.Float('learning_rate', 5e-4, 5e-3, sampling='log')\n",
        "\n",
        "    # Aplly optimizer Adam\n",
        "    optimizer = tf.keras.optimizers.Adam(learning_rate)\n",
        "\n",
        "    # Aplly label smoothing\n",
        "    label_smoothing = hp.Float('label_smoothing', min_value=0.0, max_value=0.05, step=0.01)\n",
        "\n",
        "    # Complie the model\n",
        "    model.compile(\n",
        "        optimizer=optimizer,\n",
        "        loss=tf.keras.losses.CategoricalCrossentropy(label_smoothing=label_smoothing),\n",
        "        metrics=['accuracy']\n",
        "    )\n",
        "\n",
        "    return model\n",
        "\n",
        "# Aplly Random Search tuning\n",
        "EfficientNetB0_task1_tuner = kt.RandomSearch(\n",
        "    build_EfficientNetB0_model_task1,\n",
        "    objective='val_accuracy',\n",
        "    max_trials=10,                   # Number of different hyperparameter sets to try\n",
        "    directory='data/tuningTask1/EfficientNetB0',\n",
        "    project_name='EfficientNetB0_tune',\n",
        "    seed=42                         # For reproducibility\n",
        ")\n",
        "\n",
        "# Aplly Early Stop\n",
        "early_stop_EfficientNetB0_model_task1 = EarlyStopping(\n",
        "    monitor='val_loss',\n",
        "    patience=6,\n",
        "    restore_best_weights=True)\n",
        "\n",
        "# Apply Reduce Learning Rate\n",
        "reduce_lr_EfficientNetB0_model_task1 = ReduceLROnPlateau(\n",
        "    monitor='val_loss',\n",
        "    factor=0.5,\n",
        "    patience=4,\n",
        "    verbose=1\n",
        ")"
      ]
    },
    {
      "cell_type": "markdown",
      "id": "OxiopmqQPHOy",
      "metadata": {
        "id": "OxiopmqQPHOy"
      },
      "source": [
        "- Training and Searching for the best Model"
      ]
    },
    {
      "cell_type": "code",
      "execution_count": null,
      "id": "Dmz6yp5AO2LT",
      "metadata": {
        "colab": {
          "base_uri": "https://localhost:8080/"
        },
        "id": "Dmz6yp5AO2LT",
        "outputId": "410a331b-53b2-482c-d76a-d87a5b5164ce"
      },
      "outputs": [
        {
          "name": "stdout",
          "output_type": "stream",
          "text": [
            "Trial 10 Complete [00h 09m 11s]\n",
            "val_accuracy: 0.9817483425140381\n",
            "\n",
            "Best val_accuracy So Far: 0.9870316982269287\n",
            "Total elapsed time: 04h 14m 27s\n"
          ]
        }
      ],
      "source": [
        "EfficientNetB0_task1_tuner.search(\n",
        "    train_dataset_task1,\n",
        "    validation_data=val_dataset_task1,\n",
        "    epochs=20,\n",
        "    callbacks=[early_stop_EfficientNetB0_model_task1, reduce_lr_EfficientNetB0_model_task1]\n",
        ")"
      ]
    },
    {
      "cell_type": "markdown",
      "id": "8hO5r2PjPLiC",
      "metadata": {
        "id": "8hO5r2PjPLiC"
      },
      "source": [
        "- Getting and Saving the best Model"
      ]
    },
    {
      "cell_type": "code",
      "execution_count": null,
      "id": "fD-rz_b_O2mZ",
      "metadata": {
        "colab": {
          "base_uri": "https://localhost:8080/",
          "height": 493
        },
        "id": "fD-rz_b_O2mZ",
        "outputId": "25a82a50-96c7-438a-cba3-9d5d65989505"
      },
      "outputs": [
        {
          "data": {
            "text/html": [
              "<pre style=\"white-space:pre;overflow-x:auto;line-height:normal;font-family:Menlo,'DejaVu Sans Mono',consolas,'Courier New',monospace\"><span style=\"font-weight: bold\">Model: \"sequential\"</span>\n",
              "</pre>\n"
            ],
            "text/plain": [
              "\u001b[1mModel: \"sequential\"\u001b[0m\n"
            ]
          },
          "metadata": {},
          "output_type": "display_data"
        },
        {
          "data": {
            "text/html": [
              "<pre style=\"white-space:pre;overflow-x:auto;line-height:normal;font-family:Menlo,'DejaVu Sans Mono',consolas,'Courier New',monospace\">┏━━━━━━━━━━━━━━━━━━━━━━━━━━━━━━━━━┳━━━━━━━━━━━━━━━━━━━━━━━━┳━━━━━━━━━━━━━━━┓\n",
              "┃<span style=\"font-weight: bold\"> Layer (type)                    </span>┃<span style=\"font-weight: bold\"> Output Shape           </span>┃<span style=\"font-weight: bold\">       Param # </span>┃\n",
              "┡━━━━━━━━━━━━━━━━━━━━━━━━━━━━━━━━━╇━━━━━━━━━━━━━━━━━━━━━━━━╇━━━━━━━━━━━━━━━┩\n",
              "│ sequential (<span style=\"color: #0087ff; text-decoration-color: #0087ff\">Sequential</span>)         │ (<span style=\"color: #00d7ff; text-decoration-color: #00d7ff\">None</span>, <span style=\"color: #00af00; text-decoration-color: #00af00\">224</span>, <span style=\"color: #00af00; text-decoration-color: #00af00\">224</span>, <span style=\"color: #00af00; text-decoration-color: #00af00\">3</span>)    │             <span style=\"color: #00af00; text-decoration-color: #00af00\">0</span> │\n",
              "├─────────────────────────────────┼────────────────────────┼───────────────┤\n",
              "│ rescaling (<span style=\"color: #0087ff; text-decoration-color: #0087ff\">Rescaling</span>)           │ (<span style=\"color: #00d7ff; text-decoration-color: #00d7ff\">None</span>, <span style=\"color: #00af00; text-decoration-color: #00af00\">224</span>, <span style=\"color: #00af00; text-decoration-color: #00af00\">224</span>, <span style=\"color: #00af00; text-decoration-color: #00af00\">3</span>)    │             <span style=\"color: #00af00; text-decoration-color: #00af00\">0</span> │\n",
              "├─────────────────────────────────┼────────────────────────┼───────────────┤\n",
              "│ efficientnetb0 (<span style=\"color: #0087ff; text-decoration-color: #0087ff\">Functional</span>)     │ (<span style=\"color: #00d7ff; text-decoration-color: #00d7ff\">None</span>, <span style=\"color: #00af00; text-decoration-color: #00af00\">7</span>, <span style=\"color: #00af00; text-decoration-color: #00af00\">7</span>, <span style=\"color: #00af00; text-decoration-color: #00af00\">1280</span>)     │     <span style=\"color: #00af00; text-decoration-color: #00af00\">4,049,571</span> │\n",
              "├─────────────────────────────────┼────────────────────────┼───────────────┤\n",
              "│ global_average_pooling2d        │ (<span style=\"color: #00d7ff; text-decoration-color: #00d7ff\">None</span>, <span style=\"color: #00af00; text-decoration-color: #00af00\">1280</span>)           │             <span style=\"color: #00af00; text-decoration-color: #00af00\">0</span> │\n",
              "│ (<span style=\"color: #0087ff; text-decoration-color: #0087ff\">GlobalAveragePooling2D</span>)        │                        │               │\n",
              "├─────────────────────────────────┼────────────────────────┼───────────────┤\n",
              "│ dense (<span style=\"color: #0087ff; text-decoration-color: #0087ff\">Dense</span>)                   │ (<span style=\"color: #00d7ff; text-decoration-color: #00d7ff\">None</span>, <span style=\"color: #00af00; text-decoration-color: #00af00\">128</span>)            │       <span style=\"color: #00af00; text-decoration-color: #00af00\">163,968</span> │\n",
              "├─────────────────────────────────┼────────────────────────┼───────────────┤\n",
              "│ batch_normalization             │ (<span style=\"color: #00d7ff; text-decoration-color: #00d7ff\">None</span>, <span style=\"color: #00af00; text-decoration-color: #00af00\">128</span>)            │           <span style=\"color: #00af00; text-decoration-color: #00af00\">512</span> │\n",
              "│ (<span style=\"color: #0087ff; text-decoration-color: #0087ff\">BatchNormalization</span>)            │                        │               │\n",
              "├─────────────────────────────────┼────────────────────────┼───────────────┤\n",
              "│ dropout (<span style=\"color: #0087ff; text-decoration-color: #0087ff\">Dropout</span>)               │ (<span style=\"color: #00d7ff; text-decoration-color: #00d7ff\">None</span>, <span style=\"color: #00af00; text-decoration-color: #00af00\">128</span>)            │             <span style=\"color: #00af00; text-decoration-color: #00af00\">0</span> │\n",
              "├─────────────────────────────────┼────────────────────────┼───────────────┤\n",
              "│ dense_1 (<span style=\"color: #0087ff; text-decoration-color: #0087ff\">Dense</span>)                 │ (<span style=\"color: #00d7ff; text-decoration-color: #00d7ff\">None</span>, <span style=\"color: #00af00; text-decoration-color: #00af00\">10</span>)             │         <span style=\"color: #00af00; text-decoration-color: #00af00\">1,290</span> │\n",
              "└─────────────────────────────────┴────────────────────────┴───────────────┘\n",
              "</pre>\n"
            ],
            "text/plain": [
              "┏━━━━━━━━━━━━━━━━━━━━━━━━━━━━━━━━━┳━━━━━━━━━━━━━━━━━━━━━━━━┳━━━━━━━━━━━━━━━┓\n",
              "┃\u001b[1m \u001b[0m\u001b[1mLayer (type)                   \u001b[0m\u001b[1m \u001b[0m┃\u001b[1m \u001b[0m\u001b[1mOutput Shape          \u001b[0m\u001b[1m \u001b[0m┃\u001b[1m \u001b[0m\u001b[1m      Param #\u001b[0m\u001b[1m \u001b[0m┃\n",
              "┡━━━━━━━━━━━━━━━━━━━━━━━━━━━━━━━━━╇━━━━━━━━━━━━━━━━━━━━━━━━╇━━━━━━━━━━━━━━━┩\n",
              "│ sequential (\u001b[38;5;33mSequential\u001b[0m)         │ (\u001b[38;5;45mNone\u001b[0m, \u001b[38;5;34m224\u001b[0m, \u001b[38;5;34m224\u001b[0m, \u001b[38;5;34m3\u001b[0m)    │             \u001b[38;5;34m0\u001b[0m │\n",
              "├─────────────────────────────────┼────────────────────────┼───────────────┤\n",
              "│ rescaling (\u001b[38;5;33mRescaling\u001b[0m)           │ (\u001b[38;5;45mNone\u001b[0m, \u001b[38;5;34m224\u001b[0m, \u001b[38;5;34m224\u001b[0m, \u001b[38;5;34m3\u001b[0m)    │             \u001b[38;5;34m0\u001b[0m │\n",
              "├─────────────────────────────────┼────────────────────────┼───────────────┤\n",
              "│ efficientnetb0 (\u001b[38;5;33mFunctional\u001b[0m)     │ (\u001b[38;5;45mNone\u001b[0m, \u001b[38;5;34m7\u001b[0m, \u001b[38;5;34m7\u001b[0m, \u001b[38;5;34m1280\u001b[0m)     │     \u001b[38;5;34m4,049,571\u001b[0m │\n",
              "├─────────────────────────────────┼────────────────────────┼───────────────┤\n",
              "│ global_average_pooling2d        │ (\u001b[38;5;45mNone\u001b[0m, \u001b[38;5;34m1280\u001b[0m)           │             \u001b[38;5;34m0\u001b[0m │\n",
              "│ (\u001b[38;5;33mGlobalAveragePooling2D\u001b[0m)        │                        │               │\n",
              "├─────────────────────────────────┼────────────────────────┼───────────────┤\n",
              "│ dense (\u001b[38;5;33mDense\u001b[0m)                   │ (\u001b[38;5;45mNone\u001b[0m, \u001b[38;5;34m128\u001b[0m)            │       \u001b[38;5;34m163,968\u001b[0m │\n",
              "├─────────────────────────────────┼────────────────────────┼───────────────┤\n",
              "│ batch_normalization             │ (\u001b[38;5;45mNone\u001b[0m, \u001b[38;5;34m128\u001b[0m)            │           \u001b[38;5;34m512\u001b[0m │\n",
              "│ (\u001b[38;5;33mBatchNormalization\u001b[0m)            │                        │               │\n",
              "├─────────────────────────────────┼────────────────────────┼───────────────┤\n",
              "│ dropout (\u001b[38;5;33mDropout\u001b[0m)               │ (\u001b[38;5;45mNone\u001b[0m, \u001b[38;5;34m128\u001b[0m)            │             \u001b[38;5;34m0\u001b[0m │\n",
              "├─────────────────────────────────┼────────────────────────┼───────────────┤\n",
              "│ dense_1 (\u001b[38;5;33mDense\u001b[0m)                 │ (\u001b[38;5;45mNone\u001b[0m, \u001b[38;5;34m10\u001b[0m)             │         \u001b[38;5;34m1,290\u001b[0m │\n",
              "└─────────────────────────────────┴────────────────────────┴───────────────┘\n"
            ]
          },
          "metadata": {},
          "output_type": "display_data"
        },
        {
          "data": {
            "text/html": [
              "<pre style=\"white-space:pre;overflow-x:auto;line-height:normal;font-family:Menlo,'DejaVu Sans Mono',consolas,'Courier New',monospace\"><span style=\"font-weight: bold\"> Total params: </span><span style=\"color: #00af00; text-decoration-color: #00af00\">4,215,341</span> (16.08 MB)\n",
              "</pre>\n"
            ],
            "text/plain": [
              "\u001b[1m Total params: \u001b[0m\u001b[38;5;34m4,215,341\u001b[0m (16.08 MB)\n"
            ]
          },
          "metadata": {},
          "output_type": "display_data"
        },
        {
          "data": {
            "text/html": [
              "<pre style=\"white-space:pre;overflow-x:auto;line-height:normal;font-family:Menlo,'DejaVu Sans Mono',consolas,'Courier New',monospace\"><span style=\"font-weight: bold\"> Trainable params: </span><span style=\"color: #00af00; text-decoration-color: #00af00\">4,173,062</span> (15.92 MB)\n",
              "</pre>\n"
            ],
            "text/plain": [
              "\u001b[1m Trainable params: \u001b[0m\u001b[38;5;34m4,173,062\u001b[0m (15.92 MB)\n"
            ]
          },
          "metadata": {},
          "output_type": "display_data"
        },
        {
          "data": {
            "text/html": [
              "<pre style=\"white-space:pre;overflow-x:auto;line-height:normal;font-family:Menlo,'DejaVu Sans Mono',consolas,'Courier New',monospace\"><span style=\"font-weight: bold\"> Non-trainable params: </span><span style=\"color: #00af00; text-decoration-color: #00af00\">42,279</span> (165.16 KB)\n",
              "</pre>\n"
            ],
            "text/plain": [
              "\u001b[1m Non-trainable params: \u001b[0m\u001b[38;5;34m42,279\u001b[0m (165.16 KB)\n"
            ]
          },
          "metadata": {},
          "output_type": "display_data"
        },
        {
          "name": "stdout",
          "output_type": "stream",
          "text": [
            "Dense Units: 128\n",
            "Learning Rate: 0.001411936412718108\n",
            "Dropout Rate: 0.4\n",
            "Label Smoothing: 0.02\n"
          ]
        }
      ],
      "source": [
        "# Track the best model:\n",
        "best_EfficientNetB0_model_task1 = EfficientNetB0_task1_tuner.get_best_models(1)[0]\n",
        "best_EfficientNetB0_model_task1.summary()\n",
        "#best_EfficientNetB0_model_task1.save(\"best_EfficientNetB0_model_task_1.keras\")\n",
        "\n",
        "# Print best hyperparameters:\n",
        "best_EfficientNetB0_model_task1_hp = EfficientNetB0_task1_tuner.get_best_hyperparameters(1)[0]\n",
        "\n",
        "hp_values = best_EfficientNetB0_model_task1_hp.values\n",
        "\n",
        "print(\"Dense Units:\", hp_values.get(\"dense_units\"))\n",
        "print(\"Learning Rate:\", hp_values.get(\"learning_rate\"))\n",
        "print(\"Dropout Rate:\", hp_values.get(\"dropout_rate\"))\n",
        "print(\"Label Smoothing:\", hp_values.get(\"label_smoothing\"))"
      ]
    },
    {
      "cell_type": "code",
      "execution_count": null,
      "id": "Fj07J1_ANUhN",
      "metadata": {
        "colab": {
          "base_uri": "https://localhost:8080/"
        },
        "id": "Fj07J1_ANUhN",
        "outputId": "bc16fe3c-7a99-4825-8070-3265d940118b"
      },
      "outputs": [
        {
          "name": "stdout",
          "output_type": "stream",
          "text": [
            "Results summary\n",
            "Results in data/tuningTask1/EfficientNetB0/EfficientNetB0_tune\n",
            "Showing 10 best trials\n",
            "Objective(name=\"val_accuracy\", direction=\"max\")\n",
            "\n",
            "Trial 08 summary\n",
            "Hyperparameters:\n",
            "l2_lambda: 1.9473369534115484e-05\n",
            "dense_units: 128\n",
            "dropout_rate: 0.30000000000000004\n",
            "learning_rate: 0.000791696473954755\n",
            "label_smoothing: 0.04\n",
            "Score: 0.9870316982269287\n",
            "\n",
            "Trial 06 summary\n",
            "Hyperparameters:\n",
            "l2_lambda: 1.4023399602325875e-05\n",
            "dense_units: 128\n",
            "dropout_rate: 0.4\n",
            "learning_rate: 0.001411936412718108\n",
            "label_smoothing: 0.02\n",
            "Score: 0.9870316982269287\n",
            "\n",
            "Trial 07 summary\n",
            "Hyperparameters:\n",
            "l2_lambda: 0.00039648863050186525\n",
            "dense_units: 256\n",
            "dropout_rate: 0.1\n",
            "learning_rate: 0.0009342457214524525\n",
            "label_smoothing: 0.03\n",
            "Score: 0.9865514039993286\n",
            "\n",
            "Trial 2 summary\n",
            "Hyperparameters:\n",
            "l2_lambda: 0.0009051274097824621\n",
            "dense_units: 192\n",
            "dropout_rate: 0.4\n",
            "learning_rate: 0.0006156159431391849\n",
            "label_smoothing: 0.05\n",
            "Score: 0.9860711097717285\n",
            "\n",
            "Trial 3 summary\n",
            "Hyperparameters:\n",
            "l2_lambda: 1.2165541012624622e-05\n",
            "dense_units: 192\n",
            "dropout_rate: 0.1\n",
            "learning_rate: 0.0010157264435346853\n",
            "label_smoothing: 0.02\n",
            "Score: 0.9860711097717285\n",
            "\n",
            "Trial 09 summary\n",
            "Hyperparameters:\n",
            "l2_lambda: 1.9584369813174676e-05\n",
            "dense_units: 128\n",
            "dropout_rate: 0.1\n",
            "learning_rate: 0.0007991723539148091\n",
            "label_smoothing: 0.0\n",
            "Score: 0.9817483425140381\n",
            "\n",
            "Trial 1 summary\n",
            "Hyperparameters:\n",
            "l2_lambda: 5.0546665575067195e-05\n",
            "dense_units: 192\n",
            "dropout_rate: 0.1\n",
            "learning_rate: 0.0015721955876355394\n",
            "label_smoothing: 0.01\n",
            "Score: 0.9817483425140381\n",
            "\n",
            "Trial 4 summary\n",
            "Hyperparameters:\n",
            "l2_lambda: 0.0007177664122743156\n",
            "dense_units: 128\n",
            "dropout_rate: 0.2\n",
            "learning_rate: 0.001299313657989077\n",
            "label_smoothing: 0.0\n",
            "Score: 0.9769452214241028\n",
            "\n",
            "Trial 05 summary\n",
            "Hyperparameters:\n",
            "l2_lambda: 1.4111965749931114e-05\n",
            "dense_units: 192\n",
            "dropout_rate: 0.30000000000000004\n",
            "learning_rate: 0.004061993669743198\n",
            "label_smoothing: 0.01\n",
            "Score: 0.9745436906814575\n",
            "\n",
            "Trial 0 summary\n",
            "Hyperparameters:\n",
            "l2_lambda: 0.00019004375238737127\n",
            "dense_units: 64\n",
            "dropout_rate: 0.2\n",
            "learning_rate: 0.0009350727883249913\n",
            "label_smoothing: 0.05\n",
            "Score: 0.9668588042259216\n"
          ]
        }
      ],
      "source": [
        "EfficientNetB0_task1_tuner.results_summary()"
      ]
    },
    {
      "cell_type": "markdown",
      "id": "VVt5pTAIMA4v",
      "metadata": {
        "id": "VVt5pTAIMA4v"
      },
      "source": [
        "### Xception Model"
      ]
    },
    {
      "cell_type": "markdown",
      "id": "Zg8Zzkp_NxXz",
      "metadata": {
        "id": "Zg8Zzkp_NxXz"
      },
      "source": [
        "- Hyper-Tuning and Developing Model"
      ]
    },
    {
      "cell_type": "code",
      "execution_count": null,
      "id": "0vBSA2z5P3nG",
      "metadata": {
        "colab": {
          "base_uri": "https://localhost:8080/"
        },
        "id": "0vBSA2z5P3nG",
        "outputId": "d88a9469-446c-4920-e57a-eb22d3c4f0a0"
      },
      "outputs": [
        {
          "name": "stdout",
          "output_type": "stream",
          "text": [
            "Reloading Tuner from data/tuningTask1/Xception/Xception_tune/tuner0.json\n"
          ]
        }
      ],
      "source": [
        "from tensorflow.keras import regularizers\n",
        "from tensorflow.keras import layers, models, optimizers\n",
        "from tensorflow.keras.applications import Xception\n",
        "import keras_tuner as kt\n",
        "from tensorflow.keras.callbacks import EarlyStopping, ReduceLROnPlateau\n",
        "\n",
        "# Function to build and hyper-tuning MobileNet model\n",
        "def build_Xception_model_task1(hp):\n",
        "\n",
        "    model = tf.keras.Sequential([\n",
        "          data_augmentation,\n",
        "          normalization_layer,\n",
        "          Xception_model_task1,\n",
        "          layers.GlobalAveragePooling2D(),\n",
        "\n",
        "          # Apply L2 regularization on Dense layers\n",
        "          layers.Dense(hp.Int('dense_units', 64, 256, step=64),\n",
        "                       activation='relu'),\n",
        "\n",
        "          layers.BatchNormalization(),  # Apply BatchNormalization\n",
        "          layers.Dropout(hp.Float('dropout_rate', 0.1, 0.4, step=0.1)),  # Dropout for additional regularization\n",
        "          layers.Dense(10, activation='softmax')  # Output layer\n",
        "    ])\n",
        "\n",
        "    # Apply Learning Rate\n",
        "    learning_rate = hp.Float('learning_rate', 5e-4, 5e-3, sampling='log')\n",
        "\n",
        "    # Apply Optimizer Adam\n",
        "    optimizer = tf.keras.optimizers.Adam(learning_rate)\n",
        "\n",
        "    # Apply label smoothing\n",
        "    label_smoothing = hp.Float('label_smoothing', min_value=0.0, max_value=0.05, step=0.01)\n",
        "\n",
        "    # Complie the model\n",
        "    model.compile(\n",
        "        optimizer=optimizer,\n",
        "        loss=tf.keras.losses.CategoricalCrossentropy(label_smoothing=label_smoothing),\n",
        "        metrics=['accuracy']\n",
        "    )\n",
        "\n",
        "    return model\n",
        "# Aplly Random Search tuning\n",
        "Xception_task1_tuner = kt.RandomSearch(\n",
        "    build_Xception_model_task1,\n",
        "    objective='val_accuracy',\n",
        "    max_trials=10,                   # Number of different hyperparameter sets to try\n",
        "    directory='data/tuningTask1/Xception',\n",
        "    project_name='Xception_tune',\n",
        "    seed=42                         # For reproducibility\n",
        ")\n",
        "\n",
        "# Apply Early Stop\n",
        "early_stop_Xception_model_task1 = EarlyStopping(\n",
        "    monitor='val_loss',\n",
        "    patience=6,\n",
        "    restore_best_weights=True)\n",
        "\n",
        "# Aplly Reduce Learning Rate\n",
        "reduce_lr_Xception_model_task1 = ReduceLROnPlateau(\n",
        "    monitor='val_loss',\n",
        "    factor=0.5,\n",
        "    patience=4,\n",
        "    verbose=1\n",
        ")"
      ]
    },
    {
      "cell_type": "markdown",
      "id": "xXy1ayWjN1OA",
      "metadata": {
        "id": "xXy1ayWjN1OA"
      },
      "source": [
        "- Training and Searching for the best Model"
      ]
    },
    {
      "cell_type": "code",
      "execution_count": null,
      "id": "3y5m61LaN0FI",
      "metadata": {
        "id": "3y5m61LaN0FI"
      },
      "outputs": [],
      "source": [
        "Xception_task1_tuner.search(\n",
        "    train_dataset_task1,\n",
        "    validation_data=val_dataset_task1,\n",
        "    epochs=50,\n",
        "    callbacks=[early_stop_Xception_model_task1, reduce_lr_Xception_model_task1]\n",
        ")"
      ]
    },
    {
      "cell_type": "markdown",
      "id": "WGdDxa6iN_Jx",
      "metadata": {
        "id": "WGdDxa6iN_Jx"
      },
      "source": [
        "- Getting and Saving the best Model"
      ]
    },
    {
      "cell_type": "code",
      "execution_count": null,
      "id": "4H1L0LwYzIPY",
      "metadata": {
        "colab": {
          "base_uri": "https://localhost:8080/",
          "height": 527
        },
        "id": "4H1L0LwYzIPY",
        "outputId": "b1330689-c499-465f-af91-1fc981effd17"
      },
      "outputs": [
        {
          "name": "stderr",
          "output_type": "stream",
          "text": [
            "/home/herom/lintf/lib/python3.12/site-packages/keras/src/saving/saving_lib.py:757: UserWarning: Skipping variable loading for optimizer 'adam', because it has 2 variables whereas the saved optimizer has 322 variables. \n",
            "  saveable.load_own_variables(weights_store.get(inner_path))\n"
          ]
        },
        {
          "data": {
            "text/html": [
              "<pre style=\"white-space:pre;overflow-x:auto;line-height:normal;font-family:Menlo,'DejaVu Sans Mono',consolas,'Courier New',monospace\"><span style=\"font-weight: bold\">Model: \"sequential\"</span>\n",
              "</pre>\n"
            ],
            "text/plain": [
              "\u001b[1mModel: \"sequential\"\u001b[0m\n"
            ]
          },
          "metadata": {},
          "output_type": "display_data"
        },
        {
          "data": {
            "text/html": [
              "<pre style=\"white-space:pre;overflow-x:auto;line-height:normal;font-family:Menlo,'DejaVu Sans Mono',consolas,'Courier New',monospace\">┏━━━━━━━━━━━━━━━━━━━━━━━━━━━━━━━━━┳━━━━━━━━━━━━━━━━━━━━━━━━┳━━━━━━━━━━━━━━━┓\n",
              "┃<span style=\"font-weight: bold\"> Layer (type)                    </span>┃<span style=\"font-weight: bold\"> Output Shape           </span>┃<span style=\"font-weight: bold\">       Param # </span>┃\n",
              "┡━━━━━━━━━━━━━━━━━━━━━━━━━━━━━━━━━╇━━━━━━━━━━━━━━━━━━━━━━━━╇━━━━━━━━━━━━━━━┩\n",
              "│ sequential (<span style=\"color: #0087ff; text-decoration-color: #0087ff\">Sequential</span>)         │ (<span style=\"color: #00d7ff; text-decoration-color: #00d7ff\">None</span>, <span style=\"color: #00af00; text-decoration-color: #00af00\">224</span>, <span style=\"color: #00af00; text-decoration-color: #00af00\">224</span>, <span style=\"color: #00af00; text-decoration-color: #00af00\">3</span>)    │             <span style=\"color: #00af00; text-decoration-color: #00af00\">0</span> │\n",
              "├─────────────────────────────────┼────────────────────────┼───────────────┤\n",
              "│ rescaling (<span style=\"color: #0087ff; text-decoration-color: #0087ff\">Rescaling</span>)           │ (<span style=\"color: #00d7ff; text-decoration-color: #00d7ff\">None</span>, <span style=\"color: #00af00; text-decoration-color: #00af00\">224</span>, <span style=\"color: #00af00; text-decoration-color: #00af00\">224</span>, <span style=\"color: #00af00; text-decoration-color: #00af00\">3</span>)    │             <span style=\"color: #00af00; text-decoration-color: #00af00\">0</span> │\n",
              "├─────────────────────────────────┼────────────────────────┼───────────────┤\n",
              "│ xception (<span style=\"color: #0087ff; text-decoration-color: #0087ff\">Functional</span>)           │ (<span style=\"color: #00d7ff; text-decoration-color: #00d7ff\">None</span>, <span style=\"color: #00af00; text-decoration-color: #00af00\">7</span>, <span style=\"color: #00af00; text-decoration-color: #00af00\">7</span>, <span style=\"color: #00af00; text-decoration-color: #00af00\">2048</span>)     │    <span style=\"color: #00af00; text-decoration-color: #00af00\">20,861,480</span> │\n",
              "├─────────────────────────────────┼────────────────────────┼───────────────┤\n",
              "│ global_average_pooling2d        │ (<span style=\"color: #00d7ff; text-decoration-color: #00d7ff\">None</span>, <span style=\"color: #00af00; text-decoration-color: #00af00\">2048</span>)           │             <span style=\"color: #00af00; text-decoration-color: #00af00\">0</span> │\n",
              "│ (<span style=\"color: #0087ff; text-decoration-color: #0087ff\">GlobalAveragePooling2D</span>)        │                        │               │\n",
              "├─────────────────────────────────┼────────────────────────┼───────────────┤\n",
              "│ dense (<span style=\"color: #0087ff; text-decoration-color: #0087ff\">Dense</span>)                   │ (<span style=\"color: #00d7ff; text-decoration-color: #00d7ff\">None</span>, <span style=\"color: #00af00; text-decoration-color: #00af00\">128</span>)            │       <span style=\"color: #00af00; text-decoration-color: #00af00\">262,272</span> │\n",
              "├─────────────────────────────────┼────────────────────────┼───────────────┤\n",
              "│ batch_normalization             │ (<span style=\"color: #00d7ff; text-decoration-color: #00d7ff\">None</span>, <span style=\"color: #00af00; text-decoration-color: #00af00\">128</span>)            │           <span style=\"color: #00af00; text-decoration-color: #00af00\">512</span> │\n",
              "│ (<span style=\"color: #0087ff; text-decoration-color: #0087ff\">BatchNormalization</span>)            │                        │               │\n",
              "├─────────────────────────────────┼────────────────────────┼───────────────┤\n",
              "│ dropout (<span style=\"color: #0087ff; text-decoration-color: #0087ff\">Dropout</span>)               │ (<span style=\"color: #00d7ff; text-decoration-color: #00d7ff\">None</span>, <span style=\"color: #00af00; text-decoration-color: #00af00\">128</span>)            │             <span style=\"color: #00af00; text-decoration-color: #00af00\">0</span> │\n",
              "├─────────────────────────────────┼────────────────────────┼───────────────┤\n",
              "│ dense_1 (<span style=\"color: #0087ff; text-decoration-color: #0087ff\">Dense</span>)                 │ (<span style=\"color: #00d7ff; text-decoration-color: #00d7ff\">None</span>, <span style=\"color: #00af00; text-decoration-color: #00af00\">10</span>)             │         <span style=\"color: #00af00; text-decoration-color: #00af00\">1,290</span> │\n",
              "└─────────────────────────────────┴────────────────────────┴───────────────┘\n",
              "</pre>\n"
            ],
            "text/plain": [
              "┏━━━━━━━━━━━━━━━━━━━━━━━━━━━━━━━━━┳━━━━━━━━━━━━━━━━━━━━━━━━┳━━━━━━━━━━━━━━━┓\n",
              "┃\u001b[1m \u001b[0m\u001b[1mLayer (type)                   \u001b[0m\u001b[1m \u001b[0m┃\u001b[1m \u001b[0m\u001b[1mOutput Shape          \u001b[0m\u001b[1m \u001b[0m┃\u001b[1m \u001b[0m\u001b[1m      Param #\u001b[0m\u001b[1m \u001b[0m┃\n",
              "┡━━━━━━━━━━━━━━━━━━━━━━━━━━━━━━━━━╇━━━━━━━━━━━━━━━━━━━━━━━━╇━━━━━━━━━━━━━━━┩\n",
              "│ sequential (\u001b[38;5;33mSequential\u001b[0m)         │ (\u001b[38;5;45mNone\u001b[0m, \u001b[38;5;34m224\u001b[0m, \u001b[38;5;34m224\u001b[0m, \u001b[38;5;34m3\u001b[0m)    │             \u001b[38;5;34m0\u001b[0m │\n",
              "├─────────────────────────────────┼────────────────────────┼───────────────┤\n",
              "│ rescaling (\u001b[38;5;33mRescaling\u001b[0m)           │ (\u001b[38;5;45mNone\u001b[0m, \u001b[38;5;34m224\u001b[0m, \u001b[38;5;34m224\u001b[0m, \u001b[38;5;34m3\u001b[0m)    │             \u001b[38;5;34m0\u001b[0m │\n",
              "├─────────────────────────────────┼────────────────────────┼───────────────┤\n",
              "│ xception (\u001b[38;5;33mFunctional\u001b[0m)           │ (\u001b[38;5;45mNone\u001b[0m, \u001b[38;5;34m7\u001b[0m, \u001b[38;5;34m7\u001b[0m, \u001b[38;5;34m2048\u001b[0m)     │    \u001b[38;5;34m20,861,480\u001b[0m │\n",
              "├─────────────────────────────────┼────────────────────────┼───────────────┤\n",
              "│ global_average_pooling2d        │ (\u001b[38;5;45mNone\u001b[0m, \u001b[38;5;34m2048\u001b[0m)           │             \u001b[38;5;34m0\u001b[0m │\n",
              "│ (\u001b[38;5;33mGlobalAveragePooling2D\u001b[0m)        │                        │               │\n",
              "├─────────────────────────────────┼────────────────────────┼───────────────┤\n",
              "│ dense (\u001b[38;5;33mDense\u001b[0m)                   │ (\u001b[38;5;45mNone\u001b[0m, \u001b[38;5;34m128\u001b[0m)            │       \u001b[38;5;34m262,272\u001b[0m │\n",
              "├─────────────────────────────────┼────────────────────────┼───────────────┤\n",
              "│ batch_normalization             │ (\u001b[38;5;45mNone\u001b[0m, \u001b[38;5;34m128\u001b[0m)            │           \u001b[38;5;34m512\u001b[0m │\n",
              "│ (\u001b[38;5;33mBatchNormalization\u001b[0m)            │                        │               │\n",
              "├─────────────────────────────────┼────────────────────────┼───────────────┤\n",
              "│ dropout (\u001b[38;5;33mDropout\u001b[0m)               │ (\u001b[38;5;45mNone\u001b[0m, \u001b[38;5;34m128\u001b[0m)            │             \u001b[38;5;34m0\u001b[0m │\n",
              "├─────────────────────────────────┼────────────────────────┼───────────────┤\n",
              "│ dense_1 (\u001b[38;5;33mDense\u001b[0m)                 │ (\u001b[38;5;45mNone\u001b[0m, \u001b[38;5;34m10\u001b[0m)             │         \u001b[38;5;34m1,290\u001b[0m │\n",
              "└─────────────────────────────────┴────────────────────────┴───────────────┘\n"
            ]
          },
          "metadata": {},
          "output_type": "display_data"
        },
        {
          "data": {
            "text/html": [
              "<pre style=\"white-space:pre;overflow-x:auto;line-height:normal;font-family:Menlo,'DejaVu Sans Mono',consolas,'Courier New',monospace\"><span style=\"font-weight: bold\"> Total params: </span><span style=\"color: #00af00; text-decoration-color: #00af00\">21,125,554</span> (80.59 MB)\n",
              "</pre>\n"
            ],
            "text/plain": [
              "\u001b[1m Total params: \u001b[0m\u001b[38;5;34m21,125,554\u001b[0m (80.59 MB)\n"
            ]
          },
          "metadata": {},
          "output_type": "display_data"
        },
        {
          "data": {
            "text/html": [
              "<pre style=\"white-space:pre;overflow-x:auto;line-height:normal;font-family:Menlo,'DejaVu Sans Mono',consolas,'Courier New',monospace\"><span style=\"font-weight: bold\"> Trainable params: </span><span style=\"color: #00af00; text-decoration-color: #00af00\">21,070,770</span> (80.38 MB)\n",
              "</pre>\n"
            ],
            "text/plain": [
              "\u001b[1m Trainable params: \u001b[0m\u001b[38;5;34m21,070,770\u001b[0m (80.38 MB)\n"
            ]
          },
          "metadata": {},
          "output_type": "display_data"
        },
        {
          "data": {
            "text/html": [
              "<pre style=\"white-space:pre;overflow-x:auto;line-height:normal;font-family:Menlo,'DejaVu Sans Mono',consolas,'Courier New',monospace\"><span style=\"font-weight: bold\"> Non-trainable params: </span><span style=\"color: #00af00; text-decoration-color: #00af00\">54,784</span> (214.00 KB)\n",
              "</pre>\n"
            ],
            "text/plain": [
              "\u001b[1m Non-trainable params: \u001b[0m\u001b[38;5;34m54,784\u001b[0m (214.00 KB)\n"
            ]
          },
          "metadata": {},
          "output_type": "display_data"
        },
        {
          "name": "stdout",
          "output_type": "stream",
          "text": [
            "Dense Units: 128\n",
            "Learning Rate: 0.001299313657989077\n",
            "Dropout Rate: 0.2\n",
            "Label Smoothing: 0.0\n"
          ]
        }
      ],
      "source": [
        "# Track the best model:\n",
        "best_Xception_model_task1 = Xception_task1_tuner.get_best_models(1)[0]\n",
        "best_Xception_model_task1.summary()\n",
        "best_Xception_model_task1.save(\"best_Xception_model_task_1.keras\")\n",
        "\n",
        "# Print best hyperparameters:\n",
        "best_Xception_model_task1_hp = Xception_task1_tuner.get_best_hyperparameters(1)[0]\n",
        "hp_values = best_Xception_model_task1_hp.values\n",
        "\n",
        "print(\"Dense Units:\", hp_values.get(\"dense_units\"))\n",
        "print(\"Learning Rate:\", hp_values.get(\"learning_rate\"))\n",
        "print(\"Dropout Rate:\", hp_values.get(\"dropout_rate\"))\n",
        "print(\"Label Smoothing:\", hp_values.get(\"label_smoothing\"))"
      ]
    },
    {
      "cell_type": "code",
      "execution_count": null,
      "id": "XqHdoBHktYuF",
      "metadata": {
        "colab": {
          "base_uri": "https://localhost:8080/"
        },
        "id": "XqHdoBHktYuF",
        "outputId": "059a3628-c34f-4e54-9c1d-1796614d169f"
      },
      "outputs": [
        {
          "name": "stdout",
          "output_type": "stream",
          "text": [
            "Results summary\n",
            "Results in data/tuningTask1/Xception/Xception_tune\n",
            "Showing 10 best trials\n",
            "Objective(name=\"val_accuracy\", direction=\"max\")\n",
            "\n",
            "Trial 4 summary\n",
            "Hyperparameters:\n",
            "l2_lambda: 0.0007177664122743156\n",
            "dense_units: 128\n",
            "dropout_rate: 0.2\n",
            "learning_rate: 0.001299313657989077\n",
            "label_smoothing: 0.0\n",
            "Score: 0.9870316982269287\n",
            "\n",
            "Trial 3 summary\n",
            "Hyperparameters:\n",
            "l2_lambda: 1.2165541012624622e-05\n",
            "dense_units: 192\n",
            "dropout_rate: 0.1\n",
            "learning_rate: 0.0010157264435346853\n",
            "label_smoothing: 0.02\n",
            "Score: 0.9817483425140381\n",
            "\n",
            "Trial 0 summary\n",
            "Hyperparameters:\n",
            "l2_lambda: 0.00019004375238737127\n",
            "dense_units: 64\n",
            "dropout_rate: 0.2\n",
            "learning_rate: 0.0009350727883249913\n",
            "label_smoothing: 0.05\n",
            "Score: 0.9755043387413025\n",
            "\n",
            "Trial 1 summary\n",
            "Hyperparameters:\n",
            "l2_lambda: 5.0546665575067195e-05\n",
            "dense_units: 192\n",
            "dropout_rate: 0.1\n",
            "learning_rate: 0.0015721955876355394\n",
            "label_smoothing: 0.01\n",
            "Traceback (most recent call last):\n",
            "  File \"/home/herom/lintf/lib/python3.12/site-packages/keras_tuner/src/engine/base_tuner.py\", line 274, in _try_run_and_update_trial\n",
            "    self._run_and_update_trial(trial, *fit_args, **fit_kwargs)\n",
            "  File \"/home/herom/lintf/lib/python3.12/site-packages/keras_tuner/src/engine/base_tuner.py\", line 239, in _run_and_update_trial\n",
            "    results = self.run_trial(trial, *fit_args, **fit_kwargs)\n",
            "              ^^^^^^^^^^^^^^^^^^^^^^^^^^^^^^^^^^^^^^^^^^^^^^\n",
            "  File \"/home/herom/lintf/lib/python3.12/site-packages/keras_tuner/src/engine/tuner.py\", line 314, in run_trial\n",
            "    obj_value = self._build_and_fit_model(trial, *args, **copied_kwargs)\n",
            "                ^^^^^^^^^^^^^^^^^^^^^^^^^^^^^^^^^^^^^^^^^^^^^^^^^^^^^^^^\n",
            "  File \"/home/herom/lintf/lib/python3.12/site-packages/keras_tuner/src/engine/tuner.py\", line 233, in _build_and_fit_model\n",
            "    results = self.hypermodel.fit(hp, model, *args, **kwargs)\n",
            "              ^^^^^^^^^^^^^^^^^^^^^^^^^^^^^^^^^^^^^^^^^^^^^^^\n",
            "  File \"/home/herom/lintf/lib/python3.12/site-packages/keras_tuner/src/engine/hypermodel.py\", line 149, in fit\n",
            "    return model.fit(*args, **kwargs)\n",
            "           ^^^^^^^^^^^^^^^^^^^^^^^^^^\n",
            "  File \"/home/herom/lintf/lib/python3.12/site-packages/keras/src/utils/traceback_utils.py\", line 122, in error_handler\n",
            "    raise e.with_traceback(filtered_tb) from None\n",
            "  File \"/home/herom/lintf/lib/python3.12/site-packages/tensorflow/python/eager/execute.py\", line 59, in quick_execute\n",
            "    except TypeError as e:\n",
            "tensorflow.python.framework.errors_impl.ResourceExhaustedError: Graph execution error:\n",
            "\n",
            "Detected at node StatefulPartitionedCall/gradient_tape/sequential_1/xception_1/block13_sepconv2_bn_1/moments/mul_1-0-TransposeNHWCToNCHW-LayoutOptimizer defined at (most recent call last):\n",
            "<stack traces unavailable>\n",
            "OOM when allocating tensor with shape[32,1024,14,14] and type float on /job:localhost/replica:0/task:0/device:GPU:0 by allocator GPU_0_bfc\n",
            "\t [[{{node StatefulPartitionedCall/gradient_tape/sequential_1/xception_1/block13_sepconv2_bn_1/moments/mul_1-0-TransposeNHWCToNCHW-LayoutOptimizer}}]]\n",
            "Hint: If you want to see a list of allocated tensors when OOM happens, add report_tensor_allocations_upon_oom to RunOptions for current allocation info. This isn't available when running in Eager mode.\n",
            " [Op:__inference_multi_step_on_iterator_409639]\n",
            "\n",
            "\n",
            "Trial 2 summary\n",
            "Hyperparameters:\n",
            "l2_lambda: 0.0009051274097824621\n",
            "dense_units: 192\n",
            "dropout_rate: 0.4\n",
            "learning_rate: 0.0006156159431391849\n",
            "label_smoothing: 0.05\n",
            "Traceback (most recent call last):\n",
            "  File \"/home/herom/lintf/lib/python3.12/site-packages/keras_tuner/src/engine/base_tuner.py\", line 274, in _try_run_and_update_trial\n",
            "    self._run_and_update_trial(trial, *fit_args, **fit_kwargs)\n",
            "  File \"/home/herom/lintf/lib/python3.12/site-packages/keras_tuner/src/engine/base_tuner.py\", line 239, in _run_and_update_trial\n",
            "    results = self.run_trial(trial, *fit_args, **fit_kwargs)\n",
            "              ^^^^^^^^^^^^^^^^^^^^^^^^^^^^^^^^^^^^^^^^^^^^^^\n",
            "  File \"/home/herom/lintf/lib/python3.12/site-packages/keras_tuner/src/engine/tuner.py\", line 314, in run_trial\n",
            "    obj_value = self._build_and_fit_model(trial, *args, **copied_kwargs)\n",
            "                ^^^^^^^^^^^^^^^^^^^^^^^^^^^^^^^^^^^^^^^^^^^^^^^^^^^^^^^^\n",
            "  File \"/home/herom/lintf/lib/python3.12/site-packages/keras_tuner/src/engine/tuner.py\", line 233, in _build_and_fit_model\n",
            "    results = self.hypermodel.fit(hp, model, *args, **kwargs)\n",
            "              ^^^^^^^^^^^^^^^^^^^^^^^^^^^^^^^^^^^^^^^^^^^^^^^\n",
            "  File \"/home/herom/lintf/lib/python3.12/site-packages/keras_tuner/src/engine/hypermodel.py\", line 149, in fit\n",
            "    return model.fit(*args, **kwargs)\n",
            "           ^^^^^^^^^^^^^^^^^^^^^^^^^^\n",
            "  File \"/home/herom/lintf/lib/python3.12/site-packages/keras/src/utils/traceback_utils.py\", line 122, in error_handler\n",
            "    raise e.with_traceback(filtered_tb) from None\n",
            "  File \"/home/herom/lintf/lib/python3.12/site-packages/tensorflow/python/eager/execute.py\", line 59, in quick_execute\n",
            "    except TypeError as e:\n",
            "tensorflow.python.framework.errors_impl.ResourceExhaustedError: Graph execution error:\n",
            "\n",
            "Detected at node adam/Sub_618 defined at (most recent call last):\n",
            "  File \"<frozen runpy>\", line 198, in _run_module_as_main\n",
            "\n",
            "  File \"<frozen runpy>\", line 88, in _run_code\n",
            "\n",
            "  File \"/home/herom/lintf/lib/python3.12/site-packages/ipykernel_launcher.py\", line 18, in <module>\n",
            "\n",
            "  File \"/home/herom/lintf/lib/python3.12/site-packages/traitlets/config/application.py\", line 1075, in launch_instance\n",
            "\n",
            "  File \"/home/herom/lintf/lib/python3.12/site-packages/ipykernel/kernelapp.py\", line 739, in start\n",
            "\n",
            "  File \"/home/herom/lintf/lib/python3.12/site-packages/tornado/platform/asyncio.py\", line 205, in start\n",
            "\n",
            "  File \"/usr/lib/python3.12/asyncio/base_events.py\", line 641, in run_forever\n",
            "\n",
            "  File \"/usr/lib/python3.12/asyncio/base_events.py\", line 1987, in _run_once\n",
            "\n",
            "  File \"/usr/lib/python3.12/asyncio/events.py\", line 88, in _run\n",
            "\n",
            "  File \"/home/herom/lintf/lib/python3.12/site-packages/ipykernel/kernelbase.py\", line 545, in dispatch_queue\n",
            "\n",
            "  File \"/home/herom/lintf/lib/python3.12/site-packages/ipykernel/kernelbase.py\", line 534, in process_one\n",
            "\n",
            "  File \"/home/herom/lintf/lib/python3.12/site-packages/ipykernel/kernelbase.py\", line 437, in dispatch_shell\n",
            "\n",
            "  File \"/home/herom/lintf/lib/python3.12/site-packages/ipykernel/ipkernel.py\", line 362, in execute_request\n",
            "\n",
            "  File \"/home/herom/lintf/lib/python3.12/site-packages/ipykernel/kernelbase.py\", line 778, in execute_request\n",
            "\n",
            "  File \"/home/herom/lintf/lib/python3.12/site-packages/ipykernel/ipkernel.py\", line 449, in do_execute\n",
            "\n",
            "  File \"/home/herom/lintf/lib/python3.12/site-packages/ipykernel/zmqshell.py\", line 549, in run_cell\n",
            "\n",
            "  File \"/home/herom/lintf/lib/python3.12/site-packages/IPython/core/interactiveshell.py\", line 3098, in run_cell\n",
            "\n",
            "  File \"/home/herom/lintf/lib/python3.12/site-packages/IPython/core/interactiveshell.py\", line 3153, in _run_cell\n",
            "\n",
            "  File \"/home/herom/lintf/lib/python3.12/site-packages/IPython/core/async_helpers.py\", line 128, in _pseudo_sync_runner\n",
            "\n",
            "  File \"/home/herom/lintf/lib/python3.12/site-packages/IPython/core/interactiveshell.py\", line 3365, in run_cell_async\n",
            "\n",
            "  File \"/home/herom/lintf/lib/python3.12/site-packages/IPython/core/interactiveshell.py\", line 3610, in run_ast_nodes\n",
            "\n",
            "  File \"/home/herom/lintf/lib/python3.12/site-packages/IPython/core/interactiveshell.py\", line 3670, in run_code\n",
            "\n",
            "  File \"/tmp/ipykernel_378/870520316.py\", line 1, in <module>\n",
            "\n",
            "  File \"/home/herom/lintf/lib/python3.12/site-packages/keras_tuner/src/engine/base_tuner.py\", line 234, in search\n",
            "\n",
            "  File \"/home/herom/lintf/lib/python3.12/site-packages/keras_tuner/src/engine/base_tuner.py\", line 274, in _try_run_and_update_trial\n",
            "\n",
            "  File \"/home/herom/lintf/lib/python3.12/site-packages/keras_tuner/src/engine/base_tuner.py\", line 239, in _run_and_update_trial\n",
            "\n",
            "  File \"/home/herom/lintf/lib/python3.12/site-packages/keras_tuner/src/engine/tuner.py\", line 314, in run_trial\n",
            "\n",
            "  File \"/home/herom/lintf/lib/python3.12/site-packages/keras_tuner/src/engine/tuner.py\", line 233, in _build_and_fit_model\n",
            "\n",
            "  File \"/home/herom/lintf/lib/python3.12/site-packages/keras_tuner/src/engine/hypermodel.py\", line 149, in fit\n",
            "\n",
            "  File \"/home/herom/lintf/lib/python3.12/site-packages/keras/src/utils/traceback_utils.py\", line 117, in error_handler\n",
            "\n",
            "  File \"/home/herom/lintf/lib/python3.12/site-packages/keras/src/backend/tensorflow/trainer.py\", line 371, in fit\n",
            "\n",
            "  File \"/home/herom/lintf/lib/python3.12/site-packages/keras/src/backend/tensorflow/trainer.py\", line 219, in function\n",
            "\n",
            "  File \"/home/herom/lintf/lib/python3.12/site-packages/keras/src/backend/tensorflow/trainer.py\", line 132, in multi_step_on_iterator\n",
            "\n",
            "  File \"/home/herom/lintf/lib/python3.12/site-packages/keras/src/backend/tensorflow/trainer.py\", line 113, in one_step_on_data\n",
            "\n",
            "  File \"/home/herom/lintf/lib/python3.12/site-packages/keras/src/backend/tensorflow/trainer.py\", line 80, in train_step\n",
            "\n",
            "  File \"/home/herom/lintf/lib/python3.12/site-packages/keras/src/optimizers/base_optimizer.py\", line 383, in apply_gradients\n",
            "\n",
            "  File \"/home/herom/lintf/lib/python3.12/site-packages/keras/src/optimizers/base_optimizer.py\", line 448, in apply\n",
            "\n",
            "  File \"/home/herom/lintf/lib/python3.12/site-packages/keras/src/optimizers/base_optimizer.py\", line 511, in _backend_apply_gradients\n",
            "\n",
            "  File \"/home/herom/lintf/lib/python3.12/site-packages/keras/src/backend/tensorflow/optimizer.py\", line 120, in _backend_update_step\n",
            "\n",
            "  File \"/home/herom/lintf/lib/python3.12/site-packages/keras/src/backend/tensorflow/optimizer.py\", line 134, in _distributed_tf_update_step\n",
            "\n",
            "  File \"/home/herom/lintf/lib/python3.12/site-packages/keras/src/backend/tensorflow/optimizer.py\", line 131, in apply_grad_to_update_var\n",
            "\n",
            "  File \"/home/herom/lintf/lib/python3.12/site-packages/keras/src/optimizers/adam.py\", line 133, in update_step\n",
            "\n",
            "  File \"/home/herom/lintf/lib/python3.12/site-packages/keras/src/ops/numpy.py\", line 6078, in subtract\n",
            "\n",
            "  File \"/home/herom/lintf/lib/python3.12/site-packages/keras/src/backend/tensorflow/sparse.py\", line 493, in sparse_wrapper\n",
            "\n",
            "  File \"/home/herom/lintf/lib/python3.12/site-packages/keras/src/backend/tensorflow/numpy.py\", line 439, in subtract\n",
            "\n",
            "failed to allocate memory\n",
            "\t [[{{node adam/Sub_618}}]]\n",
            "Hint: If you want to see a list of allocated tensors when OOM happens, add report_tensor_allocations_upon_oom to RunOptions for current allocation info. This isn't available when running in Eager mode.\n",
            " [Op:__inference_multi_step_on_iterator_458095]\n",
            "\n"
          ]
        }
      ],
      "source": [
        "Xception_task1_tuner.results_summary()"
      ]
    },
    {
      "cell_type": "markdown",
      "id": "kg5Uc619QxJ2",
      "metadata": {
        "id": "kg5Uc619QxJ2"
      },
      "source": [
        "## Evaluation Results and Final Training Session"
      ]
    },
    {
      "cell_type": "markdown",
      "id": "jZ1M_KJlkdYY",
      "metadata": {
        "id": "jZ1M_KJlkdYY"
      },
      "source": [
        "1. Build all functions to calculate F1 and F1 per class"
      ]
    },
    {
      "cell_type": "code",
      "execution_count": null,
      "id": "Id_krC6Pa9rg",
      "metadata": {
        "id": "Id_krC6Pa9rg"
      },
      "outputs": [],
      "source": [
        "# Function to extract labels and preds\n",
        "def extract_labels_and_preds(model, dataset):\n",
        "    y_true = []\n",
        "    y_pred = []\n",
        "\n",
        "    for images, labels in dataset:\n",
        "        preds = model.predict(images, verbose=0)\n",
        "        y_true.append(labels.numpy())\n",
        "        y_pred.append(preds)\n",
        "\n",
        "    y_true = np.concatenate(y_true)\n",
        "    y_pred = np.concatenate(y_pred)\n",
        "\n",
        "    return y_true, y_pred"
      ]
    },
    {
      "cell_type": "code",
      "execution_count": null,
      "id": "8iu-8-OLbvPp",
      "metadata": {
        "id": "8iu-8-OLbvPp"
      },
      "outputs": [],
      "source": [
        "# Function to evaluate by f1\n",
        "from sklearn.metrics import f1_score\n",
        "def evaluate_f1(model, val_dataset, average='macro'):\n",
        "    y_true, y_pred = extract_labels_and_preds(model, val_dataset)\n",
        "\n",
        "    # Convert one-hot encoded labels to class indices\n",
        "    y_true = np.argmax(y_true, axis=1)\n",
        "    y_pred_classes = np.argmax(y_pred, axis=1)\n",
        "\n",
        "    return f1_score(y_true, y_pred_classes, average=average)"
      ]
    },
    {
      "cell_type": "code",
      "execution_count": null,
      "id": "wLlmb23ERqL-",
      "metadata": {
        "id": "wLlmb23ERqL-"
      },
      "outputs": [],
      "source": [
        "# Function to evaluate by f1 per class\n",
        "from sklearn.metrics import classification_report\n",
        "def evaluate_f1_per_class(model, val_dataset, target_names=None):\n",
        "    y_true, y_pred = extract_labels_and_preds(model, val_dataset)\n",
        "\n",
        "    # Convert one-hot labels to class indices\n",
        "    y_true = np.argmax(y_true, axis=1)\n",
        "    y_pred_classes = np.argmax(y_pred, axis=1)\n",
        "\n",
        "    report = classification_report(\n",
        "        y_true,\n",
        "        y_pred_classes,\n",
        "        target_names=target_names,\n",
        "        digits=4\n",
        "    )\n",
        "    print(report)"
      ]
    },
    {
      "cell_type": "code",
      "execution_count": null,
      "id": "Q3YxzCDJRKX2",
      "metadata": {
        "colab": {
          "base_uri": "https://localhost:8080/"
        },
        "id": "Q3YxzCDJRKX2",
        "outputId": "b2dbda86-8624-4632-aa98-414eed2d8aad"
      },
      "outputs": [
        {
          "name": "stderr",
          "output_type": "stream",
          "text": [
            "/home/herom/lintf/lib/python3.12/site-packages/keras/src/saving/saving_lib.py:757: UserWarning: Skipping variable loading for optimizer 'adam', because it has 176 variables whereas the saved optimizer has 2 variables. \n",
            "  saveable.load_own_variables(weights_store.get(inner_path))\n",
            "/home/herom/lintf/lib/python3.12/site-packages/keras/src/saving/saving_lib.py:757: UserWarning: Skipping variable loading for optimizer 'adam', because it has 322 variables whereas the saved optimizer has 2 variables. \n",
            "  saveable.load_own_variables(weights_store.get(inner_path))\n"
          ]
        }
      ],
      "source": [
        "# Load trained model\n",
        "from tensorflow.keras.models import load_model\n",
        "best_EfficientNetB0_model_task_1 = load_model(\"best_EfficientNetB0_model_task_1.keras\")\n",
        "best_MobileNet_model_task_1 = load_model(\"best_MobileNet_model_task_1.keras\")\n",
        "best_Xception_model_task_1 = load_model(\"best_Xception_model_task_1.keras\")"
      ]
    },
    {
      "cell_type": "markdown",
      "id": "FU50o7frksU0",
      "metadata": {
        "id": "FU50o7frksU0"
      },
      "source": [
        "2. Calculate F1 Score for all models"
      ]
    },
    {
      "cell_type": "code",
      "execution_count": null,
      "id": "QGC8OlCpSORi",
      "metadata": {
        "colab": {
          "base_uri": "https://localhost:8080/"
        },
        "id": "QGC8OlCpSORi",
        "outputId": "61a099cb-4c9f-43d9-a294-a213d5690e6c"
      },
      "outputs": [
        {
          "name": "stdout",
          "output_type": "stream",
          "text": [
            "F1 Score of EfficientNetB0 model:  0.986250357928615\n"
          ]
        }
      ],
      "source": [
        "print(\"F1 Score of EfficientNetB0 model: \", evaluate_f1(best_EfficientNetB0_model_task_1, val_dataset_task1))"
      ]
    },
    {
      "cell_type": "code",
      "execution_count": null,
      "id": "U-BJdTK2SQo-",
      "metadata": {
        "colab": {
          "base_uri": "https://localhost:8080/"
        },
        "id": "U-BJdTK2SQo-",
        "outputId": "597d7b52-8273-422e-890a-607f9c1e6a2f"
      },
      "outputs": [
        {
          "name": "stdout",
          "output_type": "stream",
          "text": [
            "F1 Score of MobileNet model:  0.9845610942558753\n"
          ]
        },
        {
          "name": "stderr",
          "output_type": "stream",
          "text": [
            "2025-05-16 10:44:31.943588: I tensorflow/core/framework/local_rendezvous.cc:407] Local rendezvous is aborting with status: OUT_OF_RANGE: End of sequence\n"
          ]
        }
      ],
      "source": [
        "print(\"F1 Score of MobileNet model: \", evaluate_f1(best_MobileNet_model_task_1, val_dataset_task1))"
      ]
    },
    {
      "cell_type": "code",
      "execution_count": null,
      "id": "PMlu-bWRSSCJ",
      "metadata": {
        "colab": {
          "base_uri": "https://localhost:8080/"
        },
        "id": "PMlu-bWRSSCJ",
        "outputId": "8b8d2fe1-fef6-4dfe-9c38-516204aca2ae"
      },
      "outputs": [
        {
          "name": "stdout",
          "output_type": "stream",
          "text": [
            "F1 Score of Xception model:  0.9877074459583417\n"
          ]
        }
      ],
      "source": [
        "print(\"F1 Score of Xception model: \", evaluate_f1(best_Xception_model_task_1, val_dataset_task1))"
      ]
    },
    {
      "cell_type": "markdown",
      "id": "_vs_qH9ck1My",
      "metadata": {
        "id": "_vs_qH9ck1My"
      },
      "source": [
        "3. Calculate F1 Score per class for all models"
      ]
    },
    {
      "cell_type": "code",
      "execution_count": null,
      "id": "nCWafQP9RxGv",
      "metadata": {
        "colab": {
          "base_uri": "https://localhost:8080/"
        },
        "id": "nCWafQP9RxGv",
        "outputId": "30272320-be0c-479c-e3a5-28643e2b532a"
      },
      "outputs": [
        {
          "name": "stdout",
          "output_type": "stream",
          "text": [
            "              precision    recall  f1-score   support\n",
            "\n",
            "           0     0.9806    1.0000    0.9902       101\n",
            "           1     0.9859    0.9859    0.9859        71\n",
            "           2     1.0000    1.0000    1.0000        60\n",
            "           3     0.9662    0.9942    0.9800       345\n",
            "           4     0.9896    0.9646    0.9770       198\n",
            "           5     1.0000    0.9963    0.9981       267\n",
            "           6     0.9704    0.9357    0.9527       140\n",
            "           7     0.9969    0.9908    0.9938       325\n",
            "           8     0.9861    0.9972    0.9916       355\n",
            "           9     1.0000    0.9864    0.9931       220\n",
            "\n",
            "    accuracy                         0.9870      2082\n",
            "   macro avg     0.9876    0.9851    0.9863      2082\n",
            "weighted avg     0.9871    0.9870    0.9870      2082\n",
            "\n"
          ]
        },
        {
          "name": "stderr",
          "output_type": "stream",
          "text": [
            "2025-05-15 21:10:21.828466: I tensorflow/core/framework/local_rendezvous.cc:407] Local rendezvous is aborting with status: OUT_OF_RANGE: End of sequence\n"
          ]
        }
      ],
      "source": [
        "evaluate_f1_per_class(best_EfficientNetB0_model_task_1, val_dataset_task1)"
      ]
    },
    {
      "cell_type": "code",
      "execution_count": null,
      "id": "9BF3LFjAR62q",
      "metadata": {
        "colab": {
          "base_uri": "https://localhost:8080/"
        },
        "id": "9BF3LFjAR62q",
        "outputId": "015b274e-6a49-46a4-e243-ac343040c5dd"
      },
      "outputs": [
        {
          "name": "stdout",
          "output_type": "stream",
          "text": [
            "              precision    recall  f1-score   support\n",
            "\n",
            "           0     0.9901    0.9901    0.9901       101\n",
            "           1     1.0000    0.9859    0.9929        71\n",
            "           2     1.0000    1.0000    1.0000        60\n",
            "           3     0.9606    0.9884    0.9743       345\n",
            "           4     0.9948    0.9747    0.9847       198\n",
            "           5     0.9962    0.9925    0.9944       267\n",
            "           6     0.9424    0.9357    0.9391       140\n",
            "           7     0.9969    0.9877    0.9923       325\n",
            "           8     0.9915    0.9915    0.9915       355\n",
            "           9     0.9864    0.9864    0.9864       220\n",
            "\n",
            "    accuracy                         0.9846      2082\n",
            "   macro avg     0.9859    0.9833    0.9846      2082\n",
            "weighted avg     0.9848    0.9846    0.9847      2082\n",
            "\n"
          ]
        }
      ],
      "source": [
        "evaluate_f1_per_class(best_MobileNet_model_task_1, val_dataset_task1)"
      ]
    },
    {
      "cell_type": "code",
      "execution_count": null,
      "id": "ZurgTa_8R8fs",
      "metadata": {
        "colab": {
          "base_uri": "https://localhost:8080/"
        },
        "id": "ZurgTa_8R8fs",
        "outputId": "aacb4ac0-8a5c-49c3-aa17-0075a99e30f2"
      },
      "outputs": [
        {
          "name": "stdout",
          "output_type": "stream",
          "text": [
            "              precision    recall  f1-score   support\n",
            "\n",
            "           0     0.9901    0.9901    0.9901       101\n",
            "           1     1.0000    1.0000    1.0000        71\n",
            "           2     1.0000    1.0000    1.0000        60\n",
            "           3     0.9607    0.9913    0.9757       345\n",
            "           4     0.9799    0.9848    0.9824       198\n",
            "           5     1.0000    0.9963    0.9981       267\n",
            "           6     1.0000    0.9214    0.9591       140\n",
            "           7     0.9938    0.9908    0.9923       325\n",
            "           8     0.9916    0.9944    0.9930       355\n",
            "           9     0.9864    0.9864    0.9864       220\n",
            "\n",
            "    accuracy                         0.9870      2082\n",
            "   macro avg     0.9902    0.9855    0.9877      2082\n",
            "weighted avg     0.9873    0.9870    0.9870      2082\n",
            "\n"
          ]
        }
      ],
      "source": [
        "evaluate_f1_per_class(best_Xception_model_task_1, val_dataset_task1)"
      ]
    },
    {
      "cell_type": "markdown",
      "id": "uwTZzOhIlD-V",
      "metadata": {
        "id": "uwTZzOhIlD-V"
      },
      "source": [
        "4. Calculate Prediction Latency for all models"
      ]
    },
    {
      "cell_type": "code",
      "execution_count": null,
      "id": "s1bu-tvPcW3Q",
      "metadata": {
        "id": "s1bu-tvPcW3Q"
      },
      "outputs": [],
      "source": [
        "import time\n",
        "# Function to calculate the prediction time\n",
        "def calculate_prediction_time(model, dataset):\n",
        "  # Warm-up Run\n",
        "  for batch in dataset.take(1):\n",
        "      _ = model.predict(batch, verbose=0)\n",
        "\n",
        "  # Measure Prediction Time\n",
        "  start = time.time()\n",
        "  total_images = 0\n",
        "\n",
        "  for batch in dataset:\n",
        "      _ = model.predict(batch, verbose=0)\n",
        "      total_images += batch.shape[0]\n",
        "\n",
        "  end = time.time()\n",
        "\n",
        "  # Results\n",
        "  total_time = end - start\n",
        "  per_image_time = (total_time / total_images) * 1000  # in ms\n",
        "\n",
        "  print(f\"Predicted {total_images} images in {total_time:.2f} seconds\")\n",
        "  print(f\"Average prediction time per image: {per_image_time:.2f} ms\")"
      ]
    },
    {
      "cell_type": "code",
      "execution_count": null,
      "id": "QjqvT9gAdLGu",
      "metadata": {
        "colab": {
          "base_uri": "https://localhost:8080/"
        },
        "id": "QjqvT9gAdLGu",
        "outputId": "e6e69501-b1f4-4ff7-dfd1-b2657adcb6d4"
      },
      "outputs": [
        {
          "name": "stdout",
          "output_type": "stream",
          "text": [
            "EfficientNetB0:\n",
            "Predicted 3469 images in 7.31 seconds\n",
            "Average prediction time per image: 2.11 ms\n"
          ]
        }
      ],
      "source": [
        "print(\"EfficientNetB0:\")\n",
        "calculate_prediction_time(best_EfficientNetB0_model_task_1, test_dataset)"
      ]
    },
    {
      "cell_type": "code",
      "execution_count": null,
      "id": "H_nlTLvMfiyE",
      "metadata": {
        "colab": {
          "base_uri": "https://localhost:8080/"
        },
        "id": "H_nlTLvMfiyE",
        "outputId": "a1807246-e13a-403c-b468-ae37bb679cb1"
      },
      "outputs": [
        {
          "name": "stdout",
          "output_type": "stream",
          "text": [
            "MobileNet:\n"
          ]
        },
        {
          "name": "stderr",
          "output_type": "stream",
          "text": [
            "2025-05-16 10:45:07.540247: I tensorflow/core/framework/local_rendezvous.cc:407] Local rendezvous is aborting with status: OUT_OF_RANGE: End of sequence\n"
          ]
        },
        {
          "name": "stdout",
          "output_type": "stream",
          "text": [
            "Predicted 3469 images in 5.79 seconds\n",
            "Average prediction time per image: 1.67 ms\n"
          ]
        }
      ],
      "source": [
        "print(\"MobileNet:\")\n",
        "calculate_prediction_time(best_MobileNet_model_task_1, test_dataset)"
      ]
    },
    {
      "cell_type": "code",
      "execution_count": null,
      "id": "CuBInpfgfvcK",
      "metadata": {
        "colab": {
          "base_uri": "https://localhost:8080/"
        },
        "id": "CuBInpfgfvcK",
        "outputId": "3d2f6592-9139-4435-9358-9f520119fb98"
      },
      "outputs": [
        {
          "name": "stdout",
          "output_type": "stream",
          "text": [
            "Xception:\n"
          ]
        },
        {
          "name": "stderr",
          "output_type": "stream",
          "text": [
            "2025-05-16 10:45:24.887023: I tensorflow/core/framework/local_rendezvous.cc:407] Local rendezvous is aborting with status: OUT_OF_RANGE: End of sequence\n"
          ]
        },
        {
          "name": "stdout",
          "output_type": "stream",
          "text": [
            "Predicted 3469 images in 10.08 seconds\n",
            "Average prediction time per image: 2.91 ms\n"
          ]
        }
      ],
      "source": [
        "print(\"Xception:\")\n",
        "calculate_prediction_time(best_Xception_model_task_1, test_dataset)"
      ]
    },
    {
      "cell_type": "markdown",
      "id": "DIGEgc_z-Ick",
      "metadata": {
        "id": "DIGEgc_z-Ick"
      },
      "source": [
        "5. Train final chosen model"
      ]
    },
    {
      "cell_type": "code",
      "execution_count": null,
      "id": "RIRjGsf5TLJS",
      "metadata": {
        "colab": {
          "base_uri": "https://localhost:8080/"
        },
        "id": "RIRjGsf5TLJS",
        "outputId": "0966a984-13ae-4029-f3f2-aa1e4d0d6bd9"
      },
      "outputs": [
        {
          "name": "stdout",
          "output_type": "stream",
          "text": [
            "Epoch 1/30\n",
            "\u001b[1m261/261\u001b[0m \u001b[32m━━━━━━━━━━━━━━━━━━━━\u001b[0m\u001b[37m\u001b[0m \u001b[1m52s\u001b[0m 199ms/step - accuracy: 0.9877 - loss: 0.1843 - val_accuracy: 0.9649 - val_loss: 0.2638 - learning_rate: 0.0014\n",
            "Epoch 2/30\n",
            "\u001b[1m261/261\u001b[0m \u001b[32m━━━━━━━━━━━━━━━━━━━━\u001b[0m\u001b[37m\u001b[0m \u001b[1m49s\u001b[0m 186ms/step - accuracy: 0.9854 - loss: 0.1940 - val_accuracy: 0.9673 - val_loss: 0.2461 - learning_rate: 0.0014\n",
            "Epoch 3/30\n",
            "\u001b[1m261/261\u001b[0m \u001b[32m━━━━━━━━━━━━━━━━━━━━\u001b[0m\u001b[37m\u001b[0m \u001b[1m51s\u001b[0m 194ms/step - accuracy: 0.9836 - loss: 0.2009 - val_accuracy: 0.9717 - val_loss: 0.2327 - learning_rate: 0.0014\n",
            "Epoch 4/30\n",
            "\u001b[1m261/261\u001b[0m \u001b[32m━━━━━━━━━━━━━━━━━━━━\u001b[0m\u001b[37m\u001b[0m \u001b[1m49s\u001b[0m 187ms/step - accuracy: 0.9915 - loss: 0.1757 - val_accuracy: 0.9736 - val_loss: 0.2374 - learning_rate: 0.0014\n",
            "Epoch 5/30\n",
            "\u001b[1m261/261\u001b[0m \u001b[32m━━━━━━━━━━━━━━━━━━━━\u001b[0m\u001b[37m\u001b[0m \u001b[1m50s\u001b[0m 190ms/step - accuracy: 0.9900 - loss: 0.1818 - val_accuracy: 0.9846 - val_loss: 0.1976 - learning_rate: 0.0014\n",
            "Epoch 6/30\n",
            "\u001b[1m261/261\u001b[0m \u001b[32m━━━━━━━━━━━━━━━━━━━━\u001b[0m\u001b[37m\u001b[0m \u001b[1m50s\u001b[0m 190ms/step - accuracy: 0.9853 - loss: 0.1922 - val_accuracy: 0.9774 - val_loss: 0.2279 - learning_rate: 0.0014\n",
            "Epoch 7/30\n",
            "\u001b[1m261/261\u001b[0m \u001b[32m━━━━━━━━━━━━━━━━━━━━\u001b[0m\u001b[37m\u001b[0m \u001b[1m49s\u001b[0m 187ms/step - accuracy: 0.9886 - loss: 0.1874 - val_accuracy: 0.9817 - val_loss: 0.2103 - learning_rate: 0.0014\n",
            "Epoch 8/30\n",
            "\u001b[1m261/261\u001b[0m \u001b[32m━━━━━━━━━━━━━━━━━━━━\u001b[0m\u001b[37m\u001b[0m \u001b[1m50s\u001b[0m 192ms/step - accuracy: 0.9921 - loss: 0.1761 - val_accuracy: 0.9697 - val_loss: 0.2326 - learning_rate: 0.0014\n",
            "Epoch 9/30\n",
            "\u001b[1m261/261\u001b[0m \u001b[32m━━━━━━━━━━━━━━━━━━━━\u001b[0m\u001b[37m\u001b[0m \u001b[1m0s\u001b[0m 178ms/step - accuracy: 0.9890 - loss: 0.1809\n",
            "Epoch 9: ReduceLROnPlateau reducing learning rate to 0.0007059681811369956.\n",
            "\u001b[1m261/261\u001b[0m \u001b[32m━━━━━━━━━━━━━━━━━━━━\u001b[0m\u001b[37m\u001b[0m \u001b[1m49s\u001b[0m 187ms/step - accuracy: 0.9890 - loss: 0.1809 - val_accuracy: 0.9424 - val_loss: 0.3350 - learning_rate: 0.0014\n",
            "Epoch 10/30\n",
            "\u001b[1m261/261\u001b[0m \u001b[32m━━━━━━━━━━━━━━━━━━━━\u001b[0m\u001b[37m\u001b[0m \u001b[1m50s\u001b[0m 193ms/step - accuracy: 0.9910 - loss: 0.1782 - val_accuracy: 0.9832 - val_loss: 0.1999 - learning_rate: 7.0597e-04\n",
            "Epoch 11/30\n",
            "\u001b[1m261/261\u001b[0m \u001b[32m━━━━━━━━━━━━━━━━━━━━\u001b[0m\u001b[37m\u001b[0m \u001b[1m48s\u001b[0m 184ms/step - accuracy: 0.9972 - loss: 0.1566 - val_accuracy: 0.9870 - val_loss: 0.1860 - learning_rate: 7.0597e-04\n",
            "Epoch 12/30\n",
            "\u001b[1m261/261\u001b[0m \u001b[32m━━━━━━━━━━━━━━━━━━━━\u001b[0m\u001b[37m\u001b[0m \u001b[1m50s\u001b[0m 193ms/step - accuracy: 0.9974 - loss: 0.1559 - val_accuracy: 0.9813 - val_loss: 0.1975 - learning_rate: 7.0597e-04\n",
            "Epoch 13/30\n",
            "\u001b[1m261/261\u001b[0m \u001b[32m━━━━━━━━━━━━━━━━━━━━\u001b[0m\u001b[37m\u001b[0m \u001b[1m48s\u001b[0m 184ms/step - accuracy: 0.9952 - loss: 0.1601 - val_accuracy: 0.9832 - val_loss: 0.2033 - learning_rate: 7.0597e-04\n",
            "Epoch 14/30\n",
            "\u001b[1m261/261\u001b[0m \u001b[32m━━━━━━━━━━━━━━━━━━━━\u001b[0m\u001b[37m\u001b[0m \u001b[1m50s\u001b[0m 193ms/step - accuracy: 0.9969 - loss: 0.1555 - val_accuracy: 0.9851 - val_loss: 0.1809 - learning_rate: 7.0597e-04\n",
            "Epoch 15/30\n",
            "\u001b[1m261/261\u001b[0m \u001b[32m━━━━━━━━━━━━━━━━━━━━\u001b[0m\u001b[37m\u001b[0m \u001b[1m48s\u001b[0m 186ms/step - accuracy: 0.9969 - loss: 0.1555 - val_accuracy: 0.9798 - val_loss: 0.2023 - learning_rate: 7.0597e-04\n",
            "Epoch 16/30\n",
            "\u001b[1m261/261\u001b[0m \u001b[32m━━━━━━━━━━━━━━━━━━━━\u001b[0m\u001b[37m\u001b[0m \u001b[1m48s\u001b[0m 186ms/step - accuracy: 0.9971 - loss: 0.1534 - val_accuracy: 0.9789 - val_loss: 0.2094 - learning_rate: 7.0597e-04\n",
            "Epoch 17/30\n",
            "\u001b[1m261/261\u001b[0m \u001b[32m━━━━━━━━━━━━━━━━━━━━\u001b[0m\u001b[37m\u001b[0m \u001b[1m50s\u001b[0m 193ms/step - accuracy: 0.9973 - loss: 0.1569 - val_accuracy: 0.9683 - val_loss: 0.2354 - learning_rate: 7.0597e-04\n",
            "Epoch 18/30\n",
            "\u001b[1m261/261\u001b[0m \u001b[32m━━━━━━━━━━━━━━━━━━━━\u001b[0m\u001b[37m\u001b[0m \u001b[1m0s\u001b[0m 179ms/step - accuracy: 0.9949 - loss: 0.1608\n",
            "Epoch 18: ReduceLROnPlateau reducing learning rate to 0.0003529840905684978.\n",
            "\u001b[1m261/261\u001b[0m \u001b[32m━━━━━━━━━━━━━━━━━━━━\u001b[0m\u001b[37m\u001b[0m \u001b[1m49s\u001b[0m 188ms/step - accuracy: 0.9949 - loss: 0.1608 - val_accuracy: 0.9837 - val_loss: 0.1880 - learning_rate: 7.0597e-04\n",
            "Epoch 19/30\n",
            "\u001b[1m261/261\u001b[0m \u001b[32m━━━━━━━━━━━━━━━━━━━━\u001b[0m\u001b[37m\u001b[0m \u001b[1m50s\u001b[0m 193ms/step - accuracy: 0.9974 - loss: 0.1532 - val_accuracy: 0.9846 - val_loss: 0.1899 - learning_rate: 3.5298e-04\n",
            "Epoch 20/30\n",
            "\u001b[1m261/261\u001b[0m \u001b[32m━━━━━━━━━━━━━━━━━━━━\u001b[0m\u001b[37m\u001b[0m \u001b[1m48s\u001b[0m 186ms/step - accuracy: 0.9988 - loss: 0.1482 - val_accuracy: 0.9841 - val_loss: 0.1874 - learning_rate: 3.5298e-04\n"
          ]
        }
      ],
      "source": [
        "final_EfficientNetB0_model_task_1_history = best_EfficientNetB0_model_task_1.fit(train_dataset_task1, validation_data=val_dataset_task1, epochs=30, callbacks=[early_stop_EfficientNetB0_model_task1, reduce_lr_EfficientNetB0_model_task1])"
      ]
    },
    {
      "cell_type": "code",
      "execution_count": null,
      "id": "Xzla3YVSTqfP",
      "metadata": {
        "id": "Xzla3YVSTqfP"
      },
      "outputs": [],
      "source": [
        "# Save the final model for prediction use\n",
        "best_EfficientNetB0_model_task_1.save('final_EfficientNetB0_model_task_1.keras')"
      ]
    },
    {
      "cell_type": "markdown",
      "id": "q9oKoJD-lLAn",
      "metadata": {
        "id": "q9oKoJD-lLAn"
      },
      "source": [
        "6. Plot the final model's training session"
      ]
    },
    {
      "cell_type": "code",
      "execution_count": null,
      "id": "Z63EOBSg4qEM",
      "metadata": {
        "id": "Z63EOBSg4qEM"
      },
      "outputs": [],
      "source": [
        "import matplotlib.pyplot as plt\n",
        "# Function to Plotting the Model\n",
        "def plot_learning_curve(train_loss, val_loss, train_metric, val_metric, metric_name='Accuracy', model_name='None'):\n",
        "    epochs = range(1, len(train_loss) + 1)\n",
        "\n",
        "    plt.figure(figsize=(14, 5))\n",
        "\n",
        "    # Plot Loss\n",
        "    plt.subplot(1, 2, 1)\n",
        "    plt.plot(epochs, train_loss, 'bo-', label='Training Loss')\n",
        "    plt.plot(epochs, val_loss, 'ro-', label='Validation Loss')\n",
        "    plt.title(f'Training and Validation Loss - {model_name}')\n",
        "    plt.xlabel('Epochs')\n",
        "    plt.ylabel('Loss')\n",
        "    plt.legend()\n",
        "\n",
        "    # Plot Accuracy or Other Metric\n",
        "    plt.subplot(1, 2, 2)\n",
        "    plt.plot(epochs, train_metric, 'bo-', label=f'Training {metric_name}')\n",
        "    plt.plot(epochs, val_metric, 'ro-', label=f'Validation {metric_name}')\n",
        "    plt.title(f'Training and Validation {metric_name} - {model_name}')\n",
        "    plt.xlabel('Epochs')\n",
        "    plt.ylabel(metric_name)\n",
        "    plt.legend()\n",
        "\n",
        "    plt.tight_layout()\n",
        "    plt.show()\n"
      ]
    },
    {
      "cell_type": "code",
      "execution_count": null,
      "id": "0XTBZL3qBJA5",
      "metadata": {
        "colab": {
          "base_uri": "https://localhost:8080/",
          "height": 507
        },
        "id": "0XTBZL3qBJA5",
        "outputId": "48dca64f-692d-4366-ed46-dc07215957b1"
      },
      "outputs": [
        {
          "data": {
            "image/png": "[encoded data removed]",
            "text/plain": [
              "<Figure size 1400x500 with 2 Axes>"
            ]
          },
          "metadata": {},
          "output_type": "display_data"
        }
      ],
      "source": [
        "plot_learning_curve(final_EfficientNetB0_model_task_1_history.history['loss'], final_EfficientNetB0_model_task_1_history.history['val_loss'],\n",
        "                    final_EfficientNetB0_model_task_1_history.history['accuracy'], final_EfficientNetB0_model_task_1_history.history['val_accuracy'],\n",
        "                    metric_name='Accuracy', model_name=\"EfficientNetB0\")"
      ]
    }
  ],
  "metadata": {
    "accelerator": "GPU",
    "colab": {
      "gpuType": "T4",
      "provenance": []
    },
    "kernelspec": {
      "display_name": "base",
      "language": "python",
      "name": "python3"
    },
    "language_info": {
      "codemirror_mode": {
        "name": "ipython",
        "version": 3
      },
      "file_extension": ".py",
      "mimetype": "text/x-python",
      "name": "python",
      "nbconvert_exporter": "python",
      "pygments_lexer": "ipython3",
      "version": "3.12.3"
    }
  },
  "nbformat": 4,
  "nbformat_minor": 5
}
