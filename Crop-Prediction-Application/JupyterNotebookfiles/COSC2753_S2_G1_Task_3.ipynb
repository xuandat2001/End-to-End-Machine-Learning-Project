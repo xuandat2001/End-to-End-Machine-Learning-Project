{
  "cells": [
    {
      "cell_type": "markdown",
      "source": [
        "## Packages installations and imports\n",
        "(Run this section to ensure smooth operation for the Notebook)"
      ],
      "metadata": {
        "id": "ptJGXmngjFqK"
      },
      "id": "ptJGXmngjFqK"
    },
    {
      "cell_type": "code",
      "execution_count": null,
      "id": "ab14d390",
      "metadata": {
        "id": "ab14d390"
      },
      "outputs": [],
      "source": [
        "import numpy as np\n",
        "import tensorflow as tf\n",
        "import glob\n",
        "import random\n",
        "from tensorflow.keras.preprocessing.image import ImageDataGenerator, img_to_array, load_img\n",
        "from pathlib import Path\n",
        "import os"
      ]
    },
    {
      "cell_type": "markdown",
      "id": "11c9cb09",
      "metadata": {
        "id": "11c9cb09"
      },
      "source": [
        "# Overview Dataset"
      ]
    },
    {
      "cell_type": "markdown",
      "id": "4bb2de10",
      "metadata": {
        "id": "4bb2de10"
      },
      "source": [
        "1. Data Structure"
      ]
    },
    {
      "cell_type": "code",
      "execution_count": null,
      "id": "1adac6a6",
      "metadata": {
        "colab": {
          "base_uri": "https://localhost:8080/"
        },
        "id": "1adac6a6",
        "outputId": "996cb465-312b-446b-8ee9-011762516305"
      },
      "outputs": [
        {
          "output_type": "stream",
          "name": "stderr",
          "text": [
            "Retrieving folder contents\n"
          ]
        },
        {
          "output_type": "stream",
          "name": "stdout",
          "text": [
            "Processing file 1tswGuA4JAO_fX8yQKlUTZoaXvHpeYnp8 meta_train.csv\n",
            "Processing file 1Cz6q_m9fpAFePRZV6Ca2vMya4XvZDamX test_images.zip\n",
            "Processing file 1tp1F1Xora43V5Ks3IjRaw40V3iAC6Wm2 train_images.zip\n"
          ]
        },
        {
          "output_type": "stream",
          "name": "stderr",
          "text": [
            "Retrieving folder contents completed\n",
            "Building directory structure\n",
            "Building directory structure completed\n",
            "Downloading...\n",
            "From: https://drive.google.com/uc?id=1tswGuA4JAO_fX8yQKlUTZoaXvHpeYnp8\n",
            "To: /content/data/meta_train.csv\n",
            "100%|██████████| 335k/335k [00:00<00:00, 110MB/s]\n",
            "Downloading...\n",
            "From (original): https://drive.google.com/uc?id=1Cz6q_m9fpAFePRZV6Ca2vMya4XvZDamX\n",
            "From (redirected): https://drive.google.com/uc?id=1Cz6q_m9fpAFePRZV6Ca2vMya4XvZDamX&confirm=t&uuid=0e4c3c00-5baf-4ad9-9be1-8d9f2d7996b4\n",
            "To: /content/data/test_images.zip\n",
            "100%|██████████| 274M/274M [00:02<00:00, 99.4MB/s]\n",
            "Downloading...\n",
            "From (original): https://drive.google.com/uc?id=1tp1F1Xora43V5Ks3IjRaw40V3iAC6Wm2\n",
            "From (redirected): https://drive.google.com/uc?id=1tp1F1Xora43V5Ks3IjRaw40V3iAC6Wm2&confirm=t&uuid=45a2905b-f2df-4523-85e5-ebdfc7b6a24d\n",
            "To: /content/data/train_images.zip\n",
            "100%|██████████| 820M/820M [00:09<00:00, 88.1MB/s]\n",
            "Download completed\n"
          ]
        },
        {
          "output_type": "execute_result",
          "data": {
            "text/plain": [
              "['/content/data/meta_train.csv',\n",
              " '/content/data/test_images.zip',\n",
              " '/content/data/train_images.zip']"
            ]
          },
          "metadata": {},
          "execution_count": 5
        }
      ],
      "source": [
        "import gdown\n",
        "\n",
        "gdown.download_folder(\"https://drive.google.com/drive/folders/19DLS6ZrfsxVq4IrRycPKrtt1TQanV9Em?usp=sharing\", quiet=False, use_cookies=False)"
      ]
    },
    {
      "cell_type": "code",
      "execution_count": null,
      "id": "1KOXVZNFKXVP",
      "metadata": {
        "id": "1KOXVZNFKXVP"
      },
      "outputs": [],
      "source": [
        "# Import\n",
        "import zipfile\n",
        "with zipfile.ZipFile('data/train_images.zip', 'r') as zip_ref:\n",
        "    zip_ref.extractall('./data')"
      ]
    },
    {
      "cell_type": "code",
      "execution_count": null,
      "id": "uo-aPP2KZ_1u",
      "metadata": {
        "id": "uo-aPP2KZ_1u"
      },
      "outputs": [],
      "source": [
        "with zipfile.ZipFile('data/test_images.zip', 'r') as zip_ref:\n",
        "    zip_ref.extractall('./data')"
      ]
    },
    {
      "cell_type": "code",
      "execution_count": null,
      "id": "e3f94815",
      "metadata": {
        "id": "e3f94815",
        "colab": {
          "base_uri": "https://localhost:8080/"
        },
        "outputId": "3a2d4d6c-63da-4dda-d0f0-13f1c9eafaff"
      },
      "outputs": [
        {
          "output_type": "stream",
          "name": "stdout",
          "text": [
            "<class 'pandas.core.frame.DataFrame'>\n",
            "RangeIndex: 10407 entries, 0 to 10406\n",
            "Data columns (total 4 columns):\n",
            " #   Column    Non-Null Count  Dtype \n",
            "---  ------    --------------  ----- \n",
            " 0   image_id  10407 non-null  object\n",
            " 1   label     10407 non-null  object\n",
            " 2   variety   10407 non-null  object\n",
            " 3   age       10407 non-null  int64 \n",
            "dtypes: int64(1), object(3)\n",
            "memory usage: 325.3+ KB\n"
          ]
        }
      ],
      "source": [
        "import pandas as pd\n",
        "data = pd.read_csv('data/meta_train.csv')\n",
        "\n",
        "data.head()\n",
        "\n",
        "data.info()"
      ]
    },
    {
      "cell_type": "code",
      "execution_count": null,
      "id": "b00b3d28",
      "metadata": {
        "id": "b00b3d28",
        "colab": {
          "base_uri": "https://localhost:8080/",
          "height": 175
        },
        "outputId": "2b0dd84f-a937-4e28-c023-3a2e107755f3"
      },
      "outputs": [
        {
          "output_type": "execute_result",
          "data": {
            "text/plain": [
              "          image_id   label variety    age\n",
              "count        10407   10407   10407  10407\n",
              "unique       10407      10      10     18\n",
              "top     110381.jpg  normal   ADT45     70\n",
              "freq             1    1764    6992   3077"
            ],
            "text/html": [
              "<div>\n",
              "<style scoped>\n",
              "    .dataframe tbody tr th:only-of-type {\n",
              "        vertical-align: middle;\n",
              "    }\n",
              "\n",
              "    .dataframe tbody tr th {\n",
              "        vertical-align: top;\n",
              "    }\n",
              "\n",
              "    .dataframe thead th {\n",
              "        text-align: right;\n",
              "    }\n",
              "</style>\n",
              "<table border=\"1\" class=\"dataframe\">\n",
              "  <thead>\n",
              "    <tr style=\"text-align: right;\">\n",
              "      <th></th>\n",
              "      <th>image_id</th>\n",
              "      <th>label</th>\n",
              "      <th>variety</th>\n",
              "      <th>age</th>\n",
              "    </tr>\n",
              "  </thead>\n",
              "  <tbody>\n",
              "    <tr>\n",
              "      <th>count</th>\n",
              "      <td>10407</td>\n",
              "      <td>10407</td>\n",
              "      <td>10407</td>\n",
              "      <td>10407</td>\n",
              "    </tr>\n",
              "    <tr>\n",
              "      <th>unique</th>\n",
              "      <td>10407</td>\n",
              "      <td>10</td>\n",
              "      <td>10</td>\n",
              "      <td>18</td>\n",
              "    </tr>\n",
              "    <tr>\n",
              "      <th>top</th>\n",
              "      <td>110381.jpg</td>\n",
              "      <td>normal</td>\n",
              "      <td>ADT45</td>\n",
              "      <td>70</td>\n",
              "    </tr>\n",
              "    <tr>\n",
              "      <th>freq</th>\n",
              "      <td>1</td>\n",
              "      <td>1764</td>\n",
              "      <td>6992</td>\n",
              "      <td>3077</td>\n",
              "    </tr>\n",
              "  </tbody>\n",
              "</table>\n",
              "</div>"
            ]
          },
          "metadata": {},
          "execution_count": 3
        }
      ],
      "source": [
        "data['age'] = data['age'].astype('object')\n",
        "data.describe(include='object')"
      ]
    },
    {
      "cell_type": "markdown",
      "id": "63d3fafc",
      "metadata": {
        "id": "63d3fafc"
      },
      "source": [
        "2. Check for Duplicated Data"
      ]
    },
    {
      "cell_type": "code",
      "execution_count": null,
      "id": "bebb0f26",
      "metadata": {
        "id": "bebb0f26",
        "colab": {
          "base_uri": "https://localhost:8080/"
        },
        "outputId": "a9d2f007-2686-4474-d2e1-8a44654cd211"
      },
      "outputs": [
        {
          "output_type": "stream",
          "name": "stdout",
          "text": [
            "image_id    0\n",
            "label       0\n",
            "variety     0\n",
            "age         0\n",
            "dtype: int64\n",
            "0\n"
          ]
        }
      ],
      "source": [
        "print(data.isnull().sum())\n",
        "print(data.duplicated().sum())"
      ]
    },
    {
      "cell_type": "markdown",
      "id": "95e9b730",
      "metadata": {
        "id": "95e9b730"
      },
      "source": [
        "3. Checking the data distribution of age classes"
      ]
    },
    {
      "cell_type": "code",
      "execution_count": null,
      "id": "38758542",
      "metadata": {
        "id": "38758542",
        "colab": {
          "base_uri": "https://localhost:8080/",
          "height": 497
        },
        "outputId": "21da653a-bb6d-4ae8-a933-703858766480"
      },
      "outputs": [
        {
          "output_type": "execute_result",
          "data": {
            "text/plain": [
              "Text(0, 0.5, 'count')"
            ]
          },
          "metadata": {},
          "execution_count": 11
        },
        {
          "output_type": "display_data",
          "data": {
            "text/plain": [
              "<Figure size 640x480 with 1 Axes>"
            ],
            "image/png": "[encoded data removed]"
          },
          "metadata": {}
        }
      ],
      "source": [
        "# for Age feature\n",
        "import matplotlib.pyplot as plt\n",
        "data[\"age\"].hist()\n",
        "plt.title(\"Class Distribution\")\n",
        "plt.xticks(rotation=45)\n",
        "plt.xlabel(\"age\")\n",
        "plt.ylabel(\"count\")"
      ]
    },
    {
      "cell_type": "code",
      "source": [
        "# Check for image resolution of given dataset as well as all images' format\n",
        "from PIL import Image\n",
        "from collections import Counter\n",
        "\n",
        "train_dir = \"data/train_images\"\n",
        "\n",
        "# Traverse all subdirectories (classes)\n",
        "image_sizes = []\n",
        "image_formats = []\n",
        "\n",
        "# Loop to go through all disease classes within the train_images folder\n",
        "# and its images to collect image resolution and format\n",
        "for class_folder in os.listdir(train_dir):\n",
        "    class_path = os.path.join(train_dir, class_folder)\n",
        "    if os.path.isdir(class_path):\n",
        "        for image_file in os.listdir(class_path):\n",
        "            image_path = os.path.join(class_path, image_file)\n",
        "            try:\n",
        "                with Image.open(image_path) as img:\n",
        "                    image_sizes.append(img.size)\n",
        "                    image_formats.append(img.format)  # Add format into image_formats array\n",
        "            except Exception as e:\n",
        "                print(f\"Error reading {image_path}: {e}\")\n",
        "\n",
        "# Image sizes summary\n",
        "size_counts = Counter(image_sizes)\n",
        "print(\"Most common image sizes:\")\n",
        "for size, count in size_counts.most_common():\n",
        "    print(f\"{size}: {count} images\")\n",
        "\n",
        "# Image formats summary\n",
        "format_counts = Counter(image_formats)\n",
        "print(\"\\nMost common image formats:\")\n",
        "for fmt, count in format_counts.most_common():\n",
        "    print(f\"{fmt}: {count} images\")"
      ],
      "metadata": {
        "id": "kKweJ9wFVyzA"
      },
      "id": "kKweJ9wFVyzA",
      "execution_count": null,
      "outputs": []
    },
    {
      "cell_type": "code",
      "execution_count": null,
      "id": "RvQ9zNut5VPu",
      "metadata": {
        "id": "RvQ9zNut5VPu",
        "colab": {
          "base_uri": "https://localhost:8080/"
        },
        "outputId": "9268e195-a858-4f23-a342-e2be983497df"
      },
      "outputs": [
        {
          "output_type": "stream",
          "name": "stderr",
          "text": [
            "I0000 00:00:1747375272.904134   50826 gpu_device.cc:2019] Created device /job:localhost/replica:0/task:0/device:GPU:0 with 5558 MB memory:  -> device: 0, name: NVIDIA GeForce RTX 3070 Ti, pci bus id: 0000:01:00.0, compute capability: 8.6\n"
          ]
        }
      ],
      "source": [
        "# Data augmentation\n",
        "from tensorflow.keras import layers, models, optimizers, regularizers\n",
        "data_augmentation = tf.keras.Sequential([\n",
        "    layers.RandomFlip('horizontal'),\n",
        "    layers.RandomRotation(0.1),\n",
        "    layers.RandomTranslation(height_factor=0.1, width_factor=0.1),\n",
        "    layers.RandomBrightness(0.2),\n",
        "    layers.RandomZoom(height_factor=0.2, width_factor=0.2),\n",
        "])"
      ]
    },
    {
      "cell_type": "code",
      "execution_count": null,
      "id": "un3tzgcAputx",
      "metadata": {
        "id": "un3tzgcAputx"
      },
      "outputs": [],
      "source": [
        "# Normalization layer\n",
        "normalization_layer = tf.keras.layers.Rescaling(1./255)"
      ]
    },
    {
      "cell_type": "markdown",
      "metadata": {
        "id": "5zrX8As1pOxj"
      },
      "source": [
        "# Pipeline for Test for Task 3"
      ],
      "id": "5zrX8As1pOxj"
    },
    {
      "cell_type": "markdown",
      "source": [
        "1. Import and split training data and validation data"
      ],
      "metadata": {
        "id": "mFZzVwXfo4RR"
      },
      "id": "mFZzVwXfo4RR"
    },
    {
      "cell_type": "code",
      "execution_count": null,
      "id": "0kDRqgqU_X4H",
      "metadata": {
        "id": "0kDRqgqU_X4H",
        "colab": {
          "base_uri": "https://localhost:8080/"
        },
        "outputId": "f0837633-512b-4e21-99cc-bab0edc54b5c"
      },
      "outputs": [
        {
          "output_type": "stream",
          "name": "stdout",
          "text": [
            "Total batches (Task 3): 326\n",
            "Train batches (Task 3): 260\n",
            "Validation batches (Task 3): 66\n"
          ]
        },
        {
          "output_type": "stream",
          "name": "stderr",
          "text": [
            "2025-05-16 13:02:02.573258: I tensorflow/core/kernels/data/shuffle_dataset_op.cc:452] ShuffleDatasetV3:24: Filling up shuffle buffer (this may take a while): 208 of 1000\n",
            "2025-05-16 13:02:05.806940: I tensorflow/core/kernels/data/shuffle_dataset_op.cc:482] Shuffle buffer filled.\n",
            "2025-05-16 13:02:05.807033: W tensorflow/core/kernels/data/cache_dataset_ops.cc:916] The calling iterator did not fully read the dataset being cached. In order to avoid unexpected truncation of the dataset, the partially cached contents of the dataset  will be discarded. This can happen if you have an input pipeline similar to `dataset.cache().take(k).repeat()`. You should use `dataset.take(k).cache().repeat()` instead.\n",
            "2025-05-16 13:02:05.807329: I tensorflow/core/framework/local_rendezvous.cc:407] Local rendezvous is aborting with status: OUT_OF_RANGE: End of sequence\n"
          ]
        },
        {
          "output_type": "stream",
          "name": "stdout",
          "text": [
            "(32, 224, 224, 3)\n",
            "(32,)\n",
            "(32, 224, 224, 3)\n",
            "(32,)\n"
          ]
        },
        {
          "output_type": "stream",
          "name": "stderr",
          "text": [
            "2025-05-16 13:02:16.804188: W tensorflow/core/kernels/data/cache_dataset_ops.cc:916] The calling iterator did not fully read the dataset being cached. In order to avoid unexpected truncation of the dataset, the partially cached contents of the dataset  will be discarded. This can happen if you have an input pipeline similar to `dataset.cache().take(k).repeat()`. You should use `dataset.take(k).cache().repeat()` instead.\n",
            "2025-05-16 13:02:16.804252: W tensorflow/core/kernels/data/cache_dataset_ops.cc:916] The calling iterator did not fully read the dataset being cached. In order to avoid unexpected truncation of the dataset, the partially cached contents of the dataset  will be discarded. This can happen if you have an input pipeline similar to `dataset.cache().take(k).repeat()`. You should use `dataset.take(k).cache().repeat()` instead.\n"
          ]
        }
      ],
      "source": [
        "from sklearn.model_selection import train_test_split\n",
        "# Build a mapping with image_id and age\n",
        "age_labels = dict(zip(data['image_id'], data['age']))\n",
        "\n",
        "# Build a lookup table for variety → integer\n",
        "age_names = sorted(data['age'].unique())\n",
        "\n",
        "# 4. Function to load image and label\n",
        "IMG_SIZE = (224, 224)\n",
        "\n",
        "def load_image_and_age_label(filepath):\n",
        "    filepath = filepath.numpy().decode(\"utf-8\")\n",
        "\n",
        "    # Read and preprocess image\n",
        "    image = tf.io.read_file(filepath)\n",
        "    image = tf.image.decode_jpeg(image, channels=3)\n",
        "    image = tf.image.resize(image, IMG_SIZE)\n",
        "\n",
        "    # Get filename and lookup actual age (regression target)\n",
        "    filename = os.path.basename(filepath)\n",
        "    age = age_labels[filename]\n",
        "\n",
        "    return image, np.float32(age)  # <- Ensure age is float32 for regression\n",
        "\n",
        "# 5. Wrap inside tf.py_function\n",
        "def tf_load_image_and_age(filepath):\n",
        "    image, label = tf.py_function(\n",
        "        func=load_image_and_age_label,\n",
        "        inp=[filepath],\n",
        "        Tout=(tf.float32, tf.float32)  # <- label is float32 now\n",
        "    )\n",
        "    image.set_shape([224, 224, 3])\n",
        "    label.set_shape([])  # scalar regression target\n",
        "    return image, label\n",
        "\n",
        "# 6. Create dataset\n",
        "filepaths = tf.data.Dataset.list_files('./data/train_images/*/*.jpg', shuffle=True)\n",
        "\n",
        "full_dataset_task3 = filepaths.map(tf_load_image_and_age, num_parallel_calls=tf.data.AUTOTUNE)\n",
        "\n",
        "# 8. Batch\n",
        "full_dataset_task3 = full_dataset_task3.batch(32).prefetch(tf.data.AUTOTUNE)\n",
        "\n",
        "# Step 6. Count total batches (excluding test set, assuming full_dataset_task2 is train + val only)\n",
        "total_batches_task3 = len(full_dataset_task3)\n",
        "print(f\"Total batches (Task 3): {total_batches_task3}\")\n",
        "\n",
        "# Step 7. Calculate split sizes (80% train, 20% validation)\n",
        "train_size_task3 = int(0.8 * total_batches_task3)\n",
        "val_size_task3 = total_batches_task3 - train_size_task3  # remaining 20%\n",
        "\n",
        "# Step 8. Split\n",
        "train_dataset_task3 = full_dataset_task3.take(train_size_task3)\n",
        "val_dataset_task3 = full_dataset_task3.skip(train_size_task3)\n",
        "\n",
        "print(f\"Train batches (Task 3): {len(train_dataset_task3)}\")\n",
        "print(f\"Validation batches (Task 3): {len(val_dataset_task3)}\")\n",
        "\n",
        "# Step 9. Cache, shuffle, and prefetch\n",
        "AUTOTUNE = tf.data.AUTOTUNE\n",
        "train_dataset_task3 = train_dataset_task3.cache().shuffle(1000).prefetch(buffer_size=AUTOTUNE).cache()\n",
        "val_dataset_task3 = val_dataset_task3.cache().prefetch(buffer_size=AUTOTUNE).cache()\n",
        "\n",
        "# Preview the dataset\n",
        "for images, labels in train_dataset_task3.take(1):\n",
        "    print(images.shape)\n",
        "    print(labels.shape)\n",
        "\n",
        "for images, labels in val_dataset_task3.take(1):\n",
        "    print(images.shape)\n",
        "    print(labels.shape)"
      ]
    },
    {
      "cell_type": "markdown",
      "source": [
        "2. Import test dataset for evaluation purposes"
      ],
      "metadata": {
        "id": "XbtXDRtPo9uT"
      },
      "id": "XbtXDRtPo9uT"
    },
    {
      "cell_type": "code",
      "execution_count": null,
      "metadata": {
        "id": "spCRL8Y7XIjU",
        "colab": {
          "base_uri": "https://localhost:8080/"
        },
        "outputId": "cbfc6852-a6fb-4759-e20d-50553bf80ee6"
      },
      "outputs": [
        {
          "output_type": "stream",
          "name": "stdout",
          "text": [
            "Found 3469 files.\n"
          ]
        }
      ],
      "source": [
        "test_dataset = tf.keras.utils.image_dataset_from_directory(\n",
        "    'data/test_images',\n",
        "    labels=None,                  # No labels needed for prediction\n",
        "    image_size=(224, 224),\n",
        "    batch_size=32,\n",
        "    shuffle=False\n",
        ")"
      ],
      "id": "spCRL8Y7XIjU"
    },
    {
      "cell_type": "markdown",
      "source": [
        "# Task 3 - Predicting age"
      ],
      "metadata": {
        "id": "5rBo9PAm7iDy"
      },
      "id": "5rBo9PAm7iDy"
    },
    {
      "cell_type": "markdown",
      "source": [
        "- Build base models and function to build all models"
      ],
      "metadata": {
        "id": "WLQEr5GZpotn"
      },
      "id": "WLQEr5GZpotn"
    },
    {
      "cell_type": "code",
      "source": [
        "from tensorflow.keras.applications import EfficientNetB0, MobileNet, Xception\n",
        "import keras_tuner as kt\n",
        "from tensorflow.keras.callbacks import EarlyStopping, ReduceLROnPlateau\n",
        "\n",
        "base_EfficientNetB0_model_task_3 = EfficientNetB0(\n",
        "    input_shape=(224, 224, 3),\n",
        "    include_top=False,          # Exclude the final classification layer\n",
        "    weights=None                # No pretrained weights\n",
        ")\n",
        "\n",
        "base_MobileNet_model_task_3 = MobileNet(\n",
        "    input_shape=(224, 224, 3),\n",
        "    include_top=False,          # Exclude the final classification layer\n",
        "    weights=None                # No pretrained weights\n",
        ")\n",
        "\n",
        "base_Xception_model_task_3 = Xception(\n",
        "    input_shape=(224, 224, 3),\n",
        "    include_top=False,          # Exclude the final classification layer\n",
        "    weights=None                # No pretrained weights\n",
        ")"
      ],
      "metadata": {
        "id": "GXZeEG8xNIrw"
      },
      "id": "GXZeEG8xNIrw",
      "execution_count": null,
      "outputs": []
    },
    {
      "cell_type": "code",
      "source": [
        "def build_EfficientNetB0_model_task_3(hp):\n",
        "    model = tf.keras.Sequential([\n",
        "          data_augmentation,\n",
        "          normalization_layer,\n",
        "          base_EfficientNetB0_model_task_3,\n",
        "          tf.keras.layers.GlobalAveragePooling2D(),\n",
        "          tf.keras.layers.Dense(hp.Int('dense_units', 64, 256, step=64), activation='relu'),\n",
        "          tf.keras.layers.Dropout(hp.Float('dropout_rate', 0.3, 0.6, step=0.1)),\n",
        "          tf.keras.layers.Dense(1, activation='linear')\n",
        "    ])\n",
        "\n",
        "    learning_rate = hp.Float('learning_rate', 1e-4, 1e-2, sampling='log')\n",
        "\n",
        "    model.compile(\n",
        "    optimizer='adam',\n",
        "    loss='mean_squared_error',\n",
        "    metrics=['mae']\n",
        "    )\n",
        "\n",
        "    return model\n",
        "\n",
        "def build_MobileNet_model_task_3(hp):\n",
        "    model = tf.keras.Sequential([\n",
        "          data_augmentation,\n",
        "          normalization_layer,\n",
        "          base_MobileNet_model_task_3,\n",
        "          tf.keras.layers.GlobalAveragePooling2D(),\n",
        "          tf.keras.layers.Dense(hp.Int('dense_units', 64, 256, step=64), activation='relu'),\n",
        "          tf.keras.layers.Dropout(hp.Float('dropout_rate', 0.3, 0.6, step=0.1)),\n",
        "          tf.keras.layers.Dense(1, activation='linear')\n",
        "    ])\n",
        "\n",
        "    learning_rate = hp.Float('learning_rate', 1e-4, 1e-2 , sampling='log')\n",
        "\n",
        "    model.compile(\n",
        "    optimizer='adam',\n",
        "    loss='mean_squared_error',\n",
        "    metrics=['mae']\n",
        "    )\n",
        "\n",
        "    return model\n",
        "\n",
        "def build_Xception_model_task_3(hp):\n",
        "    model = tf.keras.Sequential([\n",
        "          data_augmentation,\n",
        "          normalization_layer,\n",
        "          base_Xception_model_task_3,\n",
        "          tf.keras.layers.GlobalAveragePooling2D(),\n",
        "          tf.keras.layers.Dense(hp.Int('dense_units', 64, 256, step=64), activation='relu'),\n",
        "          tf.keras.layers.Dropout(hp.Float('dropout_rate', 0.3, 0.6, step=0.1)),\n",
        "          tf.keras.layers.Dense(1, activation='linear')\n",
        "    ])\n",
        "\n",
        "    learning_rate = hp.Float('learning_rate', 1e-4, 1e-2, sampling='log')\n",
        "\n",
        "    model.compile(\n",
        "    optimizer='adam',\n",
        "    loss='mean_squared_error',\n",
        "    metrics=['mae']\n",
        "    )\n",
        "\n",
        "    return model"
      ],
      "metadata": {
        "id": "1tvigSiMNO0X"
      },
      "id": "1tvigSiMNO0X",
      "execution_count": null,
      "outputs": []
    },
    {
      "cell_type": "markdown",
      "source": [
        "- Setting up tuner for all models"
      ],
      "metadata": {
        "id": "ghLwS820pqb8"
      },
      "id": "ghLwS820pqb8"
    },
    {
      "cell_type": "code",
      "source": [
        "EfficientNetB0_task_3_tuner = kt.RandomSearch(\n",
        "    build_EfficientNetB0_model_task_3,\n",
        "    objective=kt.Objective('val_mae', direction='min'),\n",
        "    max_trials=10,  # Number of hyperparameter combinations to try\n",
        "    directory='data/tuningtask3/EfficientNetB0',  # Directory to store the results\n",
        "    project_name='EfficientNetB0_tuning'  # Name of the project\n",
        ")\n",
        "\n",
        "MobileNet_task_3_tuner = kt.RandomSearch(\n",
        "    build_MobileNet_model_task_3,\n",
        "    objective=kt.Objective('val_mae', direction='min'),\n",
        "    max_trials=10,  # Number of hyperparameter combinations to try\n",
        "    directory='data/tuningtask3/MobileNet',  # Directory to store the results\n",
        "    project_name='MobileNet_tuning'  # Name of the project\n",
        ")\n",
        "\n",
        "Xception_task_3_tuner = kt.RandomSearch(\n",
        "    build_Xception_model_task_3,\n",
        "    objective='val_mae',  # or 'val_mse'\n",
        "    max_trials=10,  # Number of hyperparameter combinations to try\n",
        "    directory='data/tuningtask3/Xception',  # Directory to store the results\n",
        "    project_name='Xception_tuning'  # Name of the project\n",
        ")"
      ],
      "metadata": {
        "id": "U4L1lsLdHQFE",
        "colab": {
          "base_uri": "https://localhost:8080/"
        },
        "outputId": "abed8ec9-b25f-4238-9ab2-0b0b0f520518"
      },
      "id": "U4L1lsLdHQFE",
      "execution_count": null,
      "outputs": [
        {
          "output_type": "stream",
          "name": "stdout",
          "text": [
            "Reloading Tuner from data/tuningtask3/EfficientNetB0/EfficientNetB0_tuning/tuner0.json\n",
            "Reloading Tuner from data/tuningtask3/MobileNet/MobileNet_tuning/tuner0.json\n",
            "Reloading Tuner from data/tuningtask3/Xception/Xception_tuning/tuner0.json\n"
          ]
        }
      ]
    },
    {
      "cell_type": "markdown",
      "source": [
        "- EarlyStop and ReduceLROnPlateau function"
      ],
      "metadata": {
        "id": "sfJPexqMp6MR"
      },
      "id": "sfJPexqMp6MR"
    },
    {
      "cell_type": "code",
      "source": [
        "early_stop_model_task_3 = EarlyStopping(\n",
        "    monitor='val_mae',\n",
        "    patience=6,\n",
        "    mode='min',\n",
        "    restore_best_weights=True,\n",
        "    verbose=1\n",
        ")\n",
        "\n",
        "reduce_lr_model_task_3 = ReduceLROnPlateau(\n",
        "    monitor='val_mae',\n",
        "    factor=0.5,\n",
        "    patience=4,\n",
        "    mode='min',\n",
        "    verbose=1,\n",
        "    min_delta=1e-4\n",
        ")"
      ],
      "metadata": {
        "id": "6uGHU0zkNgRD"
      },
      "id": "6uGHU0zkNgRD",
      "execution_count": null,
      "outputs": []
    },
    {
      "cell_type": "markdown",
      "source": [
        "## EfficientNetB0 Tuner and Evaluation Results"
      ],
      "metadata": {
        "id": "XoYPn8rbIFVs"
      },
      "id": "XoYPn8rbIFVs"
    },
    {
      "cell_type": "code",
      "source": [
        "EfficientNetB0_task_3_tuner.search(\n",
        "    train_dataset_task3,\n",
        "    validation_data=val_dataset_task3,\n",
        "    epochs=50,\n",
        "    callbacks=[early_stop_model_task_3, reduce_lr_model_task_3],\n",
        "    )"
      ],
      "metadata": {
        "colab": {
          "base_uri": "https://localhost:8080/"
        },
        "id": "r9ouJazCNjEa",
        "outputId": "5519c792-284a-40ba-8dd3-27c5dcd32aa4"
      },
      "id": "r9ouJazCNjEa",
      "execution_count": null,
      "outputs": [
        {
          "output_type": "stream",
          "name": "stdout",
          "text": [
            "Trial 10 Complete [00h 25m 16s]\n",
            "val_mae: 1.8507016897201538\n",
            "\n",
            "Best val_mae So Far: 1.8507016897201538\n",
            "Total elapsed time: 03h 40m 29s\n"
          ]
        }
      ]
    },
    {
      "cell_type": "code",
      "source": [
        "# Track the best model:\n",
        "best_EfficientNetB0_model_task3 = EfficientNetB0_task_3_tuner.get_best_models(1)[0]\n",
        "best_EfficientNetB0_model_task3.summary()\n",
        "best_EfficientNetB0_model_task3.save('best_EfficientNetB0_model_task3.keras')\n",
        "\n",
        "# Print best hyperparameters:\n",
        "best__para_EfficientNetB0_model_task3 = EfficientNetB0_task_3_tuner.get_best_hyperparameters(1)[0]\n",
        "print(best__para_EfficientNetB0_model_task3.values)"
      ],
      "metadata": {
        "colab": {
          "base_uri": "https://localhost:8080/",
          "height": 439
        },
        "id": "1jJzjw6DbZX_",
        "outputId": "e71f5b61-e312-499a-93fe-2b734550f84f"
      },
      "id": "1jJzjw6DbZX_",
      "execution_count": null,
      "outputs": [
        {
          "output_type": "stream",
          "name": "stderr",
          "text": [
            "/home/herom/lintf/lib/python3.12/site-packages/keras/src/saving/saving_lib.py:757: UserWarning: Skipping variable loading for optimizer 'adam', because it has 2 variables whereas the saved optimizer has 432 variables. \n",
            "  saveable.load_own_variables(weights_store.get(inner_path))\n"
          ]
        },
        {
          "output_type": "display_data",
          "data": {
            "text/plain": [
              "\u001b[1mModel: \"sequential\"\u001b[0m\n"
            ],
            "text/html": [
              "<pre style=\"white-space:pre;overflow-x:auto;line-height:normal;font-family:Menlo,'DejaVu Sans Mono',consolas,'Courier New',monospace\"><span style=\"font-weight: bold\">Model: \"sequential\"</span>\n",
              "</pre>\n"
            ]
          },
          "metadata": {}
        },
        {
          "output_type": "display_data",
          "data": {
            "text/plain": [
              "┏━━━━━━━━━━━━━━━━━━━━━━━━━━━━━━━━━┳━━━━━━━━━━━━━━━━━━━━━━━━┳━━━━━━━━━━━━━━━┓\n",
              "┃\u001b[1m \u001b[0m\u001b[1mLayer (type)                   \u001b[0m\u001b[1m \u001b[0m┃\u001b[1m \u001b[0m\u001b[1mOutput Shape          \u001b[0m\u001b[1m \u001b[0m┃\u001b[1m \u001b[0m\u001b[1m      Param #\u001b[0m\u001b[1m \u001b[0m┃\n",
              "┡━━━━━━━━━━━━━━━━━━━━━━━━━━━━━━━━━╇━━━━━━━━━━━━━━━━━━━━━━━━╇━━━━━━━━━━━━━━━┩\n",
              "│ sequential (\u001b[38;5;33mSequential\u001b[0m)         │ (\u001b[38;5;45mNone\u001b[0m, \u001b[38;5;34m224\u001b[0m, \u001b[38;5;34m224\u001b[0m, \u001b[38;5;34m3\u001b[0m)    │             \u001b[38;5;34m0\u001b[0m │\n",
              "├─────────────────────────────────┼────────────────────────┼───────────────┤\n",
              "│ rescaling (\u001b[38;5;33mRescaling\u001b[0m)           │ (\u001b[38;5;45mNone\u001b[0m, \u001b[38;5;34m224\u001b[0m, \u001b[38;5;34m224\u001b[0m, \u001b[38;5;34m3\u001b[0m)    │             \u001b[38;5;34m0\u001b[0m │\n",
              "├─────────────────────────────────┼────────────────────────┼───────────────┤\n",
              "│ efficientnetb0 (\u001b[38;5;33mFunctional\u001b[0m)     │ (\u001b[38;5;45mNone\u001b[0m, \u001b[38;5;34m7\u001b[0m, \u001b[38;5;34m7\u001b[0m, \u001b[38;5;34m1280\u001b[0m)     │     \u001b[38;5;34m4,049,571\u001b[0m │\n",
              "├─────────────────────────────────┼────────────────────────┼───────────────┤\n",
              "│ global_average_pooling2d        │ (\u001b[38;5;45mNone\u001b[0m, \u001b[38;5;34m1280\u001b[0m)           │             \u001b[38;5;34m0\u001b[0m │\n",
              "│ (\u001b[38;5;33mGlobalAveragePooling2D\u001b[0m)        │                        │               │\n",
              "├─────────────────────────────────┼────────────────────────┼───────────────┤\n",
              "│ dense (\u001b[38;5;33mDense\u001b[0m)                   │ (\u001b[38;5;45mNone\u001b[0m, \u001b[38;5;34m256\u001b[0m)            │       \u001b[38;5;34m327,936\u001b[0m │\n",
              "├─────────────────────────────────┼────────────────────────┼───────────────┤\n",
              "│ dropout (\u001b[38;5;33mDropout\u001b[0m)               │ (\u001b[38;5;45mNone\u001b[0m, \u001b[38;5;34m256\u001b[0m)            │             \u001b[38;5;34m0\u001b[0m │\n",
              "├─────────────────────────────────┼────────────────────────┼───────────────┤\n",
              "│ dense_1 (\u001b[38;5;33mDense\u001b[0m)                 │ (\u001b[38;5;45mNone\u001b[0m, \u001b[38;5;34m1\u001b[0m)              │           \u001b[38;5;34m257\u001b[0m │\n",
              "└─────────────────────────────────┴────────────────────────┴───────────────┘\n"
            ],
            "text/html": [
              "<pre style=\"white-space:pre;overflow-x:auto;line-height:normal;font-family:Menlo,'DejaVu Sans Mono',consolas,'Courier New',monospace\">┏━━━━━━━━━━━━━━━━━━━━━━━━━━━━━━━━━┳━━━━━━━━━━━━━━━━━━━━━━━━┳━━━━━━━━━━━━━━━┓\n",
              "┃<span style=\"font-weight: bold\"> Layer (type)                    </span>┃<span style=\"font-weight: bold\"> Output Shape           </span>┃<span style=\"font-weight: bold\">       Param # </span>┃\n",
              "┡━━━━━━━━━━━━━━━━━━━━━━━━━━━━━━━━━╇━━━━━━━━━━━━━━━━━━━━━━━━╇━━━━━━━━━━━━━━━┩\n",
              "│ sequential (<span style=\"color: #0087ff; text-decoration-color: #0087ff\">Sequential</span>)         │ (<span style=\"color: #00d7ff; text-decoration-color: #00d7ff\">None</span>, <span style=\"color: #00af00; text-decoration-color: #00af00\">224</span>, <span style=\"color: #00af00; text-decoration-color: #00af00\">224</span>, <span style=\"color: #00af00; text-decoration-color: #00af00\">3</span>)    │             <span style=\"color: #00af00; text-decoration-color: #00af00\">0</span> │\n",
              "├─────────────────────────────────┼────────────────────────┼───────────────┤\n",
              "│ rescaling (<span style=\"color: #0087ff; text-decoration-color: #0087ff\">Rescaling</span>)           │ (<span style=\"color: #00d7ff; text-decoration-color: #00d7ff\">None</span>, <span style=\"color: #00af00; text-decoration-color: #00af00\">224</span>, <span style=\"color: #00af00; text-decoration-color: #00af00\">224</span>, <span style=\"color: #00af00; text-decoration-color: #00af00\">3</span>)    │             <span style=\"color: #00af00; text-decoration-color: #00af00\">0</span> │\n",
              "├─────────────────────────────────┼────────────────────────┼───────────────┤\n",
              "│ efficientnetb0 (<span style=\"color: #0087ff; text-decoration-color: #0087ff\">Functional</span>)     │ (<span style=\"color: #00d7ff; text-decoration-color: #00d7ff\">None</span>, <span style=\"color: #00af00; text-decoration-color: #00af00\">7</span>, <span style=\"color: #00af00; text-decoration-color: #00af00\">7</span>, <span style=\"color: #00af00; text-decoration-color: #00af00\">1280</span>)     │     <span style=\"color: #00af00; text-decoration-color: #00af00\">4,049,571</span> │\n",
              "├─────────────────────────────────┼────────────────────────┼───────────────┤\n",
              "│ global_average_pooling2d        │ (<span style=\"color: #00d7ff; text-decoration-color: #00d7ff\">None</span>, <span style=\"color: #00af00; text-decoration-color: #00af00\">1280</span>)           │             <span style=\"color: #00af00; text-decoration-color: #00af00\">0</span> │\n",
              "│ (<span style=\"color: #0087ff; text-decoration-color: #0087ff\">GlobalAveragePooling2D</span>)        │                        │               │\n",
              "├─────────────────────────────────┼────────────────────────┼───────────────┤\n",
              "│ dense (<span style=\"color: #0087ff; text-decoration-color: #0087ff\">Dense</span>)                   │ (<span style=\"color: #00d7ff; text-decoration-color: #00d7ff\">None</span>, <span style=\"color: #00af00; text-decoration-color: #00af00\">256</span>)            │       <span style=\"color: #00af00; text-decoration-color: #00af00\">327,936</span> │\n",
              "├─────────────────────────────────┼────────────────────────┼───────────────┤\n",
              "│ dropout (<span style=\"color: #0087ff; text-decoration-color: #0087ff\">Dropout</span>)               │ (<span style=\"color: #00d7ff; text-decoration-color: #00d7ff\">None</span>, <span style=\"color: #00af00; text-decoration-color: #00af00\">256</span>)            │             <span style=\"color: #00af00; text-decoration-color: #00af00\">0</span> │\n",
              "├─────────────────────────────────┼────────────────────────┼───────────────┤\n",
              "│ dense_1 (<span style=\"color: #0087ff; text-decoration-color: #0087ff\">Dense</span>)                 │ (<span style=\"color: #00d7ff; text-decoration-color: #00d7ff\">None</span>, <span style=\"color: #00af00; text-decoration-color: #00af00\">1</span>)              │           <span style=\"color: #00af00; text-decoration-color: #00af00\">257</span> │\n",
              "└─────────────────────────────────┴────────────────────────┴───────────────┘\n",
              "</pre>\n"
            ]
          },
          "metadata": {}
        },
        {
          "output_type": "display_data",
          "data": {
            "text/plain": [
              "\u001b[1m Total params: \u001b[0m\u001b[38;5;34m4,377,764\u001b[0m (16.70 MB)\n"
            ],
            "text/html": [
              "<pre style=\"white-space:pre;overflow-x:auto;line-height:normal;font-family:Menlo,'DejaVu Sans Mono',consolas,'Courier New',monospace\"><span style=\"font-weight: bold\"> Total params: </span><span style=\"color: #00af00; text-decoration-color: #00af00\">4,377,764</span> (16.70 MB)\n",
              "</pre>\n"
            ]
          },
          "metadata": {}
        },
        {
          "output_type": "display_data",
          "data": {
            "text/plain": [
              "\u001b[1m Trainable params: \u001b[0m\u001b[38;5;34m4,335,741\u001b[0m (16.54 MB)\n"
            ],
            "text/html": [
              "<pre style=\"white-space:pre;overflow-x:auto;line-height:normal;font-family:Menlo,'DejaVu Sans Mono',consolas,'Courier New',monospace\"><span style=\"font-weight: bold\"> Trainable params: </span><span style=\"color: #00af00; text-decoration-color: #00af00\">4,335,741</span> (16.54 MB)\n",
              "</pre>\n"
            ]
          },
          "metadata": {}
        },
        {
          "output_type": "display_data",
          "data": {
            "text/plain": [
              "\u001b[1m Non-trainable params: \u001b[0m\u001b[38;5;34m42,023\u001b[0m (164.16 KB)\n"
            ],
            "text/html": [
              "<pre style=\"white-space:pre;overflow-x:auto;line-height:normal;font-family:Menlo,'DejaVu Sans Mono',consolas,'Courier New',monospace\"><span style=\"font-weight: bold\"> Non-trainable params: </span><span style=\"color: #00af00; text-decoration-color: #00af00\">42,023</span> (164.16 KB)\n",
              "</pre>\n"
            ]
          },
          "metadata": {}
        },
        {
          "output_type": "stream",
          "name": "stdout",
          "text": [
            "{'dense_units': 256, 'dropout_rate': 0.4, 'learning_rate': 0.0002123999984466953}\n"
          ]
        }
      ]
    },
    {
      "cell_type": "markdown",
      "source": [
        "## MobileNet Tuner and Evaluation Results"
      ],
      "metadata": {
        "id": "4d0tAW8qIZTE"
      },
      "id": "4d0tAW8qIZTE"
    },
    {
      "cell_type": "code",
      "source": [
        "MobileNet_task_3_tuner.search(\n",
        "    train_dataset_task3,\n",
        "    validation_data=val_dataset_task3,\n",
        "    epochs=50,\n",
        "    callbacks=[early_stop_model_task_3, reduce_lr_model_task_3],\n",
        "    )"
      ],
      "metadata": {
        "id": "aDALeIsaH_BV",
        "colab": {
          "base_uri": "https://localhost:8080/"
        },
        "outputId": "bb873968-2edc-4b5d-fc57-093b1a81e905"
      },
      "id": "aDALeIsaH_BV",
      "execution_count": null,
      "outputs": [
        {
          "output_type": "stream",
          "name": "stdout",
          "text": [
            "Trial 10 Complete [00h 09m 29s]\n",
            "val_mae: 1.8546174764633179\n",
            "\n",
            "Best val_mae So Far: 1.5071853399276733\n",
            "Total elapsed time: 01h 56m 30s\n"
          ]
        }
      ]
    },
    {
      "cell_type": "code",
      "source": [
        "# Track the best model:\n",
        "best_MobileNet_model_task3 = MobileNet_task_3_tuner.get_best_models(1)[0]\n",
        "best_MobileNet_model_task3.summary()\n",
        "best_MobileNet_model_task3.save('best_MobileNet_model_task3.keras')\n",
        "\n",
        "# Print best hyperparameters:\n",
        "best__para_MobileNet_model_task3 = MobileNet_task_3_tuner.get_best_hyperparameters(1)[0]\n",
        "print(best__para_MobileNet_model_task3.values)"
      ],
      "metadata": {
        "id": "_r7O7dOKKa_b",
        "colab": {
          "base_uri": "https://localhost:8080/",
          "height": 439
        },
        "outputId": "1885ca86-4090-4cc8-c324-2e2c41be536d"
      },
      "id": "_r7O7dOKKa_b",
      "execution_count": null,
      "outputs": [
        {
          "output_type": "stream",
          "name": "stderr",
          "text": [
            "/home/herom/lintf/lib/python3.12/site-packages/keras/src/saving/saving_lib.py:757: UserWarning: Skipping variable loading for optimizer 'adam', because it has 2 variables whereas the saved optimizer has 172 variables. \n",
            "  saveable.load_own_variables(weights_store.get(inner_path))\n"
          ]
        },
        {
          "output_type": "display_data",
          "data": {
            "text/plain": [
              "\u001b[1mModel: \"sequential\"\u001b[0m\n"
            ],
            "text/html": [
              "<pre style=\"white-space:pre;overflow-x:auto;line-height:normal;font-family:Menlo,'DejaVu Sans Mono',consolas,'Courier New',monospace\"><span style=\"font-weight: bold\">Model: \"sequential\"</span>\n",
              "</pre>\n"
            ]
          },
          "metadata": {}
        },
        {
          "output_type": "display_data",
          "data": {
            "text/plain": [
              "┏━━━━━━━━━━━━━━━━━━━━━━━━━━━━━━━━━┳━━━━━━━━━━━━━━━━━━━━━━━━┳━━━━━━━━━━━━━━━┓\n",
              "┃\u001b[1m \u001b[0m\u001b[1mLayer (type)                   \u001b[0m\u001b[1m \u001b[0m┃\u001b[1m \u001b[0m\u001b[1mOutput Shape          \u001b[0m\u001b[1m \u001b[0m┃\u001b[1m \u001b[0m\u001b[1m      Param #\u001b[0m\u001b[1m \u001b[0m┃\n",
              "┡━━━━━━━━━━━━━━━━━━━━━━━━━━━━━━━━━╇━━━━━━━━━━━━━━━━━━━━━━━━╇━━━━━━━━━━━━━━━┩\n",
              "│ sequential (\u001b[38;5;33mSequential\u001b[0m)         │ (\u001b[38;5;45mNone\u001b[0m, \u001b[38;5;34m224\u001b[0m, \u001b[38;5;34m224\u001b[0m, \u001b[38;5;34m3\u001b[0m)    │             \u001b[38;5;34m0\u001b[0m │\n",
              "├─────────────────────────────────┼────────────────────────┼───────────────┤\n",
              "│ rescaling (\u001b[38;5;33mRescaling\u001b[0m)           │ (\u001b[38;5;45mNone\u001b[0m, \u001b[38;5;34m224\u001b[0m, \u001b[38;5;34m224\u001b[0m, \u001b[38;5;34m3\u001b[0m)    │             \u001b[38;5;34m0\u001b[0m │\n",
              "├─────────────────────────────────┼────────────────────────┼───────────────┤\n",
              "│ mobilenet_1.00_224 (\u001b[38;5;33mFunctional\u001b[0m) │ (\u001b[38;5;45mNone\u001b[0m, \u001b[38;5;34m7\u001b[0m, \u001b[38;5;34m7\u001b[0m, \u001b[38;5;34m1024\u001b[0m)     │     \u001b[38;5;34m3,228,864\u001b[0m │\n",
              "├─────────────────────────────────┼────────────────────────┼───────────────┤\n",
              "│ global_average_pooling2d        │ (\u001b[38;5;45mNone\u001b[0m, \u001b[38;5;34m1024\u001b[0m)           │             \u001b[38;5;34m0\u001b[0m │\n",
              "│ (\u001b[38;5;33mGlobalAveragePooling2D\u001b[0m)        │                        │               │\n",
              "├─────────────────────────────────┼────────────────────────┼───────────────┤\n",
              "│ dense (\u001b[38;5;33mDense\u001b[0m)                   │ (\u001b[38;5;45mNone\u001b[0m, \u001b[38;5;34m256\u001b[0m)            │       \u001b[38;5;34m262,400\u001b[0m │\n",
              "├─────────────────────────────────┼────────────────────────┼───────────────┤\n",
              "│ dropout (\u001b[38;5;33mDropout\u001b[0m)               │ (\u001b[38;5;45mNone\u001b[0m, \u001b[38;5;34m256\u001b[0m)            │             \u001b[38;5;34m0\u001b[0m │\n",
              "├─────────────────────────────────┼────────────────────────┼───────────────┤\n",
              "│ dense_1 (\u001b[38;5;33mDense\u001b[0m)                 │ (\u001b[38;5;45mNone\u001b[0m, \u001b[38;5;34m1\u001b[0m)              │           \u001b[38;5;34m257\u001b[0m │\n",
              "└─────────────────────────────────┴────────────────────────┴───────────────┘\n"
            ],
            "text/html": [
              "<pre style=\"white-space:pre;overflow-x:auto;line-height:normal;font-family:Menlo,'DejaVu Sans Mono',consolas,'Courier New',monospace\">┏━━━━━━━━━━━━━━━━━━━━━━━━━━━━━━━━━┳━━━━━━━━━━━━━━━━━━━━━━━━┳━━━━━━━━━━━━━━━┓\n",
              "┃<span style=\"font-weight: bold\"> Layer (type)                    </span>┃<span style=\"font-weight: bold\"> Output Shape           </span>┃<span style=\"font-weight: bold\">       Param # </span>┃\n",
              "┡━━━━━━━━━━━━━━━━━━━━━━━━━━━━━━━━━╇━━━━━━━━━━━━━━━━━━━━━━━━╇━━━━━━━━━━━━━━━┩\n",
              "│ sequential (<span style=\"color: #0087ff; text-decoration-color: #0087ff\">Sequential</span>)         │ (<span style=\"color: #00d7ff; text-decoration-color: #00d7ff\">None</span>, <span style=\"color: #00af00; text-decoration-color: #00af00\">224</span>, <span style=\"color: #00af00; text-decoration-color: #00af00\">224</span>, <span style=\"color: #00af00; text-decoration-color: #00af00\">3</span>)    │             <span style=\"color: #00af00; text-decoration-color: #00af00\">0</span> │\n",
              "├─────────────────────────────────┼────────────────────────┼───────────────┤\n",
              "│ rescaling (<span style=\"color: #0087ff; text-decoration-color: #0087ff\">Rescaling</span>)           │ (<span style=\"color: #00d7ff; text-decoration-color: #00d7ff\">None</span>, <span style=\"color: #00af00; text-decoration-color: #00af00\">224</span>, <span style=\"color: #00af00; text-decoration-color: #00af00\">224</span>, <span style=\"color: #00af00; text-decoration-color: #00af00\">3</span>)    │             <span style=\"color: #00af00; text-decoration-color: #00af00\">0</span> │\n",
              "├─────────────────────────────────┼────────────────────────┼───────────────┤\n",
              "│ mobilenet_1.00_224 (<span style=\"color: #0087ff; text-decoration-color: #0087ff\">Functional</span>) │ (<span style=\"color: #00d7ff; text-decoration-color: #00d7ff\">None</span>, <span style=\"color: #00af00; text-decoration-color: #00af00\">7</span>, <span style=\"color: #00af00; text-decoration-color: #00af00\">7</span>, <span style=\"color: #00af00; text-decoration-color: #00af00\">1024</span>)     │     <span style=\"color: #00af00; text-decoration-color: #00af00\">3,228,864</span> │\n",
              "├─────────────────────────────────┼────────────────────────┼───────────────┤\n",
              "│ global_average_pooling2d        │ (<span style=\"color: #00d7ff; text-decoration-color: #00d7ff\">None</span>, <span style=\"color: #00af00; text-decoration-color: #00af00\">1024</span>)           │             <span style=\"color: #00af00; text-decoration-color: #00af00\">0</span> │\n",
              "│ (<span style=\"color: #0087ff; text-decoration-color: #0087ff\">GlobalAveragePooling2D</span>)        │                        │               │\n",
              "├─────────────────────────────────┼────────────────────────┼───────────────┤\n",
              "│ dense (<span style=\"color: #0087ff; text-decoration-color: #0087ff\">Dense</span>)                   │ (<span style=\"color: #00d7ff; text-decoration-color: #00d7ff\">None</span>, <span style=\"color: #00af00; text-decoration-color: #00af00\">256</span>)            │       <span style=\"color: #00af00; text-decoration-color: #00af00\">262,400</span> │\n",
              "├─────────────────────────────────┼────────────────────────┼───────────────┤\n",
              "│ dropout (<span style=\"color: #0087ff; text-decoration-color: #0087ff\">Dropout</span>)               │ (<span style=\"color: #00d7ff; text-decoration-color: #00d7ff\">None</span>, <span style=\"color: #00af00; text-decoration-color: #00af00\">256</span>)            │             <span style=\"color: #00af00; text-decoration-color: #00af00\">0</span> │\n",
              "├─────────────────────────────────┼────────────────────────┼───────────────┤\n",
              "│ dense_1 (<span style=\"color: #0087ff; text-decoration-color: #0087ff\">Dense</span>)                 │ (<span style=\"color: #00d7ff; text-decoration-color: #00d7ff\">None</span>, <span style=\"color: #00af00; text-decoration-color: #00af00\">1</span>)              │           <span style=\"color: #00af00; text-decoration-color: #00af00\">257</span> │\n",
              "└─────────────────────────────────┴────────────────────────┴───────────────┘\n",
              "</pre>\n"
            ]
          },
          "metadata": {}
        },
        {
          "output_type": "display_data",
          "data": {
            "text/plain": [
              "\u001b[1m Total params: \u001b[0m\u001b[38;5;34m3,491,521\u001b[0m (13.32 MB)\n"
            ],
            "text/html": [
              "<pre style=\"white-space:pre;overflow-x:auto;line-height:normal;font-family:Menlo,'DejaVu Sans Mono',consolas,'Courier New',monospace\"><span style=\"font-weight: bold\"> Total params: </span><span style=\"color: #00af00; text-decoration-color: #00af00\">3,491,521</span> (13.32 MB)\n",
              "</pre>\n"
            ]
          },
          "metadata": {}
        },
        {
          "output_type": "display_data",
          "data": {
            "text/plain": [
              "\u001b[1m Trainable params: \u001b[0m\u001b[38;5;34m3,469,633\u001b[0m (13.24 MB)\n"
            ],
            "text/html": [
              "<pre style=\"white-space:pre;overflow-x:auto;line-height:normal;font-family:Menlo,'DejaVu Sans Mono',consolas,'Courier New',monospace\"><span style=\"font-weight: bold\"> Trainable params: </span><span style=\"color: #00af00; text-decoration-color: #00af00\">3,469,633</span> (13.24 MB)\n",
              "</pre>\n"
            ]
          },
          "metadata": {}
        },
        {
          "output_type": "display_data",
          "data": {
            "text/plain": [
              "\u001b[1m Non-trainable params: \u001b[0m\u001b[38;5;34m21,888\u001b[0m (85.50 KB)\n"
            ],
            "text/html": [
              "<pre style=\"white-space:pre;overflow-x:auto;line-height:normal;font-family:Menlo,'DejaVu Sans Mono',consolas,'Courier New',monospace\"><span style=\"font-weight: bold\"> Non-trainable params: </span><span style=\"color: #00af00; text-decoration-color: #00af00\">21,888</span> (85.50 KB)\n",
              "</pre>\n"
            ]
          },
          "metadata": {}
        },
        {
          "output_type": "stream",
          "name": "stdout",
          "text": [
            "{'dense_units': 256, 'dropout_rate': 0.5, 'learning_rate': 0.00018702715280418566}\n"
          ]
        }
      ]
    },
    {
      "cell_type": "markdown",
      "source": [
        "## Xception Tuner and Evaluation Results"
      ],
      "metadata": {
        "id": "PjgMPwUmK115"
      },
      "id": "PjgMPwUmK115"
    },
    {
      "cell_type": "code",
      "source": [
        "Xception_task_3_tuner.search(\n",
        "    train_dataset_task3,\n",
        "    validation_data=val_dataset_task3,\n",
        "    epochs=50,\n",
        "    callbacks=[early_stop_model_task_3, reduce_lr_model_task_3],\n",
        "    )"
      ],
      "metadata": {
        "id": "l74huuSoK116",
        "colab": {
          "base_uri": "https://localhost:8080/"
        },
        "outputId": "53ac526d-ab62-400f-e0f0-7799297ec1f0"
      },
      "execution_count": null,
      "outputs": [
        {
          "output_type": "stream",
          "name": "stdout",
          "text": [
            "Trial 10 Complete [00h 00m 28s]\n",
            "\n",
            "Best val_mae So Far: 1.309913158416748\n",
            "Total elapsed time: 11h 22m 36s\n"
          ]
        },
        {
          "output_type": "stream",
          "name": "stderr",
          "text": [
            "ze 1572864 next 1400\n",
            "2025-05-14 13:23:20.548963: I external/local_xla/xla/tsl/framework/bfc_allocator.cc:1114] InUse at c0f5fea00 of size 18264064 next 96662\n",
            "2025-05-14 13:23:20.548964: I external/local_xla/xla/tsl/framework/bfc_allocator.cc:1114] InUse at c10769a00 of size 18264064 next 96879\n",
            "2025-05-14 13:23:20.548965: I external/local_xla/xla/tsl/framework/bfc_allocator.cc:1114] InUse at c118d4a00 of size 3072 next 97342\n",
            "2025-05-14 13:23:20.548966: I external/local_xla/xla/tsl/framework/bfc_allocator.cc:1114] InUse at c118d5600 of size 18264064 next 95841\n",
            "2025-05-14 13:23:20.548967: I external/local_xla/xla/tsl/framework/bfc_allocator.cc:1114] InUse at c12a40600 of size 18264064 next 97306\n",
            "2025-05-14 13:23:20.548968: I external/local_xla/xla/tsl/framework/bfc_allocator.cc:1114] InUse at c13bab600 of size 18264064 next 97313\n",
            "2025-05-14 13:23:20.548968: I external/local_xla/xla/tsl/framework/bfc_allocator.cc:1114] InUse at c14d16600 of size 3072 next 97174\n",
            "2025-05-14 13:23:20.548969: I external/local_xla/xla/tsl/framework/bfc_allocator.cc:1114] InUse at c14d17200 of size 18264064 next 96929\n",
            "2025-05-14 13:23:20.548970: I external/local_xla/xla/tsl/framework/bfc_allocator.cc:1114] InUse at c15e82200 of size 18264064 next 96862\n",
            "2025-05-14 13:23:20.548970: I external/local_xla/xla/tsl/framework/bfc_allocator.cc:1114] InUse at c16fed200 of size 18267136 next 96179\n",
            "2025-05-14 13:23:20.548971: I external/local_xla/xla/tsl/framework/bfc_allocator.cc:1114] InUse at c18158e00 of size 3072 next 96371\n",
            "2025-05-14 13:23:20.548972: I external/local_xla/xla/tsl/framework/bfc_allocator.cc:1114] InUse at c18159a00 of size 18264064 next 96339\n",
            "2025-05-14 13:23:20.548972: I external/local_xla/xla/tsl/framework/bfc_allocator.cc:1114] InUse at c192c4a00 of size 18264064 next 97180\n",
            "2025-05-14 13:23:20.548973: I external/local_xla/xla/tsl/framework/bfc_allocator.cc:1114] InUse at c1a42fa00 of size 18264064 next 96395\n",
            "2025-05-14 13:23:20.548974: I external/local_xla/xla/tsl/framework/bfc_allocator.cc:1114] InUse at c1b59aa00 of size 3072 next 97225\n",
            "2025-05-14 13:23:20.548974: I external/local_xla/xla/tsl/framework/bfc_allocator.cc:1114] InUse at c1b59b600 of size 18264064 next 97120\n",
            "2025-05-14 13:23:20.551770: I external/local_xla/xla/tsl/framework/bfc_allocator.cc:1114] InUse at c1c706600 of size 18264064 next 97309\n",
            "2025-05-14 13:23:20.551775: I external/local_xla/xla/tsl/framework/bfc_allocator.cc:1114] InUse at c1d871600 of size 18264064 next 96187\n",
            "2025-05-14 13:23:20.551777: I external/local_xla/xla/tsl/framework/bfc_allocator.cc:1114] InUse at c1e9dc600 of size 3072 next 97095\n",
            "2025-05-14 13:23:20.551777: I external/local_xla/xla/tsl/framework/bfc_allocator.cc:1114] InUse at c1e9dd200 of size 18264064 next 97312\n",
            "2025-05-14 13:23:20.551778: I external/local_xla/xla/tsl/framework/bfc_allocator.cc:1114] InUse at c1fb48200 of size 18264064 next 96782\n",
            "2025-05-14 13:23:20.551779: I external/local_xla/xla/tsl/framework/bfc_allocator.cc:1114] InUse at c20cb3200 of size 18267136 next 97344\n",
            "2025-05-14 13:23:20.551779: I external/local_xla/xla/tsl/framework/bfc_allocator.cc:1114] InUse at c21e1ee00 of size 3072 next 97343\n",
            "2025-05-14 13:23:20.551780: I external/local_xla/xla/tsl/framework/bfc_allocator.cc:1114] InUse at c21e1fa00 of size 18264064 next 97009\n",
            "2025-05-14 13:23:20.551781: I external/local_xla/xla/tsl/framework/bfc_allocator.cc:1114] InUse at c22f8aa00 of size 18264064 next 97348\n",
            "2025-05-14 13:23:20.551781: I external/local_xla/xla/tsl/framework/bfc_allocator.cc:1114] InUse at c240f5a00 of size 18264064 next 97063\n",
            "2025-05-14 13:23:20.551782: I external/local_xla/xla/tsl/framework/bfc_allocator.cc:1114] InUse at c25260a00 of size 3072 next 97211\n",
            "2025-05-14 13:23:20.551783: I external/local_xla/xla/tsl/framework/bfc_allocator.cc:1114] InUse at c25261600 of size 18264064 next 97346\n",
            "2025-05-14 13:23:20.551783: I external/local_xla/xla/tsl/framework/bfc_allocator.cc:1114] InUse at c263cc600 of size 18264064 next 96903\n",
            "2025-05-14 13:23:20.551784: I external/local_xla/xla/tsl/framework/bfc_allocator.cc:1114] InUse at c27537600 of size 18264064 next 97237\n",
            "2025-05-14 13:23:20.551784: I external/local_xla/xla/tsl/framework/bfc_allocator.cc:1114] InUse at c286a2600 of size 3072 next 97127\n",
            "2025-05-14 13:23:20.551785: I external/local_xla/xla/tsl/framework/bfc_allocator.cc:1114] InUse at c286a3200 of size 18264064 next 97353\n",
            "2025-05-14 13:23:20.551786: I external/local_xla/xla/tsl/framework/bfc_allocator.cc:1114] InUse at c2980e200 of size 18264064 next 97060\n",
            "2025-05-14 13:23:20.551786: I external/local_xla/xla/tsl/framework/bfc_allocator.cc:1114] InUse at c2a979200 of size 18267136 next 97327\n",
            "2025-05-14 13:23:20.551788: I external/local_xla/xla/tsl/framework/bfc_allocator.cc:1114] InUse at c2bae4e00 of size 3072 next 97349\n",
            "2025-05-14 13:23:20.551789: I external/local_xla/xla/tsl/framework/bfc_allocator.cc:1114] InUse at c2bae5a00 of size 20347136 next 62407\n",
            "2025-05-14 13:23:20.551790: I external/local_xla/xla/tsl/framework/bfc_allocator.cc:1114] InUse at c2ce4d300 of size 2119936 next 60785\n",
            "2025-05-14 13:23:20.551791: I external/local_xla/xla/tsl/framework/bfc_allocator.cc:1114] InUse at c2d052c00 of size 2119936 next 61847\n",
            "2025-05-14 13:23:20.551792: I external/local_xla/xla/tsl/framework/bfc_allocator.cc:1114] InUse at c2d258500 of size 2119936 next 62122\n",
            "2025-05-14 13:23:20.551792: I external/local_xla/xla/tsl/framework/bfc_allocator.cc:1114] InUse at c2d45de00 of size 2119936 next 62478\n",
            "2025-05-14 13:23:20.551793: I external/local_xla/xla/tsl/framework/bfc_allocator.cc:1114] InUse at c2d663700 of size 2119936 next 62150\n",
            "2025-05-14 13:23:20.551794: I external/local_xla/xla/tsl/framework/bfc_allocator.cc:1114] InUse at c2d869000 of size 2119936 next 60295\n",
            "2025-05-14 13:23:20.551795: I external/local_xla/xla/tsl/framework/bfc_allocator.cc:1114] InUse at c2da6e900 of size 3424512 next 62600\n",
            "2025-05-14 13:23:20.551795: I external/local_xla/xla/tsl/framework/bfc_allocator.cc:1114] InUse at c2ddb2a00 of size 2119936 next 62578\n",
            "2025-05-14 13:23:20.551796: I external/local_xla/xla/tsl/framework/bfc_allocator.cc:1114] InUse at c2dfb8300 of size 2119936 next 61001\n",
            "2025-05-14 13:23:20.551797: I external/local_xla/xla/tsl/framework/bfc_allocator.cc:1114] InUse at c2e1bdc00 of size 2119936 next 62182\n",
            "2025-05-14 13:23:20.555327: I external/local_xla/xla/tsl/framework/bfc_allocator.cc:1114] InUse at c2e3c3500 of size 2119936 next 62559\n",
            "2025-05-14 13:23:20.555337: I external/local_xla/xla/tsl/framework/bfc_allocator.cc:1114] InUse at c2e5c8e00 of size 2119936 next 62168\n",
            "2025-05-14 13:23:20.555338: I external/local_xla/xla/tsl/framework/bfc_allocator.cc:1114] InUse at c2e7ce700 of size 2119936 next 61967\n",
            "2025-05-14 13:23:20.555338: I external/local_xla/xla/tsl/framework/bfc_allocator.cc:1114] InUse at c2e9d4000 of size 2119936 next 60831\n",
            "2025-05-14 13:23:20.555339: I external/local_xla/xla/tsl/framework/bfc_allocator.cc:1114] InUse at c2ebd9900 of size 2119936 next 62594\n",
            "2025-05-14 13:23:20.555340: I external/local_xla/xla/tsl/framework/bfc_allocator.cc:1114] InUse at c2eddf200 of size 2119936 next 62474\n",
            "2025-05-14 13:23:20.555340: I external/local_xla/xla/tsl/framework/bfc_allocator.cc:1114] InUse at c2efe4b00 of size 2119936 next 62112\n",
            "2025-05-14 13:23:20.555342: I external/local_xla/xla/tsl/framework/bfc_allocator.cc:1114] InUse at c2f1ea400 of size 3424512 next 62216\n",
            "2025-05-14 13:23:20.555343: I external/local_xla/xla/tsl/framework/bfc_allocator.cc:1114] InUse at c2f52e500 of size 2119936 next 61962\n",
            "2025-05-14 13:23:20.555343: I external/local_xla/xla/tsl/framework/bfc_allocator.cc:1114] InUse at c2f733e00 of size 2119936 next 62330\n",
            "2025-05-14 13:23:20.555344: I external/local_xla/xla/tsl/framework/bfc_allocator.cc:1114] InUse at c2f939700 of size 2119936 next 61591\n",
            "2025-05-14 13:23:20.555345: I external/local_xla/xla/tsl/framework/bfc_allocator.cc:1114] InUse at c2fb3f000 of size 2119936 next 62577\n",
            "2025-05-14 13:23:20.555345: I external/local_xla/xla/tsl/framework/bfc_allocator.cc:1114] InUse at c2fd44900 of size 2119936 next 62550\n",
            "2025-05-14 13:23:20.555347: I external/local_xla/xla/tsl/framework/bfc_allocator.cc:1114] InUse at c2ff4a200 of size 6291456 next 77446\n",
            "2025-05-14 13:23:20.555348: I external/local_xla/xla/tsl/framework/bfc_allocator.cc:1114] InUse at c3054a200 of size 13277184 next 61172\n",
            "2025-05-14 13:23:20.555349: I external/local_xla/xla/tsl/framework/bfc_allocator.cc:1114] InUse at c311f3a00 of size 2119936 next 62387\n",
            "2025-05-14 13:23:20.555350: I external/local_xla/xla/tsl/framework/bfc_allocator.cc:1114] InUse at c313f9300 of size 2119936 next 62584\n",
            "2025-05-14 13:23:20.555351: I external/local_xla/xla/tsl/framework/bfc_allocator.cc:1114] InUse at c315fec00 of size 111767040 next 62614\n",
            "2025-05-14 13:23:20.555354: I external/local_xla/xla/tsl/framework/bfc_allocator.cc:1114] InUse at c38095a00 of size 6422528 next 62620\n",
            "2025-05-14 13:23:20.555355: I external/local_xla/xla/tsl/framework/bfc_allocator.cc:1114] InUse at c386b5a00 of size 154820608 next 62639\n",
            "2025-05-14 13:23:20.555356: I external/local_xla/xla/tsl/framework/bfc_allocator.cc:1114] InUse at c41a5ba00 of size 13369344 next 62651\n",
            "2025-05-14 13:23:20.555357: I external/local_xla/xla/tsl/framework/bfc_allocator.cc:1114] InUse at c4271ba00 of size 1048576 next 62181\n",
            "2025-05-14 13:23:20.555358: I external/local_xla/xla/tsl/framework/bfc_allocator.cc:1114] InUse at c4281ba00 of size 18264064 next 97188\n",
            "2025-05-14 13:23:20.555358: I external/local_xla/xla/tsl/framework/bfc_allocator.cc:1114] InUse at c43986a00 of size 18267136 next 97355\n",
            "2025-05-14 13:23:20.555360: I external/local_xla/xla/tsl/framework/bfc_allocator.cc:1114] InUse at c44af2600 of size 3072 next 97358\n",
            "2025-05-14 13:23:20.555361: I external/local_xla/xla/tsl/framework/bfc_allocator.cc:1114] InUse at c44af3200 of size 18264064 next 96872\n",
            "2025-05-14 13:23:20.555362: I external/local_xla/xla/tsl/framework/bfc_allocator.cc:1114] InUse at c45c5e200 of size 18264064 next 97222\n",
            "2025-05-14 13:23:20.555362: I external/local_xla/xla/tsl/framework/bfc_allocator.cc:1114] InUse at c46dc9200 of size 18267136 next 96998\n",
            "2025-05-14 13:23:20.555363: I external/local_xla/xla/tsl/framework/bfc_allocator.cc:1114] InUse at c47f34e00 of size 3072 next 96641\n",
            "2025-05-14 13:23:20.555364: I external/local_xla/xla/tsl/framework/bfc_allocator.cc:1114] InUse at c47f35a00 of size 18264064 next 97238\n",
            "2025-05-14 13:23:20.558517: I external/local_xla/xla/tsl/framework/bfc_allocator.cc:1114] InUse at c490a0a00 of size 18264064 next 96860\n",
            "2025-05-14 13:23:20.558525: I external/local_xla/xla/tsl/framework/bfc_allocator.cc:1114] InUse at c4a20ba00 of size 18267136 next 97197\n",
            "2025-05-14 13:23:20.558528: I external/local_xla/xla/tsl/framework/bfc_allocator.cc:1114] InUse at c4b377600 of size 3072 next 96223\n",
            "2025-05-14 13:23:20.558528: I external/local_xla/xla/tsl/framework/bfc_allocator.cc:1114] InUse at c4b378200 of size 18264064 next 97297\n",
            "2025-05-14 13:23:20.558529: I external/local_xla/xla/tsl/framework/bfc_allocator.cc:1114] InUse at c4c4e3200 of size 18264064 next 97279\n",
            "2025-05-14 13:23:20.558530: I external/local_xla/xla/tsl/framework/bfc_allocator.cc:1114] InUse at c4d64e200 of size 18267136 next 97370\n",
            "2025-05-14 13:23:20.558531: I external/local_xla/xla/tsl/framework/bfc_allocator.cc:1114] InUse at c4e7b9e00 of size 3072 next 97369\n",
            "2025-05-14 13:23:20.558532: I external/local_xla/xla/tsl/framework/bfc_allocator.cc:1114] InUse at c4e7baa00 of size 18264064 next 97241\n",
            "2025-05-14 13:23:20.558532: I external/local_xla/xla/tsl/framework/bfc_allocator.cc:1114] InUse at c4f925a00 of size 18264064 next 97368\n",
            "2025-05-14 13:23:20.558533: I external/local_xla/xla/tsl/framework/bfc_allocator.cc:1114] InUse at c50a90a00 of size 18267136 next 97372\n",
            "2025-05-14 13:23:20.558534: I external/local_xla/xla/tsl/framework/bfc_allocator.cc:1114] InUse at c51bfc600 of size 3072 next 97373\n",
            "2025-05-14 13:23:20.558534: I external/local_xla/xla/tsl/framework/bfc_allocator.cc:1114] InUse at c51bfd200 of size 18264064 next 97375\n",
            "2025-05-14 13:23:20.558535: I external/local_xla/xla/tsl/framework/bfc_allocator.cc:1114] InUse at c52d68200 of size 18264064 next 97376\n",
            "2025-05-14 13:23:20.558536: I external/local_xla/xla/tsl/framework/bfc_allocator.cc:1114] InUse at c53ed3200 of size 18267136 next 97378\n",
            "2025-05-14 13:23:20.558536: I external/local_xla/xla/tsl/framework/bfc_allocator.cc:1114] InUse at c5503ee00 of size 3072 next 97379\n",
            "2025-05-14 13:23:20.558537: I external/local_xla/xla/tsl/framework/bfc_allocator.cc:1114] InUse at c5503fa00 of size 6422528 next 97380\n",
            "2025-05-14 13:23:20.558538: I external/local_xla/xla/tsl/framework/bfc_allocator.cc:1114] InUse at c5565fa00 of size 18264064 next 97381\n",
            "2025-05-14 13:23:20.558540: I external/local_xla/xla/tsl/framework/bfc_allocator.cc:1114] InUse at c567caa00 of size 4096 next 97382\n",
            "2025-05-14 13:23:20.558540: I external/local_xla/xla/tsl/framework/bfc_allocator.cc:1114] InUse at c567cba00 of size 18264064 next 97383\n",
            "2025-05-14 13:23:20.558541: I external/local_xla/xla/tsl/framework/bfc_allocator.cc:1114] InUse at c57936a00 of size 3072 next 97384\n",
            "2025-05-14 13:23:20.558543: I external/local_xla/xla/tsl/framework/bfc_allocator.cc:1114] InUse at c57937600 of size 6423552 next 97385\n",
            "2025-05-14 13:23:20.558544: I external/local_xla/xla/tsl/framework/bfc_allocator.cc:1114] InUse at c57f57a00 of size 4096 next 97386\n",
            "2025-05-14 13:23:20.558544: I external/local_xla/xla/tsl/framework/bfc_allocator.cc:1114] InUse at c57f58a00 of size 18264064 next 97391\n",
            "2025-05-14 13:23:20.558545: I external/local_xla/xla/tsl/framework/bfc_allocator.cc:1114] InUse at c590c3a00 of size 18264064 next 97392\n",
            "2025-05-14 13:23:20.558546: I external/local_xla/xla/tsl/framework/bfc_allocator.cc:1114] InUse at c5a22ea00 of size 25690112 next 97393\n",
            "2025-05-14 13:23:20.558547: I external/local_xla/xla/tsl/framework/bfc_allocator.cc:1114] InUse at c5baaea00 of size 4096 next 97394\n",
            "2025-05-14 13:23:20.558547: I external/local_xla/xla/tsl/framework/bfc_allocator.cc:1114] InUse at c5baafa00 of size 25690112 next 97395\n",
            "2025-05-14 13:23:20.558548: I external/local_xla/xla/tsl/framework/bfc_allocator.cc:1114] InUse at c5d32fa00 of size 4096 next 97396\n",
            "2025-05-14 13:23:20.558549: I external/local_xla/xla/tsl/framework/bfc_allocator.cc:1114] InUse at c5d330a00 of size 6422528 next 97397\n",
            "2025-05-14 13:23:20.558549: I external/local_xla/xla/tsl/framework/bfc_allocator.cc:1114] InUse at c5d950a00 of size 6422528 next 97399\n",
            "2025-05-14 13:23:20.562001: I external/local_xla/xla/tsl/framework/bfc_allocator.cc:1114] InUse at c5df70a00 of size 9633792 next 97400\n",
            "2025-05-14 13:23:20.562009: I external/local_xla/xla/tsl/framework/bfc_allocator.cc:1114] InUse at c5e8a0a00 of size 6144 next 97401\n",
            "2025-05-14 13:23:20.562010: I external/local_xla/xla/tsl/framework/bfc_allocator.cc:1114] InUse at c5e8a2200 of size 9639936 next 97403\n",
            "2025-05-14 13:23:20.562012: I external/local_xla/xla/tsl/framework/bfc_allocator.cc:1114] InUse at c5f1d3a00 of size 6144 next 97404\n",
            "2025-05-14 13:23:20.562013: I external/local_xla/xla/tsl/framework/bfc_allocator.cc:1114] InUse at c5f1d5200 of size 9633792 next 97406\n",
            "2025-05-14 13:23:20.562014: I external/local_xla/xla/tsl/framework/bfc_allocator.cc:1114] InUse at c5fb05200 of size 21800960 next 77529\n",
            "2025-05-14 13:23:20.562015: I external/local_xla/xla/tsl/framework/bfc_allocator.cc:1114] InUse at c60fcfa00 of size 2119936 next 77178\n",
            "2025-05-14 13:23:20.562016: I external/local_xla/xla/tsl/framework/bfc_allocator.cc:1114] InUse at c611d5300 of size 2119936 next 77060\n",
            "2025-05-14 13:23:20.562017: I external/local_xla/xla/tsl/framework/bfc_allocator.cc:1114] InUse at c613dac00 of size 18264064 next 77267\n",
            "2025-05-14 13:23:20.562017: I external/local_xla/xla/tsl/framework/bfc_allocator.cc:1114] InUse at c62545c00 of size 2119936 next 77527\n",
            "2025-05-14 13:23:20.562018: I external/local_xla/xla/tsl/framework/bfc_allocator.cc:1114] InUse at c6274b500 of size 2119936 next 76844\n",
            "2025-05-14 13:23:20.562019: I external/local_xla/xla/tsl/framework/bfc_allocator.cc:1114] InUse at c62950e00 of size 2119936 next 77486\n",
            "2025-05-14 13:23:20.562019: I external/local_xla/xla/tsl/framework/bfc_allocator.cc:1114] InUse at c62b56700 of size 2119936 next 77475\n",
            "2025-05-14 13:23:20.562020: I external/local_xla/xla/tsl/framework/bfc_allocator.cc:1114] InUse at c62d5c000 of size 2119936 next 77106\n",
            "2025-05-14 13:23:20.562021: I external/local_xla/xla/tsl/framework/bfc_allocator.cc:1114] InUse at c62f61900 of size 2119936 next 76958\n",
            "2025-05-14 13:23:20.562022: I external/local_xla/xla/tsl/framework/bfc_allocator.cc:1114] InUse at c63167200 of size 3424512 next 77430\n",
            "2025-05-14 13:23:20.562022: I external/local_xla/xla/tsl/framework/bfc_allocator.cc:1114] InUse at c634ab300 of size 2119936 next 77525\n",
            "2025-05-14 13:23:20.562023: I external/local_xla/xla/tsl/framework/bfc_allocator.cc:1114] InUse at c636b0c00 of size 2119936 next 76586\n",
            "2025-05-14 13:23:20.562024: I external/local_xla/xla/tsl/framework/bfc_allocator.cc:1114] InUse at c638b6500 of size 2119936 next 77613\n",
            "2025-05-14 13:23:20.562024: I external/local_xla/xla/tsl/framework/bfc_allocator.cc:1114] InUse at c63abbe00 of size 2119936 next 75864\n",
            "2025-05-14 13:23:20.562025: I external/local_xla/xla/tsl/framework/bfc_allocator.cc:1114] InUse at c63cc1700 of size 2119936 next 77363\n",
            "2025-05-14 13:23:20.562026: I external/local_xla/xla/tsl/framework/bfc_allocator.cc:1114] InUse at c63ec7000 of size 2119936 next 77295\n",
            "2025-05-14 13:23:20.562026: I external/local_xla/xla/tsl/framework/bfc_allocator.cc:1114] InUse at c640cc900 of size 2119936 next 77532\n",
            "2025-05-14 13:23:20.562027: I external/local_xla/xla/tsl/framework/bfc_allocator.cc:1114] InUse at c642d2200 of size 2119936 next 76991\n",
            "2025-05-14 13:23:20.562028: I external/local_xla/xla/tsl/framework/bfc_allocator.cc:1114] InUse at c644d7b00 of size 2119936 next 77333\n",
            "2025-05-14 13:23:20.562029: I external/local_xla/xla/tsl/framework/bfc_allocator.cc:1114] InUse at c646dd400 of size 2119936 next 77134\n",
            "2025-05-14 13:23:20.562029: I external/local_xla/xla/tsl/framework/bfc_allocator.cc:1114] InUse at c648e2d00 of size 2119936 next 76725\n",
            "2025-05-14 13:23:20.562031: I external/local_xla/xla/tsl/framework/bfc_allocator.cc:1114] InUse at c64ae8600 of size 3242496 next 18446744073709551615\n",
            "2025-05-14 13:23:20.562032: I external/local_xla/xla/tsl/framework/bfc_allocator.cc:1119]      Summary of in-use Chunks by size: \n",
            "2025-05-14 13:23:20.562041: I external/local_xla/xla/tsl/framework/bfc_allocator.cc:1122] 94950 Chunks of size 256 totalling 23.18MiB\n",
            "2025-05-14 13:23:20.567018: I external/local_xla/xla/tsl/framework/bfc_allocator.cc:1122] 121 Chunks of size 512 totalling 60.5KiB\n",
            "2025-05-14 13:23:20.567032: I external/local_xla/xla/tsl/framework/bfc_allocator.cc:1122] 68 Chunks of size 768 totalling 51.0KiB\n",
            "2025-05-14 13:23:20.567033: I external/local_xla/xla/tsl/framework/bfc_allocator.cc:1122] 103 Chunks of size 1024 totalling 103.0KiB\n",
            "2025-05-14 13:23:20.567034: I external/local_xla/xla/tsl/framework/bfc_allocator.cc:1122] 24 Chunks of size 1280 totalling 30.0KiB\n",
            "2025-05-14 13:23:20.567036: I external/local_xla/xla/tsl/framework/bfc_allocator.cc:1122] 7 Chunks of size 1536 totalling 10.5KiB\n",
            "2025-05-14 13:23:20.567037: I external/local_xla/xla/tsl/framework/bfc_allocator.cc:1122] 4 Chunks of size 1792 totalling 7.0KiB\n",
            "2025-05-14 13:23:20.567038: I external/local_xla/xla/tsl/framework/bfc_allocator.cc:1122] 71 Chunks of size 2048 totalling 142.0KiB\n",
            "2025-05-14 13:23:20.567039: I external/local_xla/xla/tsl/framework/bfc_allocator.cc:1122] 5 Chunks of size 2304 totalling 11.2KiB\n",
            "2025-05-14 13:23:20.567040: I external/local_xla/xla/tsl/framework/bfc_allocator.cc:1122] 4 Chunks of size 2560 totalling 10.0KiB\n",
            "2025-05-14 13:23:20.567041: I external/local_xla/xla/tsl/framework/bfc_allocator.cc:1122] 30 Chunks of size 2816 totalling 82.5KiB\n",
            "2025-05-14 13:23:20.567042: I external/local_xla/xla/tsl/framework/bfc_allocator.cc:1122] 689 Chunks of size 3072 totalling 2.02MiB\n",
            "2025-05-14 13:23:20.567043: I external/local_xla/xla/tsl/framework/bfc_allocator.cc:1122] 15 Chunks of size 3328 totalling 48.8KiB\n",
            "2025-05-14 13:23:20.567044: I external/local_xla/xla/tsl/framework/bfc_allocator.cc:1122] 18 Chunks of size 3584 totalling 63.0KiB\n",
            "2025-05-14 13:23:20.567044: I external/local_xla/xla/tsl/framework/bfc_allocator.cc:1122] 7 Chunks of size 3840 totalling 26.2KiB\n",
            "2025-05-14 13:23:20.567045: I external/local_xla/xla/tsl/framework/bfc_allocator.cc:1122] 78 Chunks of size 4096 totalling 312.0KiB\n",
            "2025-05-14 13:23:20.567046: I external/local_xla/xla/tsl/framework/bfc_allocator.cc:1122] 9 Chunks of size 4352 totalling 38.2KiB\n",
            "2025-05-14 13:23:20.567047: I external/local_xla/xla/tsl/framework/bfc_allocator.cc:1122] 55 Chunks of size 4608 totalling 247.5KiB\n",
            "2025-05-14 13:23:20.567048: I external/local_xla/xla/tsl/framework/bfc_allocator.cc:1122] 10 Chunks of size 4864 totalling 47.5KiB\n",
            "2025-05-14 13:23:20.567049: I external/local_xla/xla/tsl/framework/bfc_allocator.cc:1122] 15 Chunks of size 5120 totalling 75.0KiB\n",
            "2025-05-14 13:23:20.567050: I external/local_xla/xla/tsl/framework/bfc_allocator.cc:1122] 4 Chunks of size 5376 totalling 21.0KiB\n",
            "2025-05-14 13:23:20.567051: I external/local_xla/xla/tsl/framework/bfc_allocator.cc:1122] 5 Chunks of size 5632 totalling 27.5KiB\n",
            "2025-05-14 13:23:20.567052: I external/local_xla/xla/tsl/framework/bfc_allocator.cc:1122] 3 Chunks of size 5888 totalling 17.2KiB\n",
            "2025-05-14 13:23:20.567053: I external/local_xla/xla/tsl/framework/bfc_allocator.cc:1122] 31 Chunks of size 6144 totalling 186.0KiB\n",
            "2025-05-14 13:23:20.567054: I external/local_xla/xla/tsl/framework/bfc_allocator.cc:1122] 2 Chunks of size 6400 totalling 12.5KiB\n",
            "2025-05-14 13:23:20.567055: I external/local_xla/xla/tsl/framework/bfc_allocator.cc:1122] 1 Chunks of size 6656 totalling 6.5KiB\n",
            "2025-05-14 13:23:20.567056: I external/local_xla/xla/tsl/framework/bfc_allocator.cc:1122] 2 Chunks of size 7168 totalling 14.0KiB\n",
            "2025-05-14 13:23:20.567057: I external/local_xla/xla/tsl/framework/bfc_allocator.cc:1122] 31 Chunks of size 8192 totalling 248.0KiB\n",
            "2025-05-14 13:23:20.567058: I external/local_xla/xla/tsl/framework/bfc_allocator.cc:1122] 1 Chunks of size 8448 totalling 8.2KiB\n",
            "2025-05-14 13:23:20.567059: I external/local_xla/xla/tsl/framework/bfc_allocator.cc:1122] 1 Chunks of size 8704 totalling 8.5KiB\n",
            "2025-05-14 13:23:20.567060: I external/local_xla/xla/tsl/framework/bfc_allocator.cc:1122] 1 Chunks of size 8960 totalling 8.8KiB\n",
            "2025-05-14 13:23:20.567060: I external/local_xla/xla/tsl/framework/bfc_allocator.cc:1122] 24 Chunks of size 9216 totalling 216.0KiB\n",
            "2025-05-14 13:23:20.570868: I external/local_xla/xla/tsl/framework/bfc_allocator.cc:1122] 1 Chunks of size 9472 totalling 9.2KiB\n",
            "2025-05-14 13:23:20.570881: I external/local_xla/xla/tsl/framework/bfc_allocator.cc:1122] 2 Chunks of size 9728 totalling 19.0KiB\n",
            "2025-05-14 13:23:20.570882: I external/local_xla/xla/tsl/framework/bfc_allocator.cc:1122] 1 Chunks of size 10240 totalling 10.0KiB\n",
            "2025-05-14 13:23:20.570883: I external/local_xla/xla/tsl/framework/bfc_allocator.cc:1122] 1 Chunks of size 11008 totalling 10.8KiB\n",
            "2025-05-14 13:23:20.570884: I external/local_xla/xla/tsl/framework/bfc_allocator.cc:1122] 1 Chunks of size 12032 totalling 11.8KiB\n",
            "2025-05-14 13:23:20.570886: I external/local_xla/xla/tsl/framework/bfc_allocator.cc:1122] 2 Chunks of size 12288 totalling 24.0KiB\n",
            "2025-05-14 13:23:20.570886: I external/local_xla/xla/tsl/framework/bfc_allocator.cc:1122] 1 Chunks of size 13312 totalling 13.0KiB\n",
            "2025-05-14 13:23:20.570887: I external/local_xla/xla/tsl/framework/bfc_allocator.cc:1122] 3 Chunks of size 13824 totalling 40.5KiB\n",
            "2025-05-14 13:23:20.570888: I external/local_xla/xla/tsl/framework/bfc_allocator.cc:1122] 1 Chunks of size 14080 totalling 13.8KiB\n",
            "2025-05-14 13:23:20.570889: I external/local_xla/xla/tsl/framework/bfc_allocator.cc:1122] 1 Chunks of size 14592 totalling 14.2KiB\n",
            "2025-05-14 13:23:20.570890: I external/local_xla/xla/tsl/framework/bfc_allocator.cc:1122] 2 Chunks of size 17408 totalling 34.0KiB\n",
            "2025-05-14 13:23:20.570891: I external/local_xla/xla/tsl/framework/bfc_allocator.cc:1122] 1 Chunks of size 18176 totalling 17.8KiB\n",
            "2025-05-14 13:23:20.570892: I external/local_xla/xla/tsl/framework/bfc_allocator.cc:1122] 5 Chunks of size 18432 totalling 90.0KiB\n",
            "2025-05-14 13:23:20.570894: I external/local_xla/xla/tsl/framework/bfc_allocator.cc:1122] 1 Chunks of size 18944 totalling 18.5KiB\n",
            "2025-05-14 13:23:20.570894: I external/local_xla/xla/tsl/framework/bfc_allocator.cc:1122] 1 Chunks of size 20224 totalling 19.8KiB\n",
            "2025-05-14 13:23:20.570895: I external/local_xla/xla/tsl/framework/bfc_allocator.cc:1122] 1 Chunks of size 23040 totalling 22.5KiB\n",
            "2025-05-14 13:23:20.570897: I external/local_xla/xla/tsl/framework/bfc_allocator.cc:1122] 1 Chunks of size 24064 totalling 23.5KiB\n",
            "2025-05-14 13:23:20.570899: I external/local_xla/xla/tsl/framework/bfc_allocator.cc:1122] 281 Chunks of size 26368 totalling 7.07MiB\n",
            "2025-05-14 13:23:20.570900: I external/local_xla/xla/tsl/framework/bfc_allocator.cc:1122] 1 Chunks of size 27392 totalling 26.8KiB\n",
            "2025-05-14 13:23:20.570901: I external/local_xla/xla/tsl/framework/bfc_allocator.cc:1122] 1 Chunks of size 28672 totalling 28.0KiB\n",
            "2025-05-14 13:23:20.570902: I external/local_xla/xla/tsl/framework/bfc_allocator.cc:1122] 1 Chunks of size 28928 totalling 28.2KiB\n",
            "2025-05-14 13:23:20.570903: I external/local_xla/xla/tsl/framework/bfc_allocator.cc:1122] 1 Chunks of size 29952 totalling 29.2KiB\n",
            "2025-05-14 13:23:20.570904: I external/local_xla/xla/tsl/framework/bfc_allocator.cc:1122] 1 Chunks of size 31744 totalling 31.0KiB\n",
            "2025-05-14 13:23:20.570905: I external/local_xla/xla/tsl/framework/bfc_allocator.cc:1122] 20 Chunks of size 32768 totalling 640.0KiB\n",
            "2025-05-14 13:23:20.570905: I external/local_xla/xla/tsl/framework/bfc_allocator.cc:1122] 1 Chunks of size 34304 totalling 33.5KiB\n",
            "2025-05-14 13:23:20.570906: I external/local_xla/xla/tsl/framework/bfc_allocator.cc:1122] 1 Chunks of size 35840 totalling 35.0KiB\n",
            "2025-05-14 13:23:20.570907: I external/local_xla/xla/tsl/framework/bfc_allocator.cc:1122] 1 Chunks of size 36608 totalling 35.8KiB\n",
            "2025-05-14 13:23:20.570908: I external/local_xla/xla/tsl/framework/bfc_allocator.cc:1122] 11 Chunks of size 36864 totalling 396.0KiB\n",
            "2025-05-14 13:23:20.570909: I external/local_xla/xla/tsl/framework/bfc_allocator.cc:1122] 9 Chunks of size 38400 totalling 337.5KiB\n",
            "2025-05-14 13:23:20.570910: I external/local_xla/xla/tsl/framework/bfc_allocator.cc:1122] 1 Chunks of size 39168 totalling 38.2KiB\n",
            "2025-05-14 13:23:20.570911: I external/local_xla/xla/tsl/framework/bfc_allocator.cc:1122] 1 Chunks of size 40448 totalling 39.5KiB\n",
            "2025-05-14 13:23:20.575172: I external/local_xla/xla/tsl/framework/bfc_allocator.cc:1122] 1 Chunks of size 41472 totalling 40.5KiB\n",
            "2025-05-14 13:23:20.575181: I external/local_xla/xla/tsl/framework/bfc_allocator.cc:1122] 2 Chunks of size 43008 totalling 84.0KiB\n",
            "2025-05-14 13:23:20.575182: I external/local_xla/xla/tsl/framework/bfc_allocator.cc:1122] 1 Chunks of size 43776 totalling 42.8KiB\n",
            "2025-05-14 13:23:20.575183: I external/local_xla/xla/tsl/framework/bfc_allocator.cc:1122] 1 Chunks of size 46080 totalling 45.0KiB\n",
            "2025-05-14 13:23:20.575184: I external/local_xla/xla/tsl/framework/bfc_allocator.cc:1122] 2 Chunks of size 47104 totalling 92.0KiB\n",
            "2025-05-14 13:23:20.575185: I external/local_xla/xla/tsl/framework/bfc_allocator.cc:1122] 4 Chunks of size 47360 totalling 185.0KiB\n",
            "2025-05-14 13:23:20.575186: I external/local_xla/xla/tsl/framework/bfc_allocator.cc:1122] 1 Chunks of size 48128 totalling 47.0KiB\n",
            "2025-05-14 13:23:20.575188: I external/local_xla/xla/tsl/framework/bfc_allocator.cc:1122] 1 Chunks of size 48896 totalling 47.8KiB\n",
            "2025-05-14 13:23:20.575188: I external/local_xla/xla/tsl/framework/bfc_allocator.cc:1122] 1 Chunks of size 49408 totalling 48.2KiB\n",
            "2025-05-14 13:23:20.575189: I external/local_xla/xla/tsl/framework/bfc_allocator.cc:1122] 1 Chunks of size 51456 totalling 50.2KiB\n",
            "2025-05-14 13:23:20.575190: I external/local_xla/xla/tsl/framework/bfc_allocator.cc:1122] 1 Chunks of size 51968 totalling 50.8KiB\n",
            "2025-05-14 13:23:20.575191: I external/local_xla/xla/tsl/framework/bfc_allocator.cc:1122] 12 Chunks of size 55296 totalling 648.0KiB\n",
            "2025-05-14 13:23:20.575192: I external/local_xla/xla/tsl/framework/bfc_allocator.cc:1122] 8 Chunks of size 65536 totalling 512.0KiB\n",
            "2025-05-14 13:23:20.575193: I external/local_xla/xla/tsl/framework/bfc_allocator.cc:1122] 1 Chunks of size 67328 totalling 65.8KiB\n",
            "2025-05-14 13:23:20.575194: I external/local_xla/xla/tsl/framework/bfc_allocator.cc:1122] 9 Chunks of size 73728 totalling 648.0KiB\n",
            "2025-05-14 13:23:20.575195: I external/local_xla/xla/tsl/framework/bfc_allocator.cc:1122] 6 Chunks of size 75264 totalling 441.0KiB\n",
            "2025-05-14 13:23:20.575196: I external/local_xla/xla/tsl/framework/bfc_allocator.cc:1122] 1 Chunks of size 76800 totalling 75.0KiB\n",
            "2025-05-14 13:23:20.575197: I external/local_xla/xla/tsl/framework/bfc_allocator.cc:1122] 1 Chunks of size 78080 totalling 76.2KiB\n",
            "2025-05-14 13:23:20.575198: I external/local_xla/xla/tsl/framework/bfc_allocator.cc:1122] 1 Chunks of size 80384 totalling 78.5KiB\n",
            "2025-05-14 13:23:20.575199: I external/local_xla/xla/tsl/framework/bfc_allocator.cc:1122] 1 Chunks of size 80896 totalling 79.0KiB\n",
            "2025-05-14 13:23:20.575199: I external/local_xla/xla/tsl/framework/bfc_allocator.cc:1122] 1 Chunks of size 85248 totalling 83.2KiB\n",
            "2025-05-14 13:23:20.575200: I external/local_xla/xla/tsl/framework/bfc_allocator.cc:1122] 1 Chunks of size 90112 totalling 88.0KiB\n",
            "2025-05-14 13:23:20.575201: I external/local_xla/xla/tsl/framework/bfc_allocator.cc:1122] 1 Chunks of size 90880 totalling 88.8KiB\n",
            "2025-05-14 13:23:20.575202: I external/local_xla/xla/tsl/framework/bfc_allocator.cc:1122] 1 Chunks of size 92160 totalling 90.0KiB\n",
            "2025-05-14 13:23:20.575203: I external/local_xla/xla/tsl/framework/bfc_allocator.cc:1122] 1 Chunks of size 99584 totalling 97.2KiB\n",
            "2025-05-14 13:23:20.575204: I external/local_xla/xla/tsl/framework/bfc_allocator.cc:1122] 1 Chunks of size 100864 totalling 98.5KiB\n",
            "2025-05-14 13:23:20.575205: I external/local_xla/xla/tsl/framework/bfc_allocator.cc:1122] 1 Chunks of size 105472 totalling 103.0KiB\n",
            "2025-05-14 13:23:20.575206: I external/local_xla/xla/tsl/framework/bfc_allocator.cc:1122] 1 Chunks of size 107008 totalling 104.5KiB\n",
            "2025-05-14 13:23:20.575207: I external/local_xla/xla/tsl/framework/bfc_allocator.cc:1122] 1 Chunks of size 115200 totalling 112.5KiB\n",
            "2025-05-14 13:23:20.575207: I external/local_xla/xla/tsl/framework/bfc_allocator.cc:1122] 4 Chunks of size 122880 totalling 480.0KiB\n",
            "2025-05-14 13:23:20.575209: I external/local_xla/xla/tsl/framework/bfc_allocator.cc:1122] 18 Chunks of size 131072 totalling 2.25MiB\n",
            "2025-05-14 13:23:20.579204: I external/local_xla/xla/tsl/framework/bfc_allocator.cc:1122] 1 Chunks of size 135680 totalling 132.5KiB\n",
            "2025-05-14 13:23:20.579216: I external/local_xla/xla/tsl/framework/bfc_allocator.cc:1122] 5 Chunks of size 153600 totalling 750.0KiB\n",
            "2025-05-14 13:23:20.579217: I external/local_xla/xla/tsl/framework/bfc_allocator.cc:1122] 1 Chunks of size 167168 totalling 163.2KiB\n",
            "2025-05-14 13:23:20.579218: I external/local_xla/xla/tsl/framework/bfc_allocator.cc:1122] 1 Chunks of size 210944 totalling 206.0KiB\n",
            "2025-05-14 13:23:20.579219: I external/local_xla/xla/tsl/framework/bfc_allocator.cc:1122] 1 Chunks of size 215040 totalling 210.0KiB\n",
            "2025-05-14 13:23:20.579221: I external/local_xla/xla/tsl/framework/bfc_allocator.cc:1122] 13 Chunks of size 221184 totalling 2.74MiB\n",
            "2025-05-14 13:23:20.579222: I external/local_xla/xla/tsl/framework/bfc_allocator.cc:1122] 1 Chunks of size 230912 totalling 225.5KiB\n",
            "2025-05-14 13:23:20.579223: I external/local_xla/xla/tsl/framework/bfc_allocator.cc:1122] 11 Chunks of size 262144 totalling 2.75MiB\n",
            "2025-05-14 13:23:20.579224: I external/local_xla/xla/tsl/framework/bfc_allocator.cc:1122] 1 Chunks of size 270336 totalling 264.0KiB\n",
            "2025-05-14 13:23:20.579225: I external/local_xla/xla/tsl/framework/bfc_allocator.cc:1122] 5 Chunks of size 301056 totalling 1.44MiB\n",
            "2025-05-14 13:23:20.579226: I external/local_xla/xla/tsl/framework/bfc_allocator.cc:1122] 1 Chunks of size 360448 totalling 352.0KiB\n",
            "2025-05-14 13:23:20.579227: I external/local_xla/xla/tsl/framework/bfc_allocator.cc:1122] 1 Chunks of size 403456 totalling 394.0KiB\n",
            "2025-05-14 13:23:20.579227: I external/local_xla/xla/tsl/framework/bfc_allocator.cc:1122] 1 Chunks of size 516096 totalling 504.0KiB\n",
            "2025-05-14 13:23:20.579229: I external/local_xla/xla/tsl/framework/bfc_allocator.cc:1122] 4 Chunks of size 524288 totalling 2.00MiB\n",
            "2025-05-14 13:23:20.579230: I external/local_xla/xla/tsl/framework/bfc_allocator.cc:1122] 16 Chunks of size 745472 totalling 11.38MiB\n",
            "2025-05-14 13:23:20.579230: I external/local_xla/xla/tsl/framework/bfc_allocator.cc:1122] 1 Chunks of size 771584 totalling 753.5KiB\n",
            "2025-05-14 13:23:20.579231: I external/local_xla/xla/tsl/framework/bfc_allocator.cc:1122] 1 Chunks of size 841728 totalling 822.0KiB\n",
            "2025-05-14 13:23:20.579232: I external/local_xla/xla/tsl/framework/bfc_allocator.cc:1122] 7 Chunks of size 884736 totalling 5.91MiB\n",
            "2025-05-14 13:23:20.579233: I external/local_xla/xla/tsl/framework/bfc_allocator.cc:1122] 1 Chunks of size 919040 totalling 897.5KiB\n",
            "2025-05-14 13:23:20.579234: I external/local_xla/xla/tsl/framework/bfc_allocator.cc:1122] 1 Chunks of size 919552 totalling 898.0KiB\n",
            "2025-05-14 13:23:20.579235: I external/local_xla/xla/tsl/framework/bfc_allocator.cc:1122] 1 Chunks of size 921600 totalling 900.0KiB\n",
            "2025-05-14 13:23:20.579236: I external/local_xla/xla/tsl/framework/bfc_allocator.cc:1122] 9 Chunks of size 1048576 totalling 9.00MiB\n",
            "2025-05-14 13:23:20.579237: I external/local_xla/xla/tsl/framework/bfc_allocator.cc:1122] 1 Chunks of size 1071360 totalling 1.02MiB\n",
            "2025-05-14 13:23:20.579237: I external/local_xla/xla/tsl/framework/bfc_allocator.cc:1122] 2 Chunks of size 1374464 totalling 2.62MiB\n",
            "2025-05-14 13:23:20.579238: I external/local_xla/xla/tsl/framework/bfc_allocator.cc:1122] 1 Chunks of "
          ]
        }
      ],
      "id": "l74huuSoK116"
    },
    {
      "cell_type": "code",
      "source": [
        "# Track the best model:\n",
        "best_Xception_model_task3 = Xception_task_3_tuner.get_best_models(1)[0]\n",
        "best_Xception_model_task3.summary()\n",
        "best_Xception_model_task3.save('best_Xception_model_task3.keras')\n",
        "\n",
        "# Print best hyperparameters:\n",
        "best__para_Xception_model_task3 = Xception_task_3_tuner.get_best_hyperparameters(1)[0]\n",
        "print(best__para_Xception_model_task3.values)"
      ],
      "metadata": {
        "id": "GeG94hyeK116",
        "colab": {
          "base_uri": "https://localhost:8080/",
          "height": 810
        },
        "outputId": "9d510625-417d-46f6-eafb-8fa91cff56fa"
      },
      "execution_count": null,
      "outputs": [
        {
          "output_type": "stream",
          "name": "stderr",
          "text": [
            "54820608 totalling 295.30MiB\n",
            "2025-05-14 13:23:20.588161: I external/local_xla/xla/tsl/framework/bfc_allocator.cc:1122] 1 Chunks of size 172742912 totalling 164.74MiB\n",
            "2025-05-14 13:23:20.588162: I external/local_xla/xla/tsl/framework/bfc_allocator.cc:1122] 2 Chunks of size 194658304 totalling 371.28MiB\n",
            "2025-05-14 13:23:20.588163: I external/local_xla/xla/tsl/framework/bfc_allocator.cc:1122] 1 Chunks of size 209271040 totalling 199.58MiB\n",
            "2025-05-14 13:23:20.588164: I external/local_xla/xla/tsl/framework/bfc_allocator.cc:1122] 1 Chunks of size 221288704 totalling 211.04MiB\n",
            "2025-05-14 13:23:20.588165: I external/local_xla/xla/tsl/framework/bfc_allocator.cc:1122] 1 Chunks of size 231292928 totalling 220.58MiB\n",
            "2025-05-14 13:23:20.588167: I external/local_xla/xla/tsl/framework/bfc_allocator.cc:1126] Sum Total of in-use chunks: 5.43GiB\n",
            "2025-05-14 13:23:20.588169: I external/local_xla/xla/tsl/framework/bfc_allocator.cc:1128] Total bytes in pool: 5827985408 memory_limit_: 5827985408 available bytes: 0 curr_region_allocation_bytes_: 11655970816\n",
            "2025-05-14 13:23:20.588172: I external/local_xla/xla/tsl/framework/bfc_allocator.cc:1133] Stats: \n",
            "Limit:                      5827985408\n",
            "InUse:                      5827955200\n",
            "MaxInUse:                   5827955968\n",
            "NumAllocs:                   135349860\n",
            "MaxAllocSize:                553779200\n",
            "Reserved:                            0\n",
            "PeakReserved:                        0\n",
            "LargestFreeBlock:                    0\n",
            "\n",
            "2025-05-14 13:23:20.590481: W external/local_xla/xla/tsl/framework/bfc_allocator.cc:512] *************************************************************x**************************************\n",
            "2025-05-14 13:23:20.590515: W tensorflow/core/framework/op_kernel.cc:1857] OP_REQUIRES failed at conv_ops_impl.h:1136 : RESOURCE_EXHAUSTED: OOM when allocating tensor with shape[2048,1536,1,1] and type float on /job:localhost/replica:0/task:0/device:GPU:0 by allocator GPU_0_bfc\n",
            "/home/herom/lintf/lib/python3.12/site-packages/keras/src/saving/saving_lib.py:757: UserWarning: Skipping variable loading for optimizer 'adam', because it has 2 variables whereas the saved optimizer has 318 variables. \n",
            "  saveable.load_own_variables(weights_store.get(inner_path))\n"
          ]
        },
        {
          "output_type": "display_data",
          "data": {
            "text/plain": [
              "\u001b[1mModel: \"sequential\"\u001b[0m\n"
            ],
            "text/html": [
              "<pre style=\"white-space:pre;overflow-x:auto;line-height:normal;font-family:Menlo,'DejaVu Sans Mono',consolas,'Courier New',monospace\"><span style=\"font-weight: bold\">Model: \"sequential\"</span>\n",
              "</pre>\n"
            ]
          },
          "metadata": {}
        },
        {
          "output_type": "display_data",
          "data": {
            "text/plain": [
              "┏━━━━━━━━━━━━━━━━━━━━━━━━━━━━━━━━━┳━━━━━━━━━━━━━━━━━━━━━━━━┳━━━━━━━━━━━━━━━┓\n",
              "┃\u001b[1m \u001b[0m\u001b[1mLayer (type)                   \u001b[0m\u001b[1m \u001b[0m┃\u001b[1m \u001b[0m\u001b[1mOutput Shape          \u001b[0m\u001b[1m \u001b[0m┃\u001b[1m \u001b[0m\u001b[1m      Param #\u001b[0m\u001b[1m \u001b[0m┃\n",
              "┡━━━━━━━━━━━━━━━━━━━━━━━━━━━━━━━━━╇━━━━━━━━━━━━━━━━━━━━━━━━╇━━━━━━━━━━━━━━━┩\n",
              "│ sequential (\u001b[38;5;33mSequential\u001b[0m)         │ (\u001b[38;5;45mNone\u001b[0m, \u001b[38;5;34m224\u001b[0m, \u001b[38;5;34m224\u001b[0m, \u001b[38;5;34m3\u001b[0m)    │             \u001b[38;5;34m0\u001b[0m │\n",
              "├─────────────────────────────────┼────────────────────────┼───────────────┤\n",
              "│ rescaling (\u001b[38;5;33mRescaling\u001b[0m)           │ (\u001b[38;5;45mNone\u001b[0m, \u001b[38;5;34m224\u001b[0m, \u001b[38;5;34m224\u001b[0m, \u001b[38;5;34m3\u001b[0m)    │             \u001b[38;5;34m0\u001b[0m │\n",
              "├─────────────────────────────────┼────────────────────────┼───────────────┤\n",
              "│ xception (\u001b[38;5;33mFunctional\u001b[0m)           │ (\u001b[38;5;45mNone\u001b[0m, \u001b[38;5;34m7\u001b[0m, \u001b[38;5;34m7\u001b[0m, \u001b[38;5;34m2048\u001b[0m)     │    \u001b[38;5;34m20,861,480\u001b[0m │\n",
              "├─────────────────────────────────┼────────────────────────┼───────────────┤\n",
              "│ global_average_pooling2d        │ (\u001b[38;5;45mNone\u001b[0m, \u001b[38;5;34m2048\u001b[0m)           │             \u001b[38;5;34m0\u001b[0m │\n",
              "│ (\u001b[38;5;33mGlobalAveragePooling2D\u001b[0m)        │                        │               │\n",
              "├─────────────────────────────────┼────────────────────────┼───────────────┤\n",
              "│ dense (\u001b[38;5;33mDense\u001b[0m)                   │ (\u001b[38;5;45mNone\u001b[0m, \u001b[38;5;34m256\u001b[0m)            │       \u001b[38;5;34m524,544\u001b[0m │\n",
              "├─────────────────────────────────┼────────────────────────┼───────────────┤\n",
              "│ dropout (\u001b[38;5;33mDropout\u001b[0m)               │ (\u001b[38;5;45mNone\u001b[0m, \u001b[38;5;34m256\u001b[0m)            │             \u001b[38;5;34m0\u001b[0m │\n",
              "├─────────────────────────────────┼────────────────────────┼───────────────┤\n",
              "│ dense_1 (\u001b[38;5;33mDense\u001b[0m)                 │ (\u001b[38;5;45mNone\u001b[0m, \u001b[38;5;34m1\u001b[0m)              │           \u001b[38;5;34m257\u001b[0m │\n",
              "└─────────────────────────────────┴────────────────────────┴───────────────┘\n"
            ],
            "text/html": [
              "<pre style=\"white-space:pre;overflow-x:auto;line-height:normal;font-family:Menlo,'DejaVu Sans Mono',consolas,'Courier New',monospace\">┏━━━━━━━━━━━━━━━━━━━━━━━━━━━━━━━━━┳━━━━━━━━━━━━━━━━━━━━━━━━┳━━━━━━━━━━━━━━━┓\n",
              "┃<span style=\"font-weight: bold\"> Layer (type)                    </span>┃<span style=\"font-weight: bold\"> Output Shape           </span>┃<span style=\"font-weight: bold\">       Param # </span>┃\n",
              "┡━━━━━━━━━━━━━━━━━━━━━━━━━━━━━━━━━╇━━━━━━━━━━━━━━━━━━━━━━━━╇━━━━━━━━━━━━━━━┩\n",
              "│ sequential (<span style=\"color: #0087ff; text-decoration-color: #0087ff\">Sequential</span>)         │ (<span style=\"color: #00d7ff; text-decoration-color: #00d7ff\">None</span>, <span style=\"color: #00af00; text-decoration-color: #00af00\">224</span>, <span style=\"color: #00af00; text-decoration-color: #00af00\">224</span>, <span style=\"color: #00af00; text-decoration-color: #00af00\">3</span>)    │             <span style=\"color: #00af00; text-decoration-color: #00af00\">0</span> │\n",
              "├─────────────────────────────────┼────────────────────────┼───────────────┤\n",
              "│ rescaling (<span style=\"color: #0087ff; text-decoration-color: #0087ff\">Rescaling</span>)           │ (<span style=\"color: #00d7ff; text-decoration-color: #00d7ff\">None</span>, <span style=\"color: #00af00; text-decoration-color: #00af00\">224</span>, <span style=\"color: #00af00; text-decoration-color: #00af00\">224</span>, <span style=\"color: #00af00; text-decoration-color: #00af00\">3</span>)    │             <span style=\"color: #00af00; text-decoration-color: #00af00\">0</span> │\n",
              "├─────────────────────────────────┼────────────────────────┼───────────────┤\n",
              "│ xception (<span style=\"color: #0087ff; text-decoration-color: #0087ff\">Functional</span>)           │ (<span style=\"color: #00d7ff; text-decoration-color: #00d7ff\">None</span>, <span style=\"color: #00af00; text-decoration-color: #00af00\">7</span>, <span style=\"color: #00af00; text-decoration-color: #00af00\">7</span>, <span style=\"color: #00af00; text-decoration-color: #00af00\">2048</span>)     │    <span style=\"color: #00af00; text-decoration-color: #00af00\">20,861,480</span> │\n",
              "├─────────────────────────────────┼────────────────────────┼───────────────┤\n",
              "│ global_average_pooling2d        │ (<span style=\"color: #00d7ff; text-decoration-color: #00d7ff\">None</span>, <span style=\"color: #00af00; text-decoration-color: #00af00\">2048</span>)           │             <span style=\"color: #00af00; text-decoration-color: #00af00\">0</span> │\n",
              "│ (<span style=\"color: #0087ff; text-decoration-color: #0087ff\">GlobalAveragePooling2D</span>)        │                        │               │\n",
              "├─────────────────────────────────┼────────────────────────┼───────────────┤\n",
              "│ dense (<span style=\"color: #0087ff; text-decoration-color: #0087ff\">Dense</span>)                   │ (<span style=\"color: #00d7ff; text-decoration-color: #00d7ff\">None</span>, <span style=\"color: #00af00; text-decoration-color: #00af00\">256</span>)            │       <span style=\"color: #00af00; text-decoration-color: #00af00\">524,544</span> │\n",
              "├─────────────────────────────────┼────────────────────────┼───────────────┤\n",
              "│ dropout (<span style=\"color: #0087ff; text-decoration-color: #0087ff\">Dropout</span>)               │ (<span style=\"color: #00d7ff; text-decoration-color: #00d7ff\">None</span>, <span style=\"color: #00af00; text-decoration-color: #00af00\">256</span>)            │             <span style=\"color: #00af00; text-decoration-color: #00af00\">0</span> │\n",
              "├─────────────────────────────────┼────────────────────────┼───────────────┤\n",
              "│ dense_1 (<span style=\"color: #0087ff; text-decoration-color: #0087ff\">Dense</span>)                 │ (<span style=\"color: #00d7ff; text-decoration-color: #00d7ff\">None</span>, <span style=\"color: #00af00; text-decoration-color: #00af00\">1</span>)              │           <span style=\"color: #00af00; text-decoration-color: #00af00\">257</span> │\n",
              "└─────────────────────────────────┴────────────────────────┴───────────────┘\n",
              "</pre>\n"
            ]
          },
          "metadata": {}
        },
        {
          "output_type": "display_data",
          "data": {
            "text/plain": [
              "\u001b[1m Total params: \u001b[0m\u001b[38;5;34m21,386,281\u001b[0m (81.58 MB)\n"
            ],
            "text/html": [
              "<pre style=\"white-space:pre;overflow-x:auto;line-height:normal;font-family:Menlo,'DejaVu Sans Mono',consolas,'Courier New',monospace\"><span style=\"font-weight: bold\"> Total params: </span><span style=\"color: #00af00; text-decoration-color: #00af00\">21,386,281</span> (81.58 MB)\n",
              "</pre>\n"
            ]
          },
          "metadata": {}
        },
        {
          "output_type": "display_data",
          "data": {
            "text/plain": [
              "\u001b[1m Trainable params: \u001b[0m\u001b[38;5;34m21,331,753\u001b[0m (81.37 MB)\n"
            ],
            "text/html": [
              "<pre style=\"white-space:pre;overflow-x:auto;line-height:normal;font-family:Menlo,'DejaVu Sans Mono',consolas,'Courier New',monospace\"><span style=\"font-weight: bold\"> Trainable params: </span><span style=\"color: #00af00; text-decoration-color: #00af00\">21,331,753</span> (81.37 MB)\n",
              "</pre>\n"
            ]
          },
          "metadata": {}
        },
        {
          "output_type": "display_data",
          "data": {
            "text/plain": [
              "\u001b[1m Non-trainable params: \u001b[0m\u001b[38;5;34m54,528\u001b[0m (213.00 KB)\n"
            ],
            "text/html": [
              "<pre style=\"white-space:pre;overflow-x:auto;line-height:normal;font-family:Menlo,'DejaVu Sans Mono',consolas,'Courier New',monospace\"><span style=\"font-weight: bold\"> Non-trainable params: </span><span style=\"color: #00af00; text-decoration-color: #00af00\">54,528</span> (213.00 KB)\n",
              "</pre>\n"
            ]
          },
          "metadata": {}
        },
        {
          "output_type": "stream",
          "name": "stdout",
          "text": [
            "{'dense_units': 256, 'dropout_rate': 0.3, 'learning_rate': 0.006283286367334525}\n"
          ]
        }
      ],
      "id": "GeG94hyeK116"
    },
    {
      "cell_type": "code",
      "source": [
        "Xception_task_3_tuner.results_summary()"
      ],
      "metadata": {
        "id": "-JW-41qIOSfA",
        "outputId": "19f4dba2-3b44-4f82-8965-b3548fc5f74a",
        "colab": {
          "base_uri": "https://localhost:8080/"
        }
      },
      "id": "-JW-41qIOSfA",
      "execution_count": null,
      "outputs": [
        {
          "output_type": "stream",
          "name": "stdout",
          "text": [
            "Results summary\n",
            "Results in data/tuningtask3/Xception/Xception_tuning\n",
            "Showing 10 best trials\n",
            "Objective(name=\"val_mae\", direction=\"min\")\n",
            "\n",
            "Trial 07 summary\n",
            "Hyperparameters:\n",
            "dense_units: 256\n",
            "dropout_rate: 0.3\n",
            "learning_rate: 0.006283286367334525\n",
            "Score: 1.309913158416748\n",
            "\n",
            "Trial 06 summary\n",
            "Hyperparameters:\n",
            "dense_units: 128\n",
            "dropout_rate: 0.3\n",
            "learning_rate: 0.0015577695321475488\n",
            "Score: 1.8726189136505127\n",
            "\n",
            "Trial 05 summary\n",
            "Hyperparameters:\n",
            "dense_units: 192\n",
            "dropout_rate: 0.3\n",
            "learning_rate: 0.0001693152633727033\n",
            "Score: 1.9297945499420166\n",
            "\n",
            "Trial 04 summary\n",
            "Hyperparameters:\n",
            "dense_units: 128\n",
            "dropout_rate: 0.3\n",
            "learning_rate: 0.0010242211263663452\n",
            "Score: 2.2472190856933594\n",
            "\n",
            "Trial 00 summary\n",
            "Hyperparameters:\n",
            "dense_units: 256\n",
            "dropout_rate: 0.3\n",
            "learning_rate: 0.0010303205419268464\n",
            "Score: 3.0864217281341553\n",
            "\n",
            "Trial 03 summary\n",
            "Hyperparameters:\n",
            "dense_units: 192\n",
            "dropout_rate: 0.5\n",
            "learning_rate: 0.001096886962661042\n",
            "Score: 3.125845193862915\n",
            "\n",
            "Trial 01 summary\n",
            "Hyperparameters:\n",
            "dense_units: 192\n",
            "dropout_rate: 0.5\n",
            "learning_rate: 0.0010475393858135431\n",
            "Traceback (most recent call last):\n",
            "  File \"/home/herom/lintf/lib/python3.12/site-packages/keras_tuner/src/engine/base_tuner.py\", line 274, in _try_run_and_update_trial\n",
            "    self._run_and_update_trial(trial, *fit_args, **fit_kwargs)\n",
            "  File \"/home/herom/lintf/lib/python3.12/site-packages/keras_tuner/src/engine/base_tuner.py\", line 239, in _run_and_update_trial\n",
            "    results = self.run_trial(trial, *fit_args, **fit_kwargs)\n",
            "              ^^^^^^^^^^^^^^^^^^^^^^^^^^^^^^^^^^^^^^^^^^^^^^\n",
            "  File \"/home/herom/lintf/lib/python3.12/site-packages/keras_tuner/src/engine/tuner.py\", line 314, in run_trial\n",
            "    obj_value = self._build_and_fit_model(trial, *args, **copied_kwargs)\n",
            "                ^^^^^^^^^^^^^^^^^^^^^^^^^^^^^^^^^^^^^^^^^^^^^^^^^^^^^^^^\n",
            "  File \"/home/herom/lintf/lib/python3.12/site-packages/keras_tuner/src/engine/tuner.py\", line 233, in _build_and_fit_model\n",
            "    results = self.hypermodel.fit(hp, model, *args, **kwargs)\n",
            "              ^^^^^^^^^^^^^^^^^^^^^^^^^^^^^^^^^^^^^^^^^^^^^^^\n",
            "  File \"/home/herom/lintf/lib/python3.12/site-packages/keras_tuner/src/engine/hypermodel.py\", line 149, in fit\n",
            "    return model.fit(*args, **kwargs)\n",
            "           ^^^^^^^^^^^^^^^^^^^^^^^^^^\n",
            "  File \"/home/herom/lintf/lib/python3.12/site-packages/keras/src/utils/traceback_utils.py\", line 122, in error_handler\n",
            "    raise e.with_traceback(filtered_tb) from None\n",
            "  File \"/home/herom/lintf/lib/python3.12/site-packages/tensorflow/python/eager/execute.py\", line 59, in quick_execute\n",
            "    except TypeError as e:\n",
            "tensorflow.python.framework.errors_impl.ResourceExhaustedError: Graph execution error:\n",
            "\n",
            "Detected at node StatefulPartitionedCall/gradient_tape/sequential_1/xception_1/block4_sepconv2_bn_1/moments/mul_1-0-TransposeNHWCToNCHW-LayoutOptimizer defined at (most recent call last):\n",
            "<stack traces unavailable>\n",
            "OOM when allocating tensor with shape[32,728,28,28] and type float on /job:localhost/replica:0/task:0/device:GPU:0 by allocator GPU_0_bfc\n",
            "\t [[{{node StatefulPartitionedCall/gradient_tape/sequential_1/xception_1/block4_sepconv2_bn_1/moments/mul_1-0-TransposeNHWCToNCHW-LayoutOptimizer}}]]\n",
            "Hint: If you want to see a list of allocated tensors when OOM happens, add report_tensor_allocations_upon_oom to RunOptions for current allocation info. This isn't available when running in Eager mode.\n",
            " [Op:__inference_multi_step_on_iterator_3318775]\n",
            "\n",
            "\n",
            "Trial 08 summary\n",
            "Hyperparameters:\n",
            "dense_units: 64\n",
            "dropout_rate: 0.3\n",
            "learning_rate: 0.00011119886013191028\n",
            "Traceback (most recent call last):\n",
            "  File \"/home/herom/lintf/lib/python3.12/site-packages/keras_tuner/src/engine/base_tuner.py\", line 274, in _try_run_and_update_trial\n",
            "    self._run_and_update_trial(trial, *fit_args, **fit_kwargs)\n",
            "  File \"/home/herom/lintf/lib/python3.12/site-packages/keras_tuner/src/engine/base_tuner.py\", line 239, in _run_and_update_trial\n",
            "    results = self.run_trial(trial, *fit_args, **fit_kwargs)\n",
            "              ^^^^^^^^^^^^^^^^^^^^^^^^^^^^^^^^^^^^^^^^^^^^^^\n",
            "  File \"/home/herom/lintf/lib/python3.12/site-packages/keras_tuner/src/engine/tuner.py\", line 314, in run_trial\n",
            "    obj_value = self._build_and_fit_model(trial, *args, **copied_kwargs)\n",
            "                ^^^^^^^^^^^^^^^^^^^^^^^^^^^^^^^^^^^^^^^^^^^^^^^^^^^^^^^^\n",
            "  File \"/home/herom/lintf/lib/python3.12/site-packages/keras_tuner/src/engine/tuner.py\", line 233, in _build_and_fit_model\n",
            "    results = self.hypermodel.fit(hp, model, *args, **kwargs)\n",
            "              ^^^^^^^^^^^^^^^^^^^^^^^^^^^^^^^^^^^^^^^^^^^^^^^\n",
            "  File \"/home/herom/lintf/lib/python3.12/site-packages/keras_tuner/src/engine/hypermodel.py\", line 149, in fit\n",
            "    return model.fit(*args, **kwargs)\n",
            "           ^^^^^^^^^^^^^^^^^^^^^^^^^^\n",
            "  File \"/home/herom/lintf/lib/python3.12/site-packages/keras/src/utils/traceback_utils.py\", line 122, in error_handler\n",
            "    raise e.with_traceback(filtered_tb) from None\n",
            "  File \"/home/herom/lintf/lib/python3.12/site-packages/tensorflow/python/eager/execute.py\", line 59, in quick_execute\n",
            "    except TypeError as e:\n",
            "tensorflow.python.framework.errors_impl.ResourceExhaustedError: Graph execution error:\n",
            "\n",
            "Detected at node gradient_tape/sequential_1/xception_1/block14_sepconv2_bn_1/batchnorm/mul_1/Mul_1 defined at (most recent call last):\n",
            "  File \"<frozen runpy>\", line 198, in _run_module_as_main\n",
            "\n",
            "  File \"<frozen runpy>\", line 88, in _run_code\n",
            "\n",
            "  File \"/home/herom/lintf/lib/python3.12/site-packages/ipykernel_launcher.py\", line 18, in <module>\n",
            "\n",
            "  File \"/home/herom/lintf/lib/python3.12/site-packages/traitlets/config/application.py\", line 1075, in launch_instance\n",
            "\n",
            "  File \"/home/herom/lintf/lib/python3.12/site-packages/ipykernel/kernelapp.py\", line 739, in start\n",
            "\n",
            "  File \"/home/herom/lintf/lib/python3.12/site-packages/tornado/platform/asyncio.py\", line 205, in start\n",
            "\n",
            "  File \"/usr/lib/python3.12/asyncio/base_events.py\", line 641, in run_forever\n",
            "\n",
            "  File \"/usr/lib/python3.12/asyncio/base_events.py\", line 1987, in _run_once\n",
            "\n",
            "  File \"/usr/lib/python3.12/asyncio/events.py\", line 88, in _run\n",
            "\n",
            "  File \"/home/herom/lintf/lib/python3.12/site-packages/ipykernel/kernelbase.py\", line 545, in dispatch_queue\n",
            "\n",
            "  File \"/home/herom/lintf/lib/python3.12/site-packages/ipykernel/kernelbase.py\", line 534, in process_one\n",
            "\n",
            "  File \"/home/herom/lintf/lib/python3.12/site-packages/ipykernel/kernelbase.py\", line 437, in dispatch_shell\n",
            "\n",
            "  File \"/home/herom/lintf/lib/python3.12/site-packages/ipykernel/ipkernel.py\", line 362, in execute_request\n",
            "\n",
            "  File \"/home/herom/lintf/lib/python3.12/site-packages/ipykernel/kernelbase.py\", line 778, in execute_request\n",
            "\n",
            "  File \"/home/herom/lintf/lib/python3.12/site-packages/ipykernel/ipkernel.py\", line 449, in do_execute\n",
            "\n",
            "  File \"/home/herom/lintf/lib/python3.12/site-packages/ipykernel/zmqshell.py\", line 549, in run_cell\n",
            "\n",
            "  File \"/home/herom/lintf/lib/python3.12/site-packages/IPython/core/interactiveshell.py\", line 3098, in run_cell\n",
            "\n",
            "  File \"/home/herom/lintf/lib/python3.12/site-packages/IPython/core/interactiveshell.py\", line 3153, in _run_cell\n",
            "\n",
            "  File \"/home/herom/lintf/lib/python3.12/site-packages/IPython/core/async_helpers.py\", line 128, in _pseudo_sync_runner\n",
            "\n",
            "  File \"/home/herom/lintf/lib/python3.12/site-packages/IPython/core/interactiveshell.py\", line 3365, in run_cell_async\n",
            "\n",
            "  File \"/home/herom/lintf/lib/python3.12/site-packages/IPython/core/interactiveshell.py\", line 3610, in run_ast_nodes\n",
            "\n",
            "  File \"/home/herom/lintf/lib/python3.12/site-packages/IPython/core/interactiveshell.py\", line 3670, in run_code\n",
            "\n",
            "  File \"/tmp/ipykernel_411/1347997180.py\", line 1, in <module>\n",
            "\n",
            "  File \"/home/herom/lintf/lib/python3.12/site-packages/keras_tuner/src/engine/base_tuner.py\", line 234, in search\n",
            "\n",
            "  File \"/home/herom/lintf/lib/python3.12/site-packages/keras_tuner/src/engine/base_tuner.py\", line 274, in _try_run_and_update_trial\n",
            "\n",
            "  File \"/home/herom/lintf/lib/python3.12/site-packages/keras_tuner/src/engine/base_tuner.py\", line 239, in _run_and_update_trial\n",
            "\n",
            "  File \"/home/herom/lintf/lib/python3.12/site-packages/keras_tuner/src/engine/tuner.py\", line 314, in run_trial\n",
            "\n",
            "  File \"/home/herom/lintf/lib/python3.12/site-packages/keras_tuner/src/engine/tuner.py\", line 233, in _build_and_fit_model\n",
            "\n",
            "  File \"/home/herom/lintf/lib/python3.12/site-packages/keras_tuner/src/engine/hypermodel.py\", line 149, in fit\n",
            "\n",
            "  File \"/home/herom/lintf/lib/python3.12/site-packages/keras/src/utils/traceback_utils.py\", line 117, in error_handler\n",
            "\n",
            "  File \"/home/herom/lintf/lib/python3.12/site-packages/keras/src/backend/tensorflow/trainer.py\", line 371, in fit\n",
            "\n",
            "  File \"/home/herom/lintf/lib/python3.12/site-packages/keras/src/backend/tensorflow/trainer.py\", line 219, in function\n",
            "\n",
            "  File \"/home/herom/lintf/lib/python3.12/site-packages/keras/src/backend/tensorflow/trainer.py\", line 132, in multi_step_on_iterator\n",
            "\n",
            "  File \"/home/herom/lintf/lib/python3.12/site-packages/keras/src/backend/tensorflow/trainer.py\", line 113, in one_step_on_data\n",
            "\n",
            "  File \"/home/herom/lintf/lib/python3.12/site-packages/keras/src/backend/tensorflow/trainer.py\", line 77, in train_step\n",
            "\n",
            "failed to allocate memory\n",
            "\t [[{{node gradient_tape/sequential_1/xception_1/block14_sepconv2_bn_1/batchnorm/mul_1/Mul_1}}]]\n",
            "Hint: If you want to see a list of allocated tensors when OOM happens, add report_tensor_allocations_upon_oom to RunOptions for current allocation info. This isn't available when running in Eager mode.\n",
            " [Op:__inference_multi_step_on_iterator_1324892]\n",
            "\n",
            "\n",
            "Trial 09 summary\n",
            "Hyperparameters:\n",
            "dense_units: 192\n",
            "dropout_rate: 0.3\n",
            "learning_rate: 0.00024124275097430977\n",
            "Traceback (most recent call last):\n",
            "  File \"/home/herom/lintf/lib/python3.12/site-packages/keras_tuner/src/engine/base_tuner.py\", line 274, in _try_run_and_update_trial\n",
            "    self._run_and_update_trial(trial, *fit_args, **fit_kwargs)\n",
            "  File \"/home/herom/lintf/lib/python3.12/site-packages/keras_tuner/src/engine/base_tuner.py\", line 239, in _run_and_update_trial\n",
            "    results = self.run_trial(trial, *fit_args, **fit_kwargs)\n",
            "              ^^^^^^^^^^^^^^^^^^^^^^^^^^^^^^^^^^^^^^^^^^^^^^\n",
            "  File \"/home/herom/lintf/lib/python3.12/site-packages/keras_tuner/src/engine/tuner.py\", line 314, in run_trial\n",
            "    obj_value = self._build_and_fit_model(trial, *args, **copied_kwargs)\n",
            "                ^^^^^^^^^^^^^^^^^^^^^^^^^^^^^^^^^^^^^^^^^^^^^^^^^^^^^^^^\n",
            "  File \"/home/herom/lintf/lib/python3.12/site-packages/keras_tuner/src/engine/tuner.py\", line 233, in _build_and_fit_model\n",
            "    results = self.hypermodel.fit(hp, model, *args, **kwargs)\n",
            "              ^^^^^^^^^^^^^^^^^^^^^^^^^^^^^^^^^^^^^^^^^^^^^^^\n",
            "  File \"/home/herom/lintf/lib/python3.12/site-packages/keras_tuner/src/engine/hypermodel.py\", line 149, in fit\n",
            "    return model.fit(*args, **kwargs)\n",
            "           ^^^^^^^^^^^^^^^^^^^^^^^^^^\n",
            "  File \"/home/herom/lintf/lib/python3.12/site-packages/keras/src/utils/traceback_utils.py\", line 122, in error_handler\n",
            "    raise e.with_traceback(filtered_tb) from None\n",
            "  File \"/home/herom/lintf/lib/python3.12/site-packages/tensorflow/python/eager/execute.py\", line 59, in quick_execute\n",
            "    except TypeError as e:\n",
            "tensorflow.python.framework.errors_impl.ResourceExhaustedError: Graph execution error:\n",
            "\n",
            "Detected at node sequential_1/xception_1/block14_sepconv2_1/separable_conv2d defined at (most recent call last):\n",
            "  File \"<frozen runpy>\", line 198, in _run_module_as_main\n",
            "\n",
            "  File \"<frozen runpy>\", line 88, in _run_code\n",
            "\n",
            "  File \"/home/herom/lintf/lib/python3.12/site-packages/ipykernel_launcher.py\", line 18, in <module>\n",
            "\n",
            "  File \"/home/herom/lintf/lib/python3.12/site-packages/traitlets/config/application.py\", line 1075, in launch_instance\n",
            "\n",
            "  File \"/home/herom/lintf/lib/python3.12/site-packages/ipykernel/kernelapp.py\", line 739, in start\n",
            "\n",
            "  File \"/home/herom/lintf/lib/python3.12/site-packages/tornado/platform/asyncio.py\", line 205, in start\n",
            "\n",
            "  File \"/usr/lib/python3.12/asyncio/base_events.py\", line 641, in run_forever\n",
            "\n",
            "  File \"/usr/lib/python3.12/asyncio/base_events.py\", line 1987, in _run_once\n",
            "\n",
            "  File \"/usr/lib/python3.12/asyncio/events.py\", line 88, in _run\n",
            "\n",
            "  File \"/home/herom/lintf/lib/python3.12/site-packages/ipykernel/kernelbase.py\", line 545, in dispatch_queue\n",
            "\n",
            "  File \"/home/herom/lintf/lib/python3.12/site-packages/ipykernel/kernelbase.py\", line 534, in process_one\n",
            "\n",
            "  File \"/home/herom/lintf/lib/python3.12/site-packages/ipykernel/kernelbase.py\", line 437, in dispatch_shell\n",
            "\n",
            "  File \"/home/herom/lintf/lib/python3.12/site-packages/ipykernel/ipkernel.py\", line 362, in execute_request\n",
            "\n",
            "  File \"/home/herom/lintf/lib/python3.12/site-packages/ipykernel/kernelbase.py\", line 778, in execute_request\n",
            "\n",
            "  File \"/home/herom/lintf/lib/python3.12/site-packages/ipykernel/ipkernel.py\", line 449, in do_execute\n",
            "\n",
            "  File \"/home/herom/lintf/lib/python3.12/site-packages/ipykernel/zmqshell.py\", line 549, in run_cell\n",
            "\n",
            "  File \"/home/herom/lintf/lib/python3.12/site-packages/IPython/core/interactiveshell.py\", line 3098, in run_cell\n",
            "\n",
            "  File \"/home/herom/lintf/lib/python3.12/site-packages/IPython/core/interactiveshell.py\", line 3153, in _run_cell\n",
            "\n",
            "  File \"/home/herom/lintf/lib/python3.12/site-packages/IPython/core/async_helpers.py\", line 128, in _pseudo_sync_runner\n",
            "\n",
            "  File \"/home/herom/lintf/lib/python3.12/site-packages/IPython/core/interactiveshell.py\", line 3365, in run_cell_async\n",
            "\n",
            "  File \"/home/herom/lintf/lib/python3.12/site-packages/IPython/core/interactiveshell.py\", line 3610, in run_ast_nodes\n",
            "\n",
            "  File \"/home/herom/lintf/lib/python3.12/site-packages/IPython/core/interactiveshell.py\", line 3670, in run_code\n",
            "\n",
            "  File \"/tmp/ipykernel_411/1347997180.py\", line 1, in <module>\n",
            "\n",
            "  File \"/home/herom/lintf/lib/python3.12/site-packages/keras_tuner/src/engine/base_tuner.py\", line 234, in search\n",
            "\n",
            "  File \"/home/herom/lintf/lib/python3.12/site-packages/keras_tuner/src/engine/base_tuner.py\", line 274, in _try_run_and_update_trial\n",
            "\n",
            "  File \"/home/herom/lintf/lib/python3.12/site-packages/keras_tuner/src/engine/base_tuner.py\", line 239, in _run_and_update_trial\n",
            "\n",
            "  File \"/home/herom/lintf/lib/python3.12/site-packages/keras_tuner/src/engine/tuner.py\", line 314, in run_trial\n",
            "\n",
            "  File \"/home/herom/lintf/lib/python3.12/site-packages/keras_tuner/src/engine/tuner.py\", line 233, in _build_and_fit_model\n",
            "\n",
            "  File \"/home/herom/lintf/lib/python3.12/site-packages/keras_tuner/src/engine/hypermodel.py\", line 149, in fit\n",
            "\n",
            "  File \"/home/herom/lintf/lib/python3.12/site-packages/keras/src/utils/traceback_utils.py\", line 117, in error_handler\n",
            "\n",
            "  File \"/home/herom/lintf/lib/python3.12/site-packages/keras/src/backend/tensorflow/trainer.py\", line 371, in fit\n",
            "\n",
            "  File \"/home/herom/lintf/lib/python3.12/site-packages/keras/src/backend/tensorflow/trainer.py\", line 219, in function\n",
            "\n",
            "  File \"/home/herom/lintf/lib/python3.12/site-packages/keras/src/backend/tensorflow/trainer.py\", line 132, in multi_step_on_iterator\n",
            "\n",
            "  File \"/home/herom/lintf/lib/python3.12/site-packages/keras/src/backend/tensorflow/trainer.py\", line 113, in one_step_on_data\n",
            "\n",
            "  File \"/home/herom/lintf/lib/python3.12/site-packages/keras/src/backend/tensorflow/trainer.py\", line 57, in train_step\n",
            "\n",
            "  File \"/home/herom/lintf/lib/python3.12/site-packages/keras/src/utils/traceback_utils.py\", line 117, in error_handler\n",
            "\n",
            "  File \"/home/herom/lintf/lib/python3.12/site-packages/keras/src/layers/layer.py\", line 910, in __call__\n",
            "\n",
            "  File \"/home/herom/lintf/lib/python3.12/site-packages/keras/src/utils/traceback_utils.py\", line 117, in error_handler\n",
            "\n",
            "  File \"/home/herom/lintf/lib/python3.12/site-packages/keras/src/ops/operation.py\", line 58, in __call__\n",
            "\n",
            "  File \"/home/herom/lintf/lib/python3.12/site-packages/keras/src/utils/traceback_utils.py\", line 156, in error_handler\n",
            "\n",
            "  File \"/home/herom/lintf/lib/python3.12/site-packages/keras/src/models/sequential.py\", line 221, in call\n",
            "\n",
            "  File \"/home/herom/lintf/lib/python3.12/site-packages/keras/src/models/functional.py\", line 183, in call\n",
            "\n",
            "  File \"/home/herom/lintf/lib/python3.12/site-packages/keras/src/ops/function.py\", line 171, in _run_through_graph\n",
            "\n",
            "  File \"/home/herom/lintf/lib/python3.12/site-packages/keras/src/models/functional.py\", line 643, in call\n",
            "\n",
            "  File \"/home/herom/lintf/lib/python3.12/site-packages/keras/src/utils/traceback_utils.py\", line 117, in error_handler\n",
            "\n",
            "  File \"/home/herom/lintf/lib/python3.12/site-packages/keras/src/layers/layer.py\", line 910, in __call__\n",
            "\n",
            "  File \"/home/herom/lintf/lib/python3.12/site-packages/keras/src/utils/traceback_utils.py\", line 117, in error_handler\n",
            "\n",
            "  File \"/home/herom/lintf/lib/python3.12/site-packages/keras/src/ops/operation.py\", line 58, in __call__\n",
            "\n",
            "  File \"/home/herom/lintf/lib/python3.12/site-packages/keras/src/utils/traceback_utils.py\", line 156, in error_handler\n",
            "\n",
            "  File \"/home/herom/lintf/lib/python3.12/site-packages/keras/src/models/functional.py\", line 183, in call\n",
            "\n",
            "  File \"/home/herom/lintf/lib/python3.12/site-packages/keras/src/ops/function.py\", line 171, in _run_through_graph\n",
            "\n",
            "  File \"/home/herom/lintf/lib/python3.12/site-packages/keras/src/models/functional.py\", line 643, in call\n",
            "\n",
            "  File \"/home/herom/lintf/lib/python3.12/site-packages/keras/src/utils/traceback_utils.py\", line 117, in error_handler\n",
            "\n",
            "  File \"/home/herom/lintf/lib/python3.12/site-packages/keras/src/layers/layer.py\", line 910, in __call__\n",
            "\n",
            "  File \"/home/herom/lintf/lib/python3.12/site-packages/keras/src/utils/traceback_utils.py\", line 117, in error_handler\n",
            "\n",
            "  File \"/home/herom/lintf/lib/python3.12/site-packages/keras/src/ops/operation.py\", line 58, in __call__\n",
            "\n",
            "  File \"/home/herom/lintf/lib/python3.12/site-packages/keras/src/utils/traceback_utils.py\", line 156, in error_handler\n",
            "\n",
            "  File \"/home/herom/lintf/lib/python3.12/site-packages/keras/src/layers/convolutional/base_separable_conv.py\", line 219, in call\n",
            "\n",
            "  File \"/home/herom/lintf/lib/python3.12/site-packages/keras/src/ops/nn.py\", line 1521, in separable_conv\n",
            "\n",
            "  File \"/home/herom/lintf/lib/python3.12/site-packages/keras/src/backend/tensorflow/nn.py\", line 448, in separable_conv\n",
            "\n",
            "OOM when allocating tensor with shape[2048,1536,1,1] and type float on /job:localhost/replica:0/task:0/device:GPU:0 by allocator GPU_0_bfc\n",
            "\t [[{{node sequential_1/xception_1/block14_sepconv2_1/separable_conv2d}}]]\n",
            "Hint: If you want to see a list of allocated tensors when OOM happens, add report_tensor_allocations_upon_oom to RunOptions for current allocation info. This isn't available when running in Eager mode.\n",
            " [Op:__inference_multi_step_on_iterator_1356019]\n",
            "\n",
            "\n",
            "Trial 02 summary\n",
            "Hyperparameters:\n",
            "dense_units: 256\n",
            "dropout_rate: 0.3\n",
            "learning_rate: 0.00020439825403773334\n",
            "Traceback (most recent call last):\n",
            "  File \"/home/herom/lintf/lib/python3.12/site-packages/keras_tuner/src/engine/base_tuner.py\", line 274, in _try_run_and_update_trial\n",
            "    self._run_and_update_trial(trial, *fit_args, **fit_kwargs)\n",
            "  File \"/home/herom/lintf/lib/python3.12/site-packages/keras_tuner/src/engine/base_tuner.py\", line 239, in _run_and_update_trial\n",
            "    results = self.run_trial(trial, *fit_args, **fit_kwargs)\n",
            "              ^^^^^^^^^^^^^^^^^^^^^^^^^^^^^^^^^^^^^^^^^^^^^^\n",
            "  File \"/home/herom/lintf/lib/python3.12/site-packages/keras_tuner/src/engine/tuner.py\", line 314, in run_trial\n",
            "    obj_value = self._build_and_fit_model(trial, *args, **copied_kwargs)\n",
            "                ^^^^^^^^^^^^^^^^^^^^^^^^^^^^^^^^^^^^^^^^^^^^^^^^^^^^^^^^\n",
            "  File \"/home/herom/lintf/lib/python3.12/site-packages/keras_tuner/src/engine/tuner.py\", line 233, in _build_and_fit_model\n",
            "    results = self.hypermodel.fit(hp, model, *args, **kwargs)\n",
            "              ^^^^^^^^^^^^^^^^^^^^^^^^^^^^^^^^^^^^^^^^^^^^^^^\n",
            "  File \"/home/herom/lintf/lib/python3.12/site-packages/keras_tuner/src/engine/hypermodel.py\", line 149, in fit\n",
            "    return model.fit(*args, **kwargs)\n",
            "           ^^^^^^^^^^^^^^^^^^^^^^^^^^\n",
            "  File \"/home/herom/lintf/lib/python3.12/site-packages/keras/src/utils/traceback_utils.py\", line 122, in error_handler\n",
            "    raise e.with_traceback(filtered_tb) from None\n",
            "  File \"/home/herom/lintf/lib/python3.12/site-packages/tensorflow/python/eager/execute.py\", line 59, in quick_execute\n",
            "    except TypeError as e:\n",
            "tensorflow.python.framework.errors_impl.ResourceExhaustedError: Graph execution error:\n",
            "\n",
            "Detected at node sequential_1/xception_1/block13_sepconv2_1/separable_conv2d defined at (most recent call last):\n",
            "  File \"<frozen runpy>\", line 198, in _run_module_as_main\n",
            "\n",
            "  File \"<frozen runpy>\", line 88, in _run_code\n",
            "\n",
            "  File \"/home/herom/lintf/lib/python3.12/site-packages/ipykernel_launcher.py\", line 18, in <module>\n",
            "\n",
            "  File \"/home/herom/lintf/lib/python3.12/site-packages/traitlets/config/application.py\", line 1075, in launch_instance\n",
            "\n",
            "  File \"/home/herom/lintf/lib/python3.12/site-packages/ipykernel/kernelapp.py\", line 739, in start\n",
            "\n",
            "  File \"/home/herom/lintf/lib/python3.12/site-packages/tornado/platform/asyncio.py\", line 205, in start\n",
            "\n",
            "  File \"/usr/lib/python3.12/asyncio/base_events.py\", line 641, in run_forever\n",
            "\n",
            "  File \"/usr/lib/python3.12/asyncio/base_events.py\", line 1987, in _run_once\n",
            "\n",
            "  File \"/usr/lib/python3.12/asyncio/events.py\", line 88, in _run\n",
            "\n",
            "  File \"/home/herom/lintf/lib/python3.12/site-packages/ipykernel/kernelbase.py\", line 545, in dispatch_queue\n",
            "\n",
            "  File \"/home/herom/lintf/lib/python3.12/site-packages/ipykernel/kernelbase.py\", line 534, in process_one\n",
            "\n",
            "  File \"/home/herom/lintf/lib/python3.12/site-packages/ipykernel/kernelbase.py\", line 437, in dispatch_shell\n",
            "\n",
            "  File \"/home/herom/lintf/lib/python3.12/site-packages/ipykernel/ipkernel.py\", line 362, in execute_request\n",
            "\n",
            "  File \"/home/herom/lintf/lib/python3.12/site-packages/ipykernel/kernelbase.py\", line 778, in execute_request\n",
            "\n",
            "  File \"/home/herom/lintf/lib/python3.12/site-packages/ipykernel/ipkernel.py\", line 449, in do_execute\n",
            "\n",
            "  File \"/home/herom/lintf/lib/python3.12/site-packages/ipykernel/zmqshell.py\", line 549, in run_cell\n",
            "\n",
            "  File \"/home/herom/lintf/lib/python3.12/site-packages/IPython/core/interactiveshell.py\", line 3098, in run_cell\n",
            "\n",
            "  File \"/home/herom/lintf/lib/python3.12/site-packages/IPython/core/interactiveshell.py\", line 3153, in _run_cell\n",
            "\n",
            "  File \"/home/herom/lintf/lib/python3.12/site-packages/IPython/core/async_helpers.py\", line 128, in _pseudo_sync_runner\n",
            "\n",
            "  File \"/home/herom/lintf/lib/python3.12/site-packages/IPython/core/interactiveshell.py\", line 3365, in run_cell_async\n",
            "\n",
            "  File \"/home/herom/lintf/lib/python3.12/site-packages/IPython/core/interactiveshell.py\", line 3610, in run_ast_nodes\n",
            "\n",
            "  File \"/home/herom/lintf/lib/python3.12/site-packages/IPython/core/interactiveshell.py\", line 3670, in run_code\n",
            "\n",
            "  File \"/tmp/ipykernel_15422/1347997180.py\", line 1, in <module>\n",
            "\n",
            "  File \"/home/herom/lintf/lib/python3.12/site-packages/keras_tuner/src/engine/base_tuner.py\", line 234, in search\n",
            "\n",
            "  File \"/home/herom/lintf/lib/python3.12/site-packages/keras_tuner/src/engine/base_tuner.py\", line 274, in _try_run_and_update_trial\n",
            "\n",
            "  File \"/home/herom/lintf/lib/python3.12/site-packages/keras_tuner/src/engine/base_tuner.py\", line 239, in _run_and_update_trial\n",
            "\n",
            "  File \"/home/herom/lintf/lib/python3.12/site-packages/keras_tuner/src/engine/tuner.py\", line 314, in run_trial\n",
            "\n",
            "  File \"/home/herom/lintf/lib/python3.12/site-packages/keras_tuner/src/engine/tuner.py\", line 233, in _build_and_fit_model\n",
            "\n",
            "  File \"/home/herom/lintf/lib/python3.12/site-packages/keras_tuner/src/engine/hypermodel.py\", line 149, in fit\n",
            "\n",
            "  File \"/home/herom/lintf/lib/python3.12/site-packages/keras/src/utils/traceback_utils.py\", line 117, in error_handler\n",
            "\n",
            "  File \"/home/herom/lintf/lib/python3.12/site-packages/keras/src/backend/tensorflow/trainer.py\", line 371, in fit\n",
            "\n",
            "  File \"/home/herom/lintf/lib/python3.12/site-packages/keras/src/backend/tensorflow/trainer.py\", line 219, in function\n",
            "\n",
            "  File \"/home/herom/lintf/lib/python3.12/site-packages/keras/src/backend/tensorflow/trainer.py\", line 132, in multi_step_on_iterator\n",
            "\n",
            "  File \"/home/herom/lintf/lib/python3.12/site-packages/keras/src/backend/tensorflow/trainer.py\", line 113, in one_step_on_data\n",
            "\n",
            "  File \"/home/herom/lintf/lib/python3.12/site-packages/keras/src/backend/tensorflow/trainer.py\", line 57, in train_step\n",
            "\n",
            "  File \"/home/herom/lintf/lib/python3.12/site-packages/keras/src/utils/traceback_utils.py\", line 117, in error_handler\n",
            "\n",
            "  File \"/home/herom/lintf/lib/python3.12/site-packages/keras/src/layers/layer.py\", line 910, in __call__\n",
            "\n",
            "  File \"/home/herom/lintf/lib/python3.12/site-packages/keras/src/utils/traceback_utils.py\", line 117, in error_handler\n",
            "\n",
            "  File \"/home/herom/lintf/lib/python3.12/site-packages/keras/src/ops/operation.py\", line 58, in __call__\n",
            "\n",
            "  File \"/home/herom/lintf/lib/python3.12/site-packages/keras/src/utils/traceback_utils.py\", line 156, in error_handler\n",
            "\n",
            "  File \"/home/herom/lintf/lib/python3.12/site-packages/keras/src/models/sequential.py\", line 221, in call\n",
            "\n",
            "  File \"/home/herom/lintf/lib/python3.12/site-packages/keras/src/models/functional.py\", line 183, in call\n",
            "\n",
            "  File \"/home/herom/lintf/lib/python3.12/site-packages/keras/src/ops/function.py\", line 171, in _run_through_graph\n",
            "\n",
            "  File \"/home/herom/lintf/lib/python3.12/site-packages/keras/src/models/functional.py\", line 643, in call\n",
            "\n",
            "  File \"/home/herom/lintf/lib/python3.12/site-packages/keras/src/utils/traceback_utils.py\", line 117, in error_handler\n",
            "\n",
            "  File \"/home/herom/lintf/lib/python3.12/site-packages/keras/src/layers/layer.py\", line 910, in __call__\n",
            "\n",
            "  File \"/home/herom/lintf/lib/python3.12/site-packages/keras/src/utils/traceback_utils.py\", line 117, in error_handler\n",
            "\n",
            "  File \"/home/herom/lintf/lib/python3.12/site-packages/keras/src/ops/operation.py\", line 58, in __call__\n",
            "\n",
            "  File \"/home/herom/lintf/lib/python3.12/site-packages/keras/src/utils/traceback_utils.py\", line 156, in error_handler\n",
            "\n",
            "  File \"/home/herom/lintf/lib/python3.12/site-packages/keras/src/models/functional.py\", line 183, in call\n",
            "\n",
            "  File \"/home/herom/lintf/lib/python3.12/site-packages/keras/src/ops/function.py\", line 171, in _run_through_graph\n",
            "\n",
            "  File \"/home/herom/lintf/lib/python3.12/site-packages/keras/src/models/functional.py\", line 643, in call\n",
            "\n",
            "  File \"/home/herom/lintf/lib/python3.12/site-packages/keras/src/utils/traceback_utils.py\", line 117, in error_handler\n",
            "\n",
            "  File \"/home/herom/lintf/lib/python3.12/site-packages/keras/src/layers/layer.py\", line 910, in __call__\n",
            "\n",
            "  File \"/home/herom/lintf/lib/python3.12/site-packages/keras/src/utils/traceback_utils.py\", line 117, in error_handler\n",
            "\n",
            "  File \"/home/herom/lintf/lib/python3.12/site-packages/keras/src/ops/operation.py\", line 58, in __call__\n",
            "\n",
            "  File \"/home/herom/lintf/lib/python3.12/site-packages/keras/src/utils/traceback_utils.py\", line 156, in error_handler\n",
            "\n",
            "  File \"/home/herom/lintf/lib/python3.12/site-packages/keras/src/layers/convolutional/base_separable_conv.py\", line 219, in call\n",
            "\n",
            "  File \"/home/herom/lintf/lib/python3.12/site-packages/keras/src/ops/nn.py\", line 1521, in separable_conv\n",
            "\n",
            "  File \"/home/herom/lintf/lib/python3.12/site-packages/keras/src/backend/tensorflow/nn.py\", line 448, in separable_conv\n",
            "\n",
            "OOM when allocating tensor with shape[32,1024,14,14] and type float on /job:localhost/replica:0/task:0/device:GPU:0 by allocator GPU_0_bfc\n",
            "\t [[{{node sequential_1/xception_1/block13_sepconv2_1/separable_conv2d}}]]\n",
            "Hint: If you want to see a list of allocated tensors when OOM happens, add report_tensor_allocations_upon_oom to RunOptions for current allocation info. This isn't available when running in Eager mode.\n",
            " [Op:__inference_multi_step_on_iterator_3349902]\n",
            "\n"
          ]
        }
      ]
    },
    {
      "cell_type": "markdown",
      "source": [
        "## Evaluation and Final Training Session"
      ],
      "metadata": {
        "id": "TTdQ1-qqbreU"
      },
      "id": "TTdQ1-qqbreU"
    },
    {
      "cell_type": "markdown",
      "source": [
        "1. Build all functions to calculate R2"
      ],
      "metadata": {
        "id": "jZ1M_KJlkdYY"
      },
      "id": "jZ1M_KJlkdYY"
    },
    {
      "cell_type": "code",
      "source": [
        "def extract_labels_and_preds(model, dataset):\n",
        "    y_true = []\n",
        "    y_pred = []\n",
        "\n",
        "    for images, labels in dataset:\n",
        "        preds = model.predict(images, verbose=0)\n",
        "        y_true.append(labels.numpy())\n",
        "        y_pred.append(preds)\n",
        "\n",
        "    y_true = np.concatenate(y_true)\n",
        "    y_pred = np.concatenate(y_pred)\n",
        "\n",
        "    return y_true, y_pred"
      ],
      "metadata": {
        "id": "Id_krC6Pa9rg"
      },
      "execution_count": null,
      "outputs": [],
      "id": "Id_krC6Pa9rg"
    },
    {
      "cell_type": "code",
      "source": [
        "from sklearn.metrics import r2_score\n",
        "\n",
        "def evaluate_r2(model, val_dataset):\n",
        "    y_true, y_pred = extract_labels_and_preds(model, val_dataset)\n",
        "    return r2_score(y_true, y_pred)"
      ],
      "metadata": {
        "id": "Vt8l4zSvG3ri"
      },
      "execution_count": null,
      "outputs": [],
      "id": "Vt8l4zSvG3ri"
    },
    {
      "cell_type": "code",
      "source": [
        "# Import models for evaluation\n",
        "from tensorflow.keras.models import load_model\n",
        "\n",
        "best_EfficientNetB0_model_task_3 = load_model(\"best_EfficientNetB0_model_task_3.keras\")\n",
        "best_MobileNet_model_task_3 = load_model(\"final_MobileNet_model_task_3.keras\")\n",
        "best_Xception_model_task_3 = load_model(\"best_Xception_model_task_3.keras\")"
      ],
      "metadata": {
        "id": "wg4wDfLyehQz"
      },
      "id": "wg4wDfLyehQz",
      "execution_count": null,
      "outputs": []
    },
    {
      "cell_type": "markdown",
      "source": [
        "2. Calculate R2 Score for all models"
      ],
      "metadata": {
        "id": "FU50o7frksU0"
      },
      "id": "FU50o7frksU0"
    },
    {
      "cell_type": "code",
      "source": [
        "print(\"R2 Score of EfficientNetB0 model: \", evaluate_r2(best_EfficientNetB0_model_task_3, val_dataset_task3))"
      ],
      "metadata": {
        "colab": {
          "base_uri": "https://localhost:8080/"
        },
        "id": "R0LBWXK7kPlS",
        "outputId": "a0037b3c-9b36-45cf-9579-bb7df1c43bf7"
      },
      "execution_count": null,
      "outputs": [
        {
          "output_type": "stream",
          "name": "stdout",
          "text": [
            "R2 Score of EfficientNetB0 model:  0.9018099308013916\n"
          ]
        },
        {
          "output_type": "stream",
          "name": "stderr",
          "text": [
            "2025-05-16 01:00:21.477131: I tensorflow/core/framework/local_rendezvous.cc:407] Local rendezvous is aborting with status: OUT_OF_RANGE: End of sequence\n"
          ]
        }
      ],
      "id": "R0LBWXK7kPlS"
    },
    {
      "cell_type": "code",
      "source": [
        "print(\"R2 Score of MobileNet model: \",evaluate_r2(best_MobileNet_model_task_3, val_dataset_task3))"
      ],
      "metadata": {
        "colab": {
          "base_uri": "https://localhost:8080/"
        },
        "id": "0IT4DwaPku9_",
        "outputId": "7bdccaf2-9303-4b2a-b39d-d01821ba89f7"
      },
      "execution_count": null,
      "outputs": [
        {
          "output_type": "stream",
          "name": "stdout",
          "text": [
            "R2 Score of MobileNet model:  0.930384635925293\n"
          ]
        }
      ],
      "id": "0IT4DwaPku9_"
    },
    {
      "cell_type": "code",
      "source": [
        "print(\"R2 Score of Xception model: \",evaluate_r2(best_Xception_model_task_3, val_dataset_task3))"
      ],
      "metadata": {
        "colab": {
          "base_uri": "https://localhost:8080/"
        },
        "id": "lPxv9mpekvMm",
        "outputId": "85c396da-4c4c-469b-e8c0-c920beeb654c"
      },
      "execution_count": null,
      "outputs": [
        {
          "output_type": "stream",
          "name": "stdout",
          "text": [
            "R2 Score of Xception model:  0.9432994723320007\n"
          ]
        }
      ],
      "id": "lPxv9mpekvMm"
    },
    {
      "cell_type": "markdown",
      "source": [
        "3. Calculate Prediction Latency for all models"
      ],
      "metadata": {
        "id": "mA5Ln-UwqpOb"
      },
      "id": "mA5Ln-UwqpOb"
    },
    {
      "cell_type": "code",
      "execution_count": null,
      "metadata": {
        "id": "s1bu-tvPcW3Q"
      },
      "outputs": [],
      "source": [
        "import time\n",
        "def calculate_prediction_time(model, dataset):\n",
        "  # --- Warm-up Run ---\n",
        "  for batch in dataset.take(1):\n",
        "      _ = model.predict(batch, verbose=0)\n",
        "\n",
        "  # --- Measure Prediction Time ---\n",
        "  start = time.time()\n",
        "  total_images = 0\n",
        "\n",
        "  for batch in dataset:\n",
        "      _ = model.predict(batch, verbose=0)\n",
        "      total_images += batch.shape[0]\n",
        "\n",
        "  end = time.time()\n",
        "\n",
        "  # --- Results ---\n",
        "  total_time = end - start\n",
        "  per_image_time = (total_time / total_images) * 1000  # in ms\n",
        "\n",
        "  print(f\"Predicted {total_images} images in {total_time:.2f} seconds\")\n",
        "  print(f\"Average prediction time per image: {per_image_time:.2f} ms\")"
      ],
      "id": "s1bu-tvPcW3Q"
    },
    {
      "cell_type": "code",
      "source": [
        "calculate_prediction_time(best_EfficientNetB0_model_task_3,test_dataset)"
      ],
      "metadata": {
        "colab": {
          "base_uri": "https://localhost:8080/"
        },
        "id": "q0T6MZf7wtYl",
        "outputId": "17741111-3f2e-4fa0-d545-ce3a76180443"
      },
      "execution_count": null,
      "outputs": [
        {
          "output_type": "stream",
          "name": "stdout",
          "text": [
            "Predicted 3469 images in 7.34 seconds\n",
            "Average prediction time per image: 2.12 ms\n"
          ]
        },
        {
          "output_type": "stream",
          "name": "stderr",
          "text": [
            "2025-05-16 01:02:23.360536: I tensorflow/core/framework/local_rendezvous.cc:407] Local rendezvous is aborting with status: OUT_OF_RANGE: End of sequence\n"
          ]
        }
      ],
      "id": "q0T6MZf7wtYl"
    },
    {
      "cell_type": "code",
      "source": [
        "calculate_prediction_time(best_MobileNet_model_task_3,test_dataset)"
      ],
      "metadata": {
        "colab": {
          "base_uri": "https://localhost:8080/"
        },
        "id": "sHIPE27wwwd_",
        "outputId": "5d8cdf86-96d8-4b51-ffbe-06e63d7dda71"
      },
      "execution_count": null,
      "outputs": [
        {
          "output_type": "stream",
          "name": "stdout",
          "text": [
            "Predicted 3469 images in 5.63 seconds\n",
            "Average prediction time per image: 1.62 ms\n"
          ]
        }
      ],
      "id": "sHIPE27wwwd_"
    },
    {
      "cell_type": "code",
      "source": [
        "calculate_prediction_time(best_Xception_model_task_3,test_dataset)"
      ],
      "metadata": {
        "colab": {
          "base_uri": "https://localhost:8080/"
        },
        "id": "OVEY7lWxOIzx",
        "outputId": "51cdaacd-9aef-4a68-c5bf-43f681ea3a98"
      },
      "execution_count": null,
      "outputs": [
        {
          "output_type": "stream",
          "name": "stdout",
          "text": [
            "Predicted 3469 images in 9.80 seconds\n",
            "Average prediction time per image: 2.83 ms\n"
          ]
        }
      ],
      "id": "OVEY7lWxOIzx"
    },
    {
      "cell_type": "markdown",
      "source": [
        "4. Train Final chosen model"
      ],
      "metadata": {
        "id": "FCsnfjKSqwrs"
      },
      "id": "FCsnfjKSqwrs"
    },
    {
      "cell_type": "code",
      "source": [
        "final_MobileNet_model_task_3_history = best_MobileNet_model_task_3.fit(train_dataset_task3, validation_data=val_dataset_task3, epochs=50, callbacks=[early_stop_model_task_3, reduce_lr_model_task_3])"
      ],
      "metadata": {
        "id": "Bz0B7mlO2EOP",
        "colab": {
          "base_uri": "https://localhost:8080/"
        },
        "outputId": "741eedef-c0ca-4119-9716-e8e132273c27"
      },
      "execution_count": null,
      "outputs": [
        {
          "output_type": "stream",
          "name": "stdout",
          "text": [
            "Epoch 1/50\n"
          ]
        },
        {
          "output_type": "stream",
          "name": "stderr",
          "text": [
            "I0000 00:00:1747375356.699137   50956 cuda_dnn.cc:529] Loaded cuDNN version 90300\n"
          ]
        },
        {
          "output_type": "stream",
          "name": "stdout",
          "text": [
            "\u001b[1m260/260\u001b[0m \u001b[32m━━━━━━━━━━━━━━━━━━━━\u001b[0m\u001b[37m\u001b[0m \u001b[1m50s\u001b[0m 167ms/step - loss: 58.1701 - mae: 5.9752 - val_loss: 5.1024 - val_mae: 1.4533 - learning_rate: 6.2500e-05\n",
            "Epoch 2/50\n",
            "\u001b[1m260/260\u001b[0m \u001b[32m━━━━━━━━━━━━━━━━━━━━\u001b[0m\u001b[37m\u001b[0m \u001b[1m29s\u001b[0m 110ms/step - loss: 59.8223 - mae: 6.1146 - val_loss: 5.7716 - val_mae: 1.7496 - learning_rate: 6.2500e-05\n",
            "Epoch 3/50\n",
            "\u001b[1m260/260\u001b[0m \u001b[32m━━━━━━━━━━━━━━━━━━━━\u001b[0m\u001b[37m\u001b[0m \u001b[1m29s\u001b[0m 110ms/step - loss: 59.9532 - mae: 6.0858 - val_loss: 4.6533 - val_mae: 1.4256 - learning_rate: 6.2500e-05\n",
            "Epoch 4/50\n",
            "\u001b[1m260/260\u001b[0m \u001b[32m━━━━━━━━━━━━━━━━━━━━\u001b[0m\u001b[37m\u001b[0m \u001b[1m29s\u001b[0m 110ms/step - loss: 57.6982 - mae: 5.9584 - val_loss: 5.9065 - val_mae: 1.6375 - learning_rate: 6.2500e-05\n",
            "Epoch 5/50\n",
            "\u001b[1m260/260\u001b[0m \u001b[32m━━━━━━━━━━━━━━━━━━━━\u001b[0m\u001b[37m\u001b[0m \u001b[1m26s\u001b[0m 102ms/step - loss: 57.6996 - mae: 6.0331 - val_loss: 5.6333 - val_mae: 1.6113 - learning_rate: 6.2500e-05\n",
            "Epoch 6/50\n",
            "\u001b[1m260/260\u001b[0m \u001b[32m━━━━━━━━━━━━━━━━━━━━\u001b[0m\u001b[37m\u001b[0m \u001b[1m29s\u001b[0m 111ms/step - loss: 56.8349 - mae: 5.9595 - val_loss: 4.4256 - val_mae: 1.3725 - learning_rate: 6.2500e-05\n",
            "Epoch 7/50\n",
            "\u001b[1m260/260\u001b[0m \u001b[32m━━━━━━━━━━━━━━━━━━━━\u001b[0m\u001b[37m\u001b[0m \u001b[1m29s\u001b[0m 110ms/step - loss: 58.2167 - mae: 6.0325 - val_loss: 4.4685 - val_mae: 1.3954 - learning_rate: 6.2500e-05\n",
            "Epoch 8/50\n",
            "\u001b[1m260/260\u001b[0m \u001b[32m━━━━━━━━━━━━━━━━━━━━\u001b[0m\u001b[37m\u001b[0m \u001b[1m29s\u001b[0m 112ms/step - loss: 56.3494 - mae: 5.9476 - val_loss: 4.4978 - val_mae: 1.3711 - learning_rate: 6.2500e-05\n",
            "Epoch 9/50\n",
            "\u001b[1m260/260\u001b[0m \u001b[32m━━━━━━━━━━━━━━━━━━━━\u001b[0m\u001b[37m\u001b[0m \u001b[1m29s\u001b[0m 111ms/step - loss: 59.1039 - mae: 6.0678 - val_loss: 4.5893 - val_mae: 1.3969 - learning_rate: 6.2500e-05\n",
            "Epoch 10/50\n",
            "\u001b[1m260/260\u001b[0m \u001b[32m━━━━━━━━━━━━━━━━━━━━\u001b[0m\u001b[37m\u001b[0m \u001b[1m26s\u001b[0m 101ms/step - loss: 58.1320 - mae: 5.9737 - val_loss: 4.5065 - val_mae: 1.3921 - learning_rate: 6.2500e-05\n",
            "Epoch 11/50\n",
            "\u001b[1m260/260\u001b[0m \u001b[32m━━━━━━━━━━━━━━━━━━━━\u001b[0m\u001b[37m\u001b[0m \u001b[1m29s\u001b[0m 112ms/step - loss: 55.9844 - mae: 5.9462 - val_loss: 4.0824 - val_mae: 1.3592 - learning_rate: 6.2500e-05\n",
            "Epoch 12/50\n",
            "\u001b[1m260/260\u001b[0m \u001b[32m━━━━━━━━━━━━━━━━━━━━\u001b[0m\u001b[37m\u001b[0m \u001b[1m29s\u001b[0m 111ms/step - loss: 59.5789 - mae: 6.0684 - val_loss: 3.9809 - val_mae: 1.2960 - learning_rate: 6.2500e-05\n",
            "Epoch 13/50\n",
            "\u001b[1m260/260\u001b[0m \u001b[32m━━━━━━━━━━━━━━━━━━━━\u001b[0m\u001b[37m\u001b[0m \u001b[1m29s\u001b[0m 113ms/step - loss: 59.6298 - mae: 6.1335 - val_loss: 4.0625 - val_mae: 1.3019 - learning_rate: 6.2500e-05\n",
            "Epoch 14/50\n",
            "\u001b[1m260/260\u001b[0m \u001b[32m━━━━━━━━━━━━━━━━━━━━\u001b[0m\u001b[37m\u001b[0m \u001b[1m29s\u001b[0m 110ms/step - loss: 58.5016 - mae: 6.0790 - val_loss: 4.5943 - val_mae: 1.3433 - learning_rate: 6.2500e-05\n",
            "Epoch 15/50\n",
            "\u001b[1m260/260\u001b[0m \u001b[32m━━━━━━━━━━━━━━━━━━━━\u001b[0m\u001b[37m\u001b[0m \u001b[1m29s\u001b[0m 110ms/step - loss: 55.6743 - mae: 5.8407 - val_loss: 4.7195 - val_mae: 1.3506 - learning_rate: 6.2500e-05\n",
            "Epoch 16/50\n",
            "\u001b[1m260/260\u001b[0m \u001b[32m━━━━━━━━━━━━━━━━━━━━\u001b[0m\u001b[37m\u001b[0m \u001b[1m0s\u001b[0m 95ms/step - loss: 57.4555 - mae: 6.0310\n",
            "Epoch 16: ReduceLROnPlateau reducing learning rate to 3.125000148429535e-05.\n",
            "\u001b[1m260/260\u001b[0m \u001b[32m━━━━━━━━━━━━━━━━━━━━\u001b[0m\u001b[37m\u001b[0m \u001b[1m26s\u001b[0m 100ms/step - loss: 57.4513 - mae: 6.0307 - val_loss: 4.8341 - val_mae: 1.5248 - learning_rate: 6.2500e-05\n",
            "Epoch 17/50\n",
            "\u001b[1m260/260\u001b[0m \u001b[32m━━━━━━━━━━━━━━━━━━━━\u001b[0m\u001b[37m\u001b[0m \u001b[1m29s\u001b[0m 111ms/step - loss: 55.1417 - mae: 5.8485 - val_loss: 4.2518 - val_mae: 1.3604 - learning_rate: 3.1250e-05\n",
            "Epoch 18/50\n",
            "\u001b[1m260/260\u001b[0m \u001b[32m━━━━━━━━━━━━━━━━━━━━\u001b[0m\u001b[37m\u001b[0m \u001b[1m30s\u001b[0m 114ms/step - loss: 56.7182 - mae: 5.9587 - val_loss: 4.3909 - val_mae: 1.4280 - learning_rate: 3.1250e-05\n",
            "Epoch 18: early stopping\n",
            "Restoring model weights from the end of the best epoch: 12.\n"
          ]
        }
      ],
      "id": "Bz0B7mlO2EOP"
    },
    {
      "cell_type": "code",
      "source": [
        "# Save the final model for prediction use\n",
        "best_MobileNet_model_task_3.save('final_MobileNet_model_task_3.keras')"
      ],
      "metadata": {
        "id": "DMegdSzkToig"
      },
      "execution_count": null,
      "outputs": [],
      "id": "DMegdSzkToig"
    },
    {
      "cell_type": "markdown",
      "source": [
        "5. Plot the final model's training session"
      ],
      "metadata": {
        "id": "7UjftQLVq0FG"
      },
      "id": "7UjftQLVq0FG"
    },
    {
      "cell_type": "code",
      "execution_count": null,
      "metadata": {
        "id": "Z63EOBSg4qEM"
      },
      "outputs": [],
      "source": [
        "import matplotlib.pyplot as plt\n",
        "def plot_learning_curve(train_loss, val_loss, train_metric, val_metric, metric_name='mae', model_name='None'):\n",
        "    epochs = range(1, len(train_loss) + 1)\n",
        "\n",
        "    plt.figure(figsize=(14, 5))\n",
        "\n",
        "    # Plot Loss\n",
        "    plt.subplot(1, 2, 1)\n",
        "    plt.plot(epochs, train_loss, 'bo-', label='Training Loss')\n",
        "    plt.plot(epochs, val_loss, 'ro-', label='Validation Loss')\n",
        "    plt.title(f'Training and Validation Loss - {model_name}')\n",
        "    plt.xlabel('Epochs')\n",
        "    plt.ylabel('Loss')\n",
        "    plt.legend()\n",
        "\n",
        "    # Plot Accuracy or Other Metric\n",
        "    plt.subplot(1, 2, 2)\n",
        "    plt.plot(epochs, train_metric, 'bo-', label=f'Training {metric_name}')\n",
        "    plt.plot(epochs, val_metric, 'ro-', label=f'Validation {metric_name}')\n",
        "    plt.title(f'Training and Validation {metric_name} - {model_name}')\n",
        "    plt.xlabel('Epochs')\n",
        "    plt.ylabel(metric_name)\n",
        "    plt.legend()\n",
        "\n",
        "    plt.tight_layout()\n",
        "    plt.show()"
      ],
      "id": "Z63EOBSg4qEM"
    },
    {
      "cell_type": "code",
      "source": [
        "plot_learning_curve(final_MobileNet_model_task_3_history.history['loss'], final_MobileNet_model_task_3_history.history['val_loss'],\n",
        "                    final_MobileNet_model_task_3_history.history['mae'], final_MobileNet_model_task_3_history.history['val_mae'],\n",
        "                    metric_name='MAE', model_name=\"MobileNet\")"
      ],
      "metadata": {
        "id": "-Yvts6rH3hfu",
        "colab": {
          "base_uri": "https://localhost:8080/",
          "height": 507
        },
        "outputId": "aace3d76-576e-469d-ccac-727e969e9d8c"
      },
      "execution_count": null,
      "outputs": [
        {
          "output_type": "display_data",
          "data": {
            "text/plain": [
              "<Figure size 1400x500 with 2 Axes>"
            ],
            "image/png": "[encoded data removed]"
          },
          "metadata": {}
        }
      ],
      "id": "-Yvts6rH3hfu"
    }
  ],
  "metadata": {
    "colab": {
      "gpuType": "T4",
      "provenance": []
    },
    "kernelspec": {
      "display_name": "Python 3",
      "name": "python3"
    },
    "language_info": {
      "codemirror_mode": {
        "name": "ipython",
        "version": 3
      },
      "file_extension": ".py",
      "mimetype": "text/x-python",
      "name": "python",
      "nbconvert_exporter": "python",
      "pygments_lexer": "ipython3",
      "version": "3.12.3"
    },
    "accelerator": "GPU"
  },
  "nbformat": 4,
  "nbformat_minor": 5
}